{
  "cells": [
    {
      "cell_type": "markdown",
      "metadata": {
        "id": "view-in-github",
        "colab_type": "text"
      },
      "source": [
        "<a href=\"https://colab.research.google.com/github/gin614pham/Server_wav2vec2_vi/blob/main/Wav2vec_vi_no2.ipynb\" target=\"_parent\"><img src=\"https://colab.research.google.com/assets/colab-badge.svg\" alt=\"Open In Colab\"/></a>"
      ]
    },
    {
      "cell_type": "code",
      "execution_count": 1,
      "metadata": {
        "id": "-N_YzxTIBmK3"
      },
      "outputs": [],
      "source": [
        "model_checkpoint = \"facebook/wav2vec2-large-xlsr-53\"\n",
        "batch_size = 16"
      ]
    },
    {
      "cell_type": "code",
      "execution_count": 2,
      "metadata": {
        "id": "VfmMyiSkB9wz",
        "colab": {
          "base_uri": "https://localhost:8080/"
        },
        "collapsed": true,
        "outputId": "03f1cb65-509f-4a56-db32-e2684f27b01f"
      },
      "outputs": [
        {
          "output_type": "stream",
          "name": "stdout",
          "text": [
            "Collecting datasets\n",
            "  Downloading datasets-3.3.2-py3-none-any.whl.metadata (19 kB)\n",
            "Requirement already satisfied: filelock in /usr/local/lib/python3.11/dist-packages (from datasets) (3.17.0)\n",
            "Requirement already satisfied: numpy>=1.17 in /usr/local/lib/python3.11/dist-packages (from datasets) (1.26.4)\n",
            "Requirement already satisfied: pyarrow>=15.0.0 in /usr/local/lib/python3.11/dist-packages (from datasets) (17.0.0)\n",
            "Collecting dill<0.3.9,>=0.3.0 (from datasets)\n",
            "  Downloading dill-0.3.8-py3-none-any.whl.metadata (10 kB)\n",
            "Requirement already satisfied: pandas in /usr/local/lib/python3.11/dist-packages (from datasets) (2.2.2)\n",
            "Requirement already satisfied: requests>=2.32.2 in /usr/local/lib/python3.11/dist-packages (from datasets) (2.32.3)\n",
            "Requirement already satisfied: tqdm>=4.66.3 in /usr/local/lib/python3.11/dist-packages (from datasets) (4.67.1)\n",
            "Collecting xxhash (from datasets)\n",
            "  Downloading xxhash-3.5.0-cp311-cp311-manylinux_2_17_x86_64.manylinux2014_x86_64.whl.metadata (12 kB)\n",
            "Collecting multiprocess<0.70.17 (from datasets)\n",
            "  Downloading multiprocess-0.70.16-py311-none-any.whl.metadata (7.2 kB)\n",
            "Requirement already satisfied: fsspec<=2024.12.0,>=2023.1.0 in /usr/local/lib/python3.11/dist-packages (from fsspec[http]<=2024.12.0,>=2023.1.0->datasets) (2024.10.0)\n",
            "Requirement already satisfied: aiohttp in /usr/local/lib/python3.11/dist-packages (from datasets) (3.11.12)\n",
            "Requirement already satisfied: huggingface-hub>=0.24.0 in /usr/local/lib/python3.11/dist-packages (from datasets) (0.28.1)\n",
            "Requirement already satisfied: packaging in /usr/local/lib/python3.11/dist-packages (from datasets) (24.2)\n",
            "Requirement already satisfied: pyyaml>=5.1 in /usr/local/lib/python3.11/dist-packages (from datasets) (6.0.2)\n",
            "Requirement already satisfied: aiohappyeyeballs>=2.3.0 in /usr/local/lib/python3.11/dist-packages (from aiohttp->datasets) (2.4.6)\n",
            "Requirement already satisfied: aiosignal>=1.1.2 in /usr/local/lib/python3.11/dist-packages (from aiohttp->datasets) (1.3.2)\n",
            "Requirement already satisfied: attrs>=17.3.0 in /usr/local/lib/python3.11/dist-packages (from aiohttp->datasets) (25.1.0)\n",
            "Requirement already satisfied: frozenlist>=1.1.1 in /usr/local/lib/python3.11/dist-packages (from aiohttp->datasets) (1.5.0)\n",
            "Requirement already satisfied: multidict<7.0,>=4.5 in /usr/local/lib/python3.11/dist-packages (from aiohttp->datasets) (6.1.0)\n",
            "Requirement already satisfied: propcache>=0.2.0 in /usr/local/lib/python3.11/dist-packages (from aiohttp->datasets) (0.2.1)\n",
            "Requirement already satisfied: yarl<2.0,>=1.17.0 in /usr/local/lib/python3.11/dist-packages (from aiohttp->datasets) (1.18.3)\n",
            "Requirement already satisfied: typing-extensions>=3.7.4.3 in /usr/local/lib/python3.11/dist-packages (from huggingface-hub>=0.24.0->datasets) (4.12.2)\n",
            "Requirement already satisfied: charset-normalizer<4,>=2 in /usr/local/lib/python3.11/dist-packages (from requests>=2.32.2->datasets) (3.4.1)\n",
            "Requirement already satisfied: idna<4,>=2.5 in /usr/local/lib/python3.11/dist-packages (from requests>=2.32.2->datasets) (3.10)\n",
            "Requirement already satisfied: urllib3<3,>=1.21.1 in /usr/local/lib/python3.11/dist-packages (from requests>=2.32.2->datasets) (2.3.0)\n",
            "Requirement already satisfied: certifi>=2017.4.17 in /usr/local/lib/python3.11/dist-packages (from requests>=2.32.2->datasets) (2025.1.31)\n",
            "Requirement already satisfied: python-dateutil>=2.8.2 in /usr/local/lib/python3.11/dist-packages (from pandas->datasets) (2.8.2)\n",
            "Requirement already satisfied: pytz>=2020.1 in /usr/local/lib/python3.11/dist-packages (from pandas->datasets) (2025.1)\n",
            "Requirement already satisfied: tzdata>=2022.7 in /usr/local/lib/python3.11/dist-packages (from pandas->datasets) (2025.1)\n",
            "Requirement already satisfied: six>=1.5 in /usr/local/lib/python3.11/dist-packages (from python-dateutil>=2.8.2->pandas->datasets) (1.17.0)\n",
            "Downloading datasets-3.3.2-py3-none-any.whl (485 kB)\n",
            "\u001b[2K   \u001b[90m━━━━━━━━━━━━━━━━━━━━━━━━━━━━━━━━━━━━━━━━\u001b[0m \u001b[32m485.4/485.4 kB\u001b[0m \u001b[31m6.3 MB/s\u001b[0m eta \u001b[36m0:00:00\u001b[0m\n",
            "\u001b[?25hDownloading dill-0.3.8-py3-none-any.whl (116 kB)\n",
            "\u001b[2K   \u001b[90m━━━━━━━━━━━━━━━━━━━━━━━━━━━━━━━━━━━━━━━━\u001b[0m \u001b[32m116.3/116.3 kB\u001b[0m \u001b[31m4.9 MB/s\u001b[0m eta \u001b[36m0:00:00\u001b[0m\n",
            "\u001b[?25hDownloading multiprocess-0.70.16-py311-none-any.whl (143 kB)\n",
            "\u001b[2K   \u001b[90m━━━━━━━━━━━━━━━━━━━━━━━━━━━━━━━━━━━━━━━━\u001b[0m \u001b[32m143.5/143.5 kB\u001b[0m \u001b[31m7.7 MB/s\u001b[0m eta \u001b[36m0:00:00\u001b[0m\n",
            "\u001b[?25hDownloading xxhash-3.5.0-cp311-cp311-manylinux_2_17_x86_64.manylinux2014_x86_64.whl (194 kB)\n",
            "\u001b[2K   \u001b[90m━━━━━━━━━━━━━━━━━━━━━━━━━━━━━━━━━━━━━━━━\u001b[0m \u001b[32m194.8/194.8 kB\u001b[0m \u001b[31m14.7 MB/s\u001b[0m eta \u001b[36m0:00:00\u001b[0m\n",
            "\u001b[?25hInstalling collected packages: xxhash, dill, multiprocess, datasets\n",
            "Successfully installed datasets-3.3.2 dill-0.3.8 multiprocess-0.70.16 xxhash-3.5.0\n",
            "Requirement already satisfied: transformers in /usr/local/lib/python3.11/dist-packages (4.48.3)\n",
            "Requirement already satisfied: filelock in /usr/local/lib/python3.11/dist-packages (from transformers) (3.17.0)\n",
            "Requirement already satisfied: huggingface-hub<1.0,>=0.24.0 in /usr/local/lib/python3.11/dist-packages (from transformers) (0.28.1)\n",
            "Requirement already satisfied: numpy>=1.17 in /usr/local/lib/python3.11/dist-packages (from transformers) (1.26.4)\n",
            "Requirement already satisfied: packaging>=20.0 in /usr/local/lib/python3.11/dist-packages (from transformers) (24.2)\n",
            "Requirement already satisfied: pyyaml>=5.1 in /usr/local/lib/python3.11/dist-packages (from transformers) (6.0.2)\n",
            "Requirement already satisfied: regex!=2019.12.17 in /usr/local/lib/python3.11/dist-packages (from transformers) (2024.11.6)\n",
            "Requirement already satisfied: requests in /usr/local/lib/python3.11/dist-packages (from transformers) (2.32.3)\n",
            "Requirement already satisfied: tokenizers<0.22,>=0.21 in /usr/local/lib/python3.11/dist-packages (from transformers) (0.21.0)\n",
            "Requirement already satisfied: safetensors>=0.4.1 in /usr/local/lib/python3.11/dist-packages (from transformers) (0.5.2)\n",
            "Requirement already satisfied: tqdm>=4.27 in /usr/local/lib/python3.11/dist-packages (from transformers) (4.67.1)\n",
            "Requirement already satisfied: fsspec>=2023.5.0 in /usr/local/lib/python3.11/dist-packages (from huggingface-hub<1.0,>=0.24.0->transformers) (2024.10.0)\n",
            "Requirement already satisfied: typing-extensions>=3.7.4.3 in /usr/local/lib/python3.11/dist-packages (from huggingface-hub<1.0,>=0.24.0->transformers) (4.12.2)\n",
            "Requirement already satisfied: charset-normalizer<4,>=2 in /usr/local/lib/python3.11/dist-packages (from requests->transformers) (3.4.1)\n",
            "Requirement already satisfied: idna<4,>=2.5 in /usr/local/lib/python3.11/dist-packages (from requests->transformers) (3.10)\n",
            "Requirement already satisfied: urllib3<3,>=1.21.1 in /usr/local/lib/python3.11/dist-packages (from requests->transformers) (2.3.0)\n",
            "Requirement already satisfied: certifi>=2017.4.17 in /usr/local/lib/python3.11/dist-packages (from requests->transformers) (2025.1.31)\n",
            "Requirement already satisfied: torchaudio in /usr/local/lib/python3.11/dist-packages (2.5.1+cu124)\n",
            "Requirement already satisfied: torch==2.5.1 in /usr/local/lib/python3.11/dist-packages (from torchaudio) (2.5.1+cu124)\n",
            "Requirement already satisfied: filelock in /usr/local/lib/python3.11/dist-packages (from torch==2.5.1->torchaudio) (3.17.0)\n",
            "Requirement already satisfied: typing-extensions>=4.8.0 in /usr/local/lib/python3.11/dist-packages (from torch==2.5.1->torchaudio) (4.12.2)\n",
            "Requirement already satisfied: networkx in /usr/local/lib/python3.11/dist-packages (from torch==2.5.1->torchaudio) (3.4.2)\n",
            "Requirement already satisfied: jinja2 in /usr/local/lib/python3.11/dist-packages (from torch==2.5.1->torchaudio) (3.1.5)\n",
            "Requirement already satisfied: fsspec in /usr/local/lib/python3.11/dist-packages (from torch==2.5.1->torchaudio) (2024.10.0)\n",
            "Collecting nvidia-cuda-nvrtc-cu12==12.4.127 (from torch==2.5.1->torchaudio)\n",
            "  Downloading nvidia_cuda_nvrtc_cu12-12.4.127-py3-none-manylinux2014_x86_64.whl.metadata (1.5 kB)\n",
            "Collecting nvidia-cuda-runtime-cu12==12.4.127 (from torch==2.5.1->torchaudio)\n",
            "  Downloading nvidia_cuda_runtime_cu12-12.4.127-py3-none-manylinux2014_x86_64.whl.metadata (1.5 kB)\n",
            "Collecting nvidia-cuda-cupti-cu12==12.4.127 (from torch==2.5.1->torchaudio)\n",
            "  Downloading nvidia_cuda_cupti_cu12-12.4.127-py3-none-manylinux2014_x86_64.whl.metadata (1.6 kB)\n",
            "Collecting nvidia-cudnn-cu12==9.1.0.70 (from torch==2.5.1->torchaudio)\n",
            "  Downloading nvidia_cudnn_cu12-9.1.0.70-py3-none-manylinux2014_x86_64.whl.metadata (1.6 kB)\n",
            "Collecting nvidia-cublas-cu12==12.4.5.8 (from torch==2.5.1->torchaudio)\n",
            "  Downloading nvidia_cublas_cu12-12.4.5.8-py3-none-manylinux2014_x86_64.whl.metadata (1.5 kB)\n",
            "Collecting nvidia-cufft-cu12==11.2.1.3 (from torch==2.5.1->torchaudio)\n",
            "  Downloading nvidia_cufft_cu12-11.2.1.3-py3-none-manylinux2014_x86_64.whl.metadata (1.5 kB)\n",
            "Collecting nvidia-curand-cu12==10.3.5.147 (from torch==2.5.1->torchaudio)\n",
            "  Downloading nvidia_curand_cu12-10.3.5.147-py3-none-manylinux2014_x86_64.whl.metadata (1.5 kB)\n",
            "Collecting nvidia-cusolver-cu12==11.6.1.9 (from torch==2.5.1->torchaudio)\n",
            "  Downloading nvidia_cusolver_cu12-11.6.1.9-py3-none-manylinux2014_x86_64.whl.metadata (1.6 kB)\n",
            "Collecting nvidia-cusparse-cu12==12.3.1.170 (from torch==2.5.1->torchaudio)\n",
            "  Downloading nvidia_cusparse_cu12-12.3.1.170-py3-none-manylinux2014_x86_64.whl.metadata (1.6 kB)\n",
            "Requirement already satisfied: nvidia-nccl-cu12==2.21.5 in /usr/local/lib/python3.11/dist-packages (from torch==2.5.1->torchaudio) (2.21.5)\n",
            "Requirement already satisfied: nvidia-nvtx-cu12==12.4.127 in /usr/local/lib/python3.11/dist-packages (from torch==2.5.1->torchaudio) (12.4.127)\n",
            "Collecting nvidia-nvjitlink-cu12==12.4.127 (from torch==2.5.1->torchaudio)\n",
            "  Downloading nvidia_nvjitlink_cu12-12.4.127-py3-none-manylinux2014_x86_64.whl.metadata (1.5 kB)\n",
            "Requirement already satisfied: triton==3.1.0 in /usr/local/lib/python3.11/dist-packages (from torch==2.5.1->torchaudio) (3.1.0)\n",
            "Requirement already satisfied: sympy==1.13.1 in /usr/local/lib/python3.11/dist-packages (from torch==2.5.1->torchaudio) (1.13.1)\n",
            "Requirement already satisfied: mpmath<1.4,>=1.1.0 in /usr/local/lib/python3.11/dist-packages (from sympy==1.13.1->torch==2.5.1->torchaudio) (1.3.0)\n",
            "Requirement already satisfied: MarkupSafe>=2.0 in /usr/local/lib/python3.11/dist-packages (from jinja2->torch==2.5.1->torchaudio) (3.0.2)\n",
            "Downloading nvidia_cublas_cu12-12.4.5.8-py3-none-manylinux2014_x86_64.whl (363.4 MB)\n",
            "\u001b[2K   \u001b[90m━━━━━━━━━━━━━━━━━━━━━━━━━━━━━━━━━━━━━━━━\u001b[0m \u001b[32m363.4/363.4 MB\u001b[0m \u001b[31m4.4 MB/s\u001b[0m eta \u001b[36m0:00:00\u001b[0m\n",
            "\u001b[?25hDownloading nvidia_cuda_cupti_cu12-12.4.127-py3-none-manylinux2014_x86_64.whl (13.8 MB)\n",
            "\u001b[2K   \u001b[90m━━━━━━━━━━━━━━━━━━━━━━━━━━━━━━━━━━━━━━━━\u001b[0m \u001b[32m13.8/13.8 MB\u001b[0m \u001b[31m66.2 MB/s\u001b[0m eta \u001b[36m0:00:00\u001b[0m\n",
            "\u001b[?25hDownloading nvidia_cuda_nvrtc_cu12-12.4.127-py3-none-manylinux2014_x86_64.whl (24.6 MB)\n",
            "\u001b[2K   \u001b[90m━━━━━━━━━━━━━━━━━━━━━━━━━━━━━━━━━━━━━━━━\u001b[0m \u001b[32m24.6/24.6 MB\u001b[0m \u001b[31m54.4 MB/s\u001b[0m eta \u001b[36m0:00:00\u001b[0m\n",
            "\u001b[?25hDownloading nvidia_cuda_runtime_cu12-12.4.127-py3-none-manylinux2014_x86_64.whl (883 kB)\n",
            "\u001b[2K   \u001b[90m━━━━━━━━━━━━━━━━━━━━━━━━━━━━━━━━━━━━━━━━\u001b[0m \u001b[32m883.7/883.7 kB\u001b[0m \u001b[31m43.8 MB/s\u001b[0m eta \u001b[36m0:00:00\u001b[0m\n",
            "\u001b[?25hDownloading nvidia_cudnn_cu12-9.1.0.70-py3-none-manylinux2014_x86_64.whl (664.8 MB)\n",
            "\u001b[2K   \u001b[90m━━━━━━━━━━━━━━━━━━━━━━━━━━━━━━━━━━━━━━━━\u001b[0m \u001b[32m664.8/664.8 MB\u001b[0m \u001b[31m1.2 MB/s\u001b[0m eta \u001b[36m0:00:00\u001b[0m\n",
            "\u001b[?25hDownloading nvidia_cufft_cu12-11.2.1.3-py3-none-manylinux2014_x86_64.whl (211.5 MB)\n",
            "\u001b[2K   \u001b[90m━━━━━━━━━━━━━━━━━━━━━━━━━━━━━━━━━━━━━━━━\u001b[0m \u001b[32m211.5/211.5 MB\u001b[0m \u001b[31m6.1 MB/s\u001b[0m eta \u001b[36m0:00:00\u001b[0m\n",
            "\u001b[?25hDownloading nvidia_curand_cu12-10.3.5.147-py3-none-manylinux2014_x86_64.whl (56.3 MB)\n",
            "\u001b[2K   \u001b[90m━━━━━━━━━━━━━━━━━━━━━━━━━━━━━━━━━━━━━━━━\u001b[0m \u001b[32m56.3/56.3 MB\u001b[0m \u001b[31m13.2 MB/s\u001b[0m eta \u001b[36m0:00:00\u001b[0m\n",
            "\u001b[?25hDownloading nvidia_cusolver_cu12-11.6.1.9-py3-none-manylinux2014_x86_64.whl (127.9 MB)\n",
            "\u001b[2K   \u001b[90m━━━━━━━━━━━━━━━━━━━━━━━━━━━━━━━━━━━━━━━━\u001b[0m \u001b[32m127.9/127.9 MB\u001b[0m \u001b[31m7.3 MB/s\u001b[0m eta \u001b[36m0:00:00\u001b[0m\n",
            "\u001b[?25hDownloading nvidia_cusparse_cu12-12.3.1.170-py3-none-manylinux2014_x86_64.whl (207.5 MB)\n",
            "\u001b[2K   \u001b[90m━━━━━━━━━━━━━━━━━━━━━━━━━━━━━━━━━━━━━━━━\u001b[0m \u001b[32m207.5/207.5 MB\u001b[0m \u001b[31m6.0 MB/s\u001b[0m eta \u001b[36m0:00:00\u001b[0m\n",
            "\u001b[?25hDownloading nvidia_nvjitlink_cu12-12.4.127-py3-none-manylinux2014_x86_64.whl (21.1 MB)\n",
            "\u001b[2K   \u001b[90m━━━━━━━━━━━━━━━━━━━━━━━━━━━━━━━━━━━━━━━━\u001b[0m \u001b[32m21.1/21.1 MB\u001b[0m \u001b[31m84.2 MB/s\u001b[0m eta \u001b[36m0:00:00\u001b[0m\n",
            "\u001b[?25hInstalling collected packages: nvidia-nvjitlink-cu12, nvidia-curand-cu12, nvidia-cufft-cu12, nvidia-cuda-runtime-cu12, nvidia-cuda-nvrtc-cu12, nvidia-cuda-cupti-cu12, nvidia-cublas-cu12, nvidia-cusparse-cu12, nvidia-cudnn-cu12, nvidia-cusolver-cu12\n",
            "  Attempting uninstall: nvidia-nvjitlink-cu12\n",
            "    Found existing installation: nvidia-nvjitlink-cu12 12.5.82\n",
            "    Uninstalling nvidia-nvjitlink-cu12-12.5.82:\n",
            "      Successfully uninstalled nvidia-nvjitlink-cu12-12.5.82\n",
            "  Attempting uninstall: nvidia-curand-cu12\n",
            "    Found existing installation: nvidia-curand-cu12 10.3.6.82\n",
            "    Uninstalling nvidia-curand-cu12-10.3.6.82:\n",
            "      Successfully uninstalled nvidia-curand-cu12-10.3.6.82\n",
            "  Attempting uninstall: nvidia-cufft-cu12\n",
            "    Found existing installation: nvidia-cufft-cu12 11.2.3.61\n",
            "    Uninstalling nvidia-cufft-cu12-11.2.3.61:\n",
            "      Successfully uninstalled nvidia-cufft-cu12-11.2.3.61\n",
            "  Attempting uninstall: nvidia-cuda-runtime-cu12\n",
            "    Found existing installation: nvidia-cuda-runtime-cu12 12.5.82\n",
            "    Uninstalling nvidia-cuda-runtime-cu12-12.5.82:\n",
            "      Successfully uninstalled nvidia-cuda-runtime-cu12-12.5.82\n",
            "  Attempting uninstall: nvidia-cuda-nvrtc-cu12\n",
            "    Found existing installation: nvidia-cuda-nvrtc-cu12 12.5.82\n",
            "    Uninstalling nvidia-cuda-nvrtc-cu12-12.5.82:\n",
            "      Successfully uninstalled nvidia-cuda-nvrtc-cu12-12.5.82\n",
            "  Attempting uninstall: nvidia-cuda-cupti-cu12\n",
            "    Found existing installation: nvidia-cuda-cupti-cu12 12.5.82\n",
            "    Uninstalling nvidia-cuda-cupti-cu12-12.5.82:\n",
            "      Successfully uninstalled nvidia-cuda-cupti-cu12-12.5.82\n",
            "  Attempting uninstall: nvidia-cublas-cu12\n",
            "    Found existing installation: nvidia-cublas-cu12 12.5.3.2\n",
            "    Uninstalling nvidia-cublas-cu12-12.5.3.2:\n",
            "      Successfully uninstalled nvidia-cublas-cu12-12.5.3.2\n",
            "  Attempting uninstall: nvidia-cusparse-cu12\n",
            "    Found existing installation: nvidia-cusparse-cu12 12.5.1.3\n",
            "    Uninstalling nvidia-cusparse-cu12-12.5.1.3:\n",
            "      Successfully uninstalled nvidia-cusparse-cu12-12.5.1.3\n",
            "  Attempting uninstall: nvidia-cudnn-cu12\n",
            "    Found existing installation: nvidia-cudnn-cu12 9.3.0.75\n",
            "    Uninstalling nvidia-cudnn-cu12-9.3.0.75:\n",
            "      Successfully uninstalled nvidia-cudnn-cu12-9.3.0.75\n",
            "  Attempting uninstall: nvidia-cusolver-cu12\n",
            "    Found existing installation: nvidia-cusolver-cu12 11.6.3.83\n",
            "    Uninstalling nvidia-cusolver-cu12-11.6.3.83:\n",
            "      Successfully uninstalled nvidia-cusolver-cu12-11.6.3.83\n",
            "Successfully installed nvidia-cublas-cu12-12.4.5.8 nvidia-cuda-cupti-cu12-12.4.127 nvidia-cuda-nvrtc-cu12-12.4.127 nvidia-cuda-runtime-cu12-12.4.127 nvidia-cudnn-cu12-9.1.0.70 nvidia-cufft-cu12-11.2.1.3 nvidia-curand-cu12-10.3.5.147 nvidia-cusolver-cu12-11.6.1.9 nvidia-cusparse-cu12-12.3.1.170 nvidia-nvjitlink-cu12-12.4.127\n",
            "Requirement already satisfied: librosa in /usr/local/lib/python3.11/dist-packages (0.10.2.post1)\n",
            "Requirement already satisfied: audioread>=2.1.9 in /usr/local/lib/python3.11/dist-packages (from librosa) (3.0.1)\n",
            "Requirement already satisfied: numpy!=1.22.0,!=1.22.1,!=1.22.2,>=1.20.3 in /usr/local/lib/python3.11/dist-packages (from librosa) (1.26.4)\n",
            "Requirement already satisfied: scipy>=1.2.0 in /usr/local/lib/python3.11/dist-packages (from librosa) (1.13.1)\n",
            "Requirement already satisfied: scikit-learn>=0.20.0 in /usr/local/lib/python3.11/dist-packages (from librosa) (1.6.1)\n",
            "Requirement already satisfied: joblib>=0.14 in /usr/local/lib/python3.11/dist-packages (from librosa) (1.4.2)\n",
            "Requirement already satisfied: decorator>=4.3.0 in /usr/local/lib/python3.11/dist-packages (from librosa) (4.4.2)\n",
            "Requirement already satisfied: numba>=0.51.0 in /usr/local/lib/python3.11/dist-packages (from librosa) (0.61.0)\n",
            "Requirement already satisfied: soundfile>=0.12.1 in /usr/local/lib/python3.11/dist-packages (from librosa) (0.13.1)\n",
            "Requirement already satisfied: pooch>=1.1 in /usr/local/lib/python3.11/dist-packages (from librosa) (1.8.2)\n",
            "Requirement already satisfied: soxr>=0.3.2 in /usr/local/lib/python3.11/dist-packages (from librosa) (0.5.0.post1)\n",
            "Requirement already satisfied: typing-extensions>=4.1.1 in /usr/local/lib/python3.11/dist-packages (from librosa) (4.12.2)\n",
            "Requirement already satisfied: lazy-loader>=0.1 in /usr/local/lib/python3.11/dist-packages (from librosa) (0.4)\n",
            "Requirement already satisfied: msgpack>=1.0 in /usr/local/lib/python3.11/dist-packages (from librosa) (1.1.0)\n",
            "Requirement already satisfied: packaging in /usr/local/lib/python3.11/dist-packages (from lazy-loader>=0.1->librosa) (24.2)\n",
            "Requirement already satisfied: llvmlite<0.45,>=0.44.0dev0 in /usr/local/lib/python3.11/dist-packages (from numba>=0.51.0->librosa) (0.44.0)\n",
            "Requirement already satisfied: platformdirs>=2.5.0 in /usr/local/lib/python3.11/dist-packages (from pooch>=1.1->librosa) (4.3.6)\n",
            "Requirement already satisfied: requests>=2.19.0 in /usr/local/lib/python3.11/dist-packages (from pooch>=1.1->librosa) (2.32.3)\n",
            "Requirement already satisfied: threadpoolctl>=3.1.0 in /usr/local/lib/python3.11/dist-packages (from scikit-learn>=0.20.0->librosa) (3.5.0)\n",
            "Requirement already satisfied: cffi>=1.0 in /usr/local/lib/python3.11/dist-packages (from soundfile>=0.12.1->librosa) (1.17.1)\n",
            "Requirement already satisfied: pycparser in /usr/local/lib/python3.11/dist-packages (from cffi>=1.0->soundfile>=0.12.1->librosa) (2.22)\n",
            "Requirement already satisfied: charset-normalizer<4,>=2 in /usr/local/lib/python3.11/dist-packages (from requests>=2.19.0->pooch>=1.1->librosa) (3.4.1)\n",
            "Requirement already satisfied: idna<4,>=2.5 in /usr/local/lib/python3.11/dist-packages (from requests>=2.19.0->pooch>=1.1->librosa) (3.10)\n",
            "Requirement already satisfied: urllib3<3,>=1.21.1 in /usr/local/lib/python3.11/dist-packages (from requests>=2.19.0->pooch>=1.1->librosa) (2.3.0)\n",
            "Requirement already satisfied: certifi>=2017.4.17 in /usr/local/lib/python3.11/dist-packages (from requests>=2.19.0->pooch>=1.1->librosa) (2025.1.31)\n",
            "Collecting jiwer\n",
            "  Downloading jiwer-3.1.0-py3-none-any.whl.metadata (2.6 kB)\n",
            "Requirement already satisfied: click>=8.1.8 in /usr/local/lib/python3.11/dist-packages (from jiwer) (8.1.8)\n",
            "Collecting rapidfuzz>=3.9.7 (from jiwer)\n",
            "  Downloading rapidfuzz-3.12.1-cp311-cp311-manylinux_2_17_x86_64.manylinux2014_x86_64.whl.metadata (11 kB)\n",
            "Downloading jiwer-3.1.0-py3-none-any.whl (22 kB)\n",
            "Downloading rapidfuzz-3.12.1-cp311-cp311-manylinux_2_17_x86_64.manylinux2014_x86_64.whl (3.1 MB)\n",
            "\u001b[2K   \u001b[90m━━━━━━━━━━━━━━━━━━━━━━━━━━━━━━━━━━━━━━━━\u001b[0m \u001b[32m3.1/3.1 MB\u001b[0m \u001b[31m39.5 MB/s\u001b[0m eta \u001b[36m0:00:00\u001b[0m\n",
            "\u001b[?25hInstalling collected packages: rapidfuzz, jiwer\n",
            "Successfully installed jiwer-3.1.0 rapidfuzz-3.12.1\n"
          ]
        }
      ],
      "source": [
        "!pip install datasets\n",
        "!pip install transformers\n",
        "!pip install torchaudio\n",
        "!pip install librosa\n",
        "!pip install jiwer"
      ]
    },
    {
      "cell_type": "code",
      "execution_count": 3,
      "metadata": {
        "colab": {
          "base_uri": "https://localhost:8080/",
          "height": 17,
          "referenced_widgets": [
            "03ae3ff7d4dc4b0ab1af5e704b89fd51",
            "517be453979449eab24a29b089eacbe1",
            "876886373c5a498caf2195e97888378b",
            "2cdd71102f174ab4948a8c2be42677d3",
            "fadbf611d27249d3a04418c8cb0208b1",
            "a0d572a613e84e2fa7557c355aeec9e8",
            "12a1ccce015146b193b9dabfe4e35868",
            "561b13c6ef714a6994cccdad60c8301e",
            "a82fd562a8b04323bd17104eb9f3fd46",
            "3430650c175a402d949bf03c05c7175f",
            "97b07afc7c9944eea0ec6f8baae14022",
            "3bc99916b3db41a995c543f730d6b1a0",
            "673e5da2729a4e29b83a02ba67f186ff",
            "4634b02316a04029aad22784ddf9c9a5",
            "43b31b899e2249eaa1518309ae125dfe",
            "6c05b3b0a61b4483a1d6385e22df8c55",
            "15c9a7620c53481bb317efe9c1a7c55c",
            "5b10f05a9b3e4e4f9db62f215e63a6f6",
            "f0a38fb535f440faa16294ea9b98966a",
            "9577ede9577c4c29a6f7e09a80e47ee2"
          ]
        },
        "id": "ZFAZjnh0CzXi",
        "outputId": "e68b5240-9937-4bcd-dbff-8c2c9afeeb11"
      },
      "outputs": [
        {
          "output_type": "display_data",
          "data": {
            "text/plain": [
              "VBox(children=(HTML(value='<center> <img\\nsrc=https://huggingface.co/front/assets/huggingface_logo-noborder.sv…"
            ],
            "application/vnd.jupyter.widget-view+json": {
              "version_major": 2,
              "version_minor": 0,
              "model_id": "03ae3ff7d4dc4b0ab1af5e704b89fd51"
            }
          },
          "metadata": {}
        }
      ],
      "source": [
        "from huggingface_hub import notebook_login\n",
        "\n",
        "notebook_login()"
      ]
    },
    {
      "cell_type": "code",
      "source": [
        "!apt install git-lfs"
      ],
      "metadata": {
        "colab": {
          "base_uri": "https://localhost:8080/"
        },
        "id": "9CRh-7rCGKCi",
        "outputId": "9bd160cc-b43f-4c77-a053-7d5f886d4a81"
      },
      "execution_count": 4,
      "outputs": [
        {
          "output_type": "stream",
          "name": "stdout",
          "text": [
            "Reading package lists... Done\n",
            "Building dependency tree... Done\n",
            "Reading state information... Done\n",
            "git-lfs is already the newest version (3.0.2-1ubuntu0.3).\n",
            "0 upgraded, 0 newly installed, 0 to remove and 21 not upgraded.\n"
          ]
        }
      ]
    },
    {
      "cell_type": "code",
      "source": [
        "from transformers.utils import send_example_telemetry\n",
        "\n",
        "send_example_telemetry(\"multi_lingual_speech_recognition_notebook\", framework=\"pytorch\")"
      ],
      "metadata": {
        "id": "cvAxeN7yGP0j"
      },
      "execution_count": 5,
      "outputs": []
    },
    {
      "cell_type": "code",
      "source": [
        "from datasets import load_dataset"
      ],
      "metadata": {
        "id": "SptA1PX0J8fy"
      },
      "execution_count": 6,
      "outputs": []
    },
    {
      "cell_type": "code",
      "source": [
        "common_voice_train = load_dataset(\"mozilla-foundation/common_voice_17_0\", \"vi\", split=\"train+validation\")\n",
        "common_voice_test = load_dataset(\"mozilla-foundation/common_voice_11_0\", \"vi\", split=\"test\")"
      ],
      "metadata": {
        "id": "DMyXVh4qOlPR"
      },
      "execution_count": 51,
      "outputs": []
    },
    {
      "cell_type": "code",
      "source": [
        "common_voice_train = common_voice_train.remove_columns([\"accent\", \"age\", \"client_id\", \"down_votes\", \"gender\", \"locale\", \"segment\", \"up_votes\"])\n",
        "common_voice_test = common_voice_test.remove_columns([\"accent\", \"age\", \"client_id\", \"down_votes\", \"gender\", \"locale\", \"segment\", \"up_votes\"])"
      ],
      "metadata": {
        "id": "FQ-FNmbhUvtm"
      },
      "execution_count": 52,
      "outputs": []
    },
    {
      "cell_type": "code",
      "source": [
        "from datasets import ClassLabel\n",
        "import random\n",
        "import pandas as pd\n",
        "from IPython.display import display, HTML\n",
        "\n",
        "def show_random_elements(dataset, num_examples=10):\n",
        "    assert num_examples <= len(dataset), \"Can't pick more elements than there are in the dataset.\"\n",
        "    picks = []\n",
        "    for _ in range(num_examples):\n",
        "        pick = random.randint(0, len(dataset)-1)\n",
        "        while pick in picks:\n",
        "            pick = random.randint(0, len(dataset)-1)\n",
        "        picks.append(pick)\n",
        "\n",
        "    df = pd.DataFrame(dataset[picks])\n",
        "    display(HTML(df.to_html()))"
      ],
      "metadata": {
        "id": "vugfqFVGUzvI"
      },
      "execution_count": 53,
      "outputs": []
    },
    {
      "cell_type": "code",
      "source": [
        "show_random_elements(common_voice_train.remove_columns([\"path\", \"audio\"]), num_examples=10)"
      ],
      "metadata": {
        "colab": {
          "base_uri": "https://localhost:8080/",
          "height": 363
        },
        "id": "ihxu0ccVU3_V",
        "outputId": "a70989a9-5f50-4a12-e0ff-202c4a0c7c79"
      },
      "execution_count": 54,
      "outputs": [
        {
          "output_type": "display_data",
          "data": {
            "text/plain": [
              "<IPython.core.display.HTML object>"
            ],
            "text/html": [
              "<table border=\"1\" class=\"dataframe\">\n",
              "  <thead>\n",
              "    <tr style=\"text-align: right;\">\n",
              "      <th></th>\n",
              "      <th>sentence</th>\n",
              "      <th>variant</th>\n",
              "    </tr>\n",
              "  </thead>\n",
              "  <tbody>\n",
              "    <tr>\n",
              "      <th>0</th>\n",
              "      <td>Bước từng nhịp một hai như đang tiến vào ngôi làng</td>\n",
              "      <td></td>\n",
              "    </tr>\n",
              "    <tr>\n",
              "      <th>1</th>\n",
              "      <td>Sau đó Phương chị về phía trước miệng không ngừng hét</td>\n",
              "      <td></td>\n",
              "    </tr>\n",
              "    <tr>\n",
              "      <th>2</th>\n",
              "      <td>Nhìn đồng hồ lúc này cũng đã là mười giờ tối</td>\n",
              "      <td></td>\n",
              "    </tr>\n",
              "    <tr>\n",
              "      <th>3</th>\n",
              "      <td>Vì quán nằm ở trong hẻm</td>\n",
              "      <td></td>\n",
              "    </tr>\n",
              "    <tr>\n",
              "      <th>4</th>\n",
              "      <td>Mở chiếc cửa sổ căn nhà của nó ra nhìn</td>\n",
              "      <td></td>\n",
              "    </tr>\n",
              "    <tr>\n",
              "      <th>5</th>\n",
              "      <td>Chỉ anh thôi ai để ý đâu mà</td>\n",
              "      <td></td>\n",
              "    </tr>\n",
              "    <tr>\n",
              "      <th>6</th>\n",
              "      <td>Tiếng mõ tụng kinh vẫn còn vang lên tới điện chính</td>\n",
              "      <td></td>\n",
              "    </tr>\n",
              "    <tr>\n",
              "      <th>7</th>\n",
              "      <td>Không biết Sao con Thảo nó lại không có báo mộng cho chúng tôi</td>\n",
              "      <td></td>\n",
              "    </tr>\n",
              "    <tr>\n",
              "      <th>8</th>\n",
              "      <td>Khi được vuông tròn</td>\n",
              "      <td></td>\n",
              "    </tr>\n",
              "    <tr>\n",
              "      <th>9</th>\n",
              "      <td>Chăm sóc kuman Càng tốt càng hiệu quả</td>\n",
              "      <td></td>\n",
              "    </tr>\n",
              "  </tbody>\n",
              "</table>"
            ]
          },
          "metadata": {}
        }
      ]
    },
    {
      "cell_type": "code",
      "source": [
        "import re\n",
        "chars_to_ignore_regex = '[\\,\\?\\.\\!\\-\\;\\:\\\"\\“\\%\\‘\\”\\�]'\n",
        "\n",
        "def remove_special_characters(batch):\n",
        "    batch[\"sentence\"] = re.sub(chars_to_ignore_regex, '', batch[\"sentence\"]).lower() + \" \"\n",
        "    return batch"
      ],
      "metadata": {
        "id": "PFIxaXHwU_zC"
      },
      "execution_count": 55,
      "outputs": []
    },
    {
      "cell_type": "code",
      "source": [
        "common_voice_train = common_voice_train.map(remove_special_characters)\n",
        "common_voice_test = common_voice_test.map(remove_special_characters)"
      ],
      "metadata": {
        "id": "ASSq7AhzVEBo"
      },
      "execution_count": 56,
      "outputs": []
    },
    {
      "cell_type": "code",
      "source": [
        "show_random_elements(common_voice_train.remove_columns([\"path\",\"audio\"]))"
      ],
      "metadata": {
        "colab": {
          "base_uri": "https://localhost:8080/",
          "height": 363
        },
        "id": "eDB39ROUVHeQ",
        "outputId": "39df42ec-7be0-493a-aeb6-c40ae4e2fde6"
      },
      "execution_count": 57,
      "outputs": [
        {
          "output_type": "display_data",
          "data": {
            "text/plain": [
              "<IPython.core.display.HTML object>"
            ],
            "text/html": [
              "<table border=\"1\" class=\"dataframe\">\n",
              "  <thead>\n",
              "    <tr style=\"text-align: right;\">\n",
              "      <th></th>\n",
              "      <th>sentence</th>\n",
              "      <th>variant</th>\n",
              "    </tr>\n",
              "  </thead>\n",
              "  <tbody>\n",
              "    <tr>\n",
              "      <th>0</th>\n",
              "      <td>lạ cái lúc về</td>\n",
              "      <td></td>\n",
              "    </tr>\n",
              "    <tr>\n",
              "      <th>1</th>\n",
              "      <td>ôi con ơi con mở mắt rồi sao</td>\n",
              "      <td></td>\n",
              "    </tr>\n",
              "    <tr>\n",
              "      <th>2</th>\n",
              "      <td>lên núi đặt lờ</td>\n",
              "      <td></td>\n",
              "    </tr>\n",
              "    <tr>\n",
              "      <th>3</th>\n",
              "      <td>cô vừa bảo là có con nhỏ bạn thân bị chết thảm đó sao</td>\n",
              "      <td></td>\n",
              "    </tr>\n",
              "    <tr>\n",
              "      <th>4</th>\n",
              "      <td>nên bị ngã ngửa lên giường</td>\n",
              "      <td></td>\n",
              "    </tr>\n",
              "    <tr>\n",
              "      <th>5</th>\n",
              "      <td>đừng có lo</td>\n",
              "      <td></td>\n",
              "    </tr>\n",
              "    <tr>\n",
              "      <th>6</th>\n",
              "      <td>mẹ không ngủ được</td>\n",
              "      <td></td>\n",
              "    </tr>\n",
              "    <tr>\n",
              "      <th>7</th>\n",
              "      <td>em giật mình nói</td>\n",
              "      <td></td>\n",
              "    </tr>\n",
              "    <tr>\n",
              "      <th>8</th>\n",
              "      <td>tại sao lại bắt cháu</td>\n",
              "      <td></td>\n",
              "    </tr>\n",
              "    <tr>\n",
              "      <th>9</th>\n",
              "      <td>buồn thế chứ</td>\n",
              "      <td></td>\n",
              "    </tr>\n",
              "  </tbody>\n",
              "</table>"
            ]
          },
          "metadata": {}
        }
      ]
    },
    {
      "cell_type": "code",
      "source": [
        "def extract_all_chars(batch):\n",
        "  all_text = \" \".join(batch[\"sentence\"])\n",
        "  vocab = list(set(all_text))\n",
        "  return {\"vocab\": [vocab], \"all_text\": [all_text]}"
      ],
      "metadata": {
        "id": "cIQuEezSVLPL"
      },
      "execution_count": 58,
      "outputs": []
    },
    {
      "cell_type": "code",
      "source": [
        "vocab_train = common_voice_train.map(\n",
        "  extract_all_chars, batched=True,\n",
        "  batch_size=-1, keep_in_memory=True,\n",
        "  remove_columns=common_voice_train.column_names\n",
        ")\n",
        "vocab_test = common_voice_test.map(\n",
        "  extract_all_chars, batched=True,\n",
        "  batch_size=-1, keep_in_memory=True,\n",
        "  remove_columns=common_voice_test.column_names\n",
        ")"
      ],
      "metadata": {
        "colab": {
          "base_uri": "https://localhost:8080/",
          "height": 81,
          "referenced_widgets": [
            "0a0e7d32c0a54e39b9e4752bccaf1784",
            "9e334bef8641474ea74e62338b1d0a64",
            "35c0ef37752f4265a56efb7a3c0a84a6",
            "cf24bfc1a37848d2869eb16bf0bc2722",
            "5deebec0ae034806955e1e15a91ebbb6",
            "70ffbea3b03b4e9686cb01b73b851b5e",
            "2e225f655bb84b6eaac09eb48a86c8a7",
            "f8af173198d1471db6fc5c3457ad4a8a",
            "d1bc0f14d1504be2bfdd9b15d89dd051",
            "0e9ef3e302284a959b051c7b11ecf782",
            "8cb62ba08a5d49c1a36859066ac515fd",
            "b3d38a13b24e4f1da3885c02be1b62b2",
            "63d15b40b7b14c9090ea0838947abe6e",
            "c2f43174db2b453bac2831ba358bae2c",
            "b12f039ae61946798a5f99c24d810126",
            "8ab042263a4c4eb2901b5870b3d7905a",
            "61fcbca2726a405ba632a64dbb959ee3",
            "69a824c6066e4fee8cb55bd18e92d830",
            "084c34e310ed425095cdaa61ae2988cc",
            "2cb534ba90c5449aa192425d84a3abf9",
            "571d7764e8a14cce92446d5757f99469",
            "e513a37ab5fe4e549b2ac0562d3a02b1"
          ]
        },
        "id": "nxIKWhdMVN64",
        "outputId": "6c579868-2eb4-4127-f329-6d70c58bb9bf"
      },
      "execution_count": 59,
      "outputs": [
        {
          "output_type": "display_data",
          "data": {
            "text/plain": [
              "Map:   0%|          | 0/2939 [00:00<?, ? examples/s]"
            ],
            "application/vnd.jupyter.widget-view+json": {
              "version_major": 2,
              "version_minor": 0,
              "model_id": "0a0e7d32c0a54e39b9e4752bccaf1784"
            }
          },
          "metadata": {}
        },
        {
          "output_type": "display_data",
          "data": {
            "text/plain": [
              "Map:   0%|          | 0/1237 [00:00<?, ? examples/s]"
            ],
            "application/vnd.jupyter.widget-view+json": {
              "version_major": 2,
              "version_minor": 0,
              "model_id": "b3d38a13b24e4f1da3885c02be1b62b2"
            }
          },
          "metadata": {}
        }
      ]
    },
    {
      "cell_type": "code",
      "source": [
        "vocab_list = list(set(vocab_train[\"vocab\"][0]) | set(vocab_test[\"vocab\"][0]))"
      ],
      "metadata": {
        "id": "r8wFQBKVVRIJ"
      },
      "execution_count": 60,
      "outputs": []
    },
    {
      "cell_type": "code",
      "source": [
        "vocab_dict = {v: k for k, v in enumerate(vocab_list)}\n",
        "vocab_dict"
      ],
      "metadata": {
        "colab": {
          "base_uri": "https://localhost:8080/"
        },
        "id": "tkNBcuGHVTZW",
        "outputId": "6eaf30d3-1217-4dbb-e1c0-106d4628c9b1"
      },
      "execution_count": 61,
      "outputs": [
        {
          "output_type": "execute_result",
          "data": {
            "text/plain": [
              "{'r': 0,\n",
              " 'ề': 1,\n",
              " \"'\": 2,\n",
              " 'o': 3,\n",
              " 'f': 4,\n",
              " 'ễ': 5,\n",
              " 'p': 6,\n",
              " 't': 7,\n",
              " 'ã': 8,\n",
              " 'w': 9,\n",
              " 'ô': 10,\n",
              " 'v': 11,\n",
              " 'ẫ': 12,\n",
              " 'á': 13,\n",
              " 'd': 14,\n",
              " 'ĩ': 15,\n",
              " 'u': 16,\n",
              " ' ': 17,\n",
              " 'ế': 18,\n",
              " 'ở': 19,\n",
              " 'ó': 20,\n",
              " 'c': 21,\n",
              " 'ữ': 22,\n",
              " 'ẳ': 23,\n",
              " 'ê': 24,\n",
              " 'ẵ': 25,\n",
              " 'ư': 26,\n",
              " 'ủ': 27,\n",
              " 'ự': 28,\n",
              " 'ỹ': 29,\n",
              " 'ỗ': 30,\n",
              " 'ổ': 31,\n",
              " 's': 32,\n",
              " 'â': 33,\n",
              " 'è': 34,\n",
              " 'ũ': 35,\n",
              " 'õ': 36,\n",
              " 'ơ': 37,\n",
              " 'ả': 38,\n",
              " 'ặ': 39,\n",
              " 'ù': 40,\n",
              " 'í': 41,\n",
              " 'ẩ': 42,\n",
              " 'ạ': 43,\n",
              " 'x': 44,\n",
              " 'ò': 45,\n",
              " 'ỡ': 46,\n",
              " 'ă': 47,\n",
              " 'ừ': 48,\n",
              " 'ị': 49,\n",
              " 'ệ': 50,\n",
              " 'ý': 51,\n",
              " 'm': 52,\n",
              " 'ầ': 53,\n",
              " 'ỳ': 54,\n",
              " 'z': 55,\n",
              " 'a': 56,\n",
              " 'ẹ': 57,\n",
              " 'ứ': 58,\n",
              " 'g': 59,\n",
              " 'ỏ': 60,\n",
              " 'ử': 61,\n",
              " 'à': 62,\n",
              " 'ậ': 63,\n",
              " 'h': 64,\n",
              " 'k': 65,\n",
              " 'é': 66,\n",
              " 'ụ': 67,\n",
              " 'ể': 68,\n",
              " 'đ': 69,\n",
              " 'ỵ': 70,\n",
              " 'ồ': 71,\n",
              " 'ỉ': 72,\n",
              " 'y': 73,\n",
              " 'b': 74,\n",
              " 'l': 75,\n",
              " 'i': 76,\n",
              " 'ì': 77,\n",
              " 'ố': 78,\n",
              " 'ộ': 79,\n",
              " 'ỷ': 80,\n",
              " 'ấ': 81,\n",
              " 'ợ': 82,\n",
              " 'ắ': 83,\n",
              " 'ẻ': 84,\n",
              " 'ú': 85,\n",
              " 'e': 86,\n",
              " 'ằ': 87,\n",
              " 'ớ': 88,\n",
              " 'ờ': 89,\n",
              " 'ọ': 90,\n",
              " 'ẽ': 91,\n",
              " 'n': 92,\n",
              " 'q': 93,\n",
              " 'j': 94}"
            ]
          },
          "metadata": {},
          "execution_count": 61
        }
      ]
    },
    {
      "cell_type": "code",
      "source": [
        "vocab_dict[\"|\"] = vocab_dict[\" \"]\n",
        "del vocab_dict[\" \"]"
      ],
      "metadata": {
        "id": "nxzDN4gOVWOr"
      },
      "execution_count": 62,
      "outputs": []
    },
    {
      "cell_type": "code",
      "source": [
        "vocab_dict[\"[UNK]\"] = len(vocab_dict)\n",
        "vocab_dict[\"[PAD]\"] = len(vocab_dict)\n",
        "len(vocab_dict)"
      ],
      "metadata": {
        "colab": {
          "base_uri": "https://localhost:8080/"
        },
        "id": "XWVp5xBPVcDm",
        "outputId": "af8cb717-e858-4ad4-c0c9-a97c065a7230"
      },
      "execution_count": 63,
      "outputs": [
        {
          "output_type": "execute_result",
          "data": {
            "text/plain": [
              "97"
            ]
          },
          "metadata": {},
          "execution_count": 63
        }
      ]
    },
    {
      "cell_type": "code",
      "source": [
        "import json\n",
        "with open('vocab.json', 'w') as vocab_file:\n",
        "    json.dump(vocab_dict, vocab_file)"
      ],
      "metadata": {
        "id": "-hsUx1cOVemD"
      },
      "execution_count": 64,
      "outputs": []
    },
    {
      "cell_type": "code",
      "source": [
        "from transformers import AutoConfig\n",
        "\n",
        "config = AutoConfig.from_pretrained(model_checkpoint)\n",
        "\n",
        "tokenizer_type = config.model_type if config.tokenizer_class is None else None\n",
        "config = config if config.tokenizer_class is not None else None"
      ],
      "metadata": {
        "id": "cle7aSrPVilO"
      },
      "execution_count": 65,
      "outputs": []
    },
    {
      "cell_type": "code",
      "source": [
        "from transformers import AutoTokenizer\n",
        "\n",
        "tokenizer = AutoTokenizer.from_pretrained(\n",
        "  \"./\",\n",
        "  config=config,\n",
        "  tokenizer_type=tokenizer_type,\n",
        "  unk_token=\"[UNK]\",\n",
        "  pad_token=\"[PAD]\",\n",
        "  word_delimiter_token=\"|\",\n",
        ")"
      ],
      "metadata": {
        "colab": {
          "base_uri": "https://localhost:8080/"
        },
        "id": "gYezwFI4VmZZ",
        "outputId": "fc20eb6a-af15-47eb-eedc-42e6ba7c2624"
      },
      "execution_count": 66,
      "outputs": [
        {
          "output_type": "stream",
          "name": "stderr",
          "text": [
            "`use_fast` is set to `True` but the tokenizer class does not have a fast version.  Falling back to the slow version.\n"
          ]
        }
      ]
    },
    {
      "cell_type": "code",
      "source": [
        "model_checkpoint_name = model_checkpoint.split(\"/\")[-1]\n",
        "repo_name = f\"{model_checkpoint_name}-vietnamese-finetuned-demo-colab\""
      ],
      "metadata": {
        "id": "s9x6Svz_VtJ5"
      },
      "execution_count": 67,
      "outputs": []
    },
    {
      "cell_type": "code",
      "source": [
        "tokenizer.push_to_hub(repo_name)"
      ],
      "metadata": {
        "colab": {
          "base_uri": "https://localhost:8080/",
          "height": 153,
          "referenced_widgets": [
            "93d966e0574e4a92a891875adb4eaaab",
            "4e7d5ca1221e48309c2580c76ac02045",
            "274b06b624444fbbaff2b51351f6cd70",
            "99fffb6ff853489f9e2afd8d95b790e4",
            "7088aca7253e484ca72d5d679fa34c31",
            "bd48b4f550e5409e8efbebe2e7664550",
            "c409e7ef9c3849639bd1f250966689ef",
            "e92a566da99b43839cc7a6509b86316f",
            "fff1d75f21a04d8594fe2ac6d3325720",
            "8bd869a597934a9a88eedccd04aa2bb0",
            "9999cf17c0564b62904d0c91c27ee3d5"
          ]
        },
        "id": "0yGimkhAV0tG",
        "outputId": "bc5ba94c-b483-44e5-ac04-7261847b3760"
      },
      "execution_count": 68,
      "outputs": [
        {
          "output_type": "display_data",
          "data": {
            "text/plain": [
              "README.md:   0%|          | 0.00/5.17k [00:00<?, ?B/s]"
            ],
            "application/vnd.jupyter.widget-view+json": {
              "version_major": 2,
              "version_minor": 0,
              "model_id": "93d966e0574e4a92a891875adb4eaaab"
            }
          },
          "metadata": {}
        },
        {
          "output_type": "stream",
          "name": "stderr",
          "text": [
            "No files have been modified since last commit. Skipping to prevent empty commit.\n",
            "WARNING:huggingface_hub.hf_api:No files have been modified since last commit. Skipping to prevent empty commit.\n"
          ]
        },
        {
          "output_type": "execute_result",
          "data": {
            "text/plain": [
              "CommitInfo(commit_url='https://huggingface.co/ginpham614/wav2vec2-large-xlsr-53-vietnamese-finetuned-demo-colab/commit/4ac2f1e60b0deae52d1296e64069a50a4fb8467a', commit_message='Upload tokenizer', commit_description='', oid='4ac2f1e60b0deae52d1296e64069a50a4fb8467a', pr_url=None, repo_url=RepoUrl('https://huggingface.co/ginpham614/wav2vec2-large-xlsr-53-vietnamese-finetuned-demo-colab', endpoint='https://huggingface.co', repo_type='model', repo_id='ginpham614/wav2vec2-large-xlsr-53-vietnamese-finetuned-demo-colab'), pr_revision=None, pr_num=None)"
            ],
            "application/vnd.google.colaboratory.intrinsic+json": {
              "type": "string"
            }
          },
          "metadata": {},
          "execution_count": 68
        }
      ]
    },
    {
      "cell_type": "code",
      "source": [
        "common_voice_train[0][\"path\"]"
      ],
      "metadata": {
        "colab": {
          "base_uri": "https://localhost:8080/",
          "height": 35
        },
        "id": "wj-1KEiIWCLF",
        "outputId": "6cbab10e-7290-4c8b-97d7-7593a574b79f"
      },
      "execution_count": 69,
      "outputs": [
        {
          "output_type": "execute_result",
          "data": {
            "text/plain": [
              "'/root/.cache/huggingface/datasets/downloads/extracted/988a1303a5bdc3cbd1fbdc27b2aeeb0c081ca80a35035ee932f592ffd443f607/vi_train_0/common_voice_vi_23901117.mp3'"
            ],
            "application/vnd.google.colaboratory.intrinsic+json": {
              "type": "string"
            }
          },
          "metadata": {},
          "execution_count": 69
        }
      ]
    },
    {
      "cell_type": "code",
      "source": [
        "common_voice_train[0][\"audio\"]"
      ],
      "metadata": {
        "colab": {
          "base_uri": "https://localhost:8080/"
        },
        "id": "JqFcDL_kWGjx",
        "outputId": "70921dfc-8b22-43d3-c6d8-4461c2b25fc9"
      },
      "execution_count": 70,
      "outputs": [
        {
          "output_type": "execute_result",
          "data": {
            "text/plain": [
              "{'path': '/root/.cache/huggingface/datasets/downloads/extracted/988a1303a5bdc3cbd1fbdc27b2aeeb0c081ca80a35035ee932f592ffd443f607/vi_train_0/common_voice_vi_23901117.mp3',\n",
              " 'array': array([0.00000000e+00, 0.00000000e+00, 0.00000000e+00, ...,\n",
              "        1.90132641e-06, 7.18296724e-06, 1.22913943e-05]),\n",
              " 'sampling_rate': 48000}"
            ]
          },
          "metadata": {},
          "execution_count": 70
        }
      ]
    },
    {
      "cell_type": "code",
      "source": [
        "from datasets import Audio\n"
      ],
      "metadata": {
        "id": "3vW2DcYnWSIJ"
      },
      "execution_count": 71,
      "outputs": []
    },
    {
      "cell_type": "code",
      "source": [
        "common_voice_train = common_voice_train.cast_column(\"audio\", Audio(sampling_rate=16_000))\n",
        "common_voice_test = common_voice_test.cast_column(\"audio\", Audio(sampling_rate=16_000))"
      ],
      "metadata": {
        "id": "jVdoNle6WJgf"
      },
      "execution_count": 72,
      "outputs": []
    },
    {
      "cell_type": "code",
      "source": [
        "common_voice_train[0][\"audio\"]"
      ],
      "metadata": {
        "colab": {
          "base_uri": "https://localhost:8080/"
        },
        "id": "x6ge5Ei9WVf4",
        "outputId": "b68f9fa8-f940-4ed2-f2a7-993d19844566"
      },
      "execution_count": 73,
      "outputs": [
        {
          "output_type": "execute_result",
          "data": {
            "text/plain": [
              "{'path': '/root/.cache/huggingface/datasets/downloads/extracted/988a1303a5bdc3cbd1fbdc27b2aeeb0c081ca80a35035ee932f592ffd443f607/vi_train_0/common_voice_vi_23901117.mp3',\n",
              " 'array': array([ 0.00000000e+00,  0.00000000e+00,  0.00000000e+00, ...,\n",
              "        -1.79643739e-05, -1.54107620e-05,  3.32880700e-06]),\n",
              " 'sampling_rate': 16000}"
            ]
          },
          "metadata": {},
          "execution_count": 73
        }
      ]
    },
    {
      "cell_type": "code",
      "source": [
        "import IPython.display as ipd\n",
        "import numpy as np\n",
        "import random\n",
        "\n",
        "rand_int = random.randint(0, len(common_voice_train)-1)\n",
        "\n",
        "print(common_voice_train[rand_int][\"sentence\"])\n",
        "ipd.Audio(data=common_voice_train[rand_int][\"audio\"][\"array\"], autoplay=True, rate=16000)"
      ],
      "metadata": {
        "colab": {
          "base_uri": "https://localhost:8080/",
          "height": 93
        },
        "id": "3CRKs6b3WY5A",
        "outputId": "f8771fad-9d05-4736-dcdd-d5a08c0acf64"
      },
      "execution_count": 74,
      "outputs": [
        {
          "output_type": "stream",
          "name": "stdout",
          "text": [
            "ngôi nhà chưa xảy ra chuyện gì \n"
          ]
        },
        {
          "output_type": "execute_result",
          "data": {
            "text/plain": [
              "<IPython.lib.display.Audio object>"
            ],
            "text/html": [
              "\n",
              "                <audio  controls=\"controls\" autoplay=\"autoplay\">\n",
              "                    <source src=\"data:audio/wav;base64,UklGRqRfAgBXQVZFZm10IBAAAAABAAEAgD4AAAB9AAACABAAZGF0YYBfAgAAAAAAAAAAAAAAAAAAAAAAAAAAAAAAAAAAAAAAAAAAAAAAAAAAAAAAAAAAAAAAAAAAAAAAAAAAAAAAAAAAAAAAAAAAAAAAAAAAAAAAAAAAAAAAAAAAAAAAAAAAAAAAAAAAAAAAAAAAAAAAAAAAAAAAAAAAAAAAAAAAAAAAAAAAAAAAAAAAAAAAAAAAAAAAAAAAAAAAAAAAAAAAAAAAAAAAAAAAAAAAAAAAAAAAAAAAAAAAAAAAAAAAAAAAAAAAAAAAAAAAAAAAAAAAAAAAAAAAAAAAAAAAAAAAAAAAAAAAAAAAAAAAAAAAAAAAAAAAAAAAAAAAAAAAAAAAAAAAAAAAAAAAAAAAAAAAAAAAAAAAAAAAAAAAAAAAAAAAAAAAAAAAAAAAAAAAAAAAAAAAAAAAAAAAAAAAAAAAAAAAAAAAAAAAAAAAAAAAAAAAAAAAAAAAAAAAAAAAAAAAAAAAAAAAAAAAAAAAAAAAAAAAAAAAAAAAAAAAAAAAAAAAAAAAAAAAAAAAAAAAAAAAAAAAAAAAAAAAAAAAAAAAAAAAAAAAAAAAAAAAAAAAAAAAAAAAAAAAAAAAAAAAAAAAAAAAAAAAAAAAAAAAAAAAAAAAAAAAAAAAAAAAAAAAAAAAAAAAAAAAAAAAAAAAAAAAAAAAAAAAAAAAAAAAAAAAAAAAAAAAAAAAAAAAAAAAAAAAAAAAAAAAAAAAAAAAAAAAAAAAAAAAAAAAAAAAAAAAAAAAAAAAAAAAAAAAAAAAAAAAAAAAAAAAAAAAAAAAAAAAAAAAAAAAAAAAAAAAAAAAAAAAAAAAAAAAAAAAAAAAAAAAAAAAAAAAAAAAAAAAAAAAAAAAAAAAAAAAAAAAAAAAAAAAAAAAAAAAAAAAAAAAAAAAAAAAAAAAAAAAAAAAAAAAAAAAAAAAAAAAAAAAAAAAAAAAAAAAAAAAAAAAAAAAAAAAAAAAAAAAAAAAAAAAAAAAAAAAAAAAAAAAAAAAAAAAAAAAAAAAAAAAAAAAAAAAAAAAAAAAAAAAAAAAAAAAAAAAAAAAAAAAAAAAAAAAAAAAAAAAAAAAAAAAAAAAAAAAAAAAAAAAAAAAAAAAAAAAAAAAAAAAAAAAAAAAAAAAAAAAAAAAAAAAAAAAAAAAAAAAAAAAAAAAAAAAAAAAAAAAAAAAAAAAAAAAAAAAAAAAAAAAAAAA//8AAAAAAAAAAAAAAAAAAAAAAAAAAAAAAAAAAAAAAQAAAAAAAAAAAAAAAAAAAAAAAAAAAAAAAAAAAAAAAAAAAAAAAAD+//7///8AAAAAAAAAAAAAAAAAAAAAAAAAAAAAAAAAAAAAAAAAAAEAAgAAAAEAAQAAAAAAAQAAAAEAAQAAAAEAAQAAAAAAAQAAAAAAAQADAAAAAAACAAAAAAABAAAAAAAAAAAAAAABAAAAAQD/////AQABAAAAAAABAP//////////AAAAAAAA/////wAAAAAAAAAAAAAAAP//AAAAAAAAAAAAAAAA/f/9/////v/+/wAAAAD9//////8AAAAA/v8AAP///////////v/+/wAA/f8AAAIAAAAAAAAAAQAAAP7/AAAAAP//AAD//wAAAgAAAAAAAQAAAAAAAwACAAEAAgAEAAIAAQADAAAAAgABAAAAAQD+//7//v8CAAMAAQAAAP///P/7//7///8AAAAA/v////3/9//2//v//v///wAAAAD+/wIAAgAAAAEAAQABAAMABAABAAEAAAABAAAAAwAaABsAEAAMAPz/8P/s/+H/3P/s//f/8f/n/+n/7f/v/+7/6//5/wMA+//7/wAA/P/4/+7/6v/t/+P/2v/S/9L/1P/Q/9X/3v/p//b//P/0//D/9f/6/wYACgAAAPv/+v/0//3/DAANABYAGgAUABQABwD7//7/9v/m/9v/yf/G/9n/5P/o//X//f8KACEAKwAzAC8AIQAcABcAEQATABkAIgAlABUACQD9//7/GQAsADgAMgAbAAsAAAAEABIAGAAfACMAIgAbAAcA/P8GABcAGgATABAACQAEAA4ACADw/+f/5//n/+z/7//z/+r/5v/0//n/AwACAPL/8v/2//P/+v8EAAkABwACAAAA/P8AAA0AIAAoABkACAD4/+n/7f/1//D/9/8EAAEA/v8AAAQABwAGAAMA/P/s/+H/3f/U/83/1//m/+f/6//2//v//v/1//T//P/w/+D/6f/2//P/7v/s/+r/8v/8//3/AAABAPj/6P/k/+3/9/8BAA8AIQApACwALwAvAC0AJwApACUAFgAVABYADgD///L/9f8CAA0AEAACAPj/BQAMAAwACQD2/+z/8P/5//f/4v/e//H/+f/z//T/+/8EAA4ABAD3//L/6v/r//v/BAD2/+n/7//7/xMAHgAcABkAEQASAA4ACAABAAEAEQAYABYAGAAeACEAHgAIAPL/8f/v//D///8JABUAGgAVABgADQAEAAkADwAXABAAAAD2//7/GAAlABoAEgALAAAACAAWABQADwALAAUABAADAO7/2f/g//P/+f/7//7/8v/n/+j/7f/v//j/+//v/+v/4//a/9T/0P/W/9f/1//o//D/7//t/9//3//q//D/+/8EAAMA/P/5//r/9v/t/+z/6P/l/+j/3//k/+//6//t//T/9//4//r/9f/s/9//2P/g//D/+v/9/wgACQALAB8AJAAXAAQA+f8EAA8ACQABAAIAFQApADEALQAoADIAMAAhAB8AMAAtACEAKAAsACwAKgAsAC0AMAA0AB8ADwALAP7/9P/w//P/AAAEAAAA+P/z//3/CAASABIADQAWABwAEwAEAPf/8v/3/wAABwD//+n/7//8/wYAFwAUAAYABQAHAAQA8f/e/9r/0P/b/+r/5v/i/93/5f/u/+r/7P/3//D/5//k/9D/xf/C/8b/2P/m//b/9//w////DAANABIAFAASABMAGAAXABYAEAAMAB0AIQARAAIA/f8AAAEAAgAEAAkA///r/+P/6f/w/+z/7f/z//v////y/+j/8v/y/+H/3//e/9v/3v/g/+D/4v/x//L/7//7/wMAAQALAB8AHwAWABMAEgARABUAFgAZACAAHAAbACQAHQAMAA8AGwAhACEAEAD7//b/BgAFAP3/AQACAAUADwARABEAGQANAAcAFQASAAoACwAbACUAJwAoACIAIgAuAC4AIAAXAA4ACAALAAsADAARAA0ABQAAAPn/9P/p/+T/5//k/+X/4v/f/93/2f/W/9j/5f/y//3////4//P/8v/q/+L/5P/g/9b/1//m//r/BQD///f/9f/2////+v/9/wYA+//4/wAAAwAEAAAA8f/p/+//6//h/9//5v/q/+r/6//v//n//v/z/+b/4v/h/+n/9v8BAAQAAQAIAAsAAwD+//r/+/8IAB0AGgAQABoAIwAfABUADgAQABcACwAAAAQAAwD9/wAACwARABQAHAAaAAYAAAANAA8ABgACAP//+//9//v/+P/6/wAACQAEAPb/7//+/w8AEgAOAA4AFgAOAAQACAANABUAJQArAB4AGwAjABQAAwADAAcABgANABsAHwAcABkACwADAA8ACQD8//7//f/x/+H/2//l/+v/4f/W/9//4v/Q/8P/tv+u/7L/uv/N/9r/1v/W/9f/zP/N/9j/1f/b/+r/6//u//b/+f/7//r/9f/2//f/7//w/wIADQAKABMAEwADAAYADgAPAAoAAQAFAAoAAgAAAAQAAAD4//7/BQAPABUAFAAdACIAJAAmACMAIgAYABIAEgAQAAgACgAWAA0ABgADAP7/CwAeABgABQD9//v//v8AAAgAEAAVAB4AHgAcABcADAAAAPz/AgDz/9r/3f/5//7/6P/g/+T/7v/0//L/+v8AAAAABQAIAAkADgARAA8ADQAUABsAEAAGAAcACgAEAPj/9//9/wgADgAJAA0AEwAKAAkAEQAPAAsADQAVABQACwANAA8ACAAAAPb/6//h/+P/6//s/+r/5//g/93/4v/q/+j/6f/5/wIAAQD4/+3/8f/9/wEA/f/4//n/+f/w/+z/9//w/9z/0//W/+j/8//2//j/+v8KAAsA6//Y/9v/6P/3//z/AwABAPH/5P/m/+z/5f/l/+7/8//+////8P/q/+//7//y/wAACQAIAAgAEgAXABYADAAHAAwAAQANACQAGQALAA8AHAAdABoAGQAaAB8AJAAvAC8AHgAYABsAGQAiACIADwAYACQAIQAXABAAGwAeACEAJQAjADAANQA8ADoAGgARABYAEAATAAkA9//5//3/AwD+//T/8f/f/9v/8P8AAAUAAgD8/wAAAADz//T//P8KAA0A+f/2/wAA///u/+f/6v/n//L/8//v/+//4v/f/97/0P/W/+X/5P/t//j/9f/w/+f/6//q/+P/4P/Z/9X/2v/j/+H/4f/m/+f/5v/Y/9P/3v/q//r/+v/9/wsABwD9//7//v/9//n/9v/9/wAABwALAAUABAAQACAAKgAoACMALAA2AEIAPwAwADcAMQAeAA4ABgAXABwAFQAPAAkABwAGAAkADQAQAA8ADgAMAAcAAwD6//X/+P8BAAYADAAYABkAGwAQAAkAEAAHAAoAGAAdAB0AEQD5/+n/7P/o/+H/5P/p/+7/6//y//j/6//w//j/9f/4//T/6//j/+X/7//m/9j/3v/r/+7/8P/r/+z/9v/w//b/BQAKAAwADAAIAAAAAAD7/wQAEgALABYAHQAdABMAAAANABkAFAASAAYA8//s//L/8P/t//j/BwAHAAcABgD//wAAAAD///H/6f/z/+7/4v/g/+z/8v/u//H/9v/2//D/AAAjACwAHgAJAAEA/f/w/+v/9/8OAB0AIAAiACAAGAAMAP///v////v/AAD2/+v/7P/o//H/8P/m/+r/6//7/w4AEgAVABAADAD///H//f/+/wEAAAD6/woAFAAWAA8ACQAHAPT/7v/x//T/9v/5/wMA/v/+/wkABQD8//r/+//7/wEACAALAA0AEAAWABsAIAAhACQALgAvAB0AGgAhACEAHgAKAAUAEAAXACEAEgD///j/6//q/+//9P/1//H/+/8EAAkAAgDu//D/9//v//D/7//s/+r/5P/k/+f/6//p/+P/6v/y/+z/7P/s/+r/7v/t//D/8f/q/+n/7P/1/wAABAAMABEADAABAPz/+v/7//7/AgAHAAQAAgAGAAYABQACAAcACwABAAkAGAAcABcAAwD8//b/+P/9//7/BgAAAPP/7f/o//L/9v/6/wIAAgABAAMABgACAPv/+P8AABIAHgAaABIAFQAUAAUAAgAFAAEA/f/7//3/8f/p//P/AwAOAAoABAD2//n/CAAGAAUABAAGAAAABAAQAAYAAAAFAAQAAQAHABcAGAAXABkACQD9/wEABAD8//j/+f///wQACAAMAAgAAgAAAAkACAD3//L/8//y//n/+/8AAP7/6f/s//v/AQAGAAQAAwAEAAcAFgAfACMAGgACAPX/8v/2/wAACAAHAAcAAAD8//P/8f/5/+n/4//q//X/+P/x//D/6P/j/+D/2v/j/+j/5v/z//v/+v8CABUAGQAQAA8ADQALAAUABAAFAPr/AQAGAAwAFAAFAAEA/P/3//T/7//4/wsAEQALABoAMAA5ACwAIwAbAAwAEAAPAAEA/f8EAAkADAAPAP7/7v/y//n/AQD+//D/8f/o/+D/6P/o/+3/9//7//3///8HAAgABwAFAP3/+P/w//H/9f/6/wcACwAPABYAEwAFAPL/9/8CAAAACgAAAPD/9f/t/+P/5P/r/+3/7f/v//H//f/6//X/BAD8//n/CQANAA8AEAAPABQAGQAXAA8ABgABAP7/BAAHAAwAHgAVABAAEQD9//P/8//z//j/+f/x/+7/8v/5//7/AgARABYACgADAAsADAAHAA0ACgARABoAEAADAAIAAAD2//T/+f8JAA0ABwAQABkAFAARABUACwAKABEABgD+/wAACQANAAcABgD5//H/+v///wcACQABAPX/6//w/+n/3v/l//L/AgAMAA8AEgARAAQA9//+//v/9v/5/wUAEwASAP//+/8GAPz/9f/0//f//f8EAAwABAAAAAIA/v/7//r//f8DAAoAEwALAPb/6v/x//L/6//n//D/AAAHABUAFgAKAAAA7v/e/93/5//z/+//7v/z//r/AQD0//H/+f/9/wAAAAD///L/6//x/+v/5P/p/+T/5P/z//3//P/9/wMADwAaABIACwAMAAMA/f8CAAYAEAAOAAAAAQAIABIAHgAfABMABQD7//b/+P/7//P/+/8BAAMAHgAXABIAFQAKABAAEQAVAB8AKAAoABoADAACAAwAHQAcABQACQAEAP7/9//z/+7/8P/2/wMABAAIABsAHgAOAAcABwABAAAAAgAFABQAEwADAAYAAgAAAP7/+/8AAPz/AwARABYADgD///L/7P/l/9v/z//O/+T/5v/d/93/3f/s//f/7//o/+X/5//r//L/8P/p/+z/9P8AAAAA///+//v/+f8BAAcAAwAAAAIABQADAAUA9v/u//f/AwAdABgACwALAAEAAAADAAMAAwD8//z/+v/0/+//6f/b/83/0f/g/+r/9/8BAAMABgD9//3/EAAeABwADQAGABUAGAATAB4AGgAeAB4AGwAfABoAGgARAAUAAgAQABAAAwACAAoACwD+//b/+P/y/+//+v/4//T/9v/r/+H/3v/i/+3/9P///////P8BAAEAEQAVABAAEwARAAkAAQAJAAoA//8HABMAFwAdABEACwAFAAAACAD8/+v/7f/n/+b/6f/Y/9n/6//s//b/BwADAPj/8//m/9f/y//O/9v/0P/N/93/7/8HABUAIgAjACcAMgAbABEAEAAFABQAHwATAA8ABQD3//3/CQAeACwAJAAeACIAGwAhAB0ACAACAAEABQAGAAsAEgAPAAUAAQD9/wQADwAIAAAA+v8AAAAA9P/i/+P/6//x//T/+/8CAAQADwAHAAMADAAUAAsA+v/t/9z/1P/Y/+D/2v/e/+X/4f/r/wMACAACAAYAEgAXABMAEAACAPX/9v/m/9H/1f/Q/9X/1v/Q/9n/6//9////AAADAAEAAgADAPr/+P/2//z/AQACAAoACgAEAP7/BAAHABEAHAASABkAKQAsADgAOAAwACoAHgAdAB0AIAAZABMAEwASABIAFQAKABAAGwAOABgADwAKABEAAwD5//v/8v/y/wAA9P/t//P/9//s/+X/2//e/+3/7v/p/+j/AwATABIABgD4//f/8//4//3/+v8EAAAA6v/o/+X/4//t//P///8PAAMA+f/t/+X/7v/w//D/+P///wAABQAAAPz/+v8BAAYABQAHAAUABgD6/+X/5v/z//3//v/2//f/AQAWACMAHgAcACcAJwAeAB8AGAARABIACgAAAAcACAAGAAYADwAOAAwAGwAPABQAGQAFAPz/9P/5//r/8v/9/xUADwAFAA0AFAAQAAYAAAD2/+T/3v/k/+X/4//m/+r/8P/3////CQAGAAQAAwABAAkABQACAAMA/f/w/9v/1v/Z/93/5v/l/+v/9//0//P/AAAMABYADQD9//r/9//v/+H/4f/b/9j/6P/n/9//5v/7/wUADAAbAC8AMwAlABwAFAAMABoAHwATAA8A/P/z/wAA/f///w4AFAAhACgAHwAeACoALAAnACEAHwAaAAYAAAD1/+3/9f8AAAcAAQAEAAUAAQAPAAgA9f/0/+T/3//g/9z/6P/u//f///8BAPT/6f/z/+r/7f/x/+r/7f/m//T/9f/k//L/+f/3//3/AwAHAP7/AAAGAP3/AgAEAAMA///2//X/7f/w//X/+f/9//b/9P/6//f/7//p/+v//P8CAP3/8//1//z/+//+////BQARAB8AGgAMABQAIAAZAAYADQAEAPT/BQADAPf//f8KAAMACwApACsAIwAZABsAIgAjABoACgD9/+3/5f/g/9z/2P/r//n/7//6//n/6f/x//r/+f/5////AQABAP///P8HABYAHwArACEAEgAQAA0AFQARAAQABQD6//f/+v/5/wQACAAKABAAEgAGAPn/+f/t/+///P/5//v/8P/u//P/7f/u//L/9//8/wUAEgARABQADAACAAcAAgD+//D/4v/u////CAALAA0AAQDx/+//9v8AAAIACQAOABAAGgAYABEACwADAPv/6v/f/+P/4//d/9n/1v/j/+b/4f/g/9n/2v/h/+b/5f/y//D/5P/y/+v/5f/m/+X/5f/2/w0A/v8AAAkA+P/7/wUABgAEAP//8f/j/+///v8FAAoA8//m/+v/9f8LABgAJAAbAA8AGQAjACUAGQARABEAGwAZAAoAEgAdAA0ACgAeAB4AIQAoACgAIwAcACgANQAtABwAHgAUAAcACAD/////DQALAAQACgAWACsAKwAqACgACQD2/+//8P/u/+z/6f/k/+n/5v/l/+L/7P/3//H/6f/d/+D/4v/e/+b/7v/k/+T/8//0//7/AwD1/+3/9//9//T/8f/v//D/+P/z/+b/4f/l/+X/3//Z/9f/2f/b/+H/7P/t/97/3P/w//L/7P/v//H/7P/x//n/9v8AAAsAAAD3//7/BQACAAIABwALABEAHwAhACUAKAAZABgAFwASAAgAAAAKABIAEQAQAA8ADwAWABIAGgAiABQAEwAPABAAGQASAAMABAAiAC8ALQAqAB8AFwAJAAQACgAMABUAHwASAA4AFwANAAgABAD///b/9/8DAAwAGwAXAAcA+//5/wAAAgAUABoAFQANAAEA/P/x/+v/3v/X/93/3P/l/+3/5v/r/+r/3P/l/+b/3P/b/+T/4v/X/9r/0v/L/9D/0//c//L/AQD7//H/6P/o/+T/6f/w//H/AgD8//f/BgAHAAoAFAAYABwAHgAWAA4ADQAQABEAFwAgABkADAAPABAAAQD4//L/5//n/wAAAAD+/xQAHwAgAA0ACgAdABYACwAMAA0AEgAVABQAGAAZABYACQANABcADwASAAkAAwAFAAcAEgAaACIAIQAiACAAEQAAAPf/9f/1//r/9f/2/wMACQD//+v/7P/n/+D/7//x/+n/7f/y/+f/3v/h/97/6v/0//H/8v/q/+//9P/1//z/9//y/wEAFQAgAB0ACQAIAAYA//////7//f/3/wAABQAFAAUA//8DAAAA+f/4//f/+f8IABwAHgAcABMAAADu/+v/7v/4/wkABwD7//D/4//g/+n/8f/4//P/9f8EAAkAFgAbAA8ACgAOABoAGAALAPv/4//k/+r/6P/h/9j/4v/y//z/CQABAPf/CQANAAMAAQD7/wcADAAKABQABAD1//r/CwAMAPz/8v/s//v/BgD7/+7/7P/y/wMAFgALAAcABADz//b//f8AAAAABgASAA8ADQAEAAAABwAIAAMA/f/0//j/AQD2/+T/4f/k/+r/8v/0//H//P///wAACAACAP//BQAVAB8AKQAmABsAHgAVABoAHQAKAA8AFAAWAB4AKAAqABkAGQAfAB0AJAAdABMADwAEAAQACQAGAP7/9//3//j/AgAWABkAEgAHAPn/9/8JABwAFwAFAPj/7//q/+z/6v/k/9z/3f/p//L/9f/x/+b/1P/T/+f/9P/6//v//P/3/+P/4v/t/+//6//q/+z/7v/3//n/AQAQAAgAAAAAAPX/4//c/9f/zP/R/+H/4P/V/8z/xv/X/+X/6f/6/wEACQASABMAIwAwACkAGgAJAP7//f8DAAwAEgAVACAAHwAcAA4A+v8IABIAFAARAAcAEwAbACAAJQAaABMADAANACAAKAAoACgAGwAUABMAAAAEACMANAA6AC8AJAAiACMAJwATAPf/8//+/w0AEQACAP3/+v/x//D//f8HAAMA/v8CABAADwD+//P/7v/r//n/AAD0//P/9//v/+f/8P/9/////f8CAAYACgAGAPz/AgANAAQA6v/S/8n/0//d/97/4//s/+b/4//l/+f/6f/b/9X/2f/V/9D/2P/o//D/8//t/9//1P/X/+L/5//y//v//f/8//f/+v/4/+r/7f/z/+j/3//t//3/+f/5/woAFQAPAAQA+P/8/wgACQAMAAoA/P8EABIACwAJAAYAAAD7/wIAEQAdACIAIgAvADEAMAAuACIALQAzACUAHAATABcAFAASABsAFQAXABsAFAAVABgAHAApAC8AIwANAPz/9v/x//b//P////j/8v/0//L/9v/4//P/8P/z/wsAJgAeAA8ABgACAAAA9//t/+r/8P8AAAEA9v/x/+n/4f/Y/+X/9P/z//j/+/8IAA4ABgAFAAEA+P/o/+H/3f/h//D/+P8CAAQA8f/l/+L/4v/p//r/AQACAA0AEAD+/+3/7v/x/+f/3f/c/8v/vv/K/9v/4f/e/+n/+P/8/wAAAwAHAAkABQAGAA4AFQATAAIA/f/5//H/7v/s//f/BQAAAPD/6f/s//P/+P/0////EwAiADQANwAvACQAEAAOABEABQD9/wAAAAADAAgAAQD1//X//v8EABIAIQAhABQAFgAlACsAIgASAA8ACwAMABkAKAA0ACoAHAAVABkAHAAOAAoAEQAaACAACwAAAAoABQDw/+b/9f/4/+7/7v/0/wAAEQASABIAGQATAAsACQAKABYAGQAPAAoACQAFAAAAAQACAPv/+v/4//3/AAAAAAwADQD6/+3/5//p/+b/4//n/9r/0//T/9L/3f/q//r/9v/j/9j/1f/X/9f/3f/g/97/4v/i/+b/7v/u/+r/6v/w//T/8f/t/+z/7v/1//7/AAD9/wUAEAAOAAMA9f/6//P/9P8BAAEACgAFAAEABgAKABEADAAOABQAHgAjACUAKgAjACoAMQA4ADsAJwAmACoAJwAyAD4AOAArACQAFgAJAAoADAAOABIADQAMABIACgAFAAoACQD+//j//f8AAP7/+P///wIA///8//X/7//i/97/5f/s//f/8f/m/+n/8P/u/+T/4//k/+X/5f/k//L/9//s/+f/6P/l/+//BQD///z/EwATAA4ADQAJAAIA/v8MABEAEAANAAIAAgD7//D/7f/n//P/AAD5//v/BwANAAsACQAKAP//+/8AAAAA+v/l/+b/8f/1/wMAAAAAAAgACgAQAA0ADAAPAAcA+f/n/+T/6P/t//r/AwAIAAUAAQADAAQA/f/x/+z/5P/k/+X/5f/5/w8AGQAeACgAJgAXAA0A+//1/wEABQAAAAEABAD0/+T/5v/q/+7/7//t/wIAEQALAAIA9P/8/wAA7f/w/wYAFwAgACkAKQAuACoAEQD9//D/+P8CAAYAEwAeACUAIwAhACYAJQAWAA4AEAAQAAYA/f/6/+z/4f/h/+v/AAARABQAEQAZAB8AHAAZABEACAD6//H/8P/v//P/+v8BAAAA+P/o/9//6v/0//P/8//6/////P/y/+b/1//Q/9j/4v/l/+P/3//g/+n/9f/4//X/+v8BAAMAAgACAAQACAALAAsAAgD+/wQABQAFAAkABwAHAAIAAAAEAAIA//8DAAAA9v/6/wMACAAGAAgAFwAWAA0ADwASABsAHQAXAA0A/v/v/+z/+f8HABEAEgAKAP7/9f/q/+P/7f8AAAwAFAAdAB8AIwAwAC0AHAAWABMADAAFAAAA/P/3/wIAEAAOABYAFwAeAC8AHAATAA4A8P/h/+f/6//u//T//P8AAAMADAAQAAwADQAIAPD/1//R/9j/3P/f/+X/5P/h/93/0//g//T//P8GAAwACAD+//z/AgD+//3/DAAbABwAGwAjACIADgD0/+f/5P/d/93/4f/p//f/BAAPAAcA9v/t/+j/6P/y/wYACQAEAAcA//8BABUAIgAcABYAIQAcAAsACgD8/+n/3//M/8X/yP/U/+b/9f8FABMAEQAKABEADgAAAPz//P8CAAQAAQAAAPv/AAAPABgADgAKAAkAAAAGAA0AEQAIAPb/8//x//v/CQAEAAsAFAAQABQADwALAA0AAQANABoAEgAQAAwAEgAlACgAGwANAAAABAAOAA8AEAAJAAsAEAAKABIAHgAcABwAFgAAAOX/1//V/9f/5P/1//f/AAASAA8AAAABAAYA///y/+3/8v/y//b/+//6//b/7//o/+3/9f/3//f/8P/s//j//v/w//P/AAAGABEAEgAOAA8ABwAHAAwAAAAAAAUA8f/m/+j/5v/r/+r/6v/u/+z/6f/e/9v/5v/Y/83/2//o//b/CQAUAAwAAAD9/wAAAQD9//T/8f/1//v//f8HABgAGAATABoAIQAWABEADAAIABIADwASABMADgAUABIACwALABAAEAAMAAAA/P/7//L/AwAaACgANQA7ADwAMQAjACIAGAACAAEACQD5//X/AwAEABQAHAAQABgAGAATAAkA+P/3//H/6//m/97/2f/R/+H/6//t/wIADgAJAPz/9v/1//f/+P/z//L/8v/7//7/+f8DABkAFQD///H/6//i/9n/3f/W/9z/5//t/wEABgALAAMA9v/6//z////7//n/+v/4//r/9v/5//7/AAAJAAkAAwD9/+v/5P/h/+7/AAADAA8AHQAeAAwA+//v//D/9//t/+j/4//l//f/BAAQABUAFQAUABQADwADAAQAAAD2//X/7v/i/9L/1f/h/+f/+P/5//X/9v/3//3/AQAFAAAACwALAPn/AgD//wQAFwAJAA4ABQDt/+T/2P/h//b/CwAXABkAIwAnACQAHAAbACMAKAAlABcA/P/w//X/+f/4/wQAIQAYAAgABwD//wEACQALAAcAEgAUAA0AGQAqADgAPwA/ADoAOQAzACIABwDv//H/+f///wUACwAOAAMA8v/t/+n/4//g/9n/3f/a/83/0//m//j/AQANAAYA8P/t/+z/6//p/9r/z//L/8//1v/m/+n/4v/t//H/2/++/8D/0f/V/+H/5//l//r/BAD6/wgAGwAcACIAGwAVABcAEQALAAAA9//9//X/5v/g/+T/7v/u//X//v8HAA4AFwAgABgAHAAcABsAHQAGAP//AADw/+v/7//y//j/8v/y//v/AQAEAAUADAARABEABQD5//z/BwAXAB8AIwAiABkAFQAZABoAGwAZAAIA8f/v//X/BgATAB8AMAAtABUABgADAP///f/5//z//P/+/wcABQAEAAwAEAAUAB8AIQAZAA4AAAD0/+//+/8KACMAOwA2ACQACAABAAwABgALAAgA/v/9//L/9v8KABQAFgAQAAcAAQABAPf/4//g/9f/yv/J/9L/3P/d/+7/7f/n/+3/3v/i/+r/4//g/9P/zv/T/9j/2v/d/+z//P/6////CAD8//b/6v/n/wEACwAMAAoABAAFAPv/+v/9//P/6f/Y/9L/5//0//L/+/8MAAkAAAAEAAcACgAOAAkA+/8AAAkAEAAlACsALgAtAB4AFwAaACIAFgAJAA0AFgAhACAAHwAoAC8ANQA2AC8AJgAdAAoA+//9//T/6//x//f/AQAHAAYACgAQABkAFwALAAgABwACAPH/6P/x//D/7f/y//n//P/3//L/8f/u//L//v8EAAAAAQD7//P/9f/v/+n/5//u//T/7//s/9f/1//k/9z/7f8AAAIADgAUAAoAAAD8//D/8f////f/7//5////AAD//wQABwD//wcABwD9//T/6f/m/9b/yv/P/9v/8f8AABAAFAAUACAAFwAJAP//9//3//H/7v/0//n/+f/z//T/BQAKAAQACgAaABwACwAJAAcA+f/5//n/9P/0//r/+//1/wAAFAAWABgAIgAjAB4AJgA0ADgAPwA+ACwAKAAnABYAEwAfABkAFQAbABkAFQAEAPL/6P/i/+f/7//w//D///8EAAMAFwAfAB8AHgAUAAoAAAAIAAUAAAARAA4AAgD///z//v8EAA4ADQAAAPz/9P/q/+L/0//M/8f/wv/N/9j/3f/g/+H/4v/y//r/+v/9/+j/2f/b/+f/9//y//j/BgAPABYAGAAUAAIA/P/2/+n/6//z//j/AQAEAAEAEAASAAgABwD4/+L/2v/j/+z/9P/7//r/CwAbABkAFQAOAAEA/f8AAPv/BAAKAPr/+/8DABEAJQAqACUAIwArABcA/v8AAAMACAAKAAUABQACAAAACQAOAAcADAAPAA4ACQAAAAAA8v/t/wYABAAFAA8AAAD7//b/9P8AAAcAFAAMAP//AAD9////DQAkAC0AKgAhAAsABwAGAPT/7v/y//n/AQD9//b///8BAAAA///v/+3/8v/e/9P/3f/p/+z/4f/c/97/4//y/+b/1P/c/9//6/8DAA4AGAAhAB0AGQAXAB4AHwAQAAQAAAD+//v/AwAPABIAGwAWAAUA+//4//b/+v8KAAAA8P/y/+f/4f/e/+b/7P/u//z/9v/5/woAAgD7/wMAEwAjACsAJAAfAB0AFAAPAA8ADwAWABsADwAMAAwA+f/g/9v/5P/t/wAACgADAP3/8P/u/+X/2f/c/97/3f/e/+7/9f/1/wMADQAKAPz/+v8IABoAKQAnAB4AFgAaABwAEwARAAEA8f/2/wAAAgD7//P/7v/n//T/BAAHAA0ACgD5/+v/7v/4//r/AgABAPj/+v/3/+3/7f/w/+n/5f/v//j///8FAAwADAADAPz/+P/6/wAAAgD4//T/AAARACcAMAAxADEALwAsABsAEgAVAA4ACAAQABEAEgAaABMAEAAFAPX/8f/w//v/8f/f/+b/5//s//P/7v/l/+X/7v/1//v/BAAIAAAA/P8CABIAGwASAP7/5//a/9r/6P/s/+n/7//q/+r/8P/4/wMABwANAA8ABADz/+3/8//w//D/7P/l//D/9v/0//r/AAD9/+7/5//1/wAAAwAEAPz/AAAPABsAHwAbABIAFQAfAB0AGgARAAUABQAGAAcACgAFAAAABwAWAB8AJgAkABEAAQAEAAIA+P/9//7/+P8AABIAFAAMABAAAwD+/wkACQACAAAAAwAGAA4ABQDx/+f/6v8AAAAA9f/t/+D/9f8JAAYABAD7//P/AAAFAAAAAQD9//T/6v/t//3/+//w/+j/6v/0//D/5//m/+n/7f/z/+7/3f/p//f/9f/7//n/+P/4/wYAHgAZAA8ACgAIABMAGgAeACAAHQAYABQAFgAYABQACgAIABAAEAAKAAcAAQABAAIA/P/9//7//f/z/+z/8v///xQAGwARAAoABgABAAYACAAFAAQA+f/5/wEAAAD9//T/6f/w/wMAAwD1/wAAFgAZACAAHQANABQAFAADAPn/+P/9/wMACwAGAAcACgAMAAQA9v8AAP3/8f/z/+v/8P/7//3/+f/l/9n/2f/g//L/+//w/9j/1//p//X/AAD//wYAEwD9/+v/6//t//L/9v8BAAEA9f/6//n/8f/4//z/+//q/+f/4v/Q/+f/+//9//3/+f8DAAkA///2//3/DQAfACQADwAEAAkABAAAAP///v8EABAAGAAYABQAFAAIAAAAAAAHABIADgARABgAGgAPAP//BQALAAoABQD7/wAABgAHAAkAEQAqADQANwA9ADIALgAoABUADAAKAAIAAAAUABAA/f/6//z/+//x/+z/4f/f/+v/5//p/+j/8f/2/93/1//j/+z/9//9/wUAFQAXAAgAAwATACAAHAATAAgAAQD///z/9//4/wEAAAD///z/8v/r/+n/5//3/wMA9P/v//X///8JAAoACAAAAPX/6//3/wgAAgD8//b/7P/t//r/8v/y/wAA9f/r/+P/4//l/97/5v/u/+n/5f/p/+P/3//d/9v/7f/3//3/DAAQAAsADgAAAPH/BgANAAAA+P/w//P/9f/6//z/+P/7//z//P/6////CQD8//T/CgAcACAAJAAvAC8AKQAiABQADgAUACAAKQAwACoAIAAtACUAHAAZAA8AGwAkACMAHwATAA0AAQDy//L/9//9/wUABwAIAAsAEwAWAAQA8v/n/+v/5//n//b/8//1//b/8P/6/wAABAAQAAMA7v/1//b/8//2//f/+v/s/+L/3//V/9P/1P/c/+D/6f/2//D/6f/u/+n/5v/4/wYAAwADAAsAAQDv//H/8f/m/+r/8v/5//v//f8FAAUAAgALABEABgD0/+v/6//q//D/AwAHAAYADAARABMACwAHAP7/9/8MABQADQAUABwAHwAaAAsA///w/+z/9//5//j/AAAHAAAA+//x/+f/8v/0//f//v8AAAwADQAQAA0ABAD+//r/EQAXAAoADAAcAB4AFgATAAIA//8DAAgADQD9//7/BgAAAP//AgAAAPz/BQAKAAYADQAdACAAGQAMAAEABwATAB4AIQASAAoAFQAZAAYAAAD9/+f/5//+/wQA/v/4//H/6v/m/+P/5P/m/+H/5v/p/+z//f8AAPr/6P/e/9f/1v/x/+3/4//u//3/DAAFAPb/7P/v//H/8/8EAAUA+P/4/wAA/P/6//7/BgAVABoAHAAcABsAHAAYAAcA+v/5//T/8v/5////AAAKAAcA9f/5/wIAAAACAAMAAADz//L/AAAIAAkADQARAAwABAAQAB4AGwAnAC8AKwAkABsAGwAKAPz/BgAMAA0ADwAXABwAEgAMAAYA/P/5//z/AAAHAAkABAD3/+f/5//u//j//f/y/+n/7f/4//v/9f/y/+n/4//k/+P/9P8CAPz/9P/r//P/CQAIAP3/8//d/9n/7P/v/+L/3P/m/+v/6P/y/wUAEQANAA0AEwAJAAIAAwAAAAQACgAPABgAFAANAAYAAAD+/wgAFAAIAPr/8P/o/+f/6P/v//3/AwALAB4AIwAgAB0AHwAkABsAGgAcABcAEwATABUADwAMAAAA6v/n/+T/4P/f/8//w//J/9D/2f/n//n/BwAJAAcAAwAAAPr/5//h/+j/7/8AAAMA9P/8/wcACgAXACMAIAAPAA8AEgAOABoAIwAiAB0AHAAmACMAHQAfABoAFQAMAAYADQAHAPf/7v/m/+r/+f8AAAAA//8AAAgAFAATABUAIwAeABYAHAAjACwAKAAYAAsACQANAAMA9f/y//7/CQAIAAAA8v/o/+z/9f/9/wUABAD1//3/CgD6/+v/4v/f/+X/5v/0//T/6f/w/+f/1//S/8L/t/+y/67/vf/Z//D/7//g/+L/5//s//H/8v/z/+v/7v8AABEAEQABAAgAGQAXABAABQABAAUAEQAYAAcABgAJAP/////+//z//f/2/+//9P/+//3///8DAPT/8/8EAAUABgAMAAoAFQAlABcABgAKAAkADwAcABMAEAAeABgADwAQAAgABQARAB4AHgAgACIAHgAfAB0AFAAMAAwAFwAdACYANQA7AEIAQgBDAEYANQAiAAoA+//4/+//8P/3//7/+P/l/+D/1//L/9X/3f/m//n/AAD5//b//P8EAAcAAwD//wIAEwAWAB4ALAAgAA4AAAD5//7/AgACAAYACQD9/wEADgAEAPr/7//y/wEADAAMAPX/6v/s/+z/7v/e/9L/1P/O/8X/zv/W/9j/3//h/+L/1//K/8//2P/a/9r/0v/T/9r/1f/a/+r/7v/3/wAA+f/4//b//P8JAA8AFgAGAPz///8AAAUAAgAHAA0AGQAvAC4AIwAeABAACgAOABIAJQAqACAAFgATABQADgAEAPj/+v8GAAUABAALAAkAGAArACcAHgARAAUA+P8EABcAEQATACEAKQApAC4AMQA1AEMARgA3ADUAKwAgACQAGwAWAAoA/v/y/+//9v/q/+j/7v/s/+z/5P/a/+f/6//g/+f/7//v/+v/7f/v/+//8//3//z/AAAGAAcACQAaAB8ADgABAPj//f/+//j/8//m//f/+P/t//7/9v/0//z/9//6//f/8//0//r/BgAGAPv/9P/x//L/9f/0/+7/5//f/9//8P/9/wEABAD9//b/9v/y/+//5f/e/9n/z//W/8v/v//M/8//1//i/+L/6v/y//X//P8DAA4AFQATABAADwAYABcACQANAAsA/P8DABEAEwAgAB8ACQACAAgABAD6/+3/5f/p//D/9//8//P/9/8FAAUAAwD9//T/+v8AAAsAHAAfABwAEgANAAQA/f8OABkAHgAjACIAHQASABUAEAAFABMAHAARAA0ABQD+/wEA/f/7//f/7v/o//H/+//y//X/9//9/wYABwANAAcA9v/x/+z/8P/1/+n/9f8BAAAAAAD5//T/8v/0//j/+v/8/wUACgAGAAkADQAIAAYABAD2//H/6//r//X/9P8AABIADwAEAPH/4v/j/+j/9v/1//H//v8CAAAA+f/2//f//v8NAAoACQAWAA4A/P/9//T/+P8HAAMAAwAEAPP/3P/Z/83/yv/e/+v/7P/q/+r/3v/a/9v/2f/X/+L/7//x/wcADgAGAAkADAANABkAKwAnACYAKgAaABMAGgAWABMAAwD//w0AFQAYABQAGwAnACoAIgAeABoAGAAgAAcAAAANAAUACgAOAAwACwAFAAUA///6/wMADQAVABsAHgAOAAoABwDu/+b/3//W/9r/3//h//D/AwACAAIAAAACAAMA+f/l/9P/1//T/9b/5//m/97/3v/g/+D/2v/e/+r/5v/k/9f/1f/p/+f/4f/o/+r/5v/m/+f/7P/w//D/7f/n/+L/5v/v/+j/4f/l//L/AAABAP//9//0//v/AQAAAAcAHwAaABQAGQAHAAAACgAVABAAAAD9/wYAEQAMABQAHwAoADYAMQAtADEANAA3ADMAMgA0ACkAIAAWABEAFwAYABgAHgAeABUAGgAdABEADQAYACUAIwAVAAUACgAGAPn/AQD///n/AAACAAgADAAFAAAA9P/e/9n/4P/h/+n/7v/w//b/+f8JAA4A+v/v/+n/5v/y//n/8f/5////AQD9//b/AQD6/+3/5P/Q/8//4v/m/+L/5f/l/+7/8P/n/93/zf+5/7v/y/++/7//1//k/9//0//J/8T/zP/R/+D/5v/p/wAABgAEAA0ADwAIAAAAAQAEAPv/9f/5/wEA//8IABsAKgBBAEYARwBDADsAOAAjABIABQD6//b///////j/BAAEAAQAEAARACgAPgA4AC8ALQA1ADYALgAtACgAHgAXAAUA+P8DAAgABQAHAAIABwANAAYABAAJABYAEwALAB0AFAAHAAoAAQAPABIACgACAO3/8v/3/+z/8P/6/wAABgAMAAoACQAEAAcACAD6//n/8//g/9r/2P/Z/+H/5v/h/+b/7P/u//7/AgAAAPD/0//c/+7//v8IAPn/9v8FABQAFQADAPL/4f/h/+z/9v/1/+r/7v/3/wAAAwAAAAIA+f/z//X/+P////j/+P/8//r/+//4/+v/5v/z/+3/3f/c/9v/3f/s//v/+P/1////AwABAAYACgAAAP3/CAAJAAMA+f/u/+f/5P/q/+f/2f/f//H/CgASAAcAFQAeABcAEgAIAAYA///3//T/7P/0//n/8f/5/xAAHgAbABUAGgAdABEADQANAAgACgAFAAEACwARABgAHQATABAAFwASAAgABAADAAYACwAYACgALQAxACsAHQAnACwAJwAdAA8ADgAPABQACAD2//j/9P/6/wcAEgAfABwADwAKABkAHgAXABIACgAVAAoA+P/u/9f/3P/w/wIADAAGAPr/6P/g/+b/+f/+/wAADwAYABQADAANAAsABAACAPz/4v/f//f/9v/+/w8ACwD3/+L/5v/l/+D/1v/N/9H/1P/a/9D/xP/H/8z/z//M/8f/xP/K/9X/4P/z//T/8f/1//H/8P/2//7//v/6//7/BgAJAAUAAQD9/wkAEAABAAEAAAANAB0AGwAhACQAGQAHAAgACgD8//b/8//0//f/9v/w/+r/8v/z//v/FAAkAC4AKQAkACYAJgAhAAcA/P/9//3/CAASABcAHAAkACUAHgAgABkAGAAYAB0AKgAdABIACwASACEAJAArACIAEgARABkAHAAVAA4AAAADABEAFwATAA8ADQALAAgA/P8BAA0AEQAZABcACQAAAPb/4f/Z/+f/9f/5//b/8f/y//r/9v/z//f/8v/v//T/6v/d/+b/8P/7/wUAAAD6//n/9v/u//D/+//9//3/9v/x//b/9P/t//H/9P/6/wsABQD0/+r/5P/l/+P/6//0//D/9f/4//z/AwD///7////8/wAABAADAPj/8P/0//X/9v/z/+n/5//w////BAAFABAABwAAAAAA8//z//X/+v8AAAEADQAMAA8AHQAjACUAHgALAPT/6f/j/+P/5f/p//j/AwANAA8AGAAhABgAEQALAAgABwD+//z/AwAEAAgADwAcACUAGQAUABgAFQAUABIACwADAAcABQAAAAIADAAUABEAEwAbAB4AIQAmACYAHAAIAP3/AAAIABEADQD///X/8f/z//j//v8AAAAAAQD4/+v/4//Y/9f/5P/u//X/+f/3/+z/3v/X/9H/1//b/9b/1P/T/9f/3P/f/9L/xf/d//P/6P/s////BAAEAAQAAwD9//r/8f/u//r//v8BAPv/9f/8/wcADgAOABkAGwAkAC0AIgAbABoAHAAfACEADwAAAAEACQAUAAoACAAWABkACgAAAAsACwAMABEADwATABMACgACAAUAFAATAAgAAwADAAwADAADAAgAAQDq/+z/+v/2//n//f/9//7/+v////3//f8CAAMACgAHAA4AEQACAAIACgALAP3//f8HAPv/+P8BAPr/8//0/+7/9v/1/+7/9f/u//H/9P/w//P/7P/u/+n/2//g/+P/6P/p/9r/2//t//f//v8CAP3/+/////v//f/+//7//v/8/w4AHgAbABAADAALAAEABwAPAA4ACgAKABUAGQAcABsAFAAPAAkAAQD5//z//P/5//z/BAARABAACAAGABUAJQAeAA8AAQD3/+v/3f/Z/9r/4P/s//L///8PAAwA//8AAAsACgAIAAwAEQAXABYAFgAQAAMA+//y/+z/6P/t/+7/7//6/wAABAADAAIAAAD8//j/8f/x//3/9//x/wQACgAQACcANwA/AD0APgAzABwADwAGAPz/9P/p/+j/9P/2//3/BAAAAP3/AgAGAAEA/f/1/+z/5f/c/9z/2//W/97/7f/5/wAA+//s/+j/6f/u/+z/5v/s//v//v8CABAAFAAMAP7//P/+//T/6v/h/+T/6//x//3/BgAOABAAEwAXABEACwD7/9r/2P/t/+7/8f/1//3/CgAOABAADQAFAAQAAADu/+f/6//e/9n/2//b/97/5//7/wgADAAaACEAHAAQAP///////wIACgAHABMAIAAjACMAGgAYAA8AAQAAAAMABAAJAAwAFAAiACAAIAArACwAGAAFAAIABQAGAAsADwAPABYAFQANABMAGwAXABgAIgAfABUABgD2//X/9f/v//P/+v/5/wEACAD//woAEgACAAAA+v/z//X/8v/0//P/8/8BAP7/6v/y/////P8CAP3/5//c/9n/2v/V/9j/3f/X/+H/3//b/+v/9f/z/+b/3//g/9z/4//t/+//7v/1//z/8//2//3/DAAcAA0ABQAGAAAAAAAGAAUA/P8AAAgAAAD+/wAAAQAKABAAFgAZAB0AIAAVAA8AEAAOABUAEQAGABQAGgATABkADAD7//z//P/7//z/CAAHAAAAAQD4//H/9f/5//b//v8PAA0ACgAFAAAABAD8/+j/4//q//X/9v/1//3/AAD5/+v/7v/0//b//v/4////CwAFAPr///8KAPz/8f/z//z//v/1/wkAHAAbACIAJwAnACoAIQAQAAkABwATAB0ADwAIABoAGQAUACAAGwApADIAGgAGAAAABAAKABMAEwANAPL/3f/z//3/9P/w/+j/3f/U/8v/0//k/+b/4v/W/9b/6v8AAP7/7v/z//D/8P/x/+//8v/u/+r/8P/+//f/9P/0/+3/7//1/wQADAAJAAkAAQD6////AAAAAPv/8//6//j/+//7//D/+/8IAAwADgAfAB0ADQAYABEAAAD2//3/CAD7//T/9v8EAB4AFgAJAB0ALQAnABEAAwAFAAMA/f/t/+z/8f/v//D/7//7/////P8AAAAABAAAAPr/+f8CAAQA8f/s//P/+f8DAAEA7v/k/wEAGwDt/9f//v/9//z/FgAtAE4AaQBeADMADwD1/9//3f/X/8f/yP/S/9r/4f/f/+X/9P8JABwAHwAgACcAMAAwACMAHAAhACMAGwAUAAoA/f/5//3/+P/0//b/6f/i/+b/4//k//X/CAAPABYAGQAUAA4AAAD1/wMAEQADAPr/+//+//r/6P/o//X/7f/w/+z/1v/i/9z/zf/p//n/AwD+//D/AQAZACQAHAAPABEAGgASAAkAGwAuACUAGQAYABUAGwAcABgAEQADAPX/3//f/+b/3v/d/+3/8P/k//D/9f/0//j/9P/7//7//f/z/9//4//y/+v/8v8BAPr/8v/m/+j/AAAOAAUA/v8EAPv/8f/i/93/9f8KAB4AEgD//wQAAwDs/+v/CgAcABsAEgARABcAFwAWABsALAA3ADkAKAAWAAsABQANAA8AFAAZABcADgAPABMACQALAP3/+P/6/+X/5v/v////EAAFAOf/3f/Y/9n/5P/r/wAA/f/4/wUABgABAPr/9//z/+z/6v/v/+n/5f/z//f///////r/AAALAAsAAwAYACMAFgALAP3///8LAAcAEwAbAAgAAwD2//D/7//a/9//5//q/+3/5v/d//D/CAAKAA0ADgAUABkAFQAMAAMABAD+////AwAdADQAHAAAAOr/7P/4/wUADAASAB8ACADx/97/z//a//D//v8GABIAAgDo/9L/1/8CACoASwBLADgAKwAnABcA+f8LACsAHgAAAOP/xf/P/+v//P8aAC8AMAAjABYACgDm/9D/3f/l/+P/3f/M/8f/zP/P/9j/5v8BAAcABgARABcALAA2ACsAEAD7//7/+//4/wQADwAeAB0A/f/u/+L/yv/Q/9f/2P/q/+3/3f/d/+3/+f/6//X/BgAbABkAIAAuADMAOwAxACMAJgAhABsADgD///v//v/+//b/7//Z/9T/0//D/9X/3v/a/9//3//a/9v/5//v/wAAGgA9AEwASQBFADAAJAATAP3/6//q/+j/2v/i/9//3P/b/9r/8P/5////9f/y/wQAAAD6//3/BAAZACsANgBFAEIAPwBFADQAJQA7AEUAHwD9/+D/vP+9/8n/z//i//D/BAAFAPv/FQAYABYALAAbABcAQQBcAEgAMgAsABUAAQDy/+7/+//7//D/0/+5/73/s/+g/7D/uv/K/9r/yv/J/9T/8v8QABsAOgBTAEsAQwA6ACMAGQAXAAcA+//8//z/7v/e/8//zP/S/+b/AwAkAFwAbABLACAA7f/M/9b/7v/0/xIAFQDs/8X/h/9g/2//u/8+AKAAqACCAD8A6f+//8P/+f9CAFUANwDz/6b/g/+S/7H/2v8IAB8AKAANAMH/hP9q/2T/e/+U/6T/rf+4/9P/z//L/xwAggDEAPYA9QDVAJ8AZgBZACgA3//B/6j/jP+H/4z/lv/b/0EAewCEAIUAZwAWAOP/0v+g/5H/s//E/8D/qv+x/wQAaAC+AAMBHAEeAfkAqgA9AOr/2P/Y/+v/BQD6//P/1P+R/2r/cf+X/7T/2v8LABUAAAD2//X/8v+6/2T/Vv+T/6b/qv/0/zsAoQD7ACIBSgE0AfAAowBWAAIAn/9q/0L/7v6//r/+6/5U/7H/+f8XAC8ASABNAGQAcwBfAFEAXABnAGgAWgBfAGQAQQD5/+b/6//L/wAAKQADAJ//Qf86/xL/1/4I/zz/3P63/uH++P4m/77/pABJAfIBjQK4AlICmAHNANP/Ef9s/uH9KP6h/iz/rP8QAJ0AMwHkAWgCKwL+AOn/jv/O/oP9f/0h/kr+Qv8FATECSwLfAVUCRgIFABj+ov19/kwAuQJBBR4FVgMcAVX+ff0d/gb/EgCIAcsCjf8g/Fr7Pfpz+yP/UwQCACj3cPSS8DXxuvV8+7sDGAoEDyYRWRAQDkAKXAY4A4sA3/39+8X7KPyt/Db93f2A/uT+TP+Y/yX/wf2x/Cv8Vvwq/Zj+jQDTAWoDiQQ0BJwDrAKqATsBKgEyAYUBmAF0AQIBDwAS/xT+GP1q/Ff8V/yr/H39Xf4d/8v/nADxAN8AEQFnAeMAxv/V/hP+Ev5X/hX/QQD1AIEB+wFhAncCKgKYAQMBowDr/4X/k/8Z/7T+m/6x/pv+c/4f/5L/zv80AG4ApAByAHwAuwDFAN4AvgCAAHgAWADz/87/xP/B/9v/8v8ZAHAA2gANASkB9gCuAD8Al/9E/9/+xf5F/87/JgBOAAAAeP9l/yr/7/4V/xT/Sf+L/6P/qP+R/6//1v9EALMAlwCuAIEAIwAXANL/yf/x/ycApgDyAPIA1AB9ADsAmQC6AE0ARwBUAO//of+F/23/Uf9t/8z/xP+o/9//7P/t/y8AKQDB/3b/D/+n/qz+JP+5/y4AnADRAOkAJgFZATsBGQHbAF8AJAApABsA1f+z/6j/o//o/0gAZQAcAPj/kP8T/yf/9f72/kr/SP+J/93/7P/N/9//VACpAOYA6ACbAEwAZwCXAEkALAAGAOb/+/8YAHEAjACRAGYACADW/6v/l/9t/y3/NP9v/3H/TP82/yj/Rv+e/+P/zv+5/8D/2P9EAJoAXgBEAHQAkgANAU4BBgHeAJQASQBDABMA1v+p/4D/cv+D/5H/cf9v/4r/oP+5//f/EADI/63/jv+C/5n/m//O/wYAOwBSAGEAfwB4AJEA7QADAdwAzwCCAAIAjf9r/6j/4P8GAPX/8v8hAC4ATwA8ANL/pf+S/4L/j/+Q/6T/6f8WABAAAwDk/9b/4v/1/wkAEAAtADYAUQCEAJMAjgCdAL8AZQAXAAgA1v/H/73/wP+0/7T/3f/U/8z/xv+x/9f/yP+I/4D/ef+G/5n/lf+I/5X/4P8sAEYAWQCSAK8AkAChAMUAdABOAEsA/P/l/9b/vf+0/7P/xP/P//n/DgD7/wIA6//D/8n/tv+z/6//x/8jACgADwAsADcAMAAwACYAHQA7AGQAfgB5ADUAHgA1AB0ABADl/8H/t/+g/4r/l/+w/8b/2//d/+P/6f/m/w4AMwBDADQAOgBcACsA9v/l//b/AAAPADoANgBSAFIAGAAKAA8AAwD5//b/xv+g/6//wv/i//3/BQAMADIARAAbABEABgD2/+b/2P/b/8f/zv+z/5H/mP/M/x4AMgA8ADYAHwAfACUAEQDw/9//3//2/+//+f8BAOT/+v/4//H/GAAcACYALAAPAOf/2//c/87/5v/m/+r/DgAYACQAMAAdAAoADgAPAAQA+//6//v//f/+/+//8v/+//L/4v/E/77/0v/N/8n/wv/O/8X/sv/E/83/3//i/+//8P/X/+H/5f/x/wcA+P8CADQASQBSAEwAMAA/AFoATAAzAB0AFgACAP3/FAApADMAGwAUAA4A+P/y//3/6v/L/+r/DQAdABkA///l/+T/AgAcAEQAXgBTAFUAVgBEAC4ALwA1ABsAAgDf/8n/5P8KABUAEgAVABsAKwAJAOP/5P/X/9X/7v/i/7r/y//c/9b/4v/4//3/9////+7/3v/q/9r/1f/F/3//YP9o/3b/kP+a/53/u//t/wAABAAIAAsACAD8/+b/z//q/x8AJAAUAAYAAAAkAFEASgAoABYAAwARABwAAgADAAAA7v/d/9n/1v/u/yUAPgBKAEIALwAsAB4A9v/n/xAALQA9AEEANQBGAEcANQAnACQALQA0AD4ANQAoABkAIAAeAPX/6f/r/wEAEwD+/+b/7f/0/+j/AgAMAAUAIgAPAO3/+//2/9//5P/p/97/4v/o//P/9//b/8b/wv/S/+L/5f/b/9D/1v/e/9v/2//p/+z/2P/H/9T/9f8SACMAGgAKAA0AHQAvACQACgAQAAwAEAArACgAGgAdACwAKQAoADYAMgBCAEUAKgBEAGEAWABEABEA6P/4/xcALQA9ADkALwA5AEgAQAA4ADAAIAAVAPP/5f/+/xsAKgANAPD/9P8IABsADwDn/8P/qv+r/8D/tv+d/57/pf+e/5v/mv+H/4P/iP9w/2//j/+r/6r/iv97/4f/of+z/7L/uf+8/7//2P/e/93/+P/3/9r/2//Y/9H/6/8KACAALAA0AEcAXwBrAGIAXgBcAFsAZABaAFMAYgBiAEMAMABDAEkAQgBDADEAMQBKAFIAVwBWAEQARwBnAHgAZQBRAD8AOgBKAEwAPgBAAEoAMgAcABcAGgAxACEA6f/J/8H/s/+y/7n/r/+1/8n/1//T/8P/w/+9/7//yP/C/7z/s/+w/6j/m/+X/6H/tf+5/8z/4f/j//j/+f/V/8P/vP+r/7f/xf/G/9r/6P/v//3/AgAAAP3/+f/8/wYADwAKAP7/AQADAAcAEAAaACUALwA9ADQALQA7AEUAVwBnAFcAQwBGADYAIAAbABoAIQAqAC8ALwAwACwAHgAaAB4AHAAhACUAIAAbABIA///z//H/6v/j/+f//f8MAAoA///3//n/+P/v/+//6P/T/8z/tv+u/8L/x//H/8n/0f/f//3/BgD2/+7/3f/g//f/AADr/9j/3f/q/wYAHwAbACEAMgAhABUAHAAYABwAHAAYAB8AJQAnACAAIAAnACUAKgA1AEAAUABJACoAFgAZABMAAQD6/+z/5P/0/wIAGQAmABAAEwAhABoADgABAPn/+v8AAOX/5f/7/+v/4f/c/9H/0f/b/+H/8f8DAP7/8//0//z/9//l/8//x//d/+L/wv+w/6v/pv+s/6f/mv+n/83/6P/m/+H/2f/J/83/yv+5/8b/1f/l/wAAFQAmADUAOgA8AEEALAAhAC4ALQAtAD0ALwAWABsAHgA4AFcAVABTAGIAfACAAHcAbgBUADsAMQA2AEQAQgAxACkAMAAyACIABQDz/wEADAD7/+L/0//P/8X/wP+6/6z/pP+k/7L/vf+2/63/q/+u/77/yf/J/8T/0f/X/7z/t/+1/6f/rf+9/77/xP/U/87/yP/A/7r/yf/V/+j/AQAHAAIAGAAzACQABQD6////DAAfACsAKAAzAEoATABSAGgAcABkAFkAVQBTAF8AWwA9ACYAJwAxADEALQAuADoARgBHAFMAWAA/ADwANgAZAAkAAwARABkAGQAMAPX/9P/v/+b/6f/7//r/5P/a/8T/q/+r/7D/pv+O/4b/iv+L/5r/oP+e/6L/pf+k/57/lv+R/6T/w//U/9D/zf/e/+j/4v/g/9//5P/v/+v/8f8PADMAQgAvABMACAAYABkAFAANAAkAGwAmADMAPgA7ADoARABZAFkASgBJAFMAVABGADQAGAADAAsAEAARABEAGwAvADYAPgA8ADIANgA4ACoAHwAlAB8ACwD3/+j/7P8FABwAFwAMABkAKwA2ADUAHQAGAAMABAD4//3/BgD5/wcAAADo//z/AQD+//r/8P/8//X/0f+j/4r/m/+v/7r/xv/H/8f/1v/m/+z/+f/2/+z///8UAB0AGgAYAB0AFgAKAPz/+f8JABEAEgAKAPb/8v///w0AFQAUABgAFQD9/+L/3v/j/+z/8P/i/9z/7P///wgA/f/n/9r/1//a/9f/1f/h//L///8AAAEADQAXABEADgAcACIAIwAtACAA///w//b/+f/6/wcACAD7//f/9f/5/wAACQAOAAIADAAiACUAMABEAEEAMQAjABsAKQAxACIADQDu/+f/BgAQAAYAEAAjABwACwALAAAAAgAWABkAIQAhABUACgAQADMARQA8ACoAGAAXABEACAASABYABwD6/+//3//a/+L/5P/l/+r/7//u/+7//f/4/+n/6//n/+X/8P/w/+H/yf+z/6v/tP/F/8f/vP+w/7P/yP/X/+f/+/8QACcAGQD5//H/8f/m/9j/0f/W/+n/BAAfAB4AAwD8/wYAEAAWAA0AAwAKABYAGQARAAsACQD+//7/BgD+//X/8P/h/9P/0//V/87/w/+2/7f/0P/i/+f/5//p//7/FwAmACoAKAAnACIAIQApACwAJgAmACgAJAA0AEcAPAApABgAEQAcAB4AIgAwAC0AGQACAAMACAD+/wkAEQALABkAGwANAAMABQANAP7/8P///x4AKQAeAB4AGwAaABsACgD+/wAA///6/wYABADm/9z/6f8HABsADQAEAAoAEAAIAO//2f/S/+D/5v/a/9//6P/v////+//y/+//5P/p//3//f/p/+L/4P/U/9f/4//y/wAAAAAIABEAGwAXAP3/7P/f//D/BQDj/8H/wv/L/8r/1P/q/+b/5v///woAAgD5//7/CAAPABAABwD2/+7/+f/9////DAAUAA8AAgD8//3/AwARACMANgAuACEALgAuABcACgAQACgALgAnADQANQApABgA+v/n//L/CwASAAoACgACAAAAAADx/9v/y//e//X/AAAZADUAOAApACMADADo//D/+f/x//T/AwATAAYA6f/U/8b/xv/Z//j/AwD+//z/8P/k/9n/0P/S/8v/xf/K/8f/zP/m/wUABAD1/wwADQDy/+//7P/3/wgABwAHAAgACgAMAAwABQD6//v/7//e/+b/9/8AAP//AQAZADIAKwAdACQAIwAcABcAAQDq/+z//f8IABgAKwAvAC0AMgAvACUAIQAPAPr/9f/6/wIA9v/W/8r/1f/o/wEACwD6//P//f/6//r/+//7//7/+v/w/+j/6v/u//b/AQAGABAAGgAkADEAMQAdAAoACwAJAAAA+f/l/+X//P8FAA0AAgDx//3/CAAQAAwA+/8DAAUA9//7/wUAFgAlACgALgA6ADYAKAAlABUA///3//j/+//3/wkAIwAPAPX/5f/u//v/5f/L/77/x//f//L/BwDw/8H/uP+3/8j/6P/y/+n/3f/j/+j/5v/t//T//P/4/+n/5//i/+v/9v/v//X/9P/v//z/CAARABAACAD8/+X/2//m//X/9f/v/+7/8f8GACIAMgA4ADUAMQAsAB4ADAAMABsAFQAOABIAAgD7/wAAAwATABoAFQAXAAoA/f8AAAgAAADk/9T/2//r//X/+f8CAAMA/P/9/xAAEADy//L/BgAPABwAFAAIABsAMgA7ADgALwAfABgAIAAYAAwAFAAaABEAAgD3//j/BAARAB8AKAAfAAsA9f/2/xEAGwAYABQAAADm/97/8/8AAAYADAAFAAsADAD9//r/+P/r/+H/5f/x//3//v/n/87/0//u/xEAGwAHAO3/zv+9/7L/sv/C/9D/5v/s/+L/5f/i/+b/9P/w/+r/8v///wQACAAJAAQAAgAAAAQAEwAhACIAIAAfABsAFQAJAPb//P8HAPX/3f/V/93/7//5//D/4v/1/w0ADAAKAA0AEgAkADAAKAAhABcABgAGAAQABgANAAIA+f/7//7/CgAbABoACgAAAP//9P/q//b/+v/q/+v//v8PABAABAD//wEABQAHAA4AEgAFAPr/7v/p/+v/4v/c/97/4//f/9//4//Z/9r/5//6//n/7//+/wYAAgAEAAcADAAIAAYACwAKABQAHQASABIAFgAVAAEA8//6//b/+f8CAAAA+P/6/wgAAwD9/wwAGgAVABMAIgA3AD0AMwA0ADoAOAAwAC4ANQAtABoADgAJAAAA/v8KABIAFAAQAAwABAD4//X/7f/h/+D/4f/e/9L/0P/h//T/AQD6/+b/3P/e/+T/3//i/+X/6v/u/+z/7//o/+D/3v/s//7/CwAkABkAAQD///v/9f/x/+n/6f/+/wAA8P/q/+X/5f/m/93/1//a/9X/y//I/9f/6P/x//7/BwAAAO7/6//2/woAEAACAAoABwAFABYAGAAlACgAHwAbAA4AEQAUAA0AHwA6ADoAKgAsADUALAAvADcAMgAvACUAIgAeAAAA8//5//T///8QABAAAwD0//L/8v/6/wAA+/////n/7f/g/+f/9P/1//v//v8XABwAAwAHABEAHAAcABMABQD2////CAADAPL/7f/0//T/8//x//v/DAD9/+n/5//d/9n/2v/Y/9P/2f/v//D/7v/z/+r/3f/e/+f/6P/y//r/8f/s//T/BwASACAALgAwAC8AHQANABIAFAAPABkAKwAxACgAGwATABsAHgARAAQABgAWAA0A+//t/+n/+v/8/+//6//v/+n/5//5/woAEAD3/9n/2P/q//r/AwARAA0ACAD9/+f/5//p/+7//P/9/wAACgD6/+7/AAAHAAQA+P/u/+n/6//r/93/3f/p/+f/1f/D/77/1f8CAA4A9v/f/9v/6//u/+z/5v/O/9X/8/8KACsALwAmACoAHgAgACYAFQANABUAHAAdAB8AIwAZAAsAAAAAACEAKgAlAD4ATwBWAEoAPAA8ACMABQD1/+7/+f///wgAGAAXABcAFwADAOr/2f/f/+v/7v/3/wEAAADw/+3/+P8LACIAJwAkABwACgAAAPv/8f/5/wgADQAPAAUA9//3/wEA/v/3//f/4f/j/wAACgARAA8AAwD3/+z/5f/i/+P/4f/l//H/9P/r/9//3P/H/7b/x//Z/+X/4//p//z/9P/s/+L/3v/0/wQAFgAeABkAFwAYACEAMAA0ACcAIQAXAAUABAAHAAoAEAAWAB4AGQAMAAoAGAAUAPX/7f/0//n/+v/4//b/6P/t//7/+/8DABgAHwAbABgAEAAMABUABAD8/wAA6P/W/9b/3f/n//P/BAAJAPj/4f/e/+7/+P/4/+7/5P/s/xMAPQAwAAUA7f/s//P/8v/3/wIABwAKAAcA/f/3//P/9f/4/+P/0f/Y/9v/6P/+/wEABQAGAAYAFwAnADAANAApACUAKQAnADEAMQAnADcANgAeABEAAwD3//3/DwAbABQABQD8/wEACgD8/+L/3f/o/+L/2f/b/9r/5//+/w4ADgAJAAkA+//v//v/EQATAO3/zv/U/9//4v/p/wAABQD//wUAAQACAA0A///1/wIACwAgADUAMwAtACAAFAAAAO//BAAPAA4AFwAbAB0AFQAcABQA7//h/9D/z//v//f//f8GAAkABwD5//L/5f/h//X/+v/8/wcAFAAmACoAEwAAAPn/8f/5/wYABAAEAP7/7//5/wAA9v/w//P/BwAQAAAAAgAEAPv/+P/y/+f/4P/m//D/8//z//f/DAAYAAkAAQAGAB4ANwAvABYA7//K/8f/yf/T/+b/5P/c/9T/zP/S/9L/0v/b/+L/5P/j//X/AwACABUAIQATAAAA9f/o/+v/BwAHAAAACwARACAAJgAfABYA/P/w//L/8P/u//H/BAAVABoAIgAqAC4AJwAjADEAPwBEAEYANAAgACIAMQA7ADQAMQA3ADYAKQATAB8ALQAQAAQADQAWACAAJAAhAB0ALwA6ACQADAACAAwAFwAaAB8AEQD0/+r/8/////n/2P/M/9z/3P/R/8T/uv/B/8z/0//e/+n/7f/l/9f/0P/n//f/5v/T/87/4f/0/+v/3f/b/9T/0//g/+P/6v/0//n/BQD6/9T/wP/B/9X/5//3/wAA8P/e/93/5v/u/+z/5P/c/97/8f8FAAsAAwABAAkA+v/h/+v/+P/+/wUABQAQABYAFgAfABsAGAAiABcAAAAAAA8AFgARAAsAEQAYACYAMQAqAC4ALgAxAD0AMAAqADgAQwBLAEEAKgAdACAAIAAdABIAAAAIAAYA9P8AAA4ABwAHAAcA8P/c/+v//P/2/+T/2P/S/8//2v/o/+3/7v/5/wYAAADs/+X/6P/l/+z/+f/x/+j/4//n//n////9//3//P/5//L/9f8AAA0AEQAEAP/////6/wEADgAcAC4AKwAUAAIA7//u/wMAAwDz/+n/7v8FABYABwD0//n/BgAPABUAEgAFAPv/BgATAAcA7//Z/+D/8//x//v/FgAkACgAJQAPAPz//P8AAAAA8v/n//D/7v/k/+f/4//Y/+H/8P/u/+f/6//0/wMAAADv/+3/5//X/93/+f8TABYACQAEAA0AGAANAO//5/8AABEADwAJAAwAJAA2ACoAEQD3/+r/5v/r//z/AQACAAEAAwAQABcAHgAPAPr/AQABAAwAGQALAA4AHQAgABYABADw/+z/BAAYABgACADp/97/5v/y/wAACwAMAAYA/P/x//r/AADu/+L/5//w/wIAHwAnAB0AHwANAP3/CgABAPn/9//v/wEADAAHAAAA8f/t//P/9P/u/+3/8//v//H/8//n/+H/4f/r//D/6P/e/9X/y//E/8//4f/Z/9n/9P8CABUAIgARAAUA/f/3/wYAFQAWABIAIAA1AC4AKgAoAB0ALAAwACUAIwAaACMALwAaAAEAAQAAAOD/0v/g//P/GAArAAUA5P/p//H/+v/9//f/+P/5/wAACwAEAP3//v8BAP//8v/9/wIABQAXABAABAAAAAAABAADABEADgAFAA4ADgD+//D/9P/2//f/+f///w4AEQALAA8ADwAKAAEA+v/u/+b/9P/2/wQAGQABAPn/+//x//X/7P/m/+7/9v/6//f/9P8DABIABgD3/+b/4v/w//D//P8NAAgABwAKAAAABAAIAAQAAAD2//f/8//3/wgACwAIAAQA/f/3//T/7//0//v/9v/z//j/9P/m/+b/8v8CAA0ACAACABAAKQAiABEABQD6//n/9v/4/wkAJwAyADgARwA3ACUAFAAIAA4A/P/l/+r/8////wwACgAHAP3/6P/i/+v/8P/1/wQAEgAWAAsABQAWABkADAD5/+3/6//e/9j/3v/l//H//f/x/+H/4f/m/+b/4v/x////+//4//r/9//0//3/9v/v//v/DAAfACUAHgAKAPv/9v/s/9z/1v/W/9T/6v8AAAAA+f/v/+f/5v/n/+b/5//o//D/+v8AAAQADgAeABkAFgATAAMAAAAQABMAAAABAP7/7f/u//n/AgD2//P//v////z/AAAPABcAHQAjABwADAAFABQAIAAjACUAEgAEABMAEQAKAA8ACgAJAAgAAwD4/wAAGAALAAEACAALABwAJQAfAC4APAAvAB0ADAAGABEALwA2ACMAHAAZABAA6//Z/+//6//q/+n/3//i/+P/8v/2/+j/3P/E/8L/4f/7/wwAAQDs/9v/uv+d/4n/kf+s/7b/xP/T/+b/+//1/+X/6//x//D//f8MABoAIwAiAAkA6//c/+D/8f/y//H/6//g/+T/2//W/9z/5v/3/wIAEwAkADAAPwBCADQAIgAaAA8AAgAUACgAEgAAAPX/4//h/+//+P8DACEANgAwACIAFwALAAgADwAVABwAHwAlACgAIwAiABsAGgAVAAYAAQARACIAJQAkACAAGQAUAB8AMgBBAEgAMAAVAA0ACAAYADMANAAoACoAJQAYABMABwAFAA0ADwASAA0ACgACAO3/7//4//L/6v/i/+L/4f/w//D/4f/t/+b/0//U/+j/+f/1//n/7f/U/9H/w/+4/7v/xf/Q/9D/1//b/9T/2P/M/7f/s/+y/7b/wf/O/9L/1//j/8j/sP/I/9b/2v/a/9D/0v/p/wAACAAOABoAHgAVAPf/7/8AAPz/+//o/9r/5v/U/8H/zv/r/woAHwAiABsAIwAeABQALQA2ADUAMQAzAFQAUAAzAC8AIAAjAEIASAA5ADYANgA5AFYAYQBJAEwAUwA6AC4ANgA/AEsAUwBbAFQARABAACkADwATABoAHAAbAAYA7v/t/wAA/P/z/w4AEgADABIAFgAaADcASQBBACYAGQAWAA4ACgAIAAsAAAD3/wAABwASAAUA7P/e/9T/2f/Z/8//yv/L/8n/tP/B/+r/9//x/9r/uf+o/6v/pf+W/5z/pf+s/7r/wP+u/5P/kv+c/6b/sf+y/6//pv+y/8L/yP/Z/9L/wP/E/9X/7f/6//L/3//i/+v/5v/t//f//f8DAA0AHQAgACMAIgAaACkAPgBHADkAHgAVABcADQAAAPv/7f/o/wQAEgAWACEAGwAWABYAHQAwACwAKwA5ADIAKgAjABgAKQBNAF8ATABBAEEAJwAKAP//CgAeACMAGAAGAA8AJgAsACUAEgAHAPz/7//3/wEAGAAuACUADwAIAA4AFQASAAAA9P/y//T/9v/2//n/+f/0/+7/6//z//r/AAD+/wYAFwAHAPz/AwATABoAAgDw/+n/7v/3//L/AAAHAAMAAwDy/+n/9v8BAAAA6v/X/9n/2v/Y/+b/7f/3/xEADQD9//X/7f/u//D/+f/+//f/AwALAAAA/v8BAPb/5f/w/wIA7P/p////8/8DABwAAQD6/wEABgALAAMADwAgACAAEAAAAAMA9P/V/8f/yf/O/9X/4P/c/9b/2f/V/83/0P/g/+v/4//b/9//4f/h/+T/2f/d/wYAIwAfABUABQD4////EAAHAP3/BQD///T/BwAbACQAHwAMABQAJgAuACoACgD//wMAAQD7/+H/5P/4//r/BgAHAA0AFAACAP//9v/u//7/9f/l/+r/8P/t/+X/4P/a/+H/AAADAO3/8v8CAAcAFAAiABkABAACAAgACwAMAAUAGAA2ADQANwBEADcAKwAkABsACgDx/wEAIAAgAC0ALwAPAPr/9/8AAPr/6//r/+v/6//w/+D/yv/D/73/t/+s/6b/xf/0//z/8f8AAA4ABQAJAB8ALAAhABoAFQAFABQAIgAdACUAJAAmACIAEAAVABMABwAAAOz/2//f//P///8OAB0ADgAAAPb/4//W/9r/9P8FAAYA/v/2//f/7//n/+j/6P/m//X/GQAqACEAGgAcABkAIQA1ADQAKwAkACQAHwAEAP//BQAKABMABgD9/wcAEAAMAPT/3v/p//z/AAAAAPj/AwAbAP7/4f/a/87/xf/H/9T/3f/c/+D/9P8AAP3/BQABAO7/4P/m//v////5//T/5f/W/9L/3v/r//X/9//2//r/+P/7//H/4v/i/+j/9f/9//3/+v/v//L/AgAWACsAKQAXAB4AKQAcABcADgAHAA4ABwAHAAQA+P///wkAHAAlAB0AJgAqACAAHwAWAAAA/P8TABkA+v/X/87/3//z//n/8//w/+n/6P/u/9//1//b/+b//v8EAAcABQAPACIAGwAfACUAJwA7AEYANgAOAP3/AQABAPz/7v/h/+T/8//4//f/AgAKAAIA+v/4//H/7//j/9n/6f/W/8j/2f/e//f/BAD3/+3/4v/3/xkAGwAhACkAIAAiAB8AFQAfACYAKQAeABIAFwATABQAFwAVABUACQD9/wgAFQAVAB0AFQALAB0AJAAeAA4A8P/d/+3/BQAFAAQADAATAA4AAQD4/+f/4f/f/+T/8//7/wsABQDr/9r/4P/o/+L/6v/k/9r/2P/Q/87/w//H/+D/7P/c/8n/xf+7/8j/5P/6/woAEQAbAAMA9f8GAAgACAAGABgAIwAcABIA8f/g/+D/8v8MAA4ACQABAPP/3v/l//f/BAAqADYAJwAaABAAEAAQABQADwAJAAYA+f/t/97/6f8DAA4AEgAYADQAQQAvABYA///2//D/6//5/woACAABAAUAEwAlAB0ADwARABsAKQAOAOL/0v/a//H/+f/4/wYAFgAUAAIA+v8JADEARwA4ACAACQAGABAABAD//wMA/f/6/wAA/f8FABwAHAAXABwAGAALAPv/8f/p//H/DAARABYAIQAaAAUA8//p/9//5P/0/+3/3v/P/7//vf/N/9n/2P/v/wcAAAD4//j/+//3/+7/7//v//3/GwAcAA0ADAD+/+f/4f/l//T/AgDx/9X/1v/f/+P/3P/S/9z/8v/v/+H/+P8JAPv/8//i/93/7v/r//P/DQAjADIAFADb/9L/9f8HAAsADgATAB0AJAAgAAwABwAWABsAGgATAAUAAAD9//n/+f/2//f//P/8/wMAEAAXABUACwADAAAAEwAfACYANgAiAAsADgALABAAFAANAAkADAAGAPP/7/8EACAALgAwADUALgAiACkAMwAmACQAMwAhABEAIQAcAAkACgAEAPX//v8GAAcAEQAWABoAFgALAAQA8P/V/8r/0P/Z/83/w//O/9X/1v/d/9L/uf+l/5b/jP+N/6n/xf/N/9f/1P/Y//L/9P/n/9n/1P/o////EAAOAAIABAD9//z/AAABABEACAD8/xMAHgAWAA0AAwAOABEA///z//P/CAAjAC0AHQANAA8ABwAAABAAHgApAC0AFgAKABAACQAWABsAAgAHACQAMAAsACoAGwD2/+D/6v8HADAAPAAqABgAEQAQAAYA//8EAB4APwBMAEUAQgBHAEEAKwAFAPT/8/8JADEALwAyADgAIAAWAA4AFAAQAPj/AAD+/+3/6f/P/7//x//T/+L/+P/s/8P/tv+q/7P/yP/S/9j/zP/M/8P/xv/o/93/0f/Y/+D//P/9//P///////H/4f/R/8v/5f8CAAYACQANABQABQDw/+7///8aABkADwAPAA4ACAD1/+H/3f/0/xIAEQASAC8AMQAsADcAHwAGAAwADQD///f/+f/3/+7/6//l//T/DQAHAAQA+//8/wgAAQACAP///P8AAOz/2P/j/+X/3f/o/wAACAAOACcAKwAjACQAFgAJAAkABQABAAQA9f/w/wgAIwAuACQAKQAiAAMA9//w//X/FgAjAB4AFwAAAOn/3//w//r/DwAsACYALgAwAA8A+//9/wIAGAA4AEMAQwBAADoALAATAA4AGQAOAAEAEAAmACsAHAD8/93/7/8EAAkAEgARACYAMgAeAA0ABwD//wAAAgDr/9v/4v/x/+z/3f/g/9T/zP/a/+n/+P/1//b/BwDq/8f/yf/R/+X/+f8IAAAA6P/o/+D/t/+b/57/pf+//8z/z//U/8L/v//L/8z/yv/p/w0ADAAIAAgAAAAAAPf/6v/v//L/+f/4//r////6//z/EAAkABkAGgAvADcANgA1AC4AFQAKAAAACgAzAEoAYABlAEoAJgAOAAwACwAQACUAGAAWADMAMAAvADMALAAfABQAGwAPAA0ALAAvAB8ADgDw/+z/+P8HAB4AJwAbAA0AEAADAPr/8f/c/+z/CAAPAAUA9P/i//b/BADk/9r/3//b/9j/yf/G/9L/4f/0/+f/1P/r/wMAFgAiADEAMAAEAOP/3P/T/9f/5//Z/9D/4//q//f/9v/e/9X/1//u/xAADQADAAAA+/////j/6f/b/9r/2P/Z/+X/8f8DAAwAAwD0/+T/4P/7/w0AEwAhABcACwAAAAQACAD1//f/8f/y/wkADAARAA0A+P/2//r/AgAMAA0ACgAQACIAIgARAAYACAAKAA8AEQASACEAKAAiAAQA5P/q//T/+v8JABUAFwAWAAkA8f/k/wAANQBFADUAJAAkADEAMAAcAPz/7f/1//n/+/8CAAAA8//0//P/6v/j/+P/9v8OAB0ADQDu/+P/2//Q/8//2v/i/+b//v8GAPb/8v/4/wAACAAQABEABADf/9n//P8GABAADgDw/+X/6P/5/wgABAASABYABQABAPD/4f/o/+T/5v/w//b/AgAMABIAFgAdABYAEgARAAMACAAFAPf///8AAPz/BAAEAPj/8P/s//P/CQATABUAEQAOAA0ACAAVADMARAA4ACkAIAATABEA+f/Y/9v/4v/c/9z/6P/y//n/+f/y//D/8P/v/+r/7/8DABQAGgAUAAIA9f/5//r/8P/t//H///8IAP//8f/t//z/DAAAAPT/BgAVABEA///n/9//8v/7/+v/5v/m//P/GAAkABEAAgD4//r/AAD1/+3/7f/X/9T/4//c/+D/6//1//j/+P/4/+D/3v/y//z/BwANABAAEQAeACIACAAMABwAGAAfACEAEgAPABoAJQAqAB8AGgAMAPr/+v/4////DQAUAAQA7v/x////CwAMAA0AFgARAAcAAQABAAQAAwD+//f/AAAFABAAIwAmAB8ADgARABsAHAAjABcABAD1//D/AAASAB0ADgABAAoAFAAUAPr/6v/5////+//z/+v/7//2//r/+v/j/8z/z//O/87/1//b/+L/5v/v//v/9f8AABYAHgAQAO//3v/g//X/CAAGAP3/6v/t//b/7v/q//T////6//f/5//f//P/9f/z//P/7P/f/9v/4//i//P/BQAPAAkA+P/+//3/9//y//z/JgA6ADUAHAASABkAFAARAPr/5P/j/+n/7P/k//P/EQAcAA0AAAAUABUACwAYABQAEwArADYAPAA1ACMAMgBBAEQAOAAvAEEANQAlAC0AKgAgAA0A/f/r/9//7f///wEA6f/X/+j/9P/5//r/8P/0/wQACQACAP///v8GACIAKAAdACMAGAADAPj/6f/V/9r/5f/b/+X/7v/q//T/8P/i/9b/0f/J/87/4v/n/+X/5//y//j/AAAHAP7/8//o//P/9f/0/wUAAAAGAPn/2P/a/9b/zf/O/9f/4f/8/w8AAAAAAPP/9P8CAAQADgD9/wUACwAAABQAEQATABgACwAKAAgAFwAmABkAAAD9/xYAJgAlABkAAADw/+z/5//n/+//7f/t//T//v8UABcAAgD+/wAABQARACIAPwBRAE8ATABJAD0APABLAEcAMwAVAP3/7v/Z/93/8/8BAAIA8//c/9H/8f8HAAEA+//6/wsAEAAIAP//BgAZABAADQAPAA0AAAD2/wMA/v/7//f/5f/w//n/9f/o/97/4f/l/+//5P/I/8X/0P/M/9H/3P/b/+P/AAATAAQA/P8AAAoAHAAEAPf/CAALAAgACAAMAA4AFQAYAAoA///0//D/+/8EAAIAAQD+//n/BQAJAP7/5f/W/+L/6f/y//H/6P/v//7/DgATACgANgAuADkAKgAXABkABAAKABQAAQD3/+D/2P/r//z/CAAAAAEAFAAmAD4ANwAiAAkA7f/v//P/9//0/+z/+v/1/+v/+f8EAAQACAATABcAGQAFAO7/5v/d/9//3f/W/9j/6P/z/+n/5//p//n/DgAFAAcAFAAtADsAEwD2/+v/8/8XABMA/f/9/wYABAAFABEAAADx/+//7v/8//z/+P///wMAAwD2/+7/7v/t//n/AQD2//H//P/+/wAABgAKAA4AAQD9/wAA9v/w//L/9P/8/wUABQD+//r/8//z/wAAAAD6//L/5P/s//3/FgAkAA4ABwASABkAHgAZAA8ACwAPAAIA9P/7//f/9v////3/9//4/wIA/v/5/wEA8//o//T//v/8/wAADgAcADEAQwA4ABwABQD7//f/9/8EABUAEwAWABIAAgD///H/+P8LAAUACgAIAAAA///1//n/AgAIABIADwAFAPv/9v/3/wsAMAAuACIALwAuACAACwD3//3/BQD+/+X/z//U/93/6f/q/+X//f8OAAoABQABAAQAAADz/+v/5f/n/+//6//Y/9T/3v/n/+b/4f/j/+r/8//c/73/wf/K/8z/zv/a/+P/5v/z/+3/4//f/9v/7P8AAA8AEgAWACsALAAwAEAAPgAyACUAGwAQAAAA6//b/9L/2//9/xEAFQAYACMAJwAJAP//EAATAA4ABQADAAcACQAIAAoACwAAAAYAGAAZAA8AAgD4/+P/4P/2//j/+v/7/wAADwAHAPr/7v/o/+//9f///wAA/f8FAAYA/f///woABQDz/+//7f/q//f/6P/O/+D/8P8DACgAMAAuAB8ACQD2/9j/4v8LADIATABIAD8AMwAkACQAKQAtACkAKgAqACUAHwD+/93/1//n/wQACwD7/+//8f/7/wQAEwAoACsAGgAZAAwA8v/w//D/6v/n/+r//f8GAPP/2P/f//D/6P/g/9v/0P/Q/9H/xv/C/8r/zv/U/9H/1v/u//H/9v/8//n/FQAwADMAMgAwACYACgD3/+b/z//U/+j/9/8HAAwA+v/k/9//5//3/wUA/f/u//H/4//P/+L///8LABoAOABAACwAKgAXAPT//f8SACYAKgASAA0ADQD+/+//4//m//H/9P/r/9//6f/s/+f//P8QABUABgDt/+z/7f/z/wMAEgAiABgAEwAgABUAFwARAAAADgApADgAMAATAPf/6v/v//L/BAAfACYALQA3ADMAMAA1ADcAMAAoACYADAD0//v/7P/f/+v/8/8AABEAEwD4/+j/6P/i//7/GAASAAgABQAPAA8AFQAWAAoADQAOAAwACwD7/+L/1f/W/9z/6//v/+D/0P/E/8H/wv+9/7D/s//R/+r/9P/s//D/+v/u/+z/6v/g/+v//v8HAAsADwAHAPb/7f/q//r/DQADAAUAFAAGAAUAFwAhACwAKwAuADQAKgApACgAKQA2ADUAKwAoACEAGQARAAEA8//0/wIACwAOAAsA8f/b/+T/7v/v//r/9//v//r/8P/l//z/HwAxACIADwD+//n/AQD2//L/8f/v//X/5//r//D/2//S/+P//v/z/+z/9v/m/+v/+P/8/wAA+v/4/+//4P/c/9v/2v/Z/+D/7P/p//D//P/t/+H/7/8FAA4ADQAJAPL/6P8KACUAKAAwADIAJgAkACAAGAAdABkAGAAkACQAGgATABcAHAAdAB4AHQAhACQAEgACAAoAFAAdACEAEwAPAAoAAwARACAAGQAAAAAAGQAlACEAGwAMAPr//f/y/+n/9f/m/93/zP+7/9v/8f/8//T/5//0//z//f/w/+z/6//Z/+j//P/v/9X/1//0//z//P/x/9r/xv+1/8j/2v/Z/97/4//r//L/8//g/8j/xv/b//v/AgANACQAJQAjAB8AGwAVABIAGAAZACUAJgAeABQA+v/8//j/3P/r//v/+P/9//z//f8KABUADQAbACUACQARAB0AGAAbAP///v8TAA0ACwAGAPv/8P/2/wEA9f/m/+3/AQAQAB8AHAAHAP///f8GABAACgDu/9b/6f/u/+r/7P/j/+n//v8ZABoACQAJAAsAEQARAAkABAAIABIADwAWACMAIwAiAB4AGwAGAOn/6P/6//P/4//t//T//v8XAA8AAQAJAAMA9P/k/97/6P/o/+z/8f/c/8L/s/+8/8L/sf+4/9H/2P/b/93/1P/Y//H/+//9//P/8v8HAAwAEgAOABAALQAmABsAJgAsADIAOgAyACYAMAA2ACgAFgAWACYAIgAoACsAHgAqADkARwA/ACAAHgAiAB8AJgAwADIAJQAoADoALgARAAUAAADt/9r/4//1/xQAEgD5/wEA0/8SAJQANADl/+7/6v8BAAEA9//0//b/sf/W/14A9f/f/04A8f+z/+r/8f/I/7j/qP+j/9T/1P/R/9b/lf+A/53/fP9M/1z/c/98/5T/sP/W//f/BwD+/+r//P8tAFUAMwAbAFYAagBdAGIAVAA0ABYAFwATAP//AQDe/7r/1//v//T/7P/P/7D/0f/q/7j/z//d/6f/tv/Q/9X/4v/R/8b/4/8AACEAMAAOAAEAEAAbAC4AWQBXAC4ARQBeAHsAhQBWAF0AWwA3AD8AUgBLAC8AIgAaACQASQBjAHEAXwBGAEcAXwBrADgAEwAAANr/+/8QAAkADADW/83/7v/x/+j/vv+0/8f/7/8AAO//AADb/7r/1f/H/6H/cv9l/3f/fv+L/37/c/92/2v/dv+X/5v/gf+J/43/c/+D/5P/cf9g/2//Yf9C/zX/Lf///rz+jf5c/kD+JP4Q/gf+2/3e/QD+1f2U/Yb9ff13/X79e/2x/db95v1F/pP+vf4L/3T/sv8LAKEANAHHAQMCTgLuAk0DnAMDBEEEgQTzBEoFewWPBXsFnwXPBccFwgXUBcUFuQXrBc0FXgUpBRMF3QSUBIAEVgTPA1UDGgPXAmcC8gF2ARABuwBdAFMAKgC0/2X/8f5l/gL+yv2D/f38jfxL/Cb8FfwI/On7p/tx+1v7YPtm+137d/ui+8r7Jfx4/Kb8vfy4/Pr8bP3z/U/+YP7J/j7/o/8gAEQALgA+AHIAmwAEAX0BeAEwAdwAlQBTAOT/Ev8R/jr9jfwf/NP7VPui+gL6Q/mp+Jb4d/hO+Ff4jPgF+b/5lfpK+yr8JP0N/m7/BQFQAncDegRsBXUGZQcVCJAIAQlfCd4JUwqWCtQKcQrOCVcJ4QiBCPcHZgeyBjAGBga4BT4FdgTFAygD1QJBA48DkwO4A/8DagTjBGgF1gXfBcYFAgZeBngGXgYDBjwFhgTRAwgDcwKJAUcA7P7Y/f/85PvG+nr5dvjZ92H3VfdG9y/3GPcG9xn3dff59y74f/gN+ZX5//lr+sD6kfpK+hn6rPlE+cz42vfX9tf1zvTv87/yefGM8CXwMPCJ8HLxePK484b1rPcI+nz8v/6XAOIClQXICE4MYQ5vD18QPRHZEbQRvxDYDrcMoApvCCoGWAMRAHf8//jA9djyVvB87frqCOmX5x/nHedE55PnY+gO6p3swO/Q8tv1J/ms/IIAlwQtCFILmA6/EesUERiuGq4cNR4iH7YfNyBKICYgjx90HmgdURxeGx8aNhjeFVITUhGSD48NQguSCOsFzQMnAl4AZf53/Iz6+vjm9xf3TfY59dvzhfKT8SzxAfGt8ATwZe9Q733voe+M70jvNe9X7+Dvo/BL8STy6vKD80n0NfUs9hP32/d9+D35J/om+y/83/x0/UD+L/86AFgBmgK9A/QEbwa6B8cIjAnjCeAJ5AnqCZ4JCAlICI8H0wb9BeYEnQMZAioASP6y/KL7wfqF+TD4c/fr9xb5fvqQ+2f8xP2Q/9sBEgTyBVYHUAivCbsLfQ54EN0QOxA9D5QOpA2MC7QHQwNh/wn8RfkL9hny+u0z6gnnnuSA4u7fwd0j3HDbOtzR3bLfmOHb45jmi+pv79vzA/jW+9L/iwSMCfUNbBGtFPkXcRvAHmghOyM6JJgkbCQHJDQjGiKYIEce6RvVGQEYUBaOFD4Scg/XDI8KqAioBmAEyQFG/5n9fPyS+3/6O/no93z2VfV59JXzifJV8Q7wH++/7sDuyu507h3u+e047hbv2O9U8KPwB/HO8bryoPNi9GD1e/a39zb5ufqr/Kj+7f+dAP0ANAEpAdEAagA/ALIAIAIcBEAGnAjHCqsMEQ4ZD+UPTRB2EE4Q7A90D1IPZw8cDx0OewzeClQJqAd3BTYCzv6H+5H4VPZW9MTypPFG8RbyKvTg9ub4vfn1+fv6Uf3W/zgBjwE2AncEoQg9DI0NwwzOCjYJ2gfEBV4Bq/tM9sHxGe/P7KfpveX54Unf/d2u3Z3cANuY2V7ZUduO3rThf+Qa6NvsCvPv+cv/lwQmCQ8OyxJlFzMbIR4eIdYjRSYFKDEpZSmOKNImCyQyIU0eURsPGHoUGhEyDg8MGgrgB24FPQPNAToBVgFfAU8BCQH/ADgBYQHGAacBBAEnAFv/6/6H/sX9T/yQ+qz4EPfd9Wf0kPKU8NLuhu3p7H7swOvZ6gTqP+p16y/tN+8c8f3y/vSq91X6vPye/uX/UAHQAoIE8wXIBsQGgAaWBqUGxwZZBpYF9gSsBMMEvgTaBGMEfQQABbQF7Ab8B2YJcQpqC+QLnwu3Cm4JSQivBioF0gOTAnEBwf9J/Wf60fd79Y3zuvH170nvUvDX8mX1YfeS+Oz5Lfzp/jUBXAKFAywFOwi8C6INtg37C44JRgdUBYICCP7g+ObzTfBb7jXs/Ojs5ALhxN5o3qTexN213K7cjt5/4hznB+t97vLyzPi//6IGXAwVERkVDBkGHYUgSCOyJJkl/yU3JoYm7CUNJL4gBB1sGRsWsBLdDhgLoQcIBfoC/gD0/vv8dftu+iz6pPoM/Gr+PgHtAz8GDQgnCbQJiQmPCP8GPgU1AxEBLv8M/Zf6iPfx88HwL+4w7B7qCOgw5mvl8uW05j/nOeed5/noaOsL7nbw7fJq9Zf41fuQ/qAAWQIMBJ8FRAf8CEIKTgvmCwAMvgsmC5UKigmJCKgHBQesBlcG8wVwBZEF9gUNBlQGtwboB3gJmAoBC2gKzAmvCGAHPwVGAtT/xP1d/EL6J/gZ9sjzY/K28LHvwu6J7+PxoPR9+Kz7uf9hA7cGXQkAC2AMCA0/Di8PtQ9CD98NRgtPB6ICiv0R+LDxkOvh5Z7hjN7y2yHa+tfu1hXXRNja2W7b+d354HzlnerS73r19PodAVwHdw3MEr0XYhy+H7MiUyR0Jb8lNyX8IxUiQiDnHYsbhRhxFVwSQg9vDC0JJQaQA4cBeAC3/63/yv9oAKwB8wKYBGkFeAaJB64I6AmTCsoKYgrbCfMIuQfnBVYD0AAv/pr7mPmT91X1AvP38EbvAu7J7Jbrp+o76n/qnesZ7TvuhO8E8e/yNfV295z5c/sI/bb+eADsAa0CXgOqA/YDGgRCBFIEqAMaAzMCrwGnAAEA0f/P/28AjAB8AZICDQSCBToG9wa+Bj8HggenB64HwwbQBhAGswXSBNcDbwL1/zD+rPtk+ar2jPTH8pbxTfHT8YPzhfXl+NP8zQH+Ba0JjA3nEOUTqRUpF3IXmxfAF0gXzBVgEsMNMQgUAsj6RvPg6znkpN1F2ELU/9DFzoXNXM3izlrRNdVt2ezdzuLS6Fjv1PVI/OoBKwh9DgkViBo0H84iHiU0J8gneycEJtYjCiGYHRwaRRbKEk8P+wsXCaQG5gR6A3MCZAHtAOkAhgFzAv8D+gXHCN8Log7wETQU2BawF1oYShhZFoIUXRGoDjoKtQWcAbb8r/iZ9CTxUO5160Tps+fU5mLm+eWJ5rDmoecR6lTsH+9i8f7z+va0+YL8Z/5EAIUBVAL/A8IE3wQlBdMEuwQDBCoDGgKGAGX/sv2Y/Hn7BfrH+XP5rvkq+378yv7mAKoDJAf8CHcL9AsDDecN4gyqDZALpAqBCacHPgeHBEIDOgGS/zz+Bvza+nH4vfUZ9D7y6/AV8ZfxdPSI+Pb91QS9C3IS0BeRHUQhCiNbJNojvSHuHZIYwxFVCqcBnPj47xLnht6L19HRMMyJyF3G88TwxNfFp8iyzJrRENco3aLk/usy9JT8OgSSC0ESmxhLHasgEiPHJJ0lGyUiJMEi+SCaHgIcFBm5FUISQQ+ADIYJTQewBbAEdwMIA+MDSgVzB8oJvA1IES8Vzhg+G2cdPh1oHTUb4RdSFA4PYgtGBqEB2v3a+d33EfUN8wHy0O9C7yDulewC7P3pZ+lP6DznIehP6Hvq7Oyi7+vzPvfJ++b/IgKqBOEFswbzBjsGFAb4BNADfAIqAQAASv58/P/6TfmT91P3Ivbz9WL1hPX49jn33PkG/OD/QgKFBFwIuwhRCf0HzwYRBWMCCgGwAOcAWgFzAu8DuAQcAsUBZf+L/ND5/PRO9GPxUvGW8uP07/kL/rYFCAz6ERQY2xxeIFIigiKcIvwhZh4PG4oV4w8rCBcAZ/gE7m3l99wY1sLPecnDxc3DA8OSwzrGr8o80GnWBN525SDtN/XN/KcE/grWEJYWzBoWHtEfwyB3IYQhMSG6IDQgch8SHqQbCRnMFfcRHA7HCToGBgPlACMAlv8hAGABMgNQBZkHqwlNCyYMRQ0zDjoOdQ4dDmsObQ1gDMQLXQraCOoFbwMzAZ/+2/sK+dH2gfRQ8k/xffAY8GnwPfES83L0X/a7+Ob5Q/sR/O78yf0v/Qj+pv66/m7/wP9iAUwClgKjA38DYAPjAZAA8f8F/vv8pPom+h76TvnX+cn4Rvja9oH1EPZa9Zb1Gffl+GT95v8QA14HPwidCZQHgAX0Avb8qfmz9LDwsu5K7HLuC/FF9Nf6pgBNByUOrhMMGq0duyDYI5ckQyWdI6QgSRzeFHgMuwNn+WTuteNJ2uHSJMzox1vGNcaix9nJB86g02vYS95D5Grq0fBf9gz9WAOxCOUNkxIGFx0b7B3fICAj4CPPJNYkdyR2I+Ug1h7HG1wYchUSEsMPpwyYCkMJsAetBncFZAULBWME/QO6A6wDHwPqAlMDUgOFA6kD7gP8A+8DnQReBNoD5gLsAXMBZP+N/TT8b/rk+FX3LPcY9yj3r/eB+Lf5+vmR+qz6V/rg+aD45Pf49vP1HvaQ9bH1hvYu9zj5xPkZ+6n8+fz5/Tj9bP2f/Ln6zvnY90j44ffu9+H5QfpL/Dv+vv9GAnAC7QIABGED4wRWBPADswNaACIAxf02+0D6hfev9/v2vfZG+uL8nQBTBBQItw4iEn4WUhyyH4EjoCI9Iq8hxBuiFfsM7QO4+RPuN+WM3IjUWs6cyefHxcbRxkjKms3c0YzWqtvR4QbneuyB8WP2s/tCAf4HAA4oE8AYIR7eIvIlYSj7KT4qqikyKPMmnCUCI9Igah47G+MZahd+FeMTphCyD6cNpwsoCscGGwWWAh4A+P4V/df8gPzo+yX9kv3x/Q3/j/4l/mf8YPrn+J72RfW185ry8fGx8anyx/Nt9Lj1ePfc+GP68fsw/Sf+//2g/cP9gvyw+3n6UPlq+Xz4SflA+h/6jPsj+wX8avwo++78gPtb+xX7dvlU+835XfmH+l75afvw+tz6tP5C/SEAfQG1AQIHmAXtCJsLwgrpDRwLgQrvCawEQQNL/mP6Lvmj9A31hvTf9P/42Plp/kwCtwVIC40NwhLgFvcZ+ByDHEsdeBobFXsPeQfM/t3zrOmz4U/ZTNJXzMrIFcfDxJLGdMn1zIvSZNcW31vlo+sy8+D32/2NArEHXg6CEisYHB50IpAnjCpdLckvjy+FL24t+iokKLgj+x9VG3AX6RQKEoIQ1A+gEKERXRLjE7UTvhNpEaAOKQxmBwcEt/9i/I369veW98z2CPZ296n2BPca+IP3D/gC9kX0GvOi75ntYesz6YzoZecz6FvqYOs87lrxoPOZ9o74N/ty/eP9AP9B/xv/4P7M/az9Ef0D/EH87fuD+2L75PoN+yn7Ufu0/D79Z/3d/tb/RgJ+AxYFNQhXCAUKoAr0CvYL2Ak+CfYIHAgyCJQIEApZCwwMpgybDXsNpgvxCDgFkgHW/Dz3RfMK74frUepm6OHpqutc7R7ykvUi+6gAhQVjC9kP0xPaF+UYhRm4GPsUJxEtCj8EH/0R9AzseuSX3o/Y19Lkz0DPjM67zyrSSdYw253f8uVF7Gnyb/jL/cQDHwlGDssTCBgTHN0fIyPtJa0nkSgzKfYoxSdUJqYjYCCnHIoYnxRfEPEMiAo2CP8HegipCWUMtwwbDrAO7QwfDEEIcQW4AsP+cP12+876Zvu5+sz8nv7f/vcA6P9o//b96vlX+IX06vDV7b3qUeqv6UnqsOyr7qnxlfRk9zv6Xvtg/Gj9Af32+wX7b/qa+vf5ffr++0L90v6x/78BHQNhA0kDqAGkAP/+Rv0y/Mz6hPuF/HT9o/8mAfEDSgUuBT4HJgclCAUIAQiyCgcLoAwADq8PDRCLDs0MNgp+BkMBuftU9ujwS+uZ52HkV+PJ4YziTuWN5yPtbvEy94/9VQL4CJIP7RTmGskdtCDSIuogHx/lGA8S4wmW/m31leuD4hfbiNOAzxvNIsv5yzDNx9AL1QXZP9+k5LDqjPDA9aL88QKbCVoQZxYIHaYitSfMKw8uiS+jLpUtritOKNgkdR8sG8IWRhKBDt8KSgi+BeADBQMaA8wCxAJVAskBGAG7/23/cf+v/ysArwGiAwsG0gfxCEUK5An2CI0HUgULAx0An/yh+S/2wvPn8UbwRfDJ76TwtvEO8hXzSPOH88Hzd/MY9Ob0YvaA+DP64/xY/5UBpQNHBBwFKQX4A7QCkwD8/l79m/sZ+1/6m/pc+3j8df4j/58AKAL7ArgDQgPRA1gEKASnBLMFnQexCeQKWg3KDhoPvw5hDL8KPQYOAWn7ivX18Bnryuc05ZfjOuSZ5NTn6+ps7BLw6vFt9YX4SPqq/+0CzwcqDt8Tpxt0H+chAyVoI+Ag/RosE7QL7v8u9vXtbuaF4FDazdcb19HVRNYG10PYw9kb2r/c5t+Z47DoH+7K9W39BwbEDnsWaB18InEmMSiEKHgnSSVkIt4emhvWGFsWqhTwEmARIxD7DX8MKwrgB8kFqQNfA1wDQgSPBfsG6QkmDLIN5g6XDoQOpAw1CmII4wQbAgX/m/yw+435Efmv+N73TPjm9sv2JvbY8+zyVfEp8Q/xiPAk8lPzX/XX91r57fs0/U3+rv+4/z0A2/+R/3n/V/5C/gz+5f3m/TX9c/3u/Wr9Vv17/CX8a/wz+6z7wPtP/f/+rf/cAlIFLgdOCIoIOwkoCHMF9QOaAXQAyP7F/tMAOQEIA4YDhAUdBUICjf99+yL4ufNI8L7uX+1L7Wrvt/FS9ZX3tPm7/Bv9cP5U/0EA1wISBOYHCw3oET8Yshs2H/Ag/h6cHHAWGA/sBob8JvQZ7HXlG+Fx3Pbaedkg2ObYMdi32LrYmtgm23rdfuHS5svsr/QH/O0DEgxkEs8XuhtTHm0g4yAqIfcgESAGIL0fux9YH/gdBhziGNwUzxDVCzEHNAP4/yD/0f7DAGwDzwWUCEcKDwz5C3EKaAjCBRMDygDX/0QAoACkAasDQgWPBu0FBgVXAhn+UfqR9Sny1+5F7AfsiOxo7szwmfLl9KP1M/aK9qT1WvWr9FX1sfbp+Pr7ZP+ZAj0FEQfRB9AH7wXPA/cAQv4x/KD6bvrU+p77jv18/un//wAAANcAb/+u/rX9wPtw/V78Df3G/kb/owMXBLcFowh3B0AImgXKA2UCo/3m+2v53/fy9/P2VPgd+Q74q/j19x73efZV9M/01vS39Vj5GP0UA20I5g3zFPUZBh4gIOkfJB/GGiIW1BElDMQGKgBj+/D20fEd7SXoN+O23TXYTdTX0Z7PEM8P0InTDNjF3WrkMutW8nv4uv7aA40Isgz0EBUVshiPHBkgiyNDJpgnFyidJ84loSPrH94bjxeFEzsQSA0HCzMJAwgNBwoHDgdGB84GBgaZBTwF4wRtBFUEyQO1A5QDrwPgA4UDKgNQAikBr//A/an7bfnT9n70uPLz8BDwB+8d7hnuuu0W7mnu4u5L7xnwZPHT8vP0GPfm+XD8Sv/wAS0EIwYyBxUIuAilCHQIdgfkBXMEzwHp/+P9JPw3+7b5A/mj+GD4B/mN+R/6Kfss/Cj9M/5N/6j/pADAABcCMAQIBfcGfQcACC0HywQRAzcAYv3y+n34nfj290r3Zvgt92H3Svb39Gn2JvXE9dz3Yfn6/ScAkAT8CdcLMRG2E5sWrRgEF6UYsxZyFKoSHQ53C5cFHgD5/Ir2rvE07Jbm9uIx3eLZfNep1GzU2NP71eXYdtu94BrlCepL7/vz5PkV/7gDVAkqDg0TdBgyHGwgfyMpJUwn/ybPJrolsiJwIFocuhguFaoQYQ3SCccGtwXkBJgEDwXBAykEEgMgAW8BV//c/0cALADbAqkCOQO+A/cBqQFL/7X9pv2V+7L77/qo+Y/5Kfdc9m30FvIk8sTwRfGx8Rvy5fMD9PX0Z/Ze9/H4i/rb/IH/cwHjA80FwwYlB/sGqgYNBlkFjgTnA14DuwLqAYwA0f7//FH78/mq+Pn4kfnQ+kz8Sf1F/37/z/96/+T+YP9D//4A/QK6BBsGjAaJBg0FNQMiAVD/K/7Z/aT+QP9+/0L+afxn+WD10PLO8CPxMvI19D/46Pqd/d//aAKaBX4H2Qo8DzkTJRZRF1IYyBc9Fe8RIA5RChIGOAIz/3P7LPcy8jTtSeii4h/eiNqG2OTXhtg926ndaODr4tzkRec76ZjsZPHg9nX9yQQiDKAS4Bd2G84dAh9IIFohgyLOI/UjWyMwISMechpNFlkSmg/nDdAMhAwFDBwLaQgjBQoCEf8F/cn7afxy/Sj+vf6E/p394fuz+mX6Ivrf+kz8yv3C/gn+M/0c/Jb6wfnc+AL5NPku+Sj6SfoI+jz52vdZ9xX3iPdH+An5dfrH+5j8Kv3G/UT++f5w/3gAqQE5AhgDJAPeAgwCQgEhAcEAcAD9/7j/AP+Q/nD+WP4N/u38wPz9/KH92f1p/Sj+/v6y/1UA1gApATsAiP6B/f/82/y0/FD8M/xm+wb70Po5+oL6d/oV+9L7Xvzf/Oz78Pof+sn6t/w4/+UC+AY2CuwLug1aD74QKhGHEcMSQhPkEhwRmQ5bCiMFjgDX/E/5OPVv8XPtielA5fHhot+N3XfcWNz13X/fJOFk463lCOnC7ALx2vVi+gH/GgPsBoULwQ+tE2kXfxqHHTcfQiBpIRwhYCAyH2Mebh1FG9YYARapE1gRoA9bDmAN5gtyCbIHvwUDBHoCcQHDADn/aP1I/EP7zfmw+Ej4Kfnu+e/6xPtX+/r6Vfpt+gb7OPsb+2/6//lD+TP4N/ed9tP25fbq9uf2+vb+9r32R/dT+HH50vrU+3f8yfxk/C39Zf7W/3MBLQJsA3MDggMIA60BRAHKAIkBwgGSASIBCQBE//P9a/3X/Yz+1v61/tz+4v7a/cP85vwj/an9+P2Y/v3+Tv/c/7j++v3H/eH+Rf8O/uz9vP3Y/UD9nf3J/or+if1n/aL+bf+0/1sAcQOqBdYF7QZ6CSoMsAygDbYP0BDRD4UOkw0zC4sHbgPWACD+avq09n/yMu8G7ILoj+Wt4lfgwt5/3lHf/d+X4M3h6OPN5tzpDu208Db0Dfgc/K0ATQW0CdANBRK7FrgZDxxdHvkgJCLeIagimiLPIQgg+x17HIgaQRlkGTcYJhVBEVgOXQ3JCrcHZwR6Acj/q/2B/Pr6Efid9bD1Gfds97H27vZh+Mn41fgb+eT53fr3+hz7GPvq+sb6EvpO+bD4C/j69/f38/bf9R/1YPWl9Xn10PYA+O34r/lG+nT7HvwX/cv+DABAAPj/Xf/h/x0BowCwACYBIgIrA/cB5QLHA7YDYQPzACQCzQJoAFP+yv21ABEBlv4o/sn+Vv8+/5z/WgCO/i79pv5uAJT/3fw8/CL+3v9o/Sv7lPul/KP9x/yL/Iz6qfm1/Pb+kf8g/ysB1AS+BnkIjwq2CzIM3Qy7DRQOdw1JDKYKZgnFB6wE8AG6AFD+Qvn49G3yX/Am7YHpTOfO5AHj4OF64cviYeNV46fjKuan6uPsoO7F8WT0u/e8+5AAoAT4BusKQw+PE3MXVBqVHJ4dYx8XIeYhOiIYIiQimiCLH64eax2DHaUZHhWlEgISmBJdDkEJ2wNEABYBhAHb/zL6tvTM9Bj4wPkx+Kf0nPLz81D3Gvkh94303vNo9nb55/kj+K32M/fe9yj4Afgp+C746fYh9h333fgZ+oT6pfr2+d358Pvy/Vf/Q/4b/CL8mv2J/xP//fwv/CD9/P6DAGsAgv9e/zUAagJnA1oDjAOgAvoCoASzBBMEnwISAwUFlQOWAXX/ZgCCA9YCsP/i+wj9tQAAAgQAIPwf+uz6Ef+aAA7+Jfqe+A78c/7a/SH7nvm/+6D9d/4S/hD+CQFiA0UERwOYAi0GSAr9C6MJHQeZB1gJcgsbCkcFEQHYAE4ChgGh/bb41fUq9Mvz6vIN8E7sL+lz6Hnodeh66PLnteZK5ijofezO8Ojwmu+T8bH3Qf5/ASwDGwWyCEINTxLLFp4YLxnVGd0cdiBjIXEgSh63HQUeIR0HHFYZoxZwFLMR2g/kDEEK1Qc+BHgB4/7Z/ej81frR+L72efam96z4dfhE99D2M/hS+nH7Z/tM++T7jvyu/ZT+Rv/5/pT9O/3s/VT/X//y/Sv8OPvt+2X8m/sw+iH5jvju92/32vfj93f3v/aI9sT3tfjE+aj51fhR+Rz7s/3C/sT+5P3o/QAAuwIsBe4CNgC8ADQEtgjEBgcDlQDTAh4IRwfCA3H/hgDbA0cD/AH5/fb8Av74/pn/GPwg+lf6vvvQ/YH8pfpm+sn7w/52//n+g/9aARoEhQR7BNcFYgiECkMJJQiqCQsMhwwGCqAH5QbKB9kH1gR2Ac3+Uvyn+gX5rvah8r7uzu117CXqGOjg5kXnquZa5t3mXedA6WTrOu0A78fxRfUP+Yr8r/7sAW0GuwvlDkcPWBFTFeQY/hkNGi4aDRt0Gx4b7hqDGe0X5hWqFLgT2xDyDdwLVAm/BiMF+wMUAiX/oP2S/bv9IP0o/CP8r/sw/Gn98/2C/WL8nf1S/2D//f0b/dP+ef8n/tD8c/ww/Qv9+PuT+jf5ifl++jj6X/iD9vr2nfj5+CD3jfXE9Wj28PZd9mj2lfYe9rP3ZPhG+SP6yvmg+0z9Rv6T/nn/4wF7AnEBAgIiBKUGwwbYBBoEuQThByIIyAXpAukBzQPpAtMBuP/s/dT8+vvW/G/8O/t0+GX3dfkU+0H7dvnu+LX6EvxI/b7+8P9zAcIBiwIYBuoIbQpLCcAIFwuPDKsO4g3MCjgJ/QjHCrUJcAZOA9D/TP7u/KX7tPgl85/vNO7b7RLs2ui+5n/le+WF5RXmbecH6LjoNeoP7eXwmvSA96P5Av2zAWcGawo9DbsP8xHxFBwZ7Rr1GvgaaRsiHQQdVRz9Gq0YMhi7FiQV2xIQD9EMQgtXCfEGBQQUAnMAuP46/oz98vs8+vj5o/q3+hv65/lY+kX65/pY+037qfu1+1f8x/wZ/c/8F/zB/Ez8GvwS/HH7Cvsy+UP56vmg+PD3GfcS9+T2MvXo9Zz2G/by9DT0zfYR+P/2Lvfv+An7yPsk/Mr+kQCIAE0BDQNiBf0FYAU7Bh8IrgitCJUHaAd4CDEHFQaRBCQDxgKkAGj+4/zv+8/6bvhV99f2j/aH9Xn0Y/XJ9XT2EPb09dP47voQ/N78Xf5iAa8DJAbqB44IrgkBDCEOHQ4bDjcO+A0lDRMMjwsiCucGkAPGAS8BCv8Y+i32sfRj8z/wJu1H7ALrAOmb51bnHOm+6Wnpu+nP62TwxfL383n2DPqe/voBeQQqCHsLdQ5nEKISLxepGFIY4xhrGhkcexqBGfUZgBjnFugUkROJErAPaw06CyQJJwhyBl0EGwI0AAgAeP/b/W78cvtG+2n7MPu6+777C/tr+7f7Ev2G/fD8VP0i/Vr9wv0v/k3+pvzG+zH8MPzD+5/67PmW+DP3MPfq9gz2rfSV84Tza/NY8+nzDPQn9Er0dfWO9674Ivl4+kj8SP2Y/kMACgOBBPgDVwVkB8sJLQotCD0JMgr5CXUJygcuCMcG4AMdA9wBZgGg/2D8JvsK+mz5yfce9Qv0tPNx8xPztPKz85z04PRw9iP4VPsV/ef9sABmAzUHugjRCD8L3Q2HD74PgQ/TEEQR2Q+9DmMNVgvUCDAGKwSCAUr9qfkD98X0O/K57jTsV+rD6CToN+dl5s7llOZy6Onp/utn7hbxWfQx+BL8vv+XA4IHXQv6DtUR+xRDGPQasRxNHQAfBSDkH5AfzB7BHbob0hntF7QVAhO1D6wMAAqwBxoF4gGF/6/9dfup+U/4N/fi9TX08POJ9Mr0tfSO9Dr1Vvab93r4EPkS+jv7E/zJ/HD9I/6d/n/+1P74/hf/CP/x/WP9+/xU/L/7cfrw+cL5zPgO+Fb33/cQ+H73jfeZ9y75APrn+bD6e/th/T/+bv7X/zsB0wK+A68DGQXOBskG8waQBn0HOQhuBjUGvQW3Be8E+gFsARUBt//y/c/7Z/tw+gD4N/fM9t31R/V79A71n/WI9Rb3dfjL+VD7C/0hACUCxANdBlsI1wkbC9QMfA6CDmAOYA4UDqQNZAyrCkIIqgWbAzgBQP4P+7/33fSH8vvvxu3P667phej259Pn4ef456HpLOta7Prut/Eg9Wr4Mvve/tYCAAdjCrgN/BBIFNgWDBkKHPgcSB6DHlwehh9ZHqwdwRt4GWAYuRWXE/gQiQ05C88IKAauA6MAGP9f/Z/6dvko+JL3hPYS9cD12fXC9e/1AfYL96T3E/gO+XH5nvrh+zv89vxP/RH+5/7r/tD+sf71/if/pv72/YP9J/2D/JT7G/vH+hz6R/kQ+Vj5NfkF+fr4Vvk2+hf7afvv+9f8HP5r/9r/uwCtAeACiwNtA60E8gT7BL0EpQStBW8EBQR1A50CUgL1/73/9v4j/fH70Pnv+f74GPeu9rX1rfVa9ff0sPW99Sv2LvdO+Fr6/fsu/aH/OgKiBKwG7AhVC3sMyQ10D8IQ/RCWEIsQJxARD5UNoAuvCWcHhATmAeH+OPyJ+Tb2YfPI8LDut+xD6r/oO+hw5+vmKudD6FzpFurx66Due/F89HX32vpr/kUC8QVxCcAMdw/SEn4VxBcBGlsbtRw0HbkdRx5YHWgcVRvQGTYYzhW9E2gRuQ47DIEJ2AYIBKsBXv/l/MH6BPmB9/n1lPTU81rztPJy8qDyAPOQ8/vzm/Sd9UL2Tfct+Pv4LPoE+8z7afwQ/Xf9t/2b/Z791P2J/Yb9Mf2h/Hr8DPzF+5v7fvub+5L7nPvj+zv8NPyj/M/8/fzR/RX+lv7o/qH/gQCDAOsAfwEyAqAC0AJvA8oDPgQVBOoDDgR0Aw0DQgL3AV0B5P8f/y/+Tf0y/MT6Fvok+f73iPfh9vn29vb49j34+vgi+qf7X/3a/48BlwPnBQEIMQplCwUNVw7sDpAPbg9fD54OYw1KDB8K5AegBacC4/+j/IL5p/Y880/wi+376ozoXOY15T7kjeOw42fkvuVD543phex27xLz5fYF+z7/NQOZB9oLaQ/REiAWPxmkGzkd7x7uHyIgCCB0H7AeCB0JG1wZGRfUFEUSmw90DacKAgjPBY8DlQGr//X9v/x4+2r61fn9+If4XfgO+P/3Afgx+HL4h/jl+IP56Pkw+rT6MPt6+8/7GPxc/Gr8dPy5/KX8QfwP/O770PtP+7P6qvp2+hr6xPm5+dz5svnH+ev5Zfrv+j772/te/Cf9+v1p/gj/s/9jAPcAVgHxAYwC6gJnA54DpQOyA7EDmgPeAoICMQJmAaEAk/8M/yP+Bf1G/EX7pvqW+dP4cvi/96D3ovcE+JD4TPmK+uj7rv2i/9YB+wP2BQ0I9AmwCxgNPQ4jD6UPsw9/DxMP6A1KDGsKUwjEBbkCwf+L/FD5JvbV8r3v5Owv6rvnweUx5PniPeIN4oriluM15WLnCeph7f/w1vQC+Vf9zwERBnMKxw6TEh4WQRk+HMoehiAXIjEjyyPyI2cjkyJAIV0fNB3VGmMYhBWIEu0PDQ0sCloHlAQjAnj/Kv1E+335Gvis9on18fRU9OvzvPOZ89bz8PMK9Iv07vSZ9Tn2lvZT9/L3iPgB+UD5lPni+UL6bPpn+nv6kPqE+lv6SPpY+lb6Qvpg+pj6y/oE+z37m/sY/KD8Lv2n/Sz+/P7d/3YAEQHPAY8CKQOFAw8EmATQBA0FUgV6BWkFLAX2BJIExAPqAjMCPQEvABr/7/3i/Lr7ovqo+ar48vd29x33APc699D3zPj/+W37Lv37/h8BUQNPBXAHUQnjCicMNQ0KDlkOWA7pDRUN8gs/CicI0AUZAxgAyvxQ+f31p/JT7ybsROnB5m7kkOIq4TPg1N/035vg7OHp42nmaena7LDw6/RX+e/9nAIvB5YL4A8GFNgXKhsZHsgg0yJCJFcl7CXsJXklsSSRIxciLSAuHiUcxxk/F28UzhFOD3wM4glYB+cEjgIZACH+Uvx++vD4WPcB9tn0ofPE8vbxPfHC8DPw1u+W72vvX+8x7zLvV+9r75jv0u8p8MvwhvEy8hTzB/QH9Tr2T/dk+In5lvqR+3/8gf16/lL/IQDtAKMBVgIoA8oDRwTSBEwFvgUiBnoGugbfBvIGCwc7Bz4HEAfUBqIGTAa6BVwFzATpAxkDJAJCAWIAav+N/oH9hvy7++X6JPpf+br4Dfh392f3bvex91D4FflU+sH7L/3l/sQA0ALJBJ0GowhpCrwL2gyODQAONQ71DTMNEgzBCv0IwwY3BIkByv6z+4D4XfU88jfvauz/6fHnEOZ75Hnj5eLJ4iPj4+NJ5RbnUOn36/zufPIR9tf5zP3NAfEFwglzDQ0RKxQHF3IZXhsOHTYe6x5wH34fOx/KHv0dGB0AHJMaCxlmF8IV+BMAEhEQEw4XDA0KCQhDBnYEnQLxAG7/7P1+/DL77Pm5+Jb3a/ZJ9VX0evOH8qTx3PA08LPvIe+f7m7ua+577sXuRe/z79bw0PEP85X0CvaL9yr5zvp4/O/9Tf+wAMUBswKVA0IE7QRuBa8F3AUDBiUGJwYtBjMGFgb2BecF3AWSBTMF+ASjBEME5ANwAyMD6gJuAtkBUQHXAGwAs//6/o7+Av5i/c78UfzD+xj7nPpE+vP5ivlY+W75kfkR+qz6ffu3/NT9Gf+0AHcCRgT9BccHlwkaC0MMJQ2aDb0Niw3LDMgLZwqUCG8G/AODAc3+1vvJ+KH1nPKh78bsP+r15/DlXuQ443viQeJL4svi5+NO5T7nsumM7ODvZPMi9xb7GP8bA/4GzAprDtwRBxW0FyoaURzyHQwf3x91IHkgJiCpHwUfMx4VHb8beRo7GbQXKxaaFBMTexGFD6kN1gsPCkwIdQbZBDcDlAEMAID+//xv+8r5Kvh99uP0XfPV8Y/wZO9B7kTtWeyO6+Tqbeo76kXqieoA667roOy27fHuhPAw8tvzq/WQ95H5qvuQ/SP/wgBoAt4DJgUVBuMGogcNCFUIeghkCCwI0QeABy0H0QZsBvwFmAUoBcQEWwT0A5QDCQN8AggCuQFyAScB2ACvALMAmACjAMgAzwDhAMYAhgBDAMf/PP+o/gT+lv1B/fD8ovxZ/Dz8lvxa/RP+4P73/30BJQOdBCEGkgfVCOQJpwooC2gLMAt/CokJOwigBrUEfQILAIz9CPtM+IX11PJA8Nntl+uK6b7nNOb25APkbONE423jD+Rb5RrnMenA68buE/K09Zv5ov3KAc4FoQlqDQgRWxQzF7UZ8xvMHVAfYiAOIWIhaiFGIfAgWiCDH34ehB1tHP8aaBmkF9oV6xPYEcAPaA0gC+gIsAZ7BEgCMgAi/iH8Hfo3+Gf2m/T58nHxEfDZ7qvtrOzj6xvrf+od6uXp0+na6S7qyuqT65fs1+0v77nwdPI49Bv2Afjj+c77jv0E/0wAhgGpApEDNgTLBEMFhwWdBY4FawUxBdkEUwT0A6oDLAPqArgCfwJiAkECFgLmAeYBAwI6AosC0QIRA1EDfgOZA54DlgOCA18DXgMSA7UCSgKGAe8AQgBc/1X+V/13/LX7SfsG+wf7c/s9/FT9wv59AG8CXgRMBjoIxAkHC8kLEww/DB0MpwvmCs0JPAhkBlYE5AEa/xD85/jL9cDyr++u7PTpqueR5abjDuLa4DLg/99V4EnhsuKY5BbnDOpk7Qnx6fQh+Yr95gErBlIKVw4NEnUVlhhUG7sdlB/qIAoi3CI1IxIjjiLUIdwgrh9QHrgcJBuJGdQX8BXeE9IRvw+tDYcLbQlkB1MFbQOeAdD/3/3V+9z59vcj9nX06vKF8UHwD+8Q7kXtmezv61Xr4eqk6oTqfeqH6rDqQusS7BHtHe5X7/3w3fLn9PL2K/lJ+yD99P6NAAkCXwN+BIQFYgYJB3sH1gf/ByAIOggmCO8Hqwd/B1EHUgcsB/IGugZaBhMGowVmBRkFywSqBHsETQT5A6oDOQO/AiICoAEsAX0A4f8t/4f+vP3g/Br8LPsT+hD5MPh09//2mvZ69rf2ffek+BL6uvvP/VYA3gJvBcUH6wmtCxUN7Q1+DpwOSw68DXQMOwt7CXIHEwUTAhf/wftc+N/0aPEb7gLrbugC5s7j3+FJ4Fbfwt6A3qTePN+E4HniC+Uo6JXrSu9b87P3Lfy7ACsFWwliDS4RshTwF7waLx08H9wgOCIvI6cjnyNLI7siyyGLICIfsh1HHNoaeBm9F8MV2RO2EYEPMA3CCkgIBwbhA7QB0//p/R78Xvqb+Nn2NvW/823yffGi8PbvW++x7izum+397Gvsw+s369LqiOqM6tjqYOsy7FPtue508FbyNfQt9k/4ovq4/Ir+KwCaAf4CFgT8BLMFXwbsBlAHowfUB9UHoQdBB8EGbgb1BagFaAXjBFMEqwMiA54CGALIAYsBWAFaAXAB6AEKAisCRgL7AQICuQGsAXQBCQHaAIQAMACO/+P+Hf5W/bD89/tK+776fvo4+hf6TPqy+nb7gPzL/X7/owG/A64FWwfLCCQK4Qo+C1ELGQuhCsMJ5AimB/kF8AOIAej++fvv+ML1rvLx7z/t2eq56LDmIeW946jiAOKV4aXh/eHm4mzkTOaV6FvrpO4f8if2e/q7/tYC5gblCpwOJxJdFWQYIBusHdgftSE2IxEkqSSyJFgkiiNQIhchbh8eHpsc+Ro4GTAXOxX2EpUQKg7FC0wJ+waQBMgCWAC3/hD9s/o5+fb2bPXK8yjyF/Hl7x3vVO6a7VTt/+zl7Nvsx+zk7BLtYu2w7TLu/u677/jwYPKk88b1Rfds+Tv78vwM/7r/aQEuAh4DQARkBBgFWgWDBZUFjAVvBSoF0gSKBCAEBASwA8oDngMdAycDZAJ2AhACvAHCASMBRAHPAJEAngDg/+P/Yv8N/0f/nv7G/nn+Uv6h/jL+U/70/er93P12/ar9Gv0H/cj8ePxd/OD71Pux+/r7rPyS/dH+ywCQApEE2AZRCDsKHAvdC08MywukC8AKxAmUCO8GUAX9As4AMf7D+i34mvSw8aHuR+s46bfmS+U45EnjTuMv42njV+Qm5bTmZ+g+6r/stO8/8w33Ivv4/x4EGQmzDJQQMBQYFmMawRp8HegeYR+mIeUgMCLCIbUg0x8CHhIcuxpzGAgX6BQOE7URcA+ADvkL+wqICNYGNQXgApsBCf/i/fD78PqF+Sf4S/cp9oT1P/S288Hy9vEt8ZDw8++K73LvLu+a7+Dve/AF8X3xKPL48sDzwPQX9jD3iPj7+Zv7FP1S/n//owBjAQECcAKZAo4CTgICAmcBQwENAbUAuQBtAJwAmABqABQB2gA/AawA9gC3ADoASQEeAAwBVQBiAOcA9v/LAHQA7v8MAHgAKAC0AEIA3gARAcn/mgCM/5b/HP/U/Xb+Qf3n/Jz8CfyY/Pj7EPxX/Oj81f2m/p8A5wGEBIgGOAjkCiEMiw7HDtEOOw/hDesM2woECYsGwgP7AHT9cPoQ94vz5+8g7AHpkeXd4ozg1N793SPd3d1q3vnf1eFR427mGum97DnwsfOu+AL9GALMBqEL7xC2FIwY7xu1HvAghCKWI/oj2iNcIxoikyClHkUcxhloFmIUjhGBDlsMCgrQCPAF+gRJBEID/gIlAX0B7gAXAPP/Bv/s/iv/If7o/ff9EP0n/RL7VPoN+hH49/Zd9fDzkfMG8vDw6PC5797vK+/W7ovvqO8N8I3ws/F882b1m/fX+Rj8c/4sAOsCIQSwBR4H9gb0B4gH8gYnBywFMgQUBFwBSQKz/x7+lv9f+8P9jvue+oT9A/l9/E77uvvD/i78gv+B//oATQJdAucD5ATQBT4FzAdLCFoIbAiKB9YJ1Qe2BUwGoQOBA9YAFf9d/mX7Cvs++JP3pPaw9kr2fva2+P/5k/3j/igD+AbyCS0NSA5uEKMRuxGAD/8NoQv5B70DWv80/NT1rvCz7B3nBeOI3lTbUtdD1PvUmtNQ04jUBNjU2src++Lk52bsxvCz9tn8+wBbB0oNJBLvFn4b6CA2JC8mPim/KhMrxik1KaQoKSbpIlYe3BuFGH0TSQ/GCooHwQP3//D9Ffx++0H61vl2+1f+q/+6/3ICIwURCWsI8QgFDPsLJQ0/C/wLIQxRCR0H2ASXA5kB4/2f+bP3s/X68+jwDu4m7ontaeth6rfpOeuT64rpV+uR7Evvm/AY8hL23fi++7v9zQCoA8cF4wa1BxYI4gj/B18HAQZdBDoEsv8L/yj84vnt+J3zt/V08pDyyPN28E71g/O5+KD5MPlKAHn/HgUABIEGVwt0CykOKAzlDQESyhEsDWgMEg6lEGAJFwQtCKEGrAO7++D6XvwU+Pjz/u938GzxmO9q7HHu/PNq90r4Rvl/AagKpQwvDSIPihVUGKMSfRF/Ea4Odwiu/+n8/PgU8fLpWOLe3RHar9Xl0cLNeM2QzxbQgNFo1qndQOLQ5ajskvUJ/vsBjwYJDjYVYxsSHg8h4CVdJ5wpjCl/KIIpZCZ4I4keWh3LHFAXVREmDlMOoguBCBcFcgO8Aq8AD/8Y/kb+0gA9ANv/UQJOBhUNZwzeC/gPkhT8FsISYxGfFIMTjA/aCncICAiqA9T+r/ma9uf2IfOO7N/pP+ux7cDqX+cF65/vtPE+8PHx5fdM+0n7Lvus/W4BcgLi/xgAzAJwBMsBpP29/Z3+qP1f+W/13fXW9T70v/B+8aP00fFt8fTxB/V++Dr2gfcU+W39fARTAPsBgwZKCfcNaQcRDKkN1wyPDt4INQzGCjUL1AuPCQAKVwa5BuoG1gQCA0H+Uf6l+6H8Nv4S+Ln2yfTx+av4F/Nd9e318fZ29OL0mPvzALQFPAeZCBUT2x4vJuQhIRoIHAMhgx8BEnwEpv4U+fTt6OLC3A/ZH9LByLjFcsfkyunLQsn6ye7PANot43Dn++z88wP7+AN2C9YSTRXOFlgaoh1wIuMipSKHIGwfch+qHXUebByhGCESRg3pDQ0MIwrMBNcA8AA7AF0CBgLWAuIDzwEZBPMHXQsqDbIMYQ3JDgcSshTNFcAVDRz0Gj0RFxAsE8gZLg4gAEP+n/29/9b2gO4L7ujsi+zU6eLpJO9f8FzwjO9v8bf43f3q/EH5Nfos/kcB0/+e/GP7M/n1+Tj6iPh79xP0KPQL9GnynvP681Hzf/H+7yzz8vTP9Of2z/cQ+Uv6cP4cBFAEIgLkBFQJywy2DCMLmg3CC7YMpw22DBsNpwevB8IFywSbBggDHwMwAKgAMgKVAj0JfQeWAWf9SQF5C1sGFf7g93b75QJt/R35jfMV95H42vEJ8PPuofQv9DbtuO4o90gFZgnLA+QIDhTtI+goqx9IGL4ThhmsGIQJlPlu7RjpZeJj2D/S9swKyZ/HhcdVyVHN69N+3JLf9uGi6l735wFaBB0GJAxiE/wXFRe0FK0VzBk/GqcTUw9oEF4U3BKiDVILggueDysQ5gw9Cq4JDA30Dx4PxA23DEAQKxRjEjkRUg+/D4ASyRElEcgNygweEMQN/QyhDBkPdxPzDK0EogGvCAsPywVL9+/yRPi2+g/31O+q8E/zevG88L7uIvUw/Bn77Pd58+z3HAISAmz9//bW9ZT72/p694ryru5Y8WzyJPC/7ibuBPN19jT0afMm9R776P5F/DT6h/s+APIDvwI0//H/EQTsBrMHjgXWCNkHHAgHCowJ4QuUBAEG1wfRB8IHygGeBqcFDQCV/x4BpgYABGv+vQBBAsUGtwnJB3AF9gNxCPwNEw4pCK4D6QEZBVYFlP+g+s73t/gp+SD1tu1g62zsQPEB8HrsyO5L8xf+BwQiB5YJOhA3GWocVB8yIRYgpRaYCuMFnALH+1bxX+Ss3OzYPNdQ2C/WatYl2tnbhOC85UPsqPQW9qn4n/xKALEGWgm+CpsLXQveC+8LNArvCr8LfwnpCHsH9AlzDDoLfAwADbAPCBOME3sTJhJUEhwWnhffFt4UahJJE2oUEBUcEm8NFAu8C5QM6wuKCeAHSQwdDgQLtQJ1ARMMpw8PCDn7IPcM/h4BIv1j94Xz9fWi+Nv51PoF+i796/8k/p/7vvw7AXYCM/wf9cXy6vPy9Yfzce386Yvqouwp7qDs7+sX7jLxJvQQ8yXyb/eS/ZD+lftC+nf9WAH1/1T8Tfwj/mEA5/35+pD9LwBvATwCDP/T/icBzgJ+CY0DQP6j/fn80gbVBTcCLf8y/IMDiAeWBRwFVgVMB0oJrwduDIUS0xALDfEI7QjXCyYHkQM+AJn5sffk8XHv3+5g7IjupOsB6MPmguaE67rwQPPl8/n0O/0tCjgR4BE5Fr4jhi9hK7Ud7xRvFecUuAmG+oXtP+Yx4q/bntXg0oXVq9oG24LbcOF07Hz3Tfjx9Qf6NgIVCsgK0ghhC+kM6gx5ChgHeAgSCs0JMQfPAysF2AplD+IPtA1fDnoTdBdrFvMS1hPHFnUXxhPeDgYP0BBfEn8QKQ2kDDMMFQ2pC7cL1w+CEB0NNQa0BaILDQ3JB9T/TP2M/aT8J/uT+Q74I/jQ+FT3N/cV+qD/fwHw/Mr5Kfo0/FD+pPz/98jyX+/n8PLxvO4S7LTsCu+i77Xtue+i9cf5jfod+Rv67vw8ARoDrwBp/ywBfwOO/i/43vcS/BH/+PuN+fr3Ava19pn5df3+/ZH5lvYj+GL8SwEoAcX+c/5w/58DnAbxCFkL6AcUA0IB4wTwC5gLTQj3B+UElAN5BXoKgQ1uBhYCFAE6/mT4xPIo9Pv0cPXm8Gfspuy77RTztPDV7inztveJ+7j2YfXi+xIDtwncDH4QcRVOG9ol8CyUJrUYeQ5dDQQMRgIh9YnoKeF83E7Y1dUF1mrcQeEC4S/ixero+bcEtwVmAyUEIQgeDZ8PgRCZDcoIxQbBBRcEyv+AALkEZQQCAZD/CAaTDSAR2BI/E/cTvBTeFUEXqheBF64VNxM2E9ATlBIzD4ENrBFCFn0T+wyNCo0Nig4FCBQD7gLjAcn9/fZk9Hr2tfcI+UP4o/dW++L9pABMA4MEkwYEBcICTQFe/az63/mb+Dr1CvBd7lnxP/PX8eLwgPK+9Rz4Gvjq91L45PsBAXUBoP2n+dn7CQEaAUH98fn2+pb95vsI91zzhfWM/N/+eflk9Ef2BfyW/k79Rv2V/14AigAUAML/oQKzBOcEEgOzAYcEOgaBB3EKrQnv/grzH/c5CTEVcQoK/Oz8wAUGDDAHQwI3BPwDqfxY71DmGu75/C3+H/Q/6JDoQPNY+PT8bP8D/1b/avwJ+039kf+pBSIM2AvuCR8IPhHHJFMtNiPOCib8TACwBIH9DO6L5DffIddf0OnSvd+A6t/uWfAS8nP4hANDD+kTSA++Cr4KuAtBCqkIWQgKBKj9ofhK92r5WvzFAVgEJQPUAsoECwo5D48SZBT5FU0XgRbFFAsWohvdHfoZ0xW5FZcaCB3aGXEUHQ9sDIEG5vwU9+j1aPia9+/yEfIl9Qn8FgBj/4MBSwVGCZQLUAznDFUKawUSATL+ifwv/cz8Tvlb9RbyA/Nw9Z721fdx9x34JfrC+m/6pvl0+ZD6EvrM98P3uvgN+VP3a/SA9t/7BgFKBAwCQP4R/H/6q/sA+wP4XPao9In1n/TA8uH1T/mV+Ub4VfrEAEgF7QJZ/1X+CwAzBLAElgLxAT8CTAVrCZsHogP0/KX7SgZ7CnEKuQRzAUMJ5wdNA/n92/suAV3+k/ls9h/0C/cN+I74k/m1+Ej4L/Zn9gb64/sQ+jf2h/Wd9sf3NPuh/4kE/AidEW0jfDANL4ge7QsPB8IFNAOi+p3t2OOi2TfVsdUg2eDgqOhn8If23PuJBHkOYRSGE94N2QiNBlAGBAauA8n+kfrH+E73t/Zu91H76/5C/+X/AAM5CnAQsxG2EHEP3hDoE10XbRsTHG4a8xdMFjwXbxg5GF8Uxg9+DTwLdgWg/mf7fPtG/C380fwk/Tb+nAAHA9oEcAZTCRMKpAfiBAAFJAa4BFMBsP19+1v6zvkJ+ZP2bPQV9Uj2avYl9NTywfR69lX3zPVv9Cf1ivcc+fr3i/YZ9036UPp+95j1OfZP+m393f4j/2L9q/wa/Xr88/vC+q/6NvxF/EL86Pov+Qr5Afq//Mj9Ef7P/aT/TAFM/Tz7LPlK/kIEXQOSA5P9B/9+AWYA8AI7A9gJagx1CIsDBQH8AjgEUgFX/jIB6v5g+LzwPfI2/rMDLwNe/Ir21veX+cL49vb59z/+5v5O+Ir1gPWN+d780QIWD5gWvRjoGOAcOyRFIjsV9we9/jr71/Wv7AXnoeLK4nXib+Da4troc/TOACkJwQseCSMIsAmsCf8G5wOpAnf/o/qT96v3qvtf/tf/pP9X/q7/nwEOBaYIBws7Db8NygzuDKMOQRGvE9cU8RY8FysW9xY3GGQY9xN/DuYLkAtLCoUFov+H+6r5NPct91b6TgAXBMkChgKhAxsI1QmyCF8IuwfbBvsBX/7h/Cz8svmb9fnzPvSf9gL4T/hZ+A/4DffS9uX2zPe59x/1bvSA86r12/ir+t38bP2k/Wj83foT/PX/kQAu/sT6ovgQ+Vz3TPc1+VD5FfiL9oP4Pf6YAOf/X/1j+/v7evqU9/X3g/9kBIkCpvo6+fUA7QHMAwEAZADSBKgDdwdXAa/9nP8TASMHCQbbBegGngMqA+kBlAGOBGkDdwMaAdn96P6l+wP5F/WR9RX86f89AV38x/dy9V32Avuy/swBhAG0/oL7nfnE/IoClwbNCoMPzhbMHDUbYRZ6Dt4HAAId+k31g/JT8SnuAOgl5HDl2uqS8ZL3h/xNAj4G3werCAQJGwrWCBoFuQBB/P76N/3L/1oAzP0F+wH6Q/sc/9wCXgXSBh0I5wh3CpkP0xV2GOgUvA+TD24T9xZ1FgkTkhHPD98LnQeRBIIEtAKU/tr74/qv/eYApwGFAmoDxQVcB/QFxAWzBQ0GbgZnBPYB//6c/QH+s/xt+g75t/mQ+8/7wPo2+dH3DvdN9tv1d/Rt9Hb2zPgO+v73k/fX+bD8h/4F/Yj8P/1G/Qv9gPtV+q34lPWS9F72avpA/fT66vZ/9Uj5Mv8gARIAKv/6/cn7l/ih+D7+UQJEAn/+fvtk/Vf+UP+H//H9gP+SAcMEtwQ0/iv9wQBiBzgKWALP/CL6bAB0CDMGYgND/hL+U/2e+T39lv+BANb8BPkQ+2T7Bf1VALQCzwCt+zz78f0z/hL7hvos/X3+GP52/C/9KgBIBGkJpA0JE3EYHxnRFgEU2g/ZCCT/8voo/TL9E/nC8pPwWPH97lvuU/Lx+RIAm//w/fj8dP2vANQC4ALU/mX5vvfN+Lz70fya/CT+dgBhAbX+5f1oAuQJig4MDaoJzgg2DPgP/hDdD5YO0g1kDQkO+Q/WEbQRsw9KC4gGnwMcBJMFLwSbAQUAZADMANYApQEKA5ED4QMrBXEGnwaDBZgEngNdAjMA5/07/CP7Wfpa+Lz2R/be9mP3g/bq9V/3CvpU/CT+N//n/1T/cP0c/ab92P18/Rf8j/rW96n1+PYC+pH7cPpE+XL6rvxf/b785/x6/fj9+fzj+Xn5S/uI/LP6o/Xb8+/0evbs96n6Ov+RAUkB0/4J/Sf8zv6PBvUIWgVR/9z8iP+p/QP8ef4DA+UFRwNf/jP8qv4uA1wIEwZSAYP+KPuy+Sf0I/W2/DwBgwEV+8z3uviU+zD/HwE6BjELmgv/BHD7cPmL/UcF3ArNCawGzgMhBjwJkghyChUQCBXbEO0E3/0c/zkCXP/693v0OPV39rf0pPIe9lT97QIfApH+c/6ZAYEEzwMNAgAAWP3H+3r6O/ow+pn73P8aAm4B4gCTArAGUAn9CdoMQQ9tDwEOmgvCCxULZQktChYLagswCgoIuwcfB4gGawaCBaIEIAP9AYEBqwL8A34EQgQQA/QCNgHwAOMCUAV2BvECtP+6/ur/aACN/cj6g/kX+lr6Ivik9tD2S/l2/PH8qvyd+5T7YPu++dz5Jvw4AP0BXAA+/QT6R/iz94X5+Py+/uL92fnO9fT0UfUq9gH2z/Vd+CL6ffk++Nz3ZPoo/Xn9oPyW+0X6Z/oZ+lH4w/mY/E4CXgaaAwgAAf1S/skCPgTvAhwCrwBf/9P9/fqH/fb/1wAwAwYBjABrAX4BjQUMBssFpwRS/+/79vgX+o/9mwFDBLICCgEs/Zb7Wfpz+qUAzATQBtQCTPu0+YH6hP/HBXIHXwb8ASwBxwbGDocYXh1NHMwV6gshBQUACgKlBoQGCQHx9o7zpvMW9Vj3gPp7AScETAI3/lr9QwG1AzMDUwBX/QT7t/jT90L6C/7UAHIAzf6n/4gBCQQGBvcGdgdzBx0INAiLB34HMAjhCAQImgaSBoAHhwjlCA0IwQfYB/EHSweUBCgCbwDH/6j/+v7U/nX/rADTATcCRgK4AgkE7wWWBf4C5f+s/T39Qf1r/lj/H/6i/Nn6Bfqw+vz6T/yI/ff+lv9M/Q38AfvV+fL5pfrE/FP9pfrr9+D3Pfsk/Yr6//cI9/v1DvV+9cT4Kfv0+qL6YPj89sf18PX0+cL8XP+n/Nb41fmu+YL6+Pnv+gEAYQDJ/rQAvAVyCmUGG/7p/Kb/Sv/S+x37vQEJBwEDxv1a/SkBCgXsATD/NQNQBxwKtgVz/p39aPyW/fz9ev3Q/5X+kv5D/10AtQL0AowDngK7/9r8bfuO/SMAEAEuAgIFEwdHA+/9k/9ECgsXYBpmE/MIRQKEAVUB+wCpAKUAtQCN+zr0lvF09qL/kwT2Asn/vv4N/x//wvx5+8/9IQExAhj9qvdt+Pj9EwIRAXL/MgGjBRAH1AONAIAAnwM2BDECfAIJBZcIRwgGBacEdAebC1YMHgtfC7gLSAv5B28DWwEKAmsDWQLG/gb9H/9VA/sFwgR1ApIBHgI1ApwBLgLMBLAG9QNq/yH8ofvQ/PX8Mv16/Kn67fm0+jX87vwA/Uf+5v9m/7r9ePxj/BH8AftT+y38ffuS+Az2t/Y1+aX5/va49GH14/gr/B/9Lf25/Yb9xfqj9dfy6PVg+mD9y/s1+Mj2AfSK9IP4Vv0UApkAz/8XA9UDQALW/Jz68/+VAGf8EPeh+IkFTwwbCP/8+PQZ+df+fgEgAigECgjHBAf8cvVV9nT89v91AZkBWwIrAlT+ufsy+wf/8QLXBNMF3QKW/yH8gvyh/lX+iP9lAfgF4Qf4A3YBKwS5D/Ya0Bs8FtUO6wtuCjwGGQMkAXUBZP+e+fP1uPb/+/b/IgHGADH/Vv9RABMC+QGn/oz7b/pH/H39wv3J/o0AsQFS/8X9Tf9xA/4HmQfLBZ8DEQEUAQgAjgHJBOUFVQf0BU0GbAjECEAKuAq8C9sMbAsgCXAGEwVIBDoCXAA1/0X+D/1T/YL/VAL3BJUFoATuAZj/VQD0ArgFkQWnAsr+hvsm+iL6jPyo/8wAdv83/eD9Vv+A/9L+yfxj/OL8kPzS/O77MPtf+nX4Uvnr+rf7B/wX+8n6ePrM+Kv2dfXO9Nv1H/cU+Hz6DPs/+0r66/a29W32Jvot/pr9Pfw8+oH3M/R38b31Rf4sBkcIrgS+AZH/D/8k/8YAGAQiBWoDHAEbAGX+sful+E35Xv0nAMgD8gVkB9cGZwAx/PX6hPygAI0AHwIgA/gAqQC9/bD9zf6U/ogBwwF3A3sGxwbmBGX9mfeW+F/+TgZyCZkHrwPwATYGRg1wFJAWMhMpDXoEsv7G/oUFxgxSCyADdvlq87XyJPbG/DgEoQjCBpYA6vqi+YP8Wf/FAI4BcwFQAJ79K/sB/s0DqQaXBVIBHwB6AYj/vf2d/dAAOgWMBeMEzAP3Au8CFgLfAhsGzQqFDakMRAn4BNYCcgGLANr/z/65/9gADwGjAA7/v/3v/BX8sfxD/4ICDQVHBVcD+gCX/8L/ggC6ABIARv4e/OT7xP2j/1oAX/8D/ob8ovpj+Sf4L/nJ+2j9Gf4n/Bj6HfjC9oj4IPqe/Dr+Af2G+4r4Fffl9jv2Mfdy+EP60Pqd+ez5Pvtx/Hr9SQC2BPYGhAN+/O32IfIJ8eT0dvv3Adj/1Ppc+eD5DP0L/S8A3QgWDTULWAKa++379P1n/zz9evu5/Lf/0QBm/wAAWQA6ATH/RfvD/BMApwToBDgAbP2K/B8BFwaQB3kHAAZiBpEEYwAb/Sf9iAI9B94IfgZ7AnwAzf/Y/3P/BQPRCrkSkBVFED4JZgNDAb0CrAWDCrsMIApsA8H82vms+iH+KgCaABP/Pfxx+4b7fv0fABIBDwEH/9b7nPiW9yP6uP5QA6MGXAgzBbf9cPYF9ZH6pADkA2sE8wSmA7n+tfqm+qwAlwfXCckIfAW2AywESQQfBeYEPgOkAO78cPuo/AcBFQVpBSsCsPyx+4j+7AFEBLMEkQZPCPkFoQBD/XX+7AIvBdoDaAKNACP/Nf4//f39WQDSAXcBdf4y+hn5V/mq+Rn6GPk9+ZL55ffV9sv2+Pjd/Hv+z/03+n32jfVS99b77f+yAQn/LPqK9eLxmfGs9DH73f/eAEn/9fuD+Q31wfPy+B8AyAUVBDQA7P2m+zL8Yf6JAukDsf93+k75ZP2f/5IBxAF4AZECw/0F+ov4W/zDBa0JPwoVBtT/XPxI+qL8TQF6BB4FVQQGAxkBKgC0AUkFYgXzANb9k/5IArMDdgI0A+UEsgUiAwP/Yf1S/6MFwwz3EP0QRA97DooNVwupCHwIMAp1C9UJhgQ3/sz5APuE/lf/6v29/Mj+pQCb/yn+Gf+CAl4D9/4D+c32ZPmf/Qr/Bf6e/Zj9+/3e/N38Xf+TAAUA/vtD+W/5/vlt/ZQAmQJjArf/NgCNA2AHNwpIC90KKAitBJcCowKzAlUBcAB5//7+kf4F/pAA7wIcAzwCzQBiAoUFfAbEBIQBTAAcAtQE9AWPBIIC+QBXAO3/MABGAqsE/wWDA979o/kc+WX7nvyw+0r6//n6+Qf4mfVc9Sv4hPwJ/uX7gfmy+ND6RPxc+5r61/n8+KH1J/IO8lX1/Pl8+377rvsv+pH2lvL882P81QPEBYcCGf56/GP50Pa493b7gQDUAfMAYQA2AFj+cPvc+g79IwGhA0UF0gVmBAcCWv7H/ET+uAE5BlIIJwdrBA0B5//UAKoB+QGn/x7+Bf9KAJQC/wOzBb0IfAkeCMoFPwPUAkEChwHaAfoCZgWSBWEEPwMZA60EzgVuCF4M/xC8FKQTwA6rB4gBSgDCApsGpwdVBF4AXf6I/uj9yvzk/Ir+7v+z/X/6Mvnl+pj9DP7p/AT8X/yz/LL81fwm/kgBPAMHAsf+Jvy4/RoBbwGH/oX6ivrx/UkABgFKAX4DkgWhBOUAZP6UAOME/gc8BwwFtATbBEUDK/8L/If8X/9GAdMAHAD+AOYC+wE+/cf5GPseAEEEfARVBK8EuAOoAI/8oPud/WEAQQJ9AiMCZAEEAckA+f97/rb8U/ya/Qv+PPw/+XT3KvfB9qL1jvUR+BH7f/x6+tP3hfjr+9z/9P8x/Qr7l/jI9aDzkvOL+Nf+NQEB/934jPTr84f2lfziApUGmAUSAfX7//fr9dH4fgASBjEFXQCj/dP+pf/e/gAALgOvBlIGrgFW/zQAoQHA/1H6rfk//x8FBweXBFUD/QGt/3n/AwGRBUEJ8AkFBg39ivbK9iL+dAX7Bq8FXwNbAhUCbQGTAuYEbghcCWcEJP63+7D/OASQBPYDkgacDIMQLA/qCmIJcQ2aEnYSrQu5BJkCGwJn/+v58PW09zT7lPzk+sX4//qg/pj/5P2i+0r8dP4t/z/+UfuJ+ND4t/qp+2X7ivsn/tQAYQC9/u39RADuBK8GaQMF/bz59vxzAU4DNwP9An8D6wIHAvgBUAMyBvgHfgcnBGABaAGNATAA0vwf+yb8Sv3s/Q3+4P4sADQB1wGbAfUB6gMUBjgGdQM9AFP/TAC7AOn/6/6E/qv+If5t/QP+Ff+//83/Rf/8/gL/v/4R/u37tvmF+DT4PfpG/Hj9jP1o+9n56/hE+aT7A/52/yr+xfoE+Kn3aPlq+s75JPjO9xH6lfxN/iP+rvwh/PD7QvzX/bX/WAMABuMCvvy89mH3sP10AgwGvgYCBlADxP1P+kz6hf9kB3ML8ghRAsL9YPyc/DD+2AAkBe4H/gdzBjEC6/6ZACYGBgl1BSEA6/4SAjoE5QMrAnwBAwKq/yj7KfjU+vcCWwhbBqEBrP9gAXwCUQF2AEMBRAQpB9UI6AfRBBsDcwImAzYFAgoiEYcUVhLZCzIEuwBaAQcDDwS4AloA2f2d+tn3Avfs+F385/6W/tr8wvvs+yn9GfyH+BD2J/ak95v4hPl6+039pf0n/Cb7mfzf//MDfgXGBLACJ/+S/Gj6C/sP/h4APQKDAg4BtP8A/+4A7wPbBTQHJQezBHwALv1A/RUABwNAA/oA+f2A/N79NgA7A34Grgc+Baz/4fqU+gj+YwGdArEBGv8O/af8zv0QAK4BDAO4A04C2P8P/bn7dvxF/Sf9Gfzc+3/9i/5g/VD7pfot/M397v37/C/8Efyh+9364vkM+eL5S/yL/hv/U/4T/qb+Df7q+8D6R/y7/3ABvP+u/ZL8e/zs/Pb8gP5HAAcAgv///6wBcAP0A70CBwB1/Wr93ADDBH4FKwM1AN//7wEYAlkBnwGLA1oGkgRzAYQBrQMaBq8Db/8w/t7+QgI0BdoFUwVFA2gCRQH9/ob9iP5mAlAEzQOvAdr/0f/T/vb9O/5NAJ4DvATcAnwAjQBSAtYDfwSzBC8GXAg9DLYQtRHCEP4NFQweDFkLCwuhCFMEjf/i+i35AvmN+cX59fiz91T2Ofeo+ZH7Lfxi+6b6tfk++DH3nPa69ib3Avfn9uL3p/lU+yL8vPsP/LL91f9hAc8AJACLABcCBQSkA9gBv/+K/m3/qQAwAqYDigQMBSwDTQAC/7z/NQJNAxcCPAAG/1v/pf+z/pz9rf2z/mj/Mf8h/8kA+QLsA+ECmwAs/4v+iP5W/6IAzAFdAjECxwA1/zD+P/7N/3UBAQMRA8EAfP39+bj4Efp8/N3+Rv9w/uv8TPsd+8P7Wf3P/oX/HgDI/un8uvte+yP8M/ya/P38r/w7/CD8lP13/mf+nP7R/2MBof/U/G/8E//UA5YF3QV3BFUAc/yT+V78MwIyB9sI2AVwA0UBigDo/9L+uwDKApsFmwblBPsDHgFF/yH/hAC4BekI4AhGBA39Y/oZ/LoAAwI0/jP6LPms/AEA9gEFAtEAmQBc/0v/r/+gAAkD8wJgAbT++PwM/kH/dwFlA4oE/QQsAwMCmAEQA/wFjAeVCMAGeAX4BhsJGQxnDI0LiwpmCDQHiAVcBLAD9QGu/3j8fPo8+Rb3kvTb8mz0/vbN93P2cfRs9ef4cvxL/sX9YfsV+Cv28PYX+ij9lP36+7f5c/iW+EP5hPsH/6oCZgYJCI0GvwKk/vX9ywDmA+AEuQNcAgsCrAENAbgBkAMvBZoFJgXyBC4F0QT0AyEDSwKmAVsAYf4x/df8HP0w/q7+1/5C/3n/vQBNAi0DZwPHAhUDPwSWBLgDKgL4AHcAxACUANT/8f5k/XL9ef6k/0EAtf0h+zL6g/q0+7v7Gfzi/Bn9Yf3l/d7+hv53/cH97/4HAGz+A/zG+zb9FQBtAIz+PP1h/MP8qvyo/EP+OwDNAA3/tvzS/Kb/MQL5Av4BfQGqAssEgAa9Ba4DGgG9/ysAcQDCAAcBqQFDAiYBJv/q/Xb+IgFnA/cC8f9C/Gf7//3EAQQEQgOAACr+o/3D/rP/kP+yADUDegVNBJcAAf94/64BxgLIAjYDlgKfAhUCLAH9AC8BtgIqAxkC/QDWAEACMwPjAj0CfQLwAzcEGALp//QAtgUcC8INQA08C88IxAZ4BcoF+AZoBjYDC/5n+Z72wvUY9pn1ZvQa8xvzw/Q29l/3gvh3+vD8e/1B/L76vPpm/Jz9vv2Q/Cr7JPpu+eH5A/q1+XD5wPlo++v8Yv6Z/8f/qv9g/8T//AALAhcDugP9AxoE4QOSAx8D3QKPAnkCyAIzA6ED+QLwAdgB0wL+AzUE6APzA6YEcgXHBdUF0QWqBX4FrwVHBiUG5ATzAwgE+ARMBTADSQDN/mD/HgF1ACr+pvxn/Ln9gf0I/HH7EfyI/Xr9VPzh+7z8mP2o/IH6l/n7+uv8Gf00++L5uPoQ/ev9F/wh+m/6iv1EAEcA8/2W/FX+PgBSANj+Pv7g/1EBZAGzAF8AoQHnAv0CZQFJ/wL/gP+KAMQAHQFwAs0CnwMAAjv/X/8kAt8Gywf2BAcC1v8fAIsAOQEDAvEAWADC/0v/QP9K/zMBggIHAo0A1f5x/gT/EwGsAr8CzgLTAj0DAQILAFoA0QENA6kC/QGCAXf/t/2j/UT/HwETAfz/s/6Q/k4AEwLYAp0C8gJSBGYFoganB0sIogiMCIwInQf4BW4EMwMKAv7/Gf5v/Gr6ZPgb9sT0cfSM9IX0hPPh8gzzOfSW9UL2IPck+N35cPs//BD9lv0L/qP+2P4N/u78i/y2/EX9oP3N/aH+j//dALEBRAE3AZsBAwN3BAkFvAXUBTEF+QNHAxQEEAV/BVoFwQSiBEAF4AV2BXIEQwTABAMGxAb7BpsHqgfrB6oHcwanBfoF3wbsBrEFLgQHBB8EegPzAXIAkQDOAHwAJ/+X/dT9fv6M/r79bvxE/K/8zvy6/M/8kf1W/qr+1v1y/K/7qPsn/SD+Xf1u/Gb7W/uU++H6UPsE/NX7Q/u6+Y/5wPqr+679Av9g/1X/L/6q/jkAGAEWAcMA2QBXALP/Hv8n/4r/bQDpAEf/7/2g/cz+/f8XAOv/gf+U/zf/Kf9U/6H/mQBAAVAB0AB7AW8CCAJCAhYCWwI4A4kC7AJRAskBNAKiAvACqwFZAnsC5QRYArT8PwClALgCPgOC/zkBsv9TACECAwBUANsA9AHyAlwB7gANAToBogHwAGcC/gKzAqkDoAJxAroCfAKmAi0BnQAxAToB8gAF/wH+Jf6R/j7/k/4k/hb92/zt/ar9yf32/eT9+P17/Z39iP4c/0z/Wf9W/0n/Q/8Y/0H/l/9a/wX/av40/kT+0f1Y/b38pvwC/c/88/xZ/ff89fyK/FT8df0V/gH/8f79/TP+of7S/5kApAAwAX0B9wG/AiUDwAPiBF8FQwVwBZAFxgVQBs4FoAUqBoYFlgaKBlcFVQZxBWQFoAWLBKsExwMLAwkDagLCAeIB6wGSAbsBfwF4ASABSgCmAI4A7f+4/xf/8P7U/oj+mv5C/sr9e/11/Sj9aPwd/NH7bfuM+1b7S/sx+3z6pfrO+tb6Hvv8+ub6Y/vs+1n8VPwK/E78fPye/Sj+Pf5d/qD95f6I/9j/twD8/18A9gATAcABmwGKAewB+gHlAZwBaAF/ASACGQLeAS0CrgHJAf0BwgHfAdQBwgGmAZoBmwEUAv0BlQEQAiYCWAKNAi0C9wHnAewBwgG1AaIBwgHGAVYBhgF7AUcBvgC1AAgBugCtAAkAJQDL/zv/zv+v/8z/6P/Q/47/Ov8Q/zb/Wv80/1v/Jf8x/3L/tf/j/6H/kP93/7X/xP9e/4T/R/8s/yr/nP7//iH/R/9j/8r+IP+D/8P/pf/4/sv+BP8D/+f+Qf+E/3f/Sf/p/uv+Dv/3/l7/NP/U/t/+p/7z/vb+zP4Q/0r/X/8Z//H+K/+d/yMAQgAqAEwAagDlACIBEQFFATYBSgFhAVUBPAH4APkAFwH6AIwAYgDYAMYAkgB9ACYAVQBxAHcAjgCmAJcAgACwAK0AyQDwAAkB4ACkAHcAlACjAD0AQABAAHoAcQAvADkAIgAdAOr/7f/Q/5v/bv8f/yD/Sf9n/2//cv9L/2D/if+R/5v/e/9v/4n/zv+6/3L/Sv9J/3b/Sv9G/zv/B/8b/xb//v71/h//Ov9//4T/If8z/0b/oP/L/4b/hf9//5b/vv/o/wEAMgCCAG4ASABtAIMAhwB0AHMAwwDKALsApACUANIA/gAfASkBLAEjAS8BPQEjAfEA0wAXARgB+gDrAKcAnQChAJ8AjgBTAB8AEAAlAC8A//+p/8D/AAAmAAcAtf+1/5z/y//o/5j/e/90/8H/zf+C/13/W/+a/6//lP9z/2X/mf+z/63/n/+L/7b/3P/q/+n/8f///+X/4f/W//X/HwAkAC8AMwBFAEQAWwBSADcAUgBjAF4AQQBDAGIAggB7AFcAYwB9AJwAlwBnAFAAXQBzAF4ARwBFACIAGAATAOX/y//V//T/5P+7/6n/fP92/5j/l/+c/5H/bv9s/3v/e/9e/zH/Jv8o/yz/VP9d/2b/dv9f/3n/kf+t/6b/j/+n/5z/pP+k/6v/sv+y/9X/6f/j/8H/vv/J/8j/1v/+//7/6f/1/+T/5//Z/+X/FQATAAYA5P/g/w0AQABCADcARwBUAG0AagBlAGIAXABuAGIAQgA4AEQAUwBQAEEALQAjADIAMgAqABYAAQAmAD4ARABNADcARgBTAFcATAAUABMAHQAqADoANABMAFYAXQBXAEkAVQB/AI0AewB8AGcAXgBWAFQAWgBzAJ8AkgCSAIgAdABxAGsAagBbAGMAUQAmAAwACwAjACMADAD9/+n/yv+h/3f/k//I/8X/sv+U/47/s//Q/8n/r/+y/6//oP+X/3z/i/+q/6P/i/92/2f/Y/+F/4z/gf+C/2v/ZP9g/1H/Tf9H/0j/Yv9t/1n/Vv91/4v/kf+T/4X/kv+V/5j/rv+//9r/5f/4//f/6//t/+//9v/6/w0ABQALACsAOAAxABYAEQAJAAYABAAAAAEA9//9/wAA5v/X/9X/0P/v/yIAKgAfAAsA/P8OABIADwAIAPX/CQAFAOz/9f/0/wIADQANAAsA8f/b/8v/2f8DAAgAAAAAAAAACwARAAgADwAWABkAJwAeAAsAEAAhAB8ADAATAAkAIQBSAEQANgAqADEARgBbAIEAfABtAH8AkgCOAJIAoACmALIAyADiAN8A0wDRAMEArwCoAJ0AlQCRAH8AXQBGAE4ATgA0AAwA8//i/8b/zv/Z/9j/1P+//63/s/+8/6b/mv+b/6T/vf+0/6f/p/+t/73/s/+w/7v/yf/Y/8//2P/m//H/7f/a/9z/3P/O/73/w//J/9H/yv+s/7T/vP/D/8P/rv+l/6T/tv/d//r/7//o/+v/0v/S/+L/7f////f/9f/x/+z/DAAiACoAGAAEABUAGwARAPn/5P/f/9r/3P/c/83/0f/X/9D/3f/X/8//5v/k/+b/6f/X/+T/5f/X/9P/y//Q/8v/2//r/8//v/+7/7P/xf/a/+X/5f/e/wkAEwAUAE8AQABTAH0AZQBvAGQAZwCCAHEAewCAAHcAfgBpAFwAVgBNAFsAZwBwAGUATgBDACIABwACAPD//P/8/9z/7P/m/9T/5v/8////+P/4//v/AQD//wsAHwAMAPz/CAD5/+v/7P/Y/+z/+//5/wEA+/8EAB4AGgALAPf/2f/o//P/9v8MABAAFgAXAA0AAAAJACEAHwAbACwAKgAlAC4AHQAeABEA/v8AAOr/8P/8/+b/+/8aABsAPAA1ACsAMgAMAB4AJgAWACAAEwAUABsAFAAhAB0AGQAPAPX/JAADAAgAQwDe/+T/9P/F/+3/6P/r/+z/3f/+//r/7f8MAPr/6//9/+T/3P/o/+//9P/u/+P/5v/s/8r/xf/U/8P/3//5/9r/zf/j//v/8v/f/9H/xf+//6v/sv/K/9D/2P/Z/83/xv/O/9L/t/+s/7r/sP+o/7r/w/+7/8H/x//e/+L/zP/Y/9D/0//Z/9P/0/+0/8L/4v/m//b/BQATACIAHgAWACQAFQAJACEAIwAhACcALAA0AC8AIQAGABcAOQAsADAAHAAaAD0AKwA0ACoAFQBEAFQARgBAACUAGwAtABkAFgAjAPr/AAACAAEAIQAfAEIAPAA0AEIAEgAZAB4ACQAgABMABgAwACQATQBDAAYAZQDy/+r/SQC6/xYAIgDo/yoA8P8dACoAAwAaAPT/AAALAPj/+P/e//H////k/+7/5f/Z/+P/zf/K//P/8P/p/9r/v//e/83/vv/M/7T/wP/F/6j/rP+9/8H/yf+u/57/sv+2/8z/0//I/7v/pv+2/8z/z/+3/67/sf+1/8f/uv/G/+D/5v8FAOX/zv/i/9H/7//u/9j/6//q/wEAEwAUACoAGgD7/wAAAADp//H/BAANABMA+v/j//v////w//v/AAAFAAkAAgD7/wwAIwAcABQA9f/k//L/8f8AAA8AEQAUAA8AEQAfABcAFwAuACYAGQAZABwAKAA5AEAAMgApACoAKQAtACIACQD4/+7//v8CABIAMgAcACAAHQD8/woAAgAAAAUABgAHAPz/FwAUAAQAJgAqAB4AFwD9/+L/3v/h//D/CAAGAAYABQD//wYAAwDn/9v/3f/f//n/+v/9//n/5f/i/9r/4//f/93/3v/Z//D/4P/x/wsA8v/9//r/8/8OAP///P8EAO7/+P/7//H//P8CABIAIAAiACcAKwAhABkACgD9//X/8P/4//j/AwACAPv/CgAgABcAAgAOABYAKAAaABAAEwD8/wsAAAACABQAFAAiABYAFADy/+H/5P/F/9P/0f/R//f/8P/g/9P/v//J/9X/2//n//X//////wYA/P/o/+L/3P/m/+X/2v/2/wcAAwAAAOL/5P/s/+b/8v/i/+z//P/4/xMAEQADAAwAAADu/+3/8P/z//D/7P/1//7/+P/x//v/AgAAAAAAAgAGAA8AEwAKAAkACwAOAB0AGgAEAA0AEAAMACIAFQAJABsAHgAdABEACgAHAP7/BAABAOz/6v/u//L///8OACAAJgAlAC4ALAAiACEAHQAWAAgA9//x/+f/8P8MABEAEAAUABEAFAANABIAIQAWAA4ABAD9//r/7v/n/+L/6P/t/+r/8f/5/wAACwAWABgAEgAMABAABQD5//7/+f/s/+L/8P/5/+z/7P/y//r/BAANAP3/7v/r/97/1v/S/9b/3f/d/9v/3f/f/+H/5v/s/+//8f///wAAAwAPAAoABwD8/+7/7f/n/+7/7P/g//b/BgASACcAHAAQAAsABAALAA0ADQAWABcAFQAJAAAABwD8/wIAFAAYACYAKQAzADgALgAqACEAEAALABUADwD3/+f/4v/m//f/+f/8/w8ABwABAAgABQAAAPv//f8FAAoADAAYAAsAAAACAP7/CQAJAAYADQAHAAIABwD6/+7/9P/5//v/9P/z/+7/7//x/+f/6f/W/9r/9//y/+j/5//q/+j/6v/0/+r/5//0/+r/1v/S/9P/1P/U/9b/2//c/9r/4P/m/+v/+v////3/AAD9/wIAEAAXACEAFgAOABYAEAAQAAgADAAZABkANAA+ADEANQAnAAoAAQAEAAwAEAAJAB4ALgAYAB4AKQAcAAwA9//3//v/+f8DAAsAFQAdAAwABwAQABEAIgAsACgAFQD4/+7/4v/i/+//+v8EAAUABwAKABIAFgASAA4ADwAWACYALAAcAAsA9v/4/wMA/v8BAAYACAAGAA0ADgD9/+7/3v/W/8//x//Z/+f/4v/x/+z/9P/8//b/BwDf/+L/AADs//z/6//X/+H/4P/m/+r/4v/d/+f/3//q/wEA/f8LACAAHgAWAAUA+v/5//3/AAD4/wEACgAOAA8AAAAIAAsAAgAJAPv/8f8DAAUA9/8BAAUAAgACAPb/+v/6//v/AwAAAAsADwAEAP7/7v/l/+L/4v/s//3/GAAgAA4ABwANABwAIwAxADsAMQAuACwANAAwACwAIwD9//b/8f/r//D/+v8IAPb/+P/1/+H/5v/l//H/9f/5/wIA8v/z//v////9/+z/+f8KAAAA9//3/wAA/P/k/9n/0v/W/+j/8f/t//D/+P/6//z/+/8AAAgAAgACAAIAAgAPACMAIgAUAB0AHAAJAAsABAAAABMAFwATABgAGgAVAAkAAAAFABAAFwAQAAAABQARAA8AEgAYAA8AEAAnACcAFgAaABsAGgAeABgADAADAAAA+f/2//X/9P/u/+D/7f/z//L/+//y//b/+P/t/+7/7v/2/w8AIAAbAAIA9f8CAPz/8P/t/+P/4P/b/+T/6f/l//H/6//e/+X/7//1/wsAGQAOAAUAAgAJAAEABQAWAA0AGgAMAPT//v/4//7/CQAEABMAEgD5//H/8/8AAAIA9f/2//H/7//7//j/7v/l/+P/1f/K/97/9/8DAAcAAQD3/wAABADx//X/9v/2/woAEAAXABwAEAAJAPn/9P/m/9X/+P8VABgAGQAiADIANAAvADYALQAQABMAEgAMACIAIQAdACIAGgAMAPn/9f/6//D/7//x/+j/5f/p/+r/5//v/+r/5//z//f/FQAeAB0ANQAVAAgAFAD6/wsAHAAJACIAFQAAAA8A7v/k/+v/3v8AABEADAAtABkA+v8FAOH/5v/7/+v/EQARAPf/DwACAN3/8//t/8r/zv/A/8L/3//n/+v/BwAVAAgAEQAEAP3/DgD9/wEADgAJABYAGgANAAwACAABAP7/8P/x//j/6v/g/+z/9P8EAA4AGAAnAB4AGAAXAB8AHAAdACIABwD9/wUABwAWABsAFAACAOP/5//j/9//9P/4/+n/4//4/wMABwARABoALgA3AB8A+P/g/9n/0f/c/97/5P////X/2v/u/wcABwAUAAUABAAdABkABwD1//D/6v/k/+v/7v/6/wgA6//2/w0Azf++/+z/4v/U/9D/GQAZAC0ANwGVAKP/TAACAHv/vv/U/7//y//d//b/9f/Z/+D/0v/F/wEAIADp//L/HAAEAAgADQD9/y4ATAAsABUAVACEAAUABQBiAD8AAgD+/wYAKABHANT/UwCJAOz/YwAwACIAWQATAAQAvf8AAOb/vv+8/7T/RQC3/6z/TADS/9T/8v+4/ygAAACU/x0Aq//8/5UAmv81AGEA2v8rAMH/3//q/6n/BACu/+r/VgCO/wEAYADb/2cAAwDw/24ACgALAMf/NQAjADv/z/9DAIX/1v9oAKD/2f9mADQA5v/e/9QABgBZ/wIBGQDW/48Ac/99AP3/dv+tALb+yAC/APj9IAG5/xb/ogBW/wkAZwCU/5//WgAwAEYApf/s/80AXf/G/zkAav9WAEgAvv/k/xIAEAGX/zr/kgFn/6D/XgEW/hUAGwI2/mj/OgFB/1v/EABLANj/9ADt/kL/JQL9/cIAPQAa/kYCq/69/pwCZP5C/6ICG/3hADcDJPwwAOYCYf6+/z0AT//cAYsApfxrAXICCf3UAU0ACf7cARQAi/5sAEQBgP05AUwA6v02A3L+xf6VAcX/BwH//9P+CAF8Abz9KwCkApX/vf5Y/0cAfwCEATr+Mf6mA2f/uP7L/37/DAKB/yT9pP9GAx7+V//kALL91QOa/zb8VQGgAA0BfQCH/IIBPQNs/P7/AgIIAAIB1v11/38CDQFl/wT9DwNuAon8+P/h/zIBTgHO/kz9BABNAzgBsvw1+0YFHQM1+6r/LwGjAQX/S/wrAgkCu/xkAPsAEf5cAUEBav7A/ngBrgHd/h7/EAAOAvIBF/ww/lMElQL8/LD9IQS1ACj7pgKWBAD5yP8sB1L9ZvzS/5wArQMp/mz8UQTP/KH/BAIw/ewCgQB7/3H/6f8f/swCoQKC+ecA9AFYAoD/y/hBBNME8/rh/VADCQCZ/aABmv+X/+UBCP6T/qcBHAIY/vD+6gAJAK8Dav6f/vX/tgDVBdD6H/01BdoAA/4+/KEBbAJY/iUAzP5P/2IA4/9sAnz8pwCnA438sQA7Afj9IQAMAgL+fQJsAvn51f/hArQBDwDC/F8BLQB4AHQD3ftV/hkDKv8B/mD/TgKUAU7+m/3m/m4CGAIE/xf8cQHcAXz+GgSs+jQAFwf7+Zv/YgN4/uMD2P+k+b0FLgJz/NUAz/2XAtMBjPx5/wECOf4pAU0AC/37BWX8L/r9BIUCIf3z/20AAfu9BIkAN/+pAC76QwU7AcX82ABfACgBSPzp/zsC7gHnAdn5Av+AAUwCPQBo//UDwPb4/lMKef++/c7/8fphAXwGFP2Y/tL9WgH2Auz7+QBeANcBKAGy/bz95v8xCLf8ffoVA+r/5gTj/Mn54QYnAVf9B/4w/S0HBQMl+cD9IgIOBocD0PQy+30JoQUqAUH5Q/eUA74JRwFZ/PH7L/+VA+8CyAG++Sj/yQI9/S0Ex/8S/MgA9AD5/x//n/8Y/6gBEgA6ACX9lv1XB9z+Pvw4ANj72wTaBub6YfuQ/voCqAQMAVD84/nkANsDuQR7/u75mv3wAPIG0gCG9msA2gWz/90AFPvM/coGiwBl/Bf+hwFNBW7+X/nhAEEFHQL0AH78CvkBBWgFCf4PAA/+Cv1hAvYCAgC7/+T8HgGnAND/BwJP/gYCcf4X/dwBcwL8ARoAof4C+i4BWgjHAtP9Ivr/+o4Enwf/AB/7yPfSAgIF/P3YAU79B/tnA28Bg/2ZAiwCfP1H/sMBpgHY/Wn+IgWF/239bAB+/f4BbQI2AUb+zv+2AKP9hAE7BDwAdf1G/tT8kQI5BBUA8P49/Uf+vP89/60EzQRw/cP7UPocA8EIp//z/aD81PkvBMoHQv/3+sb8GQEPA1ACX/1C/S4BaQC3AGQAIP1h/+ACEwB//Dv9AQSQBI/9gfrB/fADswSDAQT8Ovr+/1YGMgSi+qX6pQKlBff/1Pm8/IoGuQUh/bn7H/wSAbsFUgO8/Av6bP9iBZwDHfyz+yICbQLI/7wAfv0s/3ABL/8DA9v/lfuBA08CRfzW//EApQAEALH/FP5e/pMAQQHPAzv/T/qy/IgCRgbQAZn7Hvx5AIkBxwHAASb+HP7VAEAABQBMApYBBv8e/a/8EANUBWoCf/2k+gIAMAImARYCggAT/fT9EwEmBJwCsP1W+1X+OQVDBL7/8fyh+joAHAbHBED/uvr4+3MAygPPAasBs//a/MD9ef6qAkcCnv8NAPT+Mvy6/WUCNgOwAFT9/Ptl//MDxQFk/rP+o/3L/lsDvwIU/5z9pv6r/8P/zgEoAir/Pf1v/rcALwIOAa3+Sv20/j0ArQDcARMAUP6G/Vn8hv6vA/cDYf6D/E/8vf60A7ECcv90/S39u/7VAtAEAgI2/9b8+fxnASkGMgXx/8T80/4IAd0D7QMTAQkC8v5O/VEBqwNCA6kA+P2p/Zv/igLuAhb+vvx5/3sARwJA/3n8U/+rAbcAwf2a/xj/qAAvA6X+fPw0/r8B9wLkAK7/TwA2/wAAoQA0AIsCRgKX/+f+nP9NACsDMAR4ADL9vf5MAJIDtwTg/ur82P2oAFsDYwGi/z3+3/1XAG8BVQD5/cz9df9E/gf/awHqADwAOP2f+i3+TAL/Ag0Bmv7K/Sf/Lv++/wQCnQHWAjADQf52/Df/DQJYBFQEXQEo/S/8Xv8vApoCJgEm/9P9rf3+/xYB5v+q/hr9eP73AKQAm/9L/8n9UP4GARIDPQNIAPv+FgBxAZEDHASqARYAHAAuASwCcgGpAJj/Z/5I/h/+Jf5x/bv6rfpN+y36X/se/IL6xvhr+Ez6qvuj/X/+0vxI/Ib8jv8jAmQDhASHAyYD8QOABSEJMwtjCY0IEwhgB98HpAp7DBcK7QZSBIcEuQYDB48D1f8GAPcBjQJ3/1D64/nj/Ar9e/x0/F/7wPp7+lf5TvpY/nX/0P2a/b78JP5JAZEATv/h/14DzAUuAwcBuP91/yADCgcKBR3/tfwg/ugBHQOX/f/3gvcG+xT9UPpC9QnzePZr+T75NvbS8k/1Y/hk+rz80v7XAe8Ai/yE/QIH3wyNC/sJGggeB90Ivg1GEBEM/AT6AS0ESAQzAGz7KvjG9fzxS+3b6dXm8OOz4/bj49+T2wzd+OAy5H3mDeiN6kjuPPRB/K8CTQhoDoAUiBtfIasmWywBMvc25DiYOHE5YDtbO+Y5xzYdMnEsMSZLIIAa+hQYDZ4EOv4S9xLv5OiJ45Teu9qD183VeNNY0hnU29XX1zPbEd8Z41Losu729lT+ewKgBRoLpRJ/GZQfuSEcIL8ghyNOJZYlGyOVHakY7hWZE/YOjQePAjT/QPl284fvS+v/5uDjMeHR387fEN9339jfzt6a4KPjA+gR7Fvs6O0o8un2yvoH/Vv92Pza/2sF+AjtCJAFBgOQAt8FRw2aEGgMgwPf/t0EJQ9gFxcWOAmVANAGvRHBFr0Vbw+2CFgJaw0+DUQJsAT1AcsAV/8h+bTvM+sO7InrFuYQ3wLZONW51EDWWNaU1V7VndXI1ijZE95C5Uzs5PHH9lL7VAJ3DBEXGx68Iuon/S0iNps9U0GXQRZDdkcYSulInkfuRT9BFTyONlYwlSpEJPAcThQhClwAIfie7wXnReAe2vTS6MwSyH/EZcM8wpfB48KWxB7HEsyi0S7X29xM4xvsfPSC+pwAoAdZDjcWZx00IQokHCdvKWQrqyutKd0naSQwH0kb1xYAEQkLKwS//EX2YPGT7fTpQeXg39rcHNwt3CbdK9/M33vflOIu6CvsRe+j80P57P61AkIHlQorDMIPAxUjGJ8XIhVTE4gTEhTdE3gQ6wqZBZkEtwWVBLkA/Ptc+eb42ff7+db/9f4Z+X72rfpG/sT+OQDdAFH/bP3i/VoAgv/F+ur4jvms+MjzV+776+PqOOmR5v/i695a3C7cMt1B3Anc4d9z417lieZt6jjxF/h//ogE5QmsD1kXiR7zJPAoSCxWMdw2DzuaPBA9jD4IP/I+hj5rOzA4ijS0L+4oaiCzGUQU8QySBLT7xvPb7HzlR96V1zvTq88czADKjchNyLrJqst/zSXPwNGl1lfdKeXh6rnugPRP+zoCnghTDl4U6BmkHX8gPCI3JPwmFyg4J6Uj6h48G2EYdxVgEYcLhwUjADr6xPXx8hHwR+zi6Dbn2eXr5evnc+nR6aDqwuxB8dj2Lfq4+hH9JQLWBv4K8g37DmgPLRDxEboSSBDlDfYM6QukCMYDKv/x+i/4lvfJ9ib0EvGL7+7un+7B7nHwJfVl+UL5Z/h5+zD+eP8wAZ4DNwUUBtEHrQgbBtEBrf+s/83/uPzQ9yfzbe8B7WbqeOed5A3hFd533eDdBd8w4SrkAebf53LsOPJa+S0AXwVBCw0SxBgiH/gkwil3LVgxjjZwOeA50zl+Oa85qTjoNTIyajDsLeQosyMaHRAVpgyYBTUA9fm18pTsLOYG4CHahNQ30XzOGs0mzVfOo9CF0aDSGNYA2kreeuPk6L3thfHo9qz8GQJnCF4NBxFGFBIX0xmDHHoeqx7pHS8eyx2zG6UYbxReEFIMegf1AuL+KPva98zz4u8E7bzqEupp6sTqk+vj7DLuHO9o8IP0Yfk1/eAAiANNBXIGCwkNDbsQJxNKFNkULBREEaEOaA4bDkkMnQeqAVr8tvcR9fDyjfHP8Hjuietc6e7nsujN6v3tNfRq+gf9k/v0+nz+OwLDBKII+QybDjMOPQ08CywIZAaJBY8DGwEY/cH3k/Lc7qfr8+eL5C3hd97R3djd8dzF3drgiOQ85+Pq/+//9cT8eAOWCm8Rcxe0HC0i3CeiLQwy/TTHNg04XjiKNyM3NjZQNPMwFy5FK1gl4x5QGaoTmA00Biv/XvhV8d7r5OUc4JjbM9ew1AHSvM90z6rPJ9Ea09PVQdrj3QrhLOXW6TTvxfOb+MX9DwK1Bs4LVxCVE3wVrhZwGDAa5xuNHNobxBqxGM4V8xH4DMsIzgYjBPr/9/sZ+UH2lPGu7eDrouwZ7xTxofJR8zPzUPP29NT4pf3jAUEGNQmRCs4KQwuxDY8QOhPjFNAUtRJ9EF0NQgrAB/cFBgWcAcX7k/T57QLp3eVr4xnkruYW6M3mquMJ5AbmT+kL7+v26P5DBHYGUQjxCigNOA9DEsoXzhq7G9waxRdOFDMQPg3PCegFJwLi/ef4/PNs7nropuL23bfbr9pe2qXZfdlD2u7bJN5i4QDnnO1y9Lf6HgEpCDMOfxNzGK4d3yPXKRovHjOkNHA1/zVFNlQ2+zTdNPYzhzDqKwQmOiB1GZ8RLAqgAkz70fTE7tjo0eFp2ynXsdP/z9vM8suUzG7OStEN1FvWhNk83nPjm+gv7oTzNvl2/z0FwQouEDEV8xhmHBwfRSAeISMiLiLeIc4gEx5KGmQVjBA3C24G6QJr/6z8Uvr19urx2Oyo6onrNO2b7iXwtfHW8n3zMPTD9bn4Ef0zApcFOgaGBo0HxQgWCT4JTgpkDOsNhwymCIwDdf+D/UH8Q/qK98D0RfI/7izpPOV049flkunM6zft/+2W7+Px2vOr9sD6CAISCwER4xNMFf8WWhh7GLUY7hlHHG0eXR5cGxgVbw1lB/QC9v7P+vj2VvP67svoqeHc2uXWDtYK1nTWTtcb2W/bE92s3ubhQee87qT2Rv5GBYoLGxHeFkEcJyFNJ88tnDOANyk4UzesNlI2+jbSNK0xmC6FKs8l+RwKE+cKogMt/mL4K/Gw63TlP99H2EvRg87czXLQYNOS1N3Va9e62arcOeCp5e/sBfXk/NcB5AQfCDsN1RKjFnEZRhyEH/Ygph8DHQkbLhqvGZwXGBO6DfoIgwQl/9r5tfaH9bb0cfJP7prqIOns6F7pqOpB7bTwz/N49lD4XvpO/ScBZgRDB3kJbAtSDpsRKhRnFC4TlxEfECoN5wkFB6QFMAQAAej8pfci81nusumS5b3jKOS45HrkBOQp5EPleuco6r3u/PNp+ab9VgLTCHEOixKmFlEb3B6EICEh4iFjIb0ghx/2HBUZ1BPyDYYHkgDF+YTzmu3F6Ibj4N0D2EPTkdAxz37OYs6Iz/vR6dXE2bvdEOMC6mnxlfhd/1IHnA/dF70fJCVpKkEw1DVWOrY8nz1QPsI9cT2NOsU1CzJLLmYpMSEAGLMPKAiwAKD5UPI27BLnQ+LK3NnWHdOL0YXSH9QY1k3Y59q43qHiDeYs6UHtivMD+9cAYAWrCcENXhBpEf8ScxXlFwQZsBieF3kWDxXEEi0PcQvjB6AEzwFY/6b8g/kx9h7zp/DL7nnuDu/y73LwifB28GDxx/OR96D7Hf9zAmMEEQVTBSEGuQgJDC4PmBGpEd4PIAyDB5QEwAIfAisCAwG7/pD5bvNl7i7qcOha6Pjofukm6UjoA+cx5c7lJumI7m30iflg/u4BMQV+CCkMlRAoF68d8yH2I7YknSTXIkcgXx0SG7cYKhYNEgkMywQM/Zr1Vu5755DhAN4R2yLYPdVT0tbPx82EzV7PhtJC10PeeOUC7CLxGfZw/KcCzQlHEoIb9iOrKnIvgzKoNNI2YTiZOOA4wjksOu02yDGpLOYmTiCMGHMRXAsWBXz+qfd08Bbq9eP13nfbS9j21oXW2dZy2Efahtx431LiI+bV6q/vJfUq+ir/KwOcBScIYwsyDoIQaBI2FAQWHhaNFBYS6g9sDt4MdArKBxgFhALY/5b86vhq9crySvB47p7tce7w8FrzpvTI9IrzsPI19I73Q/xfASwGAgoRDD8LpQjxBnoHyAlEDOUNbQ7XDacLhgdHArH9K/sD+u758Plp+F/26vKA7pPqrufv5mzolerk7BDuhO5B7/HuLfF39bj6zABBBu0Keg4OEW4TGxbJGTgfnCJ6JEElBCRtISsdBRkzFXoROw7QCpEFxP4p9xPwnelU45zevdpN2PzWctVU0zzRqdD00XTUnte729DgJ+cA7kj0//lTALsGiQysEkIZiR/NJRksnDDOMp0zbDTzNCM19TRWNBwyjy7LKTgiPBpNEzcNbQciAX/6ZPTD7RPnMOEH3FfZR9hE2P7YHto53PPe0uGw5KXn/+or8FX2EvwtAWIFdQl+DIgO3Q8YEagT2xaWGJ8Yuxc7FsgU/RHmDm8L6gd9BUoCrf6U+0n5xvbF833xOvDr7jLuj+7r75ny1vS+9+36bP3L//oAbwLjBIgHIgrbDLkORQ+LDq8MlApjCHYG4QSdAzACbQFX//76ZPdy9Azy++7D65nqUurt6crpOOl26MroG+kA6irrzeyB8BD2FP3uAjMH7AqbDikSKBWdFyQbBCBlJTIpFCg8JcYiGCBdGwMVpRCZDf8JUAW1/sr2Ge9Q6Anjnd2Y2B3VatMl09zR5c/nzwDSztR42PrcDOLi5x3vdPbm/P0CuwnLEToZqh6OIxEpGy51MVsz2TTdNas1ODV5NLkxUi3SKMsjXB3mFecNAQcDAfD6dvQL7crmeuK93njbldjt1jXYcNpl3JneYOFD5gTrXu4A8uv1FPpD/80EFAmqC+INmBCbESURaxF9Eu0T3hTSExAR6g21CrcHdATtAWoAfP4l/K74KPQ28YHwjfDK8KPxE/PX8yz0FPUA9wP61f2HAUAE8AXlBgMIXwnGCzUOaA9IEPMPgg2qCocIPgfhBsUEuQGS/or7K/ln9UfxS+7m7HLrdumr5xvnree76EXpNujf5+vowev77kHyufVA+rL/1gP4BvMIGAyZEAEVLhiiGrIdqCHJJBAkcCDWHL8bshm1FH4P8QtzCWAFBf8j9+Lv3+kP5UXgV9vO1yXWMNYB1o3UItO01OTYkNxd36jjaOro8dD4q/4oBFEK+xH0GP0cbiBGJVkqky3sLoMvLzAyMegxSTBXLDAogyTkHyIZexHxCoQG/AGK+zD0XO7+6YzlcuEi32De8t7i4cLkMOZu5zzqLO7j8P7yLPcx/YsCBgbEB0EJjwr4C/wM2QxLDVcObg9bD2ENVAu+Ca0H2AReAYj+R/zd+Qr41PWW87fyk/KC8mDyWvJx8uvytPPb9Pb36fzrAdMEnAWVBRUFoQXFB1gKSg5lEhkUbxPzD4YM+AgbBd8DbAN0AkgBnP4I+7H2UfGy7RHrVuoR67DrXO2F7gnukuzQ673sy+4o8Sr12/ml/gUDTQUlB6MJJQ2lEMMTOxfoGssdECDUIL8eeRyWGukX3xNdD2UL+Qa0AYH8P/bk7i3peeQl4D7c/tgc16DVlNQy1A7Ud9WJ2HvcVuE45rbrxfGd97X9xwOECi8SFRmuHl4jkCd0K7UtOy/dL2ov0y8sMHkvVC3lKIQjAh/tGDcRFgk1AtX9lfkQ9E/tX+ce5Jfh5t3P2xLcH9944/vlaejh6y3w/vRL+Gz6av2NAbcGWgoCDAcO+A9IEV0RIBDYD4cQPxEtER4PkQyxCrIHdQPv/hP7Uvke+A/2+/OZ8qvxkfBv72vvuPCm8wD32Pjd+kb96v5sAAECeASgB+QJVwshC2MKxAq2CjQLUQxuDP8LxQkJBkMCwf6k/Rr9ffpu9670ifLy74nsBur46I3p4eoQ69Tq5+s17kzwf/Da7/PwOPX++98BswXvCOwLDA/aEQYUuRalGqseuSBWIHQeXxyHGtUWeBJjDbMHkAOI/2b7bvXD7vTpt+Uy4W3egNx027PbZdsz27TbNN954+7mJus276Dz7Pm3ALIHiA3RET0X7htrINUk/CfvKtcsWywuKosnHiawJcMkryNzH98YIRPXDfYInQPa/fL4YfWs8Q/u5unJ5kLmSOXF5J7kZOZd6hHudvHx8xn2LPkB/FP9MgAAA24FVwheCbQJYQnZCcYKoAqjCvgKZgocCjgJ/gboBD8CtACX/vD7D/oV+LL24fSs8sbxt/Gg8Rzyz/Gy8tb0u/Yc+Z36afzV/kUAzgAGAt0DSQc6CpILeQxCC2sKFQrJCiYMdwyCC4wIaQT/AEX+hfof+RD5bPcG9UPxGu7x7NTsf+0m7STt6u0o7uDu3u9O8qnzefPC9C/34frPAL8HXgwyD8wR1hLIE10XlRu2Hagedh+XHoUbZhc4E1IOUQqdBz4Di/1b+FX0MO/z6eHkqd8h3CrbJdu+2nrbidug3GXei+B95MnqJPDr9A/75f2XA6EJ3Q3SFCcbSB9rIgQl6yXWJrgooyiyJ38o/iU+JH8j7x36GSQVTw3ZCXoElP4V/KX3MvSB7m7pG+e25A3lDObn5j3pruoX7evwevNv9y76vPz9/xwC1ASMCMIKRgzlDLEM7gwcC/QLbA2uDKULeQk1B+UFHQSHAlkBp/6M/Ev6EPgo96v2fPV/9dT1ufVC9/v3HPkO+7n8Y/52/rb/HAKRBNQHnQaaA84CJwKUA4MHpwqTCHUF+wFc+nP5Wvw2/noCTACM+ov2lu/D7LHvX/Gi9pv5bvZY8srv9u4x76LyLff0+q37Mfs1+rb2rPd5/PX8ZgExBYEEUwYsCJYKVAuRDtgQjxAWEpUROBCMDwMOKw2sDSkMbglrBoIDXwPJAhP/s/29+tz2lvV38gvwSe/M7hPtRus46IPmE+hg6kzuXu8e7yzz/fWS9Xj5Av2dATUH5AndChEMthCwEg4VWxYCGNgawBqxG8sbEBmFGcYZvBfrFoIRXBA/DFoFQAP8+2X7ZPyi9lz0HfPZ8ujxOe9l8OPwWfEi9Cn0W/Ui+H37O/5p/Pv77f6k/vv7jQMlBZgDRgzoCAQF5wNVArYHbwTOAxYIBQVgBW0HGgTB+nj80/5N+z3/fv3S/AQALAC/+k75mf7b+Bj7x/vE+GsArPtZBdT/rfk0/Bj60gag+BIC3gfr+47+S/26+BL5YvwA9qr8Gvd39VX5xPL09o34SPSt/T/8dvVs/vb4TflI/z0BkvuiAiUFifuAAyP/IQMBBAkDRgwqB5YGIwR8BNcFwwQEBzAE+glpAbz+/f82+YgKuf3O+NUGPveA/MkD+vroAAMDgPyEACr9k/1RBKwB2ANpBqL/DAAsCVb+gQSFDQACxAkiCyMC5QfYBTwD1ApeATEF0wRF/n4FygDZ/IX+rAPQ+Bf9FgH59bP9ufkl+t75iPjq+3T7q/l/8/b/rf5D96ID6wDa+6UFbwAO+7EENweOA6EGdgaZ/QELWAU0/nALqgCWAwEI5fwZ/goHDv8E/m8D9vJ/AU7/9PKqBhrzHvloAiz0AwCk+VT6ZwIW+ycB7gJ0/sUGegIxAisBs/+eBnQEswVVBVIFDQGcAzwGbv1sA4YEqv+QBQ/8xvxqAiT4kvzo+qT2TvqI+3b39fj8/jT12PlX+qz00gAq/iv73QG5/7T85ASD/6YBBQl6+1AGqgfX/h4HSgXBBkwFLASBCPECaAYCBbH8hwNnAXD+dgTQAO34Tv0m/Vz32/2++ZL8+P+R93D9o/14+Hv6xv3Z/sf6rvz0AXf90wTTAtT6DAY6/vT94wUK//UErQZdAsAFUv/dAHMGP/7rALgDQQBe/JH9pv+J+jv+1Px1+qH99PsO/Lz9H/21/yn+I/6yAtj+ZgFLAK8AEAPkAtwFtgSTBFkE0QT5A9AEVgJ3BC0FgwFcBRcA7f9BBFX/FABoAEL9HP5x/CD7VP5F/cf7Fv4S/cP3Gvx5/lP7GP4C/fj+xf9OAM0AtwMf/g8D2gac/VoLeQHVAMwFfPzMB0cCCQM5BnX+gwKq/B7/zABJADkEG/yNAx/8FPrnADr7TAPK+q7+RQCi+KABaPry/t/9OP6GA6T9oQDh+xQGPQCsADQLDvw2CMME7vwvB5r9DQNoBgz+AAYoA54AVQXZ/t7+WwJdAyf96ACzAlD51QHx/VP83//i+Ub8o//4+Bz4zAJB95f8TP/99vQDgvnM/FwBb/vEAWn+uwLpArn/kwI/Ai8BagK3AasA/ATdA38ApgKB/4cBvQQA/vEB4v1K/U0AR/yD/tL9JgBv/sz83/sx/cD7wP0w/kH8+f/t/CwApP3GAiH9MP9KBJ/6FQqUADUA5Ab9/koDuQKOAh4B4gETAdr+ewJ//1b9VwWr+yYA3QTd+JQDuf4v+nsFJvvm/vACUvgcAjr+jP6qAC79hAFgAZcAnv2tB8X+PgBmCJT8kAS4AuQAYgHAAncBBAGpB8H40ASSAxH7aAkA+bEAdAKz/jsEBPchBWL9Yf1DA4n4PQWj+Mj9hgEL++AFxvtm/4YC1P4w/5X/OwPd/CsFSwGW/NsGxvoTBekCEfspCyb9Kf9PBtb4QAI6BIf6BQVs/yT61wXY+kH9ZQHm+CMDEv/F/uIBnvnxASP83/vqAxz66AEDAXX8wwH3+x4AtwBk/X8D1wDW/DECPP7E/gMDrf15AuYBzf2FAcL/kvtvAYwDg/u5BBgAoPwmCGb5dgJGAG/8SAea+mAD+/yDA63+sPuxB2z3TgUr+nz8Twab+nIBdgDA+x8AkwNI91gA1wJj/A3/4gBz/0j/2//4/tYBYv5CA2P/4gD6/akBRgKW/wsFt/s5Bij/DAD/AW/9pgdw+wECoQQn+kEEMAAB/uX+cf36BpH6g/50BkT8if9FA0D+if7RABv9tAMd/hABSABRAJP/xPysBA3+mQXN+9QCUwGb+fYGB/4mA0QAKv8FBOb+2gDRAFj+tQXi/u4BtAOK/AwDo/7FBXv8BgCGBOn+sAGd+8wHYfvr/rUEWPh2Buv9p/1CAoT7D/92AYgC6fc4A+v+tPzFAx347wKx/Sn/BAIbALH9a/wVAWMBTAGR/JwC8f+w/zoCL/7CAMQBmv4dBV77xgI3AQ78rQbv+hADTf7ABZf5IASbAbn0CRGH8vcGJgQo9s4GcvjpBtP6IgD5BoD5/wNZ+QgEwQEf+BcJx/8yAar75P+1A2r2iAYyAiL43AInA+j8JgB3/Kf7EAWf/pUArP+O+xgCHv+I++/8sgLu/TX+fAYr+936sADF+5oFgQFW/QQGC/xU/iMFx/tTAUoDvf1qB+j6YP+WAoz8dAO4/PsJiv8y+3UGiv5hAHwBrf4GAuL9gP8+Ak/9E/zM/yYG+fe9Bwj4TfwNDXDwzwiDAeb60gHF+HwC4AMi+fUDagaE+4MCpvzoBJ3+Qfu1Dbj4eQGgBjf2yAo1+MUEVwaq9VwO+/wL+boE0wG2+WIIoQNH9vgGx/96+/cCAPqXAF0GGvlwB7UB3PTkAk0DMfrCAKoEa/3f/tf9qgBSBWv5Of5eBjj7CwcM/rz6twjI94MBUAp19uEGQQBS9lMQ5fLI/GoRLPRVA08GV/rFAIsAFAJb+hMHUf4+/vUKG/CmBrX/kvm7B3z5/ACJAE79cwPv+977Rgpl+bMARACx+DMF6PyCAJX7iAOHAj340QXq+ub/LwDr/PIHVvn2BI//S/1sBU34CwVqA7b4PgSG/97/5QQz93QKNvur/W4MGvcvBJv85vvtBkH+Vv7mAzb7FwFq/D36MQQQ+EcHlwS29LoMd/sn+bwMGe2XCpcGFfSyCtf5P/k2COX/CfuUDTH25APsANP5VgKw95gQbvSNB9gDavRTCZ7yqQmZAHn7VwsK9uMBSAfn9XoC7Anr9uoBOwgS8k4GNgYh9/0IwfsYARcF4frEAQT/uwIxBCoBRfVoCeAA6fg5EaHvCQfkA+vwRQ/r9Sv8xwk+/pEDFfgZ/H4G8fEUCZUDB/lADrnyBwcF++j1xhTm8TIHYA107OoIswPL7yUOOgMy9VsSM/My+QoSouptCEUC3QBvCQTzgAg6+CwBjPtPBev/UQC0CYnx+glh7ggE1wGd+WgMjfxTAkv4xQQ78bAGFgXU9LwSvvnU+6f9nvqwAr8C9APl/moE2/vS/N4BTvaLBl4BdgVFBcvyfweA+NH7dwX6+LgDwwyE94j7EA0S7ckGRgBoBIQKo+myFFf5UfJbCon8nAJuAsH9LgOEBkPz+QC7ApYDzfq0BJIKkO8MDuDymPn2DtTvLgcIB8z64QAcA2b2t/5WBsXyERfdAR3tFxcP8m35Lwoa/MkE/gUh+3/8yw1Z6UMILwmq6uQa8/sv9E8MbvqV+LgE5ACC/JgSU/oh+FsMLutxBPoJK/DlCNAGI/n+/+UI6es2AwgJS/IoFcz1bQJXBGT00QZy+rYG1gDoBNr9bv2QA8H5DAInA5P9iACxCZH3z/77Azn5KwbOAaj2uQfvBZT08ga89178jAu/7i0GOAy/7ncLYQO46i4Qt//P9eUNevhs/b8KV/vF+/AEZvr2Ab4Ow+5QAKoNJ+xZCVz9g/tvDi/y2Qe3+yL0zgv+/kL7gQZuAin5uAqe9mr6Fg2i+AcIR/wn+9sBjvysCBz3JAIuAvv4KwMHAIIDFPy2BrQEIvlDBiv9sAHkArv4hgrT+SL8HQcj86//uv72Bn39FPGxCtT9W/DdDqABUvGTGLb6H/2dACT5RBFq8r0K+gTg+EgFSfl6/jUDHP6z/O4Oc/AUAkwOY++BBy4C7PmcBqkB8/lDA1UAMgQsA6D3dwRx/Tj7DQWh/XT7/QXjBHH6S/3q+2j52AiO/wwAVwt9+FMEoAAH9qADqgEeCj8ADvcuAkH9G/yf+roFfP/B91ALOPsg/p8AgfpZBRAC9QCvBHQFfPsEADP8twNVBIcAQgDm/HoGtvSDBGD9sfsKBgL+IwXg+8kHWvVm/qwGrvpz///9JQsz9FEFkgUs9d0KWvvjAn4I3/Tl9fcH0Ppz9v4UtPfB+7gOl+0XBToB3PU5DTn58QKYCif4Jv26BZb82/jTD0H3J/mbCyD2ogJK/8YG1vn7AXQJNvAyEnvvZPusGBfrvQaBC87upQRFAyX4ygeh+HD8MAvHAULwiAoHBrXrjBc28NP6mhPk7EUITASA+dUCogS9+7cATgFYAG0J5PaR/8EGSPidBbn7Wvj1CaX77AUn+638vwSU89sNsfkhAVcPgu7jCuf4u/atC1H5uwUF948KSALd+ccG9+9MCWv7VwJjBRf3XwWF+3MCPv6l/nv55Qs8++/2sRVw9F8B7v37/kQC9AREBcT07ghW9yYDfgTl8mcJFv/G/MwKW/n9/n8CZwTh/2/4Pw1S+AcGlv5T+RoQt+5jCd/9cvipCt/0IgzJ+WX31wiHAfT5W/tHBnz5zgWJ/7/93Qi48+sFlQa7+zX/5P8UBJv53P0DBtsBL/n4CK7/nvYFCdwAcvhACUkEIPTMCDn/hPVJB3gApPVZC2T+ifGmD5b3s/gUEcX0AAXAA830KAZr/RgBSf5lA7P8n/zaB+38Yv5j+kUNQgBh9CUPlPV/AF8AGQCRByzrChTF9ojz1hVD6R0Mqghy7WwPO/zN9fEN8Pw++FUToO3m/j0S/ekWDPb8mwJfBhj26Akf/VEFJvxwAoIEQ/DdDOgB7PbKBrjyyQEZCSbwNwSPCo34VPlpDFz3WvfjFkrwFQm7BSX12gQb9BUFUf5vB3YCdPiMDj76H/TCDXb8Ov50BHYBcANj+foDQ/3H9O8Oafx29kEZN/Cl/vUMgPCJAI7+LgX6BAn7ggH7+8f6OgHGBH35RP40EkjzhAMOBw/x9Qkf+5D9Pwql/Ur5iwft/A/1hAnv9ogBWQl58t8GJQaN9RMK5vkBAfsDw/22BwT59wWj+dsH3vqOAx3/gwCWBfPxPxTl7y8D5QBr/I4DKP8RAff3DwbT+MwK+Pa5/2EIv/baBzH6nQGh/vX9pAiI9rgDsADf+SgE8PvnAn4BZADkBCP4gASaAOz1Jwc1/ecA4Qa9/EgAYQLS+B/+HQu6+hwCKgrn9CwFhQBB+QkG8fohABwHR/sI/kQG+Pfp/jIBp/y5AhoFaPyEAzAC+POFB8P21P8nBlz1dgsJ+hz/MgAU/FYCCvzGDVP0OgleAQf4uguz7Y8LvwNx93kLQ/0I+yAIB/8k+GMG+v/r/FoDof84AET67QYW/C/6/AqI9AMFoASH+kAFGgOh+LQBCASS9uoME/vx/KAJWve8Apv7uvpwCZwCxvOFDFkBN/SYCKn9JAFs/hgJR/YQBAUE3u95DkL3KwKHCVj61ABWBCf6Qv1SBzb2Kwe7/1T7Dgi290j/ZQSI/ZT72wox+Xj9Gw6e8Kr9SQfW+oH9Ugkp+1T/VQb48KUM6v9Q8zUWzu/sAV8GTPK5D8HzIwWaAcv+sf+E/+8I6/H7DvL4FvlIDgXweghlAzH4agoH/J4BZv/s/EIDkQCpAVr96gPw/AL+cgSG9UwEYQEm+acIbPvy/RQH+/zo/UEGkv8g/UYCc/7a+DsDQ/3iBNcChPKMCd333AK+A2L+4QqV+bj/vflx/8b9lAAbCjT5FgRK/8r4dQfu9lsHfQkG9nAJNvyX+p8Af/2sAcr9HwXj+TwJTftI+nMLhvYNCir5UgQkBin6HwKYAI8CO/hBBFT8mgJS/hH8Fggy/VL+wALu/wr6hgNmAAz9FwXn94YHzvyD8JQNHwNu+VYG0gBw+g4LmfaD/uEHYvqFBbb/9/qNAX0BRfjtCkb7BvrsDILxewmPAGfzwhBF8+QC5Amy9V4DPAcR+bP9Rgjm93gBtQQC+Z0DEQKx9qUM6fe798AJe/v8BlYBuP7uAhz4NABqAhACAf4bAlYH8+ojDkv7ZvreDvfynAkp/oL/m/w7ALoCSvenBor8sAD9AgP9hAKy/noEKfowBB//eflYCp//SfvwA6b7LP/bAw/z9Axo+zQBLgb7+pIH8fmyBlT4iv6rBi7+qgEI/OcDFvg/AAAFsvcwDVn/Tf5YACv8Kv8Z/igCm/1bAub7MAF+/i0JzP4p+G8LYPlPAKIECvsnAVwBIgEt9zoEPf+m9+gJevsyAC4G9v4M/zMENf30/kL/Qv8dAC4BVwMe+B8Dcf0fAIT+Bv++C134bwakAA/1xAyk8uYH7Qev8qYJL/prAS37hwBwA/77RggR/DkHgvn3ACQGUvPACWkAP/u5/YoDlveDBB4EpvgkCuH5MQMwALP9wQBqAyf6tAH0AXD4SgPJ+10GzvzS/BgD2P0GAQoCawERAQYAEf+t/FcC2AE1/BwCwgHJAqn8pgDV/qT+OwIMAX77JgJgAcf8ewOx+vYCff/MAP8ASALh/GYD2f6I+dMDyf1XASsBIwjl/f0A9/hnAHAAk/1wA3EDbAPC9RwIfPeY/C4EK/pdCp39DgGJB5fzVgW8A534BQTU/FoBfQEk/yn6CQLH/2X8xwe8+9AFLQDKASICU/xWAjL1Rwo+/z/6bgU1+8cExfp9/FoHHf4EA4YAn/7n/hEAlP9y/o8B4/p1BYn6fgCYAUr+AgKV+/sIZPm1BEcFRPkmBK/7IP8lAJsBof2sAg8D6PhCA80A4/yGAncCrwB/Ae/9ifwPAQMDzPz6AXX+fAHT/db//gJU+lUFlv3FANn9BQIIA279eQMR/nT/HQGK+3v/O/5/BcL9hf9KBkX2Pgq8+077CgVo+4oDxQNr+qUDp/+n9wkGp/xPAfgAxf7lAjEB2f7y/Cz/KgIWAX39VACeAqAAmfqw/yUDIAMo/LMFdgId9jkG8P92AZX9tv+//xD8LgB1Acr/k/1VCVT5MwNm/gH/cAMY/AUFjfhUA3//PP7vA8H6ogNIA6L9hwNA/gAAJAFSAQP/CfzZBIP77QDm+wD+dwqV+8gCSwFs+1H/HABKAbACtP6FAJgDvf4l+zD/4AT8+qcB1P5XA8n8tQBfA5X54QWb+OIDXf7G+6YC1AJvA6z57wXy/Ir/JwHg+t4DPP0QBaf/VPy2AQ38GADtAGoB5Pq4BwsAGPp3CYr5SgFBBu35MAVn/373CQe1/mH+pgKL+zwBCP8Q/8cBwQGm/7L/3PxPAjICtP2WAecAJgMP/5v9q/xkAQwE1gMA/ksABfw9+6YHNvvjAgoA8gBYBK33OPvKAZMGVwFUAVD5vwKFCR/41ADX/0H79QLTAHn/IvosAe0BP/6zAcP4LAaxBN/6cwM++QQBqAgL+PECmf9/+uoFD/u5BoD9bgBRCCz2JgN/+eEAYgf7+2oAzP30BIj8T/72AiP64weY/rT6NQeP+foB9AKg+WkBDP3fBxYFqvkG/3L83wPmAcz+fQCq/O0FYP7k+6QECvhRBIgDz/SlDGv/6PhjBfb2BwP7AUD8wwgp/vz5oAcW/Q737gVU/SYBKQtb+dr9KAV1+W8EkwGg+ScH0P4ZA1r/GPd1CWf8v/yU/0H8BAib/6D+7/2DAO38q/5iB+n/l/2AAYwG4fgJ+V0CAAJvAbAEigZN/Nj8k/0nAXL7gPjaB0kGOv5w/3/+yv7T+gH9MgWc/bgE8AMmAAYFz/dg+VwB7v7eAbUDqgEFANUAHQLp+78CQgDT/GECW/75BP0AAP0K+uYA1wFF/k8JNfou/xQF2fk2/Rj/KQgUAA78RgEe+Bj+bAHLBBkB5/wlART4AQPMAjUBrQjD+6oAsABN/4YEggC8BIP8SvsWARb7ZABtA10FxwH2+fj4Dv9oBD/6Uv+jB8QFmAJN/Ez7IvkzAkMHqAEFA3UF6QUJ/Xj2Avng/rEEBAPDA+QBOPwS/S374PvhADoDAARTA7r/hPqz+tP8iP/aAyYGTQJV/279tPzeAZ3/GAUMBlcE2ggD/5z9uPsPA8sILwNTBp7/hf2E93f2Hf3p+l0D4gUn/vb8APn58Zf0J/vbBakHVQNoBPb8b/+r/g3/fglICTQPDgukBUEGSPsM/Yf9vfrnBMMBHv9YAaj29fZ8+AL2av8IAVT9IQBN/ND70gBz/x4Bav+4/lf/ZvqG/KH99fww/YD6mfnu+ZL87P2h+qz9AgCO//EEmwFb/ywAu/38/zAA+P3J/dUCjAF1/aL85/t7///+JQGjBAwD/QVpCUAIfQn4Cu8JqgcFBk4JNwuSCvkHAAYBAfL7Vvri9Hf5t/9Z/Az6ifas8lTzXe/T7aLtk/CIAyQH4QuEEx4J6AYzBiIMXRxxLqI6uTE+GfkLqwX28zH0Qv05/Xv48Oi32F/IscG7zpbXT9kI5wLykOyO5Bboi/KuAmAQ7BNUFxkQFw8+ESIKYxQlG34ZcBgUCE7/RP4++j4DLgb6Bx0LHAG6/Sv+0v9LBwcS+hghGXcUKg3fCQwJCxEFGekT5QtXCR4CV/iK8ZrtG/Gr7rHtZOtQ487iuOW060TwMfSY+iEAtAGeBTgO1BNWEfsPkhbPE0gLpQPvAj4Fhv/b/Qr8Pfl5+Jv38PXH8kn2YPz7ADsEEQFEAgAGrAjBD+MMeg6tEP8IwQqSBa8BQQQG/xf+6/Yw8hz7tvzb+pT0CfGJ+Ar5p/Qe6iTkKOqB89X6hPe8/i0LZhMiGIcV2C6nWCdvR2FsM2QZiRKWBkX82PEL69bcvsHjoFOCAYA7mji3Xb6uvYHKndM84Kbv7f5UFtsjOyw3JsQXZR7zJ2kquiODExcJFgFz9V3uUewr9b3+w/go9RT2r/usBmsTTR0QH/Ah6iiFLfsj/SL7KaYtVy71IFgVvgUL/q/6RvAR7PLrMfHn5xrepuCw5071MwAYC+cQgQ4pFOcdLB7+HsAdhyEVIxIVkwqe/TP1UvOb7Qnq7eUD4tXgn9qi1kLfvedi7h7yRPfX/RD+8fzq/iwBLgAHAqcAvf5j+g720PdG9ub3ofnS+Pj0gO+Z7ZPxmvv6Aj0FlQK1AskGGAk5D8YW4hpHFRQKBAgWCQENSQy5COgG1vyN/GP5ufgB+6HyPvaR7x/p2+jz57DyaO596HTySAMpHc8uFi9cMcY6z1o3a9BLTishFLwORv7v5o3awMMFt0Clt5Pnhw2Nc6ydwnrOatCC153r5P52Eose8SYFLbwpbCZ4HzIbkB5uIYkdLQev9sbzlfOW98v7/QEs/Jn2yf7DCewWECGcJ8Ekex/XIL4kzSauI0kiMB0UFHEH/vuJ+QP15uxT5frkd+ll5XHi9+fV7kf3hv4vBU8IOQ3BGngiiyXtJa4hqh5wGCoR1gf/AHgDI/0D833p9uad8D3yc+535UblcPA09dX1F/El7wTzLvXn9JPxNPLw+cD9pvsl+ZD7NAKYBzMH2AIX/oX74f2o+9v4Fvhm+qUAf/0h+nn8awODDYwNdQoNC40OIBW6F6sXQRSMDGEHagHo+Yj79/9mAG33d+sk6k7rfPBq8ifz2vX29Wj8igBEAR8E1wiFCrsDaQA5A+ACvf4O9vr02P7JCqkPgg68GI8jeCwrMbwx+DoXPqowIhFI+O72OfRf6UDZvsVPtjuvfbGgsdSx4L9X1VPgNt++4bPx3gnrHaYjqxwYFgsWVhrYGZQVQA8KCGICHvXu6NLlrOpJ7/ns2+t/7FfwQPtsCHURjxQWG2UljCeVJEsjlCQpIgEblxPrCdYBmv0m9mvqZuA031Hkxua45+nove9C+FYAmAYrCXgPtRWHHMwd1Rq5G2wfPCIZG+EN+ASwABr/IP+S+5T28fGV7n/rZOmn7534Cf1o/i39Yfy4/l8CZgZbCNUGRwRoAub+lv4DA6YEs/7i9Qf19fdg9qrwZOxX7CruGfA19Z76VPtJ/YcDcwh4CC0JpAyQEGIRAw1zBX7/1f3t+4v4mvX/8uTyVfNC86300vUM+eP87QLSBLsAnv+jA40JxggzBl4DtwMSBJcCogAq/Bj5q/fH/IP7UvYp8q/rPuXb5G772xXrH3EccByqJQYuNDoITMNYt0Y8IJYFqQMzC+r/vOth0c+3pK5fseq4z7qrvzbInszi0LHb/vF3CfAV/hS4D1kR+hqJKDAu3yIWEpIITwT3/On1M/XU8+Pqmt7+2lThd+sL9tD7E/zs+xsBPw9IHWoklCX3JFImJiSUIDIewxy6F7YMlgHY9dDsZOrG6Snlq+BL38ff5+QD7hL6VgL6AxAGCA3nFywfaiBrH5AiFSFoFykSFBJYFwETKgdK/975Cf0Q/Mb2t/Gm7T7wtPIS9OD0mfa4+u38IP5BAl0HQgvLDfAMXQllBV0C6wIxAVX49+yw4gzfWd1h2r/caeGR5NPl2Ofy7T72XgA7CKwJXgmEC8EPqxCsDFAHQQXQBX0FdQQ1/6z60vnZ+2X9s/rI+jT9Av9A/Xj8UADvA80G8QZICCoNAhDFDgoMTAzrD08QQw1LCMwDigMJA7AAAPtN9XH09PO08bvvs+6H8ArxkvHQ+kIEkQjoBKgAVAc/EDoamiMtJvwhahpJGf4g6iQ6HFgLNP4H+kr3X/Dk5XbbMNObzoPPV9C1yxLJQcwJ1bjfquRP6CTtQfY0AFMFEwpxELcYkh2rHccaoRg5HDMgMBzqESELSAoWCqYEW/wT+En3L/i09gT03fXg9wX6bPtc+/b92AL6CXcNSgyKCxIN3g/gEUsS1A53COYEXAWvBQ4EQf9f/cz+zf4E/Q743/dr+zAAwQS9A2wB8/1L/2AGVAv1DSsMJwr1CYYJdgqNC50MOglQAPD5lPcM9072BPNq707qsuic7U3x2fPo9Jn3h/y3AJ4EWgWNBmcJEwr/BrgB5P1L/VX9EPvL9iLyO/NV+H/6cfgx9Gz0R/otAXAD7/6o+h38XgAnAnoCXgK3AiME1ANpAtYB2ARuCGwIAQaAAk0AOQH9BMsGnwLp/fr89P5JA2ADqADM/fj74/5NAPEBGwGM/IX5a/hH/GH+rfuh9y70/PTt+LL8NP+t/5r/OwJiB64NQhE1EEkP2A/gEUMUChN/D0oKEAbDA9MBiAAd+/D0hvKA87r0i/HZ7hfvvPFM9BTy+e/u8s/4A/xL+RX2Nfel+k/8BPvL+Tz7Fv04/f38Ff3E/jgC5QVMCJ4HgQbnCKoMrg76DXIMmwvHCWEI7wYCBf8D2wL8AQYADf/g/5YAfwPsA8wC6wH1AS4GCQdYBtwDtAApAs0DVAZNBUUBqwDlAtsFbwZ0BA4DEgKTAUoB6/6C/a/8Ovzf+lv41/gd/B0AfQCo//4B1wTyBasGTQiyCSMJpgdGBkQE4wJcAZ/+/fuZ+Sf46fhX+TP4TfUu8xL1VvYB9rb0MvTB9gL57vo7/Af+dgHSAlACAQHXAlsHDAruCV8F8AK1AiYCJgLA/1P9Efm29WD34Pbb9YD1kPTi9rr3Ofsj/UD89wCLA9MHxgzBGPIkjxxJDLYGrxdhJjQeFgt9+XT25PwLApv5u+So12nZAeAv4OvayNbD2Nbdy+GD5AnoK++C9a35k/2nA3cNHxWlFV8TAxenH+wjTyAsG+oYvBjpGd0YUxIDCqQF8wToAgv+vvm39jf1bPQt853zCfYi+D34tPfo+BD9nwP7CM4HSQP9AqgIxw8ZEg4PXQqpCZwMVg9JEDcRuw8DCa4DzgN7CDYIvAEb+1H2yve++o/6IvVF7yjxHfY8+F324fPp87L19/an9x34mvgC+lf6cvsb/Xf/JQIiAdYAiAKeBiUK2AhsBuwC7AFuA7ADcwLK/QX6e/mJ+SH65fnR+cv5D/jF+Kr7DP7+/nf9K/2y/tcAswMmBJwDGQRxBNUFcgbbBuUGFAUhBCoCbAEgAucA3/58/Cv9CP6W/Z39+Ps//SMB+gO8Alj+av8UA7sFkQYOBCcCugC+AU8DNgJ/AdH+D/v5+Jj6Av0C+lL2rfX693P6xftR/O36UfwKAFQDCQSnAmMDjQRqBQEFgwRIBAUDdgLUATQBw/5s+6T5j/me+nP5+/bt80/y2PRL+Hv5ZPhq+Uv8P/2g/e7/DQO7BKYF3AQOA0cCMgNeBaYFGQSpAZP/Wf/I/8YApwD1/SX7tfkD+uD6KftY+wr6dPiG+bb8q/8GADMAzgGBAgwEaQbTBxgIRAe0BxsIbgnyCwYLkwk7CGkIiArXCX8JUAiHBxAJbAe3BX0D7gEEBPsDjwI4/2j9lP8iACgAiP4+/Xv+Zv9L/yX9Yvut/NP+Vv9H/nT9Z/4LANsAPwFPAWIChgPQApEB+v+qAL4B1gDr/nv8tvxW/WP9c/yz+xn9r/3W/bz8Ffx6/CH85fup+mn6J/sy+8P5L/mP+mD7Cv2L/cf+AAG6Am4DUwLZBLUHvwghCNUFAwXkBYoIlAeWA3gBOQHLATsBpP+j+/T4VPou/H/7e/fS9H70Bvhz+uL40vZE9av6j/9RANn+Tf0gAlIGaAh3CAcI+whECI0JHgvzCvUIzgUQBFwD0AMxA7EAm/wc+an4evik9+z0FfGb76fvPvEL8ZXtl+ya7kryy/Ow8mP04/c/+zz9mf5jAUMEkAcTClsLIA07D0YRvBH6EQETjRPiEgsSQxLtET0Q8w0HDI4L2AlUBuADhwEEAe8A5/4K/JH6/PqO+8/7ZvuK/cf/N/+O/XX/ngVACHQG7QV3CBkL0QpiCQAKtweMBP8FygVyAXT9/PrX+Nj3o/XH84jzrO6R7i3ww/JT9yjuNfHJ9ZjydPyv/WD8Zvvd+p4AUANKBKwDsANQA0IDegTsBLsFwgIr/3cAYACLALEAzv1Y/Ez8+vwu/rn9sfrI+iz8iPsw/WD9Qfza+zX7VP2e/kT/Yf+q/Sr+ZP8KAicEqgL7AIQBxgMmBg4GgQWFBDgD5gUuB70F2ANTAl8CVwJbADb+Vv6u/Ln63/lt+RH7M/pX+C/56Pnm/O799PxX/53/uADsAdMB4gOAA+8CVwODAhACoQGDAQYBtP5N/an9y/3c/QP9LPwr/HL9cP/V/6H/av+TAUUEcwRPBPYDMAXEBjwG0gUzBVcEXwTjA0YCHQD4/kT/n/6o/Q38qvrP+8T7v/w8/Sn8Jf4k/pH/0gH8ABUCrQHQAV4DSgPyAyYDFQIfAWcBZgK/AVsC0wBRAHUAbP8HAYsAnQAMAZ4AFAHxAGIB6AABAfoAGAEjAnYBSAETAbwAEAF7AAYAxgDRAecBcQDk/sb/XwJaA5ICBAGB/7kAfQPKA1YCJwH8/wEBUAGCAO0APv96/tT9D/5J/6H9C/2j/JX7JPwm/jD/w/3G+3n79/30AP8BQgC6/l7/LgFAAyMCDACq/57/Yf8n/nv9dPxF+8367/n5+TX5wvgV+nf5Lfnt+Vf7C/1N/M/8N/4zADwB0wCyAbYC4gSQBWwGkwVvA+wF8AYyBxwGBQOAA2ADFAP0Ah8AAv9Q/lb9tf6q/db7S/sl+kj8XP12/K38dftm/e///v+fANf/rQBvAq0CHQNWAg4CNwPdAwgD4wF0AesAjQCcALEAcQAY/7r9Mf7C/VD9LP4n/k3+RP10/db/ggAvABQAugBGAq4EJwXtA7wD0QQyBwgHDgUOBRcGnAZFBXEDigNVA0sCegIXAhEBtf9y/mT+Lv4h/p39E/zS+l/6R/sq/Az77/l++sj6HfqV+vf71fzP/db9mv76/4AA7gLLAxADNgPwA+4GJQfJBHMEgAR9Ba8F5gNmArAARwARAY4AwP6D/ML7q/ub+5H7tPpf+qH6MPv6+338zvwn/c/95P5AABACpgLKAfYBZwOhBcYFqgRLBAoFmAbxBewErwOcA0kEQwOMAl4BPwG1AAH/9f65/jj+u/2E/CP89fxs/Zf9Iv3k/Pj9aP4A/3v/Jf+2/zMAaAA+AG//o/8bAI//T/7K/L38kf2+/ZL8fPpK+nD6bfpr/AH/Vv9l/ZH8Av8UA2gGwQjYBhkC9wGDCAcPdwuaAhQAOgPkBcwEhwDi+8L3KfZs9+T2DvOu7b7qy+rH6j/rSOsY6mnoL+g37I/xy/RN9TX1gPiU/t8FZgtEDAEMUA95FrIcOR4WHcgcTh6yIAUiJCHHHl8b6xeMFe8TjxIfDwYJjwN/AAH/zPzk+P70tfHL72Hv8u7K7vft9ex47XPvqfIT9Zb2jfjT+nj9KgH9BHgH0wcXCNkL7w9VEOUOQw6VD0AQXw5jDTAMhQkXB/wEjwMPABz8k/qR+GP1W/L08Ezwu+3P63zrMutv6/vqquu77PHsBu/s8BfyevMv9af4L/sP/A/+bADYApUECwYGCC8J4AmCCo4LYwykDD4MEgv7CX8JvgmLCOMFFwQVA2wCiQAy/i/98PtX+yn6pfgI+dP46fie+NH3o/j1+d/7cvxJ/Db9bf59AAYCMwPoA1IE9gVfBygIDggQCBYJMAneB7AGwgb8Bv4FjgOzAeQBGQLyADb+yvyj/bH9N/2C+4X6GPuJ+9D8Mfym+o36jfuO/b/9tfxp/Lb8Pf7U/qj+r/74/qUAigDb/1kAIAIyBDIDzwEkArwDLgUfBdsD+wJAA3cDwANlA/YBbgCh/8z/vf9y/vb8Avym+1T7ifqB+eH45/ip+K74dfhK+Lr43vje+P/4J/pV+2H7Rvsl/N79zv4+/5sAswH9AcgCmQRdBlkG8gUwByMJrQlACeMIAAnLCdgJfgmuCMsH9QezB60GowVABWUFfgT7Aj0CCwLfAQ0BKgCD/yn/Hv/K/r7+K/5x/UX9XP2B/fz8+Pwi/fH85Pzn/EP9jP3M/bT9X/3C/V3+Of9x/5r+zv7A/9cAOQF4AKoAeQE9Ak0C9QD/ADECCwLMAH3/4P85AFX/sf4C/or9/fzW/BX9R/x7+837Vvw2/DX7xPvK/db9t/wW/Jf9yf+C/6P+qv6O/hX/rP9EAFgABf6H/Sn+Tf4H/rz82vye/An8kfvF+x39o/3A/Mz7Dvy0/nAC7gIMAdP/eAOMCKsILwcUB5UI4wlsCkELSQsoCYwHdgd8B3wGEARTAgwAfP2Z+9/68Pl99g7zRvHz8N/w+e/o7f3rj+tG7Yfvxu9v7wrwa/KO9QL4Gfqq/KL/bgIjBWYICQyKDmcQghJPFYUXQxgEGfYZmxo6GuIY/BecF5YWQxQjEdkO3Qx9CpIHfATaAe/+w/yo+gD4l/WU85HyrfE48Evv4e4U757vr+928Ifx+PKC9OX1sPdk+aH77P11/8sAbgK2BAsHlAcXCLsITglFCjgKrgruCUIIgQcAB3EGxgT+Aj4B5/74/N771vrS+Mj1/fOh8x/zOfLd8GrwtfCd8E7xSvIk8yz03PQz9uj3CPom/BT9Nf4AAE4C5gN2BM0F6gZWB/AHrQhwCfgI9gf5B1kI7QcPBzYGKQX3Aw0DSAM/Aw4Bff5A/gz/2/6z/W78ufuT+x/8M/yC+0j7dvwV/Yj7v/v4/bj/LABA/sL9TgBlBDkH/gSSAd8CpQhWDIkK6AYQB+0KgA2YDK0K/QmgCf8JRAn5B9QGuQXPBNIBlf5q/qb/O/1++OL09vR89qP1D/Nl74rt7u7n8e/xwu777FnvlPOv9JbznvQZ+Kj63PvL/dQAkAMzBSgHGwouDOoN+w+qEfcS+xKGE1oVPBYtFWoT9hJEEzIS/Q89DqUMfAp7CAoHMwWKAggAgP40/Vb7avnz99X2HfY89Vj0xPO/84v08/Ts9N709/Xo93j5ffo7+9n8XP6z/ywBdwKfA+wDBwSuBMMFegYKBs4E3QPaAycEvgPeAWv/FP4c/pr9Yvsk+Tn4nfdp9gX1gPRs9FDz4vLi8vzyu/N+9LT10/X59QP4lvrw+zz8/fwW/74A7AEpAw4EPQVGBS4GjAdjCIsIJAegBrkHMwhMBxEG0QQEBeEDIgM4A8sBQACT/u3+vP8g/y39tvtQ+8X8Vv6//df72PmM/IAAXQH7/tb8qf8fBNUF4AR5A3kElQcFCfUIewi5CDwJTQiqB/QH0wciBzYFaQJtADUAkQGH/+j53/Xb9S34EffJ8mrv8e0679LwFPBW7szsNu5P8VPy3vIj9FX2YPhO+QX8GwCyAskDuwSIBywLuA1RDxkQ0xBVEmQU8BW/FcgUchTOFNAUZxOuEQgQxA7wDDsKVAgJBx0FuQGq/on9Ff3e+r73A/bH9Yv16POV8lzygPLZ8mDz9/M49O/0yfaI+F75HfpH+/n81v5kAFYBmAGbAmkEcwXOBeQFxgW2BacF0QXBBbAEggNtAioBogCAAC//x/y4+q/6kvtP+nv4b/dM9/L34vfG91H3D/dg+Lz5PPrb+Rz6XPxE/s7+2/6s/+0B2wNOBIME3AQVBsoHtgclB3QG8wYaCEIHYgUZBCAEoQQ8A27/Ff4t/y8Aa/1D+Uz5evo2+2v5Ufc89gD3TPoK+5b3r/UC+kL/Dv+b+sb7QwELBKIDowLWBAgHUwjuCb8K8wl7CpoLqQvoCsIJdwqWCDYFDARsBHoDPv9I+9L5t/is9jH1r/IJ71vsTO0a7yTt9ek96S7scO7X7n/v7/C+8w735Pn2+7z+4gKxBp0IsQoZD1gT9RSNFc4XOhviHPEc3BzPHBUdBx65HYMZpxWYFaEWORPrC0MIzweuBUoBEP2/+WT2kvOM8vLwTu3g6pzq7OrA6RvpvOr+66XrXuzI793yAPQK9Sz4ffuy/f7/dgKwBPcFXAhZC/ULuQu9DI4OSQ/4DeMMxgx+DA0MUwq9B9QFygTBAzgBCf5B/K37ufmm9tT0lPRW9ELyvPAR8TzxzfDf8JLxxvFK8kL0O/ah9sD3YvrA/Nj9qf/kAgwEHQSWBbUIGgqNCe4JsgqPCk0Kggu+CrwHAgUlBeQFZQNcAOv9ZPz8+rD6Ffrs9mz0AvWn9rr1DvRH9Rr4dvgP+I75+v0hAs8BnwBqAuMJPxB4DdgHvgn/EnkXIhLaC24MzQ+6EGoO8giaA9IAxQE4AV36rvMp8Z/wDO6F6QDneuVg49jhceG34Wni5OOj5cHlZed57c/zBPZh9XD5UwLuCHgL7AyZECkWTRtTH8IgzCBhI6YmwSd3JmwlMCZXJdUhbB62HBIcQhmwEmgNpgomCpQHlf+G+UT3HPgQ9uDu6+qC6kLr4Opg6LXmceWr5ibrCexZ6nfqOe7f8nXzDfWJ+Nr6ePwv/u4BQAVMBmQHJwjvCF0LGA5ZD+wMIwqnC5IOhA6iCooHNge7BhEFwwKBACP+Ofzs+vz4z/ai9Xv1TvRs8vXxpfK5877zMfRY9fT1K/fb+DP7ofxI/Q//qQFRAwQErQWtB4II6AckCfQKoQpoCWQInQgwCOEH6wYiAwQA3gCpAjIAkvqm95z4P/mU+L71lvLe8QTzD/Qv8y701PWu9Pvz6fek/bT+yPxH/f8AsgVOCloL4AcnBpsLvRJMEg8NPgovDEsOmg1LCy8HjAPTAVwBif8O+8r2ovTq8sDvNe1S7OHqdOjN5s3nYOlr6SLqLuud7NvvivTE+Mn5Lfu0AG0H3wtsDYIQIxZ1GYgbSh6QIbsjEiP9I50lEST6IV4hkCH+HuoYHxWcE+AQHA2jBxUCQf21+er3bfRT73vqQ+dK5mXlSuTm4pLgCeDA4eDkSuf65j/n2Onb7t3zmfbZ+D772/3gASEHQAuQDJUMeA1fEAoUnBU6FS4TdRH5EXoSPxE+DiULZgjuBWcEcwKJ//X7xviI9gP1MvSj8kvweu4j7jbvpfA28eLwKvEe8yr2L/kc+uT6Uf5PAcsDsQTcBPQHOAutDIYLgAlCCscLTwwLC1cHmQQVBOkDnwGS/dr6NvqH+W72MPPv8g3z1/E68LHvePLm9E30rPP29Vb6jP3JADgF/gYKBT0G7w7pFmsVRxBiEDoVmBgcGCgWwxEBDVAMUQ2JCrEDWv3M+Qf3TvLo7cPqvuYt4j3eV9wK3DTcG9zl2vzZTdy34Y/maOgh6gjvOfZO/e8Cbge+CjsP1xZWHgQi9yJ5JUIp1ivoLbMv5y/GLUkr3SkAKBImFySXH9sYKBMaELUNcAgCAUf7NPcT8xPvmesw6Pjjb+BQ39jeHd2R25nc/N2u3eHePuKI5WPoVOsZ70zy3/W2+9oABwSeBi4K/Q7rEtQUfhaFGHIZoxlUGRwZkhlFGKwUmxBdDlYN6woiBwwCUP2i+jn5B/gu9QPwiOwK7VzvRu8w7T3sPOyT7UPxaPaY9kvzZ/WS/NMAuf4+/4wFBAfbBJQGZQoCDPgIhQfhCDIInwZ6BrUGHQOH/ZH8/P4j/mP4cfRO9lX2LvOl8dbxSvKD8wb2gPZk9Nb01/q1/+X/jQAdBKcIXgpVCUYLxxA4FAcTvg9+DxISuBNgEj8OOgpQB/8GbQZIAKv5fvd89jjynOuF6Fvoqear41vgaN5W3/Thn+Op41jkWOe+7JPxj/Px9fj7fgO8CP0LCA9uE4UasyDLIjAjxiVlK/0uly16K6Mr7CyzLOEpgiWcIJod2Bq7FToQUAtFBjQAF/pB9SrxeOwY6JLk9eBo3m/cM9uO2iva4drd21zeQOHe49DmP+lh7WHzHPns/G7/eAMJCPYLgRBjE4gUNBa4GIUaVRqTGVYX0BSBFBEUvxGBDboIIQXHAmkCHQCT/E/6Bfbt8XvwR/NM9RfyYu4q7CXua/Tt9ALwRPEf9n74Rfme+RT7u/3W/xcBdgH+ACACPgalCVgHxwG2AHMGewnNAzz+HQDRA1gALvo3+oD8I/vS+Gb3Q/UG9T73ffcz9g/0YvSg+pD+yftL+Oz6hgFEBS8GkAadB3UJGww3Ds0OohAKEyASHQ+1DcEOOxAxEIANwgdiAkcBLQLn/xD6T/R38fbwq+656Wvmy+WK5gfmtOJZ4GjiFufK6ULpo+hK7JvyIfdr+XD8ZAFrBusKRg+3E64WDRu3IP0hOCGTIh4niCoZKMkkNSSVI7Mh4B5GG5gWXxGoD+gODQfz/VD8/fwD+CTwDu3+7FbrJ+lM51Xm5eeZ6Qbop+Y76v7ubPLg9kH45PVq+WgAswIwBTYL1A7GC9UL3hGvECQNTxYCHO0QJgrEEEwVnQxPCLMOzgyIAWT+YgaGA+r63PqP/CX5yPHH7pbz2PgN8/nts+1h7JPtcO6D83Dzl+tL7hT2I/M673z2Dfua+XX5zPna+wf/KwGl/1n+WwEFBJ8DmwT/BEEBJQE+BMoFkwP6/xkB5gLDAWsARv9T/YD/ygLf/2D7T/oy/UkBPwP/AA/+O/6Q/80B+gJSBNIHoAcoAzUCRQcZCtMI3Ag9CSUJOgbCA0sJaQ0EB4MA7QH0A3EB1/50//f+q/sE+Ib1pfYN+Bf2O/Rc9Sr0SvAr8S/1Sfjh9wD2CfiB+kv7yP2MAWgDxgLJAr0HdAsUCTYLpg9oD8sMowvoD6QS6g98Co0KdQ9NDQgKWQmgBXoBXwMjBu4D5f7494n2kv1qAg377/Gk8lL6zfqh9Nv2Zfci+gr+zfqd+qH7V/9MAREChAfcBR8A5wMQCmgNzgkGBNUJeQyQCKIF0ggrDvoJzALHAOUH6AbM/YEAKAQK/j33Kviv/EX74fTL9Gv5bfZo8BbxQPNU9/v2UvHM88r1EvUn9qD3Jfie9274Q/zU/f74L/wfANH8rP1tAYMD8f9e/KcC6wejAUb/xgIVAjEDxwWPAxkD8QMDADL/LwE9BlkGGf8WAMkB1//t/2kBXARaBdoBif4S/oQE8wrNAwT+RwPbB/kDEgC/BNgIRwZmAN/+0AQqBqP/KQDWBW8DIvse+kwApAE8/Sb7WP0a/Oj5oPkp+4P93/l+99v7DP/D+/D3DPwz/6f8a/12/88AeAFu//j+pQI6BcAE1ASxAbUBIAnRB0QAsQDoCssNUv0p+csIPg4sAe327ARvDST/r/Zo/qQJ4gSd+U78TwC9A9kE+fuI+9wCsQNs/+L/PQQtBPsDPv2I/6kQzwaJ+MoBvwp2D1gDQ/kJBnsLQQYJAeD/PgQWCJsFAPv5+0sHqgJw+Xf62f/vA439jfUX+/T95Piy+rj5rfkj/Mn1wPQj+qf++fkv7w32QgHp+ufziPYV/eQAJvds9IL+RgAd/GD3wf1VBPb9PPlM/UUEywOr/XD7BAKGBYIBlwC6AmgBBgKoAfn9DwRIBMj/ngJ8A9ACNP8h/psFcQUc/YgAHQhrBhj9EP1yCEwHI/8V/8EHugih/Lv9Egc8BsAA0f/hAVkBjP/6/lACQAIV/nn8Af0c/Bf/qwAC+HP6PAKC/NP2k/x9/cX6cf26+3n+HAAw+gr8zwGc/2z/Uv8S//AEPgPM/+YCEAU0Asr/yASGCn4C2fzwA+4HdAbK/ST/+gjVAgL9Xf+cAHkFBP8o/GoEifrY+tAEjP9U/Vb/q//v/Q3+PAKp/4D7MwDjBuIDgv0rAB//X/9eCbwGgf/5AFcCoQZZBH/93wGUCPcHCAFO/+0FLwRl/DcD3gn2Ap/+r/6OAOEEewKM/I8ApgJo/l773f5jAgD6L/ohAxT/m/jX/Dz9KfpF+Rz84ATs/DXywPuhAVn7uvp0/mP/KP+6+1r8RP91/o0A0gLG/o7+7AD0/mYBMgEaAdMFAQXw+C73lQpxCz38nfrqA6EDGf00/uEDKQez+kP4qQeVCUP7ZPMQAbUOVP8o8zYH7Qj99v/38wMyCxYEA/Se9nUL5wnX9U30oAdvDGD3/vCzCD0PU/E97VQMaBOF92zj3P3sGRgEJ+ni9G8OsQhB7+31aQwUCDb3nvZ8CFcI5fW//PkLdwJN+PcCfQj1/y76TAAnC3AEtfXW/KUOcAf/7q/29RXkCqjrDvNwDKsKj/OM8/AI7wjK9Dz38wVi/0T2LgMnCLD27fcxC0AIJvA49W8ShRCS8nbxoQ7NDxz5KfmwDpkGBvVWBqgShQPU8WX93BR9B2HzJgSyEGr5SO7QC1sUgPVm7yQNLhLJ6z/pXw+wEin0luk+DMQQO+hP72sReQ2p7trqhwuHCszyqvvICKj9+O55/7ERAgHP7in66Q74Buz19fhvBjoFuvgqAtMIefxh+0gB3QT2ARH40/0bCL8FpPwC+PMCcAS9+5L77QFDB48Bbfxk/P/86P6cAYIGaAXF9yH00gTlB/P9mf5M/Sj+CAQ2AFcADf1Q98EEaQoy/XD1J/8rByj7L/kMCE4DB/VE/A4HTQH09/z5EgV7Buv6nfiPAo8C3Pl3/vsF1v+6/CsAPAHW/sv8PwTgB1v+nfvg/7EBeQUr/2P9/AlCAR71q/6OB+gHp/+2+ywDIAD/+/kA/wAbAsgCtv3+/W0CGv8n/ZT/4v3EASoDpv0B/uj/y//9/7j+pv/tA/z+WfsuAFIA3gboBpP3i/gaBMYG5wLB/B/9NAZxCVT/K/jL/D0G3Aei/7r/UwPY/m3/2gLoAZH/m/u//4IF8QML/5f3t/qUB9cKYPmj8XAEOAkW/aT14fwOCxoCofPS/JgG3f6x+vcD1QKf+HT6cgOwB4v9evlyBP4BZvmB/A8GJQQR/cv+xf8tA/j/Q/k4AJoEDwE//7MBpQJH+/z4oACHCBAGJPg49x0Eeggy/Kn17f9FAnsDIAKG+uf6zfzSAPMCdAKKALL8CvxK/ZMCsQGk+tz9TgR+AYz76/w4AkkAOfqD/gcJiAOY9j77zwbSBb/8a/4TAdT55P5tChAIyfy5+Yb+KAL7Apz+VwHPBT8DxADQ/ZT9d/y3AbUIHgJs/QP8+f68BPP+6fuGAAYD7AFF/4f9M/tf/wMF9f2s+OgCuwXw+sH6+v6CAH0F7QBS+Vn8OALsA0L//P7dAen/OQAY/x0AqQGM/uUAyAICAhIBVvtm+nYCLgjzA7L6iPtlAjUAdfw3AYUHxQH89377NwMeAyYAz/75AVUEKf+X/Nn87AHhCd8Fsv+t+sH4vAF1BzcF+gFX/rr8lf++AWIACgAlAp4FgQXa/nf6CftGACoIsQV+/mP9Uvz8+zwBlQREAWr+QP6P/TP8owAmA9v9V/6+/1P/Jf/e+s378gONBrv8rPfEApIGHvw7+Z4Apgc+Bfb6hvix/pwD8gKMAq0Cyfxz+wcAtQA0AE8BrQKqAU/+4f0O/cb8xQE5A1wDYQPf/O33C/wwBO4E2v8/ADEDXf/v+S/+8gXrAdP7ugBlBc4DffrW9hwCwgWrAYP+Ov1oAYsABf7b/0QASAEfACr80/1zA1MBhPpv+70A+ALz/xz+YP1E+jf/+QV4BfT/CfpN/PQAgv/g/SYEhAigAhr8W/vS/H36C/0LB98IcQHC+7D7xPy0+x79wwR/CbwDC/wp+wH/9gBXAUIEMwVWAUz+M/3D/Gn/qAQyBoMB5vz3+1X9ef9oAQEDSQMaAvsAQ/7o+jn+bQWaB00Cv/yn/s3/If4f/1ABtgSqAqL8r/0kAHf+6v7DAt8ElgCz+gj9hAH1/+D+SwJxBIP/j/mZ+j0AoQRqAkn/+wCZAEP9Sfyi/xQCrv9YAJMDkQGt/Y38uP5oAUoCxALOAd7/Uf46/xEDsQJnANQBEwJeAAH/OP/8AZsDyQEFAaEBDv/n/VUADAHGAPAAof9D/fD7XPyt/v//Wv8D//L9z/x+/D/9B/8/AdYCUAET/hj8hv2t/w0B6gOABJ0BTv3d+ib+GgMjBOwB8ACPAVv/n/w//qICYwUJAwACcgVyBQMDRgKbA18GWgryDD4JpQVMBjUFuAFX/wQAdQJwAhj9cvYG86zwVu/j8Q31jvKT7dXtbfDw7svtI/QT/KD+1v7M/Jr6WP7RBDYKsBBIFocUpw0UC+0MnBB+FWEV2A73COsHxAbpAvMAYQBe/sb7Svk29nD1E/m4/CT98ftW+4H6sfuk/0UBIANjBmsGswQlBKoEJgROBKAGUgbpBQIHRwQTAWsBawMvBUEF/wI9AA8AfQHXAIv/rgBOAlwDjQJbAGMAzgFABAoG2QVGBbACFgB0AfcCrABW/yoBiP9e+U/12/Oy8572+Phb9qTxtPCM87r2Efns+vH7zvkj+Gf+aQq5ET8R3w7xDUINngq2Cf0PxBj4GugUQQqm/iz1AvEt8wD1vPCT6LrfH9ig0h7QudLn2R/fed3J2bbdqeiC8a33a/7GAz0HWwqUDGcQkhcyHW8cexdnFJET9BMuEyoQaQ9ED1YNbgu3CX8JVg2FE78X/xfoFrYYmBxdIAwiRSLGIaUfwxzOFhYQqAxFCiIGHgCJ+i31mPBE7hLuZvD78qvy1PI895L64PsNALkFmAiEB+cGYwYdA0ABcQKtBC0Dkf35+Vv4zvcq+CT62f55AI79nfv1+2n8p/2MAXMEyAMUA9AC8wHeAcwC4ALIARoB9P8+ALkBHAHX/jj74vgE+G/2mvMC86r0pPFx7LrpdOx485f2qfOT78/u6PFd+c0CcApZDlkSeBV1DTb/7fdbAu0XJSOMG+EFbfR58RT1//df+sr7A/Y76+Teu9WS2PXjyezv6lPjUd0f25HgjunD8ar4qf1J/4b6bfWY9g//yAl7DhQMIwaXBFcHfwj+CAkMohGcEqsOBQvUCwMT1xqmHiodyBrNG2oe2x0eG7keRSQiJWAiNB3GGCATxw/dDmMJjgJX+r7y0+6S7Ert5+7/7q3v2PFR9J74hfzz/0EGNArpCXQHQAP+AKQBDAGk/Dv1g/DZ72zv7PDt8tP06PeE+iX9kf4E/8QBoAaGCLUG0ASjA7gDcQPiAST/UPwN/Bb+MwA4AbABZf/s/X0AqQLiAJb5UPTN9Db5Fv2t+tD2zfTu9d32z/UH9aLyVvFI8lD6LAh+ELoQLgu5BrQDAgCtAMQEGQyNEdIMSwJK/FX/nQLaAbkAh/98+0b0MO5m6Mfm3ulI7OzqAORg3Y3aTeG170n3KfZ79Wj6N/5f/DL7KP/6BowLfQmMAw4BBwe5C5AKRwdBBygLAA7qDhgNTw4QFLIZhhsgGxIdQRz7F00TDBLNFOMWoxjLF+gVlhViFDYTAhAYC5MG2wJQASP/lfpl9HjvJO1V7Nvs8O7y8Un1JPql/Oz8bf+oAhkEqwJeANv/wP5/+cPyue8c8rz12/WO9PX0SvjH/DL//QEQBR0H0wh2B3EFWgOuAD79/Pfh9Tb3z/kZ+w/8TP3J/t0ClAbYB04FwgLR/wL+AgHBAjwBefwU977y7PBs8TH1rP5OBuYDYfkV9Ab3XvsKAAAETQnRDRELSwSI/vL8oPuY98X2WfgT/KgAKQPoAscBMwTRCAUKzwhTBwoAVfdO8mPvEet85SfiX97V27PboNzx4Afp9e8E9FX2BvlH/RwAPgJ1BpEL4QqjBe8DugW/B3AJGgtpCyYKYAr2CsIM8xEeF14aURwuHRYaRRjgGhQcMRj9E4cTRhLAEU4RZRD4DiQRhxWcE+sMkgM6/aT4v/Uv9XrzjvLH70bs4+tp7avwK/eI/iUD7QRdBWcFCwT0AXIAzPzd9+zxS+y76nzpuemD7W3xefNr9ST6Q//TAmwI6w5GEMcMZAeYATv9kPqp+Fb4/PcH92P2Efdb+mwBkwmNDY4NuArACacJqQnmCMgFnQMl/qD07+x+6k/vV/lz/3oBcv1r+Pz1SvLi9Fz71Ab/Dr4LHACc9DX4zAPkCkgHsv5Q+g362f2+AmAJBRCWEXEOBwkaBpMDxgC2/g36m/H05mPfxdiB1BfW+tl03evgvOZG6wLx5vvlBWoJOwYNBbYGwwVtA9T/cgAxAiUA9P4Z/0cEpQopDa0OexG0F8wcsB6xHfgZghcyF3AV4hFWEZIQiQxzChEMVg5ZD5oQThW9GLEYiBhKFusT2gwiBDb8nvRq8nTvRO3I6n7pT+nU6SruMPJy+DUAogchCd4FGARlArcAa/7y+6f3p/IZ7/7qielU7WPyPfYS+LP6lP/fBGYJbginBfoD3ABC/Wj4G/OP7kLt9+9G8zz0BPXE+QUCfAqGD9IRfhGnC5kEGQCl/3wEgAYYBN/+UPiz8cHsdvF0+pgBYwRYAVD7f/fv+j79MgCrCJgMTgmOAKP+GwaLD0YXZhFBCOT+CfQ18Sz5JQh+D0cPDgiLAJH9dPqu+K/1tvIe637juODU2inZUN2A4hPn5umz7V/wvvZnAG0HSglSCHEH9gLN/SP65vq1/mIB1gIGAh0C8QMJBEYG6A0GFlcbbR4GIRgglhzmHMEemhvMF0kXLhRADI4FxwOWAkUDoAfGClwMPA+aD40ObA3SCKwC6fuY9wjzT++N75/saujX5r/pnu9i89H6SgZZDVYPDA/pDDYHngFo/rP4HPMn8Qbv7OqX6AHp3Oom8bP5bgAVBvMKeg2ADNAKRAngBikEn/7E9rXwhO3i6zvsyO+d9rQBzgpADvoO3xF2Fz4ZbhVWC5MAdvid883yafej/7ECcADY+v33Afz/AlsKGBDxENMOpAft+2rwSemX78n35Pz7ALYBGgO+AjQCtP2c9kb1xPq6BU0NzgtzBMT/Yf9D/iX9Svpf9lLzAO+x5/LfEd634aDm5+rZ7FXsqe7h8/r3eP0fBScJ9wWO/3L4JPMh9g39If/2/wIC0QDJABkJ1xHGFAAV8BXpGfMcZRtdFloVSRZiFGUU9hCIDFgNqQzgBp4AuQAdASsCwwhHC08NbxGPE9cSKA55CIz/8/gd+PL2yfPW7p3tG+5p7SDwKvQl+UP/gAW5CqsMGg21CEABpfsl9TPw9Osk6ILoJOu578L0/Pjx+9v9ogCvAisHZw6/EEgO0glnApH6bfaI81/wbvGM9Vr4D/zMAl4JMg61Ee4UrRcqGeQUcQhL/H73k/p+/tIBFAQ4AQv9s/lP+Q37Of7/BEkN6xJGDk4AnPRm7RbqUOkD7QL6rgXZC5AMsArSCO0Bpfyy+Nf56QH7A+X/Z/lw96T92gR5CikKuQUuAp/9ivuj93Lxae126yHtD+0I6jnlu+W/7df2z/1yAP8BOAGGAJUBaQEg/wD8wPxh/gb/MAGPA14GBQryCjoKjAuqDgwQfhBpE8MUZhahF3oT8Q/XDgUN5QjdBBUDJ/6v/FQAqALLB/sL3g+bEXAQDQ4jB/wCiP6A+j/5HPeW9XryvO416wLqo+zH8VT5cACtA0AGsAYrAzgAnPzx+U73ifU+9GryjPN78zD1Qfnc+j78DACUBRgKxQx2DlIOIAsqCPMFBQRcATT9xPl191/5Z/1nANIEJAqHDlkRcxKcD9ELUQlCBI4BNAJuAgsCCv9c/SL9TP0d/F/5n/8UBZoB5vsT8+Pw7PaU/bL/Wvkl8n7qgOjs8IT6JwV4DwsX0xiUEdcDs/av8ob2z/yN/nb7zPsRADADlgIAAxUGCgRe/5n8L/ft8nfyfPH17dLqousW6Gzjs+iz7rL1/f/gAwoEhQVlCeMFo/4bAW0Btf9o/1D/+QAhAG8ATgFNBksNWA12CoEITgxMEd4SXBafFnsSOw2ECKUEsf6L/w4DkATpCZENqxDHEBkRUBM9EJQLqwQF/+36IPbL8lrvsPBW8+3x5vLW92j9jgALBNwI0QvaD54O8wX2/Ib04u9+7gjwlvLV8q7zZPX8+U8AvwSXCLcKYwuIC2gJHQb6A9YClgA4/a/5NPjd+BP5a/t7/moBtQP3AowEqgiuDpgPdAdHAfP8HP72AVUBuAERAOf97/s8+7v7Y/lt+Yr5S/nG+cn3y/WY9mv55Pqw/GD89/NY7PPrmPLL/zMLsBTLFnwPmgPT8cjpyOwg9q0Btwb7CPsDHAB5AzQJqxDGE8IPFQVZ+JXrgOVk6OTsd+5p6p3lGeGc4fLqvfepB1QTtRUsE4ANywgnBIAAJAB//FP2avFR8aL1wfxkBNMGKQpoDmYQFRFHEU8UcReXGgwbwhbbEO8I1QOgALD7f/rv/LgCwAipDdgSExbFG+gaoRIqC+4AYPgI8xXyRPM48qvwxu1q7ZHxifgBATsIgw4REgIRLA5GCxEHy/539CrssOdd587qfu/o81L7gAILCPkKpArGCQQGwQMxAwECgwOcBD0Bcfp4817uxe3N8Yr46P/QBB4IrwerBZEG8gcwDBEMZwV//sD4xfkM+nP5VP28AAYEswP+/x/+6/qO+Sb95AAZBBgBG/uM9tzwJe4A8DvzWfWE9yP4Ff5XBAEImw6RD1ANegMx9qbwG/Po+4sDXwhRC/YHv/97/g8C8QhTDh0MGwgYAcv36Oqq4/7lRumH7V7vtO797kPzV/s0A48JrwtvCuMI/APY/JD3fvem+LP3kvnR+uv7X/61AqQJiQ7mEEIRMxLRE+ISAxATDqgPqRDUDG8IUAReAygEYwVMChgNvRLgF3IYqRj6FsQSDAu2BLf7MPJt7Ans6PAu8oDzWvOV9FH7PgGTBrsK1w8DE1cOjgax/kP3XvFx7bfqNei969/yyvgb/90BFATjB2wK3Qs2Cb4G0gUgAR/8mvcU9WDy4+7f70bxG/XI+oIBtAdpCVcJLAV4AlwBxAHaBAAEXgLx/dP6G/nc9bb6KQGDB2IKlga5BYoB+f9iA2gCwf4l9/DzUfcv+lj4gvIF8Onwg/Sn9oD4jf0cBHwQ1BORCEb9SPcv+ur66PsUAv8F7QjiA7L94/tK/A0BoggoEWkQYQheArn8Wfao8Ojs6+zR7HjrzuvI70338P5OBqIHWQMr/73+xv8K/mb9UPxD+lj3x/aY+DD6kPzE/mgDrAcnCo0L3A2/EUASTRA0Df8JXgdoBzQKLAozCiQMAw6ZDU0JUQokDPoKFg+0EqoV0BQ7EC0N9wYxA5/9Dvcn9ln1ifRm9Kn4cv2fAdwEAAVEBgsGvgV5Anj9Avzb+k/4ofOi7/DuPfA88qz0mfeI/OAAcQOoBKEC4v7O+kr5//mW+t/6h/kI+HH5Lf2gAFQCzwC2/WL8lvsE/R8BgAOBBDoDhQHtAkYERAa7CZgKFgkHAzn9zf78Au4HGgi0BC7/TPhk9W71f/xxA6AEY/+896P1OPSU9HPzifA18wj5M/xP9+n06P3cB64NHQlU/3L7g/kR//EElgcmCnMFnwRGBXQFQQYWBggLtgosByACxPys+b70KfGH6hLoOut37YHupO8G+Pr/kADw/rf/bAKcAfn9y/pW+Vj9RwHyABb+Wvnd9gf3jvtQ/4oCOwhoDJcPYg8+D7wO7Q3LDwAQdwx7B6wGlQjsCVcJRgjqBg0FlQnKD5kVjhltGH8Wfg4fBgn+Ifb89VP3q/gU98P0EfXt9hv8dAFoA6AEfgjSCYAHxALT/Ur6rPeY9Uvxm+207CfvwvO49hz5w/t1/rQAMgC6/+kA5QEiAmABk//K/Hj7jfpU+kj7D/xJ/pj+fP4VAFgCsQbFCJAIsQZ2A0QBRAEJA94BIQCb/qT+C//H/L789/8kAxcB1PzI+tv9GgRzBh8ELf/w+7/5pvX18ELt/usP7hDzm/iq+qX8F/4VAYEGHggSCk4HEwfYChcIHwXgAk4EHwTg/rz7pv1wBrEQbRPODhAJagNg/uL4NfOt7UzqLOyg6m/m0OYB7Br2oP3QAWMB8v0KAGgCyAO0AUH+SPxK+If1uPDy7ifzovg7/VL+9AINChoPpRKWEtES+RRUFUsScw5DDfgLxAeoBLQEYgV1BzsKFgtmDWAQuhJeFUIW8xbXED8Ht/+2+ML2K/MP8vHyI/Tz+J76QP+tBGQJbw0TC1sH3gNZAHv+Kvwf+MjyBO/y7h/xo/Oc9Cn4Qf30AdoDRwEVAQwBBgAw/nL7NPnH+Dz6kvrm+gT7ivtS+377aP2Y/pIA/wNRBh8FiQMPAqX/p/7g/kz/W/9wAKMC5gUdBwEGcwUzA/EBHQC9/db8q/7XAtwBa/z09m71JfNG8uz0I/WA9oP0k/KK9bj6fP7Q+3P67v1ABQYNJQ8JDM4FjAOQBIEGoAohDLgNAA2WBZj71PUJ/DcJmREvDxID8vaA8OXuCfJ19Ez2SPcx9PftP+fo55bvqfqtASX+wPUV8SH02flV/3MDEAPtANb7a/W69OD4QwD7A38EPQPG/84BSgcYDRIQBhGREtkShBBBDfILfQ1qDvAL2AjjBzYMnw/hEOUPjg+BESMQpA65CQwEX/9K/Eb6OPgh+HD4XvrJ+iH94P+4ARoFEQavBAICl//8/ij+jPv7+Cv16fLl8g300faE+cf8g/6r/nj+uP7JAOsDbQW0BEkCOQCH/kX85/uG+3X6Jvo7+xr7dvrI+0T9DgDQAd4CnwRjBSgG2wNhADIAbQGQA4EDRP6y91r21fnA/4QEqQRABOT/cPv9+Gf4+/xM/QX9Nvk18/vw8+3D8Jj1rvtF/yD77faN9Mj4QgX4EOwVvRJeCMoAZwDLB6AQmRJzEdgKhgIg+p71MfzrBgcP9ApE/JDtNehk8Vr80P7f+mj07O6q6qbpW+3S9HP+TwJ//Kvz5+9H9Hj8GAEPAF36YfVE9Y73XfsV/w0DQwXFA2wBUgFKBhkOVBPqEZ0N7QrnCtIMNQ6xDrEM8QoCCncJBQ3IEOgT2BR1Ez0SAA4GDFIK3AfPBJr+nPqE9s/1nPba9VL3rfka/mkAvwBcA1YHfwocC3cHFQEP/Mz4Mvdp9VjzSvI88RfxaPKo9aH6vf5GAoEEogQQBKcE9QYWB8MF2gF5+/33Tve598j3AvkS/A/+LP/OALMBgQSyB94IuQj7BNUCGQCu/ZH96Pzl//H/Ev6w/Mf5Efut/UwAmAIBADz80vcu9JL0FPSx9eH1t/MY9BjzuPOs9Ej3rPsC/cf9Mf01/rwE4AgRCSoHbgJtAx0IWg0LDiUJawulC5II1wa7AwoGTQhOCsoGDPsj9yv3Qvk6+J/ysvH07jfxVvNq8dvyivSX+WP54vbW9yz45frm+//69foa/Cb8nflx+Z/8D/+/AjMH1QYrBjYI8gpoCywMNRDZDh8LvQupDG4KfwkCDcgPkhCzEI4Rkw4fD9sVaxR8DikI1QZPBbn/dP0H+Cf1qvUy9vT08PH49JL4LPyH/wkBowJyAgUDjQJtAfUBHwGo/879vfvY+Rf5uPl5+Tv6J/zB/CT7OPvY/bT/SQGjAeUA6/4b/6MAp/+1/yf/wf5K/q/8n/0Y/rL/yAIyA6UDLATfBGUEqgIEAz0EBAVLBAgCAP67/Fj+J/8g/4v9X/z9+e34b/im+CL7tvs2+xX33/M99Mb2pfuf/R/8qvhf9q/2ePjO+cP6rvvb+378Lfsb+uL8LAIFB2YH2AUrBX0GLAr1CtoJXAi0BywIhgUoBAADpAK8AgL/rvxb+Yz4fvnv9+v3PfUe9NXz1PKp81TyMPM38yrzG/ZL91z5Bfsc/Qz/7v+mA6gFJQYsBzAIVgmJCpAMZgt2CkQMng6pD+0NThBvET0Q+hEKEkIRFQ8MEB8QyQl1By4IPAdvBZ8EugNj/1f9QP5z+/z4afk5+ff36vbO9/r3vfgm+xT7kfkN+uX8Y/4o/5b/XP54/gcAsgAKAEwAMAKdA5cCkwE+AQEBrAHEAAsA6f5B/qr+Rv6J/hz9Kf2J/Az8dv5+/cX97/6u/WH8N/yp/KD7KfsN/WX+2/tm+y38/fqT/Ij9d/0g/Wf9jf5G/u3+z/49/ob9D/x7+/j5u/mr+pf5Cvrq+tH52fqu+437Bvy1+3H9gf0z+8r7M/yv/Nb96v06/hn+jf6Q/88AHwK8AhQELQQnBCAE1gKhA5gErQS7BFQEFQR0AwYDMAN0A4YDDgRnBKADqwPyA4oEngVuBR0FAAWzBGkEEAT3AuYCjARlBBIDhwKNA8oEYQXHBRAEogJwAlYCZwK6AZ0BxgCV/+/+1v07/lD/AQBfAJ3/kv5W/jT+av5b/87/WP8i/qn9pf1G/in/qf7X/sz+Gv7l/cn9MP88AL7/gP/k/on+sv7I/pf/3f9E//T+Yf59/Yz9nP4j/97+uP65/rn+W/68/YD9Q/0w/Tb9jvwW/dP+Yf9m/wb/k/8AAR8BJAG6AHsA1QBmACz/9v1i/lv/kv8v/1D+EP4E/8QAgAHLAL4AUgEaASMAuv8AAIcAzgB8/0T9YPwh/fL9w/07/Yr9fv7b/28AOgDqAMABUAJ0AhQCCAHnAPQBMALtAe0BtALMAg0D1wOuAz4DTgPvA0UDRgL0AUoBGgG/AQYC+QBbADoBugF1AToBswBmACkB2AGtATMB1gBnANX/oP9u/+3+LP6T/U/9wPxr/J/84Pwv/ab9N/6//hL/Wf83/83+tv6L/kH+Jv5L/kX+nf4+/5z/kf9v/zoAewDz//n/JgD//9//u/8Y/9n+hv9fAKMAYwAwAO7/rv9FAKsAVQBnAJIAqACRAG0ApQAbAT8B/ACeAFoAOgBXAAkBFwEVAUkBPAELAcAAiwHLAfABKwITATwABwAOAAMATQDxAC8BxwB0AE4AFQCsAFMBBgFCANz/kv9j/3L/eP9S/0n/Vf/r/gj/jP/3/zkAXQBRAOP/OwC1AKAAYgBOAHsASgAEAP//CAAvAGYAPAAIAN//2/9NAFkAWwCSAKwAsQA2ACkAuwDQAL0AtgBkAE4AqADyAOIAyQDUAIwANwDh/7//8/8KAMP/+/62/tT+2f4j/0T/3v7I/if/If8O/5H//f+2/8L/xv/t/y0AdgB/AKn/IwBZAOb/AAAiADoAyv/7/xYAxv/m/8j//f9ZABoAMgC3/2z/sf+G/0IAMQCl/5f/kP8GAAIAyP/M/73/0P/Z/3H/Nf8z/zr/WP9E/w//A/98//b/BgARALD/Yf++/wAAIgAbAD8AUwAgAAAA//8PAA0AVwA0AOb/9P/m/xIAhAC/AM0AngCHAHcAQgCOAIMAPgA2ACwACgDx/xQAWADEABoBPwEfAdkAqQDCALwAjgAbAMr//v+r/2z/l/+y/7f/6/8kAAYACgBTAG0AVAB6AJ4AbgBhAG0APgBUAGoAeQBmAEMAeABUAG0AzQAIAT4BHAEgASoBQwGYAScB2wDeAHkAYQBJABUA/P8zAI0AfwCXAAUB1ACcAOEAtgBOAA0A/f+i/yn/QP8z/wT/Iv8z/zz/Of9W/4//0P8pAAgAxf+j/4r/bP9+/6T/gf+Z/8L/vv+l/6X/2P8DAA4ABAC//3L/R/86/1b/QP9P/2X/Wv9c/0n/Yv+I/5f/vP/A/3j/Ov8n/wX/4f4O/0//Qf9D/3j/nP+1/9P/BAD2//H/EwDu/9b/2/8sAEgAHAAmACUAKwBFAGEAcACFAF8AVwBkAEkAQgBQAF8AKAAXAP//2P/0//D/9/8KABMAOQBLAGMAcQCHAK0AjgB/AGYAJQAcACAAJQAlAP7/8//z/+z/AgA7AGIAYQCAAJcAsgCuALoA3wDGAMUAmgB6AGwARgBWAIgAoAC1AM8AvwC4AK8AvgDDAKcA2ADBAFMAIAACABMAQwBaAFUAOAAUAAQAAQAnAEwAOwBTADoABwDy/9L/1f/Q/9X/zv+u/7D/yf+x/57/vf/g/wAA/f/Z/8b/zP/W/+v/3P/i/9r/s//d/+L/1f8KABoAEQAfACEANQAuACoANAD5/9n/yf+x/7b/mf+a/7r/uf/J/+H/4P/K/+H/9P/c/9H/sv+L/3//i/+j/5//gf+N/5//qv/C/+b/FAAwADYAIwABAOL/2/+7/5H/e/9n/2b/av9o/4T/vP/F/9r//v8bAC4AGwAYAAgA9//w/8f/rv+t/6D/uP/W/wEAKwAcAA4ADQAUADcAUQBnAHsAYgBLACoAGQAXAAIACwAdABkA8//f/8j/vf/g/+j/CwAVAPn/CgAIAAMA9f/n/+7/zf+9/8H/sv+9/+7/BAAOABEAGgAdABgAUQBjAFQAagB7AGUAZABRAEAASgAqACgADgACAA8AGAA/AFAAVgBpAG4AbwB5AGQAcgB4AE8AMgABAOb/7v/u//v/EAAMAAUACQAEABwANgA4ADsAMAAnAC0AJgAFAPz/CAANAA0AEAAkADgAQwBBADsAJgAzAEEAMgBRAF4AQwAoAAkA8f/g/9P/5v/o/8r/xf+2/6L/of+v/7L/tf+3/5v/lP+q/7X/sv+o/6P/of+W/5X/l/+c/6r/uP/A/8D/xP/I/9z/6f/i//D/8f/m/+j/2P/U/+b/9P8DAAUAEAAjACEAMABRAFgATABIAC8A///m/9b/0P/a/8X/r/+c/5r/uP+9/9j/6//V/8//vf+6/8n/zP/K/7f/qv+v/8n/3P/m//7/DgAKAP//8//s/+//4f/O/83/0f/W/97/4P/s/wAAAwAQADMARAA2ABcAFAAcAB8AKAAOAPj/8P/e/93/4//6/xsAKQAvACkANwBYAFYAWgBkAEcAKgAdAAkA+v8HADIAOQA8AFYAWgBbAGUAhgCkAJgAiAB8AFsAQQAqABAABQD9/wQAFgAYABQAEAAMABcAKgA5ACoAEgAbACEAGwAYAA0A9P/q/+3/7v8FABgAEwAIAP7//f8LAAcAAwAdABUABAD3/9X/xv++/7//zP/g/wAAAADl/+P/7P/2/wMA9//t//D/4f/H/6f/oP+u/7//vP+m/7j/zv/O/+///f/x/wMA/P/a/9L/0f/Z/+D/0//L/7//v//W/+H/9f8OABUAGAAlACkAGwAPAAEA8//l/9D/r/+S/5T/ov+q/7z/y//N/83/zf/X/+7/9P/e/7r/ov+l/6X/rP+//7r/tv+8/7L/q/+8/97/CQAsADwAQgA6ACYAFwAUABkAGwAMAPX/6//8/yIAQwBEAEUASABEAEUAOQAfABsALAAlABEAAgD3//P/9f8IABIADQAaAB8AJgAyAC8ALQApACkAJwAfACYAHgAQABUADwAEAAUAAQAVAEMAXQBhAF4ASAApAB0AGwAfABQAAwAEAP7///8HAAwAFwAkAD4AMwAUABQAEAAZACIAGgAUAP3/5//U/8L/y//c/+n/3P/P/9//8f/z/+P/4f/s/9n/z//M/7L/s//N/9z/6f/m/9P/5f8DABwAOwAUAPD/GQASAPr/9P/P/8//5v/q//H/7P/m//f/DgAgADkAPgA0ADAAHAAMAAIA6//b/8r/v//G/7r/qP+1/8b/1f/u//P/AAAYABMAEgAGAOT/3f/Q/73/yf/P/9v/8f/p/+X/7P/1/x4ANwAiAB0AGQAOABcACADz/+v/3f/q//X/2f/W/+v/4v/l//3/+f8KAB8AEgAXABAA9v/o/+H/2f/F/8v/3//R/8r/4P/1//v/BQAVABsALgArABEAAADr/+D/0P/C/+P//v/1//H/+//+/xUANAA5AFAAXwBTAE8AOAAWAAAA+v8GAAQAAwD2/+H//P8pADwAMQAxAEQASgBKAEgAVQBgAEwAPgAvACoAMQALAPL/BwALAAcADwAGAAcAKwA7ADcAMgAnABkA///+/wsA7//n/+H/tP+5/9j/2v/h//n/CQAiADYAFwDs/9f/0//j/+D/1v/U/8b/2//8////+P/0/wkAHgAdAB0AEAAOABYABAD2/+f/1//g/+H/yv/O/9n/4P/0//3/DAAUAA8AGgAPAPn/AgAAAOD/y//V/+f/6P/i/+b//P8CAAQADADz//f/GAATACIAOQAkAB8AHgATAA0A8v/y/wsACwAMAAwA/P/4//f/7v8BAA8A9v/p/+n/6P/q/+P/9P8GAAEACgAVABMAGQAaAAEAAgARAPT/2//X/9z/9//u/+T/7v/e/+D/6P/q/wAAEgAJAOj/0//Z/+X/8P/1//H//P/6/+P/6P8DAA0ADgAkAB4ABgAKAAkA7v/n/+3/7f8AAAgABAAQACIALgArACsAKwARAAgAEgAEAAMACgAGABoALQAjABoAGQAVAAgAAQAKAAcACAAeACoAJgAqADAAFwD6//X/6f/n/wAAFQApADYARQBBAEAARgA8AEwAOgAoADwAOwA9ACUAAwADAAAA+f/z/+D/6v8EAAsA+f/s//H//v/7/+b/9v/m/8X/zv/D/8L/1f/Z//D/AADp/97/3v/r/wwAEAAGAP3/9v/7//H/+P8BAO//6f/f/9b/5v///xgAIgAqACQAAwD2/+//3v/m/+P/zf/O/83/v/+y/6z/r/+0/7r/0f/p/wcAHAAcACAAFwADAOv/4f/a/+T/AQAFAAUACgAYACgAMQA2ACYAEgAKAAYAGQAnABsAHwARAPr/+P8FABYADgD///D/6v/r/+7//v8IABQAHQAPAAAA8f8EABcA7/8CACoACwASACsAKAA4AEkAWABOADgAPgA6ACQAHwAhABgAFQAFAAAADwALAAAAAgALAAUA///x//P/CgAMAAkACQAJAAwABQABABIADwARABEABgAaAC8AOQA8ACsAGQAdACYALwAhAAkAAADs//3/GwASABIAFgACAO//8/8NACUAHwAMAAIA///+/wQAAADz/+f/5P/x//7/FQAmABUA8f/a/9T/2f/0/w8ACwD3/+z/2P/H/8r/5//z/9//4v/o/+b/5v/o//L/7f/e/+P/zv+5/8n/x//E/8L/wP/J/8//0v/k//X/8v/4//H/4v/W/8v/1f/d//D/BwAIAP3/AwAVAA0ABgAJAPn/+P8FAAAABAAOABQAFgAPAAcAAQD///X//v8CAPP/9/8LAB8AFgAnAEgANwA+AEAAFQAFAAwAGwAoABEAGQA9AEAASQBZAF8AXABWAEAAJAAOAA4AHgAeACgAPAAzABYACQAGAAQABADy/+f/8P/z//j/CAABAPv/AAD+/wIAAQAIAA0A/f/p/+b/8f/3//n/CAAWAAoACQAQABcAKwAtABsAGQAhACAALQBCAEAAJAAMAAcABQABAAQACgD7//b/+v8GABkADQD9/+n/3P/m/+b/5f/p/8v/u/+7/6P/mv+n/8D/xv+3/7f/v//M/97/4//k/+z/9//5/9//+v8nAA4A+v8LACYAIwAQABwAIwAVABQACwD7//D/zv++/9z/8f/f/8j/2//z/+3/5//2/wsAGAAeACcAGQD///X/7P/j/+v/9P8CABsAIQAkACgAFQD3/+f/5f/n//7/FgAbACgAMAApABoAJQBEAD0AJQAuAEAAIAD9/wgAFgAOAAsAGAAdAB0AGAAVAAoAAgAIAPn/4P/V/93/7f8AABsAEQAFAAMA9/8KABoAFAARABAAEgAgACEAHQAwABwADgAiABcACgAKAAcA/P///wYA8P/t/wQA9//T/+3/EgAFAOP/AAAwAC8AKgAUAPv/2f/a/9////9aAD4Ao/+s/20AdgDD/4f/3f/j/33/Vv+6/wsA4v+o/8H/LgBAAML/m/8SADkA1P+q/yAAZwApAPH/6v8aAC0A///N//D/XgBSAN//AQBfADQA+P/4/wUAHAAOANb/sP/g/w0Av/+J/+n/NADd/3v/r/84ADEAsv+f/wkAVgDd/5L/KACOABoAiP/k/1YAEgC4/83/IgAoAOn/w/8MAE8ACACw/+n/TgARANv/KgBQABUAAwAPABQADwDq//v/JQAnAAsA7v8IADoA+P/l/y8AIAACAAIAFwATAPz/AAATABQAMQAEAMn/9f8FAAIAzP/3/xIApf+y/wIAVQAoAKn/0P89ADIA4f/o/xIADwDT/8P/JQBeAAUAg/+//4AAKQCW//P/YQD2/1f/HQCdAAwAoP/a/3UASQBn/1b/ZgCKAMD/r/8jAKAADAAo/8X/XABbAKD/NP8FAH0AJgBR/1D/MwCeAN3/Hv8aAOIAtf8J/43/egCLAFD/Qv8BAMcA/P/J/uj/EAFcAMj+eP8fAdYAV//T/q8AQQHY/xH/6f8PAX0Aov87/1QAwwC3/77/4v8oACQAsP8xAFkACQBbAPj/x/8vAHkAIgDL/00AjwCPANj/wv91AEsAHAAGABAAQQAPACwAOgDL/5T/wP9VABkAt/+5/z0ACwDa/1UATP/2/0EApABPAIz+DwDQANr/ff/Z//D/lgDa/0b/dQAjAAkAo/86ADEBZgD0/jn/3ABQAFv/p//l/3oAJwC+/hMA1QAKAMz/u/9JAA8A3f6r/7sBfP8+/nMAiAEpAGv+UwCAAbf/sP6BAJ4BXv8c/xsACQF9AIT+jv+zAAQB0v+2/rb/kACSAH3/Mv8dABgBMwD+/ij/cAD5Ab3/0v2PAFUCyP9h/hIA7wFmAEX92//PATAAbv8r/ioAAQPU/5P8Gf/kAgMBav5q/ej/7QM5/yz+wv75/kAD0wEA/eX+bgGq/08Cu/8Q/zX/Ev8ZA/v/l/yU/+IEAQBs+r4AXwX5/kH8AAGtA7X/wP7hAXH+O/+iASQCTgBr/FD88wPTB7v76fdwAuEEWAOl/Mb51wUoAhn9cf9Z/lYD9gLw/dT7mP92ArwB0v/8/roCqfk/+zQMEQUr9+n2RgPyCWsDRvdJ92gINAXe/ED8fP7FBKAAQv1c/xH+dwHWBBj8WvquADMF/QMh+Yr7qgaM/w36HAMzBZL7R/xTBd//4PzN/7UAawXF/GH5CAacBDb9wPrBASAHbfzX+UUEqAN3AJH+bv2tBIv/yf9iAXD8egLx/gT+mQaY/vb4xv0KAVQMeQGB8Jz3MAnwEbL9vu8o9zcHHRAdArX0W/YX/SYJMQscBHL3eeyCAAUWDxDP8Rjolf0vFb4U5/Db5zoAuBaZDPvtRO2BB1cXdv418pj6Zf2tDesFbPiF+qb5eAYTDuP9JPGV9xcFFRLuCunsuuYjCdoaZgoF7FDolwjnEosKTPPN6XIGYxcpA/fqXu5GDfAebAB9477pvA2RIF4LgOSA2yoKXSlGFXnjItX5/2YncSDE7bHUkfcSH/IYwfAO6MYAWBCmDKHyNe31A80Q1RBS+hTg2PFYHlEezPUC4sHvkxDVHbYGDuj16VYIiBfEDBztGeeGB6IX3Qhj8BPudQGQEXUK8fR08fkAIwupBP7+nP18+oD8WQYYB3L68/pVAyUEIQJg++n5KP8oCb0GTfnd9/f/WghB/R/8DAiRBDr78PXw+2MJHgxi/xjxu/UoBz4OKgWm84T25gFzCDEHXPoY+GAB9wVxAO/6sv/SBkMDVfp7+GL/UAZdC2EAH/JC92ABtAvwDgj+D+3q9acFXQxeB1r7Kflc/MX9tP+HBqYFgf3H+0D7wf7CBNUDPv9YAN7/sfms+YwFaguO/sf4f/h4/aMJOAea/vH4m/lO/agHPgyt/lXzUvXlBAwSAwiT8G7y5wITC4YLSP6X9ID5/AAhB0cHrvyM+kb83QH/CIn+9vij/JIFdAiX/Dn3Q/12B08F2P6i/GT6aP8qBOwGZgFa+dr8WP8SBO0Dnf6i//H8YwBwAgwAJAJa/lX8Ev9MA20FMADT/DH6aP3OCIwEdf8T/Kn6fwP4A4gB2fu2/Mj+HAT/BG37JP9J/pP9bAH3/44ENwVV+536y/qOARoKKgVD/oL47vkW/2MJighS/Tj6o/qR/TkDdwilBPb7x/no+nz/gwY6BMgBhf1C9wsA8ALzAaMEiP2x+aj81gI1BmT/q/p2/QYBswQpAZP8+v6NAHUA2v0m/LUAYwa2BSz74vTu+VUFjhA3BrPx9fC6AWANtwvU/Y7zX/okA3UHyQOX/RP/b/6p/wUCvf67AsEBd/1x/7b74PvFA48JQwR7+R/3tPkQBG4KHgN8/Wj5uvtBALADjgaUAlX+jPbl+fsFYgr3B0P7uvS2+GsDsQyXB07/W/qN9f76awepDP0Drfis9av5RQh7DDoBf/V39gr/WAeHC/AAo/jQ+Jz7NwK0BwoDtP/O/Ej5UP/fA/cBHgCqAKr9hv+l/YX/7gUXAj0AKfjl+mkHxAYNAFn7f/wqAtECTv6a/gQCPAII+zL87gGNA5kCvPxR+kf+pAKIAuQDfv57+SD7/v9oByEG9v3/9hj6YgFNBwYHCgDP+o77gwCJAk8CugD+ACUBYwEe/7r63/6eBrAHmP+q+Wr5f/zcBAoK6wRN++L1YvgvAjoHDAaLAAT4n/nl/s8BAgUtAnb8wfo+/cwAqQCCAMUB6f84+8T5ov7bAskFAwNO/ff6kvxuAiMDLQPUAkL+Bvst/ioF2Ab3Ajr8ofp6AFsEuQaDBdD76/eT+1UDJApwBNr8//ac97MBMwaKA9v+tfpM+0L98/+jAhIBEP+S/LX75/4FA/IERAG5/BH+of9nAF8EqwQSAsf+Sf1O/lQBPwj6Bbj9uvrd+7cCkAasA37+gvni+uYAWwZSBYD8oPZ8+ToBEQaHA7H+IfuS+7T/bwLUArMCPQL7/gX9XP+rBLYG+APYANz8u/1IAoEE/gPoAD3/Jf5k/MX+sv7d/xQCpPvp9nD2sPxxA5YAtvmY9N/3HP+lAi8AMPnm9x79wAHYAxEBYv5c/rIAMAQ4BQsGywNMAocDgAIEBgMJJQh2BxsCyAKZBhYGrQY2BAMD6AOzA2ABNv7s/78CrgJl/036CfoI/nIAef8F/AP6JfoF/Gr9O/0N+0P7hAGpAVT9pPr0+rwCSgi3BcX/WP3aAFADBQStBTgFPQTVAPz9IgAoASsDYAIv/x39l/vB/IT90P7o/N75pPmU/IwAvP1e+aD5fP2UARoCNQAL/4MAawOjA9oBawXNDN0LxALe/vgEYgyxDScIL//n+3EBhAUEBM4Aafos9CX00/lK+5D0T+/+7mnwnvBZ7yrv1fCI8ATuy+3u8iv4QPfF9Mr1bfy2ArIDYQITAs8G+AwcERgS+A98EM8UgxjrF74VchYSG80bVhbzEbMR1xXFFW8QxAn+BX4HdQbyAY38cfgP95717/Os8QXsLemy6ZLqo+oL53rlteZH6mPt0+yw7BHvJ/PV9fT31/spALkCVwOXBdQICQzgDkQPpxCVEgYTcxIFEFoPuBGsEg4QIQn6A4gEIgYSBff+O/mQ91r4yPYH8ivw5++w7onu0+5i7XrtPO878XjypvF38qj2qvwx/+n7Yfru/ikETgbgBfgFagdlBm0GMAhtCQIJ6wScBL4EjQMoBlkHtgUJAgYAvAIkBxkI0ARiAl8JdBEuDAQCDwHiC5QSWxBCCxUCc/x0AQ4KQwt8A7X0E+nn62j3CPmR6gXfR96h3trehd+l3TvYCdWI13Dcd+FG4j/fYeGM6/zzW/XQ9jX+ogbWC/wQIBcBHHMetCFMKY8xijQ2MeYslS97NjU5cjVeLoQpTid1JQEkJCBpFigNbglvB3ADxPrP8fLuyu3D6dbiFN713fDdg90y22jZJdzv3zfhW+Ig5s3pH+2f8ab0DviX/e8CLAaGBTQI7Qw6EWQT3A/ZD3URVhKKEdQNWAvUCDAHqQRIASv/dfrt9EXxRPB98Nbt+emJ5SvkyOWV5jbnJOfd56joNesb75/xQ/Xj+Jf8Yv9OAV8GPgoTDekQjhKSE+sVeBmDGYIXhReRFw8YGhZqE0sR/A/EELAMIAbSAtAC7QL8AF/8xvdk9iD2W/ck92/2cPSR8LXwjfTX9hf2LPXE9Jz2G/nt+3X68PYf+r/+twJyBJ4BLf6W/ogFkhDvESoITgA9ALYM8RtuHkkQkP/0AKQN4xYKGIAPsQA69z78UAXlB9kB1/I25Qzmku5g79Xni9+E2bPWWtlB3Hnbi9c91SjXx9vp4XbiLOGo5s/wi/eX+dj8NQPsCugRExikHJEgCiVJKeAtezJQNNUzYDQ5NWw0cjEeL6wtZCo+JlsgBxvyFTIPmgpOBugBf/xD9Jvu/uza60/oIeRQ4cjeL9/94ZjkS+QS4wjmjepH8Mjzv/S/9zX82QHwBC8HLgwnENsRuRAkEecTGBT5FZsVeBHDDRoL/Qr2CIcE/v3e94z24vQn8CnrKOfs5KbiGuGf31Hdddzx2/TdwOFN5K3kUuUu6nrwY/R79/f7zAAqBJAHMw3HEZcUYRYhGHUasRtNG5kasRw7HoMbdRYKE/AS6BKcEO0M2gl8BxAEzwA6AJ//nf2Z+pP4p/hL+NX3BvbF9av3Dvll+Cj16/QR9+35OvuZ+cH3ePZC9876Ef9m/5v6Sfei+h4ACwPwArIB5gBDAkIDxAReDPYR4A3bA+IC1wsJEoITsA2QBM3/hwGhB8kKcgXc+DXt8e1/9zX4fu5e5J7gQeIo4+DioODN3Vjdcd5T4RzlBedx5/TqJPIq+M75CfzuAUYJxxCXFTcYGxtyH/4kaiphLT4t6ioJKwMvnTFeMF0qGSVYIw4j9SCTGpMUjxACDH8HZAPM/tv52PRD8rvvAewC6RPmhuVF5+3nlObG5ejma+nZ6/LwwPWq9RT22vgl/2IFxgf5BywHfwltDswQ7BCYDyoNYgxrDIsMYQrTBeUBUv60+wf6zvce9IrvS+sx6YHopudw5sfjZOEL4cLi2eVB54fnjOix68jwPvSp9kj5Vv3CAW0FQwmyC78NhA8uEd4TEBbLFusV9hQTFfETlxIoElQQKQ1TCnUIgwbmA4gBnwCx/2n+YPsw+ML4sPqN+6v5aveT90X6Kf0n/p/8r/qt/EEBuASjAn7+df6tACwDPATZAX/+wfxU/ej81foZ/Tb/5vxl+OD1+fe1/FYBKQGV/V78tv2H/xAHSxEIEecFCQBpCGMTSxdQExoLUQUwBkkK2QzxC7ADb/Y78T755P2b9HboxeRW5sLlr+IS37vd2t7C3tjdi98S4wDllOfj7eHynPPk9Xf+lwgYDg4QwRLAF/gdGSTNKLArMiwwKzEr8y7uMhsxiSr1JLgjACPqIJwcfxV6DnkJ0QYjBCn/Dvkl88/vzu4x7BLpieYJ5ljmXuVk5SPn3enN61Ht2O9T8wP3JPwqAPYBiwM/BiwLWA+EER0QpA78D+QRdxLnEKUNlQiABQkFCgTn/yX65/Qo8pfxle4p6VDkbuPE4wDjYeEd31zf+eFH5ErlTuc+6sLs1++x9BT5Rft3/kMD2Ac5CmcL6g13ETwUthSJFAoVnhWrFI0TRxMvEhIQ6A2YDVkMpQkPB2IFnAQGA9MBiAC4/7H+lP2c/av+pP+7/6n/x/5u/yQBhAMdBJQDbwTKA2UEtgWoBnAG7QTDBNwDPgInAUL/Nv4w/iP86/i+9tL2ofSH8IzyuveQ92Txvu0e8cD30fwi/gL9DPxV/Y4AeQuMGXYYxQlkAwESZCIPIrgXew3LCoUP3hPKElsMAAGm9Pjxofoc/ITsJ94U3bXg0N952kHWX9UQ1w7ZYdo/3knib+MR6InxEfkT+379ZwaWEE8X3hqfHqwj0yeUK7MvZTJcMAIt/CzCL0AviigdIbgclRtJGKcR4gpaBN/+fvrB97H0hO536Kvmuudt6L/lzOKY40fnROwN7gPuO/AH9Mv4nP3MAt0GJAfYB+gLyhHHFmQWHROxETYT7xQ7E6IQFQ1ECAQFfAOHAVv8Hva/8fHv5e6f6t/kCOKA4ubigeEg4EXf598H41fmluf85xDqDe5m8of1O/e8+Kj7+/+5A5wFPgYYB1cJSgz/DfMN3gxrDDoNnQ1GDb4M2gslCxQKGAlWCK0HXAhgCIcGOwRoA1MFgwhaCSUHZwTiBHEJAwwFC3oIVQfECSALrQq7CagI/ggYCJAHWAcZBb4DSQLQAQkCcAD9/LX4yvit+9P6Offy9OX0FPVn9IL0c/VR9tT1g/Tc9Kb3z/n0+nf9UP6N/QL96wBMCHAKvAd4BFQHog6sD2EMEQrSDQUUbxBsBw4ERwtGERAKHf9Y+QH5xPv+/Ev4Me555A7jfelf78DqwtyY1xzgRehL6I/kueP65dnqRvFY9af5+v2O/2wBRQidERYWIhdPGDcanB1bIm0lZCSwICkebx7OIG0gihmNEUUO5g6QDbsIKQJl/Jv4ifjY+VD3b/JG7lfvQ/Jx84jz9fIC9cP3svk1/FH//AIEBWIGyAixCo8N2Q9nEKcQcRBUEFYP+Q7aDi8LJghlBrsEeQIA/sz6s/Y39YP0VfAS7FfoQulv6gbpAeaM4t/jMecy6WPpQuin6Xrsce9I8qjzl/U590r59Pte/Qz/fAHhAykF0gTjBCYG9QeyCdcIDgc5B5kIBgn0BzMHggd6B1wGdwUhBZkFwAWmBO4DzQOMBCQFvwPbAroDgAUyBikFogR9BfoGfwdZBxcHswf7B78HLQg6COQIJwlJCKgHLAeqBqUGmwYPBnIDmAEKA1IDKQIMAOD+JP+d/mz+2f1l/ev85/sk/Lf8cPvT+aT6DPwr+/f35/b5+LL5ufgc9232+PXI9C72MPkv+pf4kfb597z80f8i/4/9Af86A0gEGwO0A/sG3gxsDFIGxwO4CEUQpA0vBpUBRQD0AywGOwMo+97zz/Rr+a36XfXT6+ToQu+P81rwGepJ6fftEvCD8Bvx6PK19tv3Fvg8++L/lgOlAz4EhgdvCRUMeA9jEasQJQ9oEToVZRZMFFoRshD2EiEUYRJBD8MMZgwnDe4NQAu0BS0EfAdVCNYE0ABa/4YATAGJAUD/nvzm/Oj89P1v/q/8SftC+gz7sfuI+zf8+vpm+Xr5g/oQ/CD7Yfnd+Dn4jfgt+aH5l/gt9ib2m/es+Lj47faS9SL2W/ew+FL41/Ys9g72qfdD+BD3Kfcb97v2Qvb49nD5Nvme9wD4s/lo+5f7y/tt/Ub//f8gAIoBtwPeBE0FmAbkB38IkAmZCp4LuQwgDYgNWQ3QDCkNeg6JD3IN0QreCtELigxzC0EJ/wcqB1gHYAcxB9kG1QQOBKYEPwUrBQAEgwNmA24DaQNpA2YDwgLUASoBywGkApgB+f7//Wb/bQAw/0n83PpG+9/82/xA+pL4WPhl+f/52vgt95T2Jffx98b36fbh9mL3fvm1+t751/mw+z3/tABT/3L+WAB5BKgG8AREAr0CKwY4CYsJyQXjAXQCRAfeCc4EXv4h/Oj+/gGX/5750fQz9c/3HfhR9QvxGO++8D7zyvKt8GnwevLB9Jn1Nvbs9zr7Jf4N/0T/JwFNBQoJZwrsCOUHxAqcD74R+A4kDPwMVQ8HEboPVAzaCRUJpAqLCuQH2ASMAswD9QTmA24Bzf/fAPkBUQJaAYgAMwHEAnwDKgNCA8MDgQQJBeIFgAXDBEQEEgRRBZoF5AM2AeYAvQKyAqD/1fwK/Cv8Gvx4+an2XvUa9Zb1jfQW883xTfG/85H1aPQD8uPxZ/UI+LT3uPVD9cf33Prg+7H6FPpg+739rv+a/2v+y/7mAEkCdQHFAKoBdQMDBBwDlAJcAw0FtAQCA2ACpAPLBNADcAJvAuUDOQV2BfIETgTSBJ8G2gdHB5AFfQWxB1cJSgiMBlMGBQhXCa4I3AewBkUG+AVUBowGugRFApIAVwF9AXwAfP51/Gr8Hvy4+0n7qPoF+pr4WPgX+pj6nvnB+OX4V/qZ+pn6Zfrp+En4Zfge+gz7l/ka+LL3D/pV/Bv9+PzW+//7/f2EAY8DmQH//0MBIQUFCD0HyAWJBT4JgAzrCusHeAeZCmML7wdNBN4CVAOEA5AAufxI+jP5mPlS+Lz1xfFV77fxd/Ma8mTv6O4o8VTzwfWf9kf2bff++X381f1f/yMBRwK2A4AFpwZ1CNIJ5Qn4CXILBg3cC2gKJwqSCkcKeQkDCEUGkwZJB2AGKwXKBKUETQQ4BCMFigTtA0AETwTpBEoFPwV9BFEE6wQJBbEElQSgA20CNAIvAtQB5QBgAAX/xP1M/uf+d/5V/HT64fnS+Qb6uPgZ9/T1HfWD9Yr2Evd49Y3zXvST9jb33PUw9Or0QPeD+PH3Xfbc9if5HPua+5X6PPrL+479Kf47/pP+Sf9//1MA5gGNAj4C+QHrAucDDASvA6UDzwNaA/kCjAOLBJQE6AOdA50E/QUIBywHMQaWBY0GcQgdCc0HVwb0BrMIxwlCCfcHCAduB18ISAjgBvIEzQTHBPADiAICAe0AmwBC/3j9V/xt/B78r/o5+YD4c/hA+U35NPg/97P3q/ko+rf4L/fC9x/6FvtQ+X73tviX+978l/ui+nH8//8JAhgBZ/9aAPkDaQZYBqcEBwRRBpIJ3QzTDIEJsQelCV4OiA5cCO4CQgL2BL4FiAFc/K34YviG+uP5Pfai8NbtRfAV83TyZ+6G63DtdPFb9HP0ovIe85H2kvqQ/J/8Pv1E//UBZQQsBZYFVwclCX8J7Qi+CYgLswvDCf0HFghbCWYJdgeEBd4ERgVWBqsGWAUOA5kCtgRJBoUFqAMzAxoE9gV5BrIFtwStBIQGTAesBvkEbAS3BR0G9AQ/A2QC1gI/AwcDiQHd/+3/sgAEASf/2Py++xr82fz6+kb4Fvf791r5ZvhS9sb0KPVT96L3pfV/85bz6fWD9532WfRj8z/1zfe/9z/2SvWx9vf4k/nO+P73Pvnw+o37g/sV/Hn9zP7Q/6kASgHPAc0CpgNDBA8EQQSGBZQGwAYrBm0GhwdmCJwIHQipBwUIfgi0CCgIzQfmB0AHiwamBZYFOgadBaMEFwPFAq0DXwPlAiIBxf/J/1wAjABU/yP+Uv43/9f//f96/i/9Qv2o/lL/yv2k+577Ff0//kL+ovzq+5X7hPxP/XX8Gfs++u36cfz3/Hr8f/xk/ZP/EwHaAX4BPwHDAg8FOAb4BGEElQVzCB0L0ArxCFUI1QoWDZsKIgZNA3oDvATUAyQAdvtp+Vn7df0q+2b1PPF08sz1mvWZ8Xnu4+648Sz05/SN8/HxSfSe+EH7qPrQ+XX7Sf7zAPYBnQGvAf4C7QRcBo8Gngb8BuEHXQgjCNwHrwepBzYHzQY4BgsGnwYsB7kGogVUBTIGdwezB5MGWwXRBaEHdwgSB34FlgUxB9gHhwYiBY0EqAQVBEUDegKuAeUADADU/5P/Jf97/oX9Y/xJ+4X6dvqP+WL3GPZj9nz3PPco9sn1zvVb9qv2JfZp9Tz16vW19vn22PZB90z4Hfkd+d/4X/lt+jH76/pr+in7Fv1r/hD+mP2z/voAfwIUAoMBEwJ5A3YEXAQZBPEDlASYBTIGPwYqBqYGQAeUB9YHAAjNB7QH8wd7COoIswg7CAQIGwjrBxwHZQYFBlYFgQRVBCMEfANOApMBWwFzANP/Hf+L/mz+H/7P/Vr9OP1U/df8M/y7+9b7g/yK/Aj8wftJ/Af9av0I/SX8rPtI/Cj9x/yD+9b6qPum/P78r/zD/Jr9wv4VAAoBbwF8AT4C2wP5BOUEJAW8BvwIFAq9CSIJnwknCrcIFga/A78CLAJ3Aa//0vzy+gz7C/uQ+O70k/JN8qHyOPKr8CjvE++G8FPy2/I68iTyz/Nj9gr41vjg+Rz7D/2g/9EBvAJxA10FvAdcCR0KpgrjCg0LHQtEC0ULqArpCaEJ5gnTCXQJ0whXCEIIJAj8B2QHIgeNB9oH8Qf6BzoIigjRCCAJCQm/CMgI/wi6CAoIYwejBh4GigVuBD8DfALmAd8Aq/9u/ub8OfvL+aX4Xvfe9cD0UvRR9EH0bfPt8knziPOg82rzcvPk86X0nPUd9lz2Dvfn93/4APlD+Yj5vfkF+n76v/rf+jz7vvs6/LH8KP2U/ej9QP6//n7/6v9HAKwASgFEAi0D5QMfBIQEWwVXBhMHUQchB1kHbAiSCaMJ9wjrCH4JLgroCeIIJggkCI0IaghfBzgGoAVeBQIF5wODAsMBtQG/AXEBpgDz/37/EP+E/mj9P/yh+6z71fuq+0r7APv2+i37H/vC+nH6I/op+k36fPqs+qL6pfrw+k/7jPvJ+238eP2B/mP/JQDbAIsBbgJ5A4IE0wWNB2MJuwopC1ULWAu1CqUJNwiUBhgFBwQXA90BPAB5/rD8rPq5+Or2JPWi86DyMfIW8v/x5fHh8RnybfLf8onzb/Sf9Tf3J/nw+mT8qf0v/8sAQAK2A/QEHAZ3B7gIZAmQCZ0JswmLCQ4JbQjrB64HdAcMB40GHwa5BUcF0wSWBIYElgTrBDYFNAUWBSsFhgXhBRkGJAYPBlUG8AYyB9AG8QUjBeMEzQR8BNwD9AJeAjsC0gGvAMv+yfxm+2f6PPnu99n2TfZL9jz26/VU9bH0wPQy9Un1QfV59Tv2M/fG9z34nvgG+YT5wvm5+az57/lt+gb7cPuc++H7Tvzn/JD98/0V/k3+1P6Y/z8AiwCnAAMBnAFNAvECRQODAygEGgX4BXUGlAbqBnkHBAheCHMIdgiDCLoI6QiJCMgHUwctB+UGLwY9BacEZQQPBKoDLgOwAmICEQK3AREBCQBE/9j+e/4E/m79Cf3p/Lv8Q/yJ+7b6J/rf+YD5Ifmw+Bf44/cN+Bz4E/hD+ND4XPn4+ff6Rvyw/d3+4//TAKABzgIrBFEFmwYgCO4JgwsUDKgLhwpsCZ4Ifgf7BU4E1gL4ASwBxP+R/Rb73/j39mf13PNW8mvxVPG18fDx7vHu8fXxUfI680/0R/WE9jj4CPrP+2j9mf6L/6MAGwLFAzgFZwaQB8MI3gmICpIKWgo8Ci8KPgpWCi8K5wnFCbUJdQkFCW4IoAcJB+gG1ga3BqAGaQYfBu8FywWsBYgFPAXxBMcErgSnBIAEHgScA/cCTgLUAWkB3AAVAB7/RP6T/ZL8Lfu4+XL4gPe79vn1LPWC9FD0aPRc9P/ziPOD8+3zifQe9Vf1qPWQ9qn3fPj2+EP5q/lc+gn7Xvt4+4L71/uS/C79ev2r/QD+mf5H/7P/zP8FAJUAQAHVARICMgKnAl0DJwTPBEkF0gWGBmMHKwhxCGIIkgj5CE8JjgmmCZsJswnsCcsJOAmCCHsHUQZ/BcoE9wMcA3sCMwLeAWABxwD3/yH/dv4R/uP9zv3q/fz94f3Q/YP97fxr/Ob7X/sY+/b6yvqR+kL60PlS+fv41PjA+M34Mvkm+m37ofzC/b7+i/90AJYBwwLtA1EFIQcoCeIKtAuLC+YKPQqTCXMI6wZGBcwD/QJBAooAAv5S++345/Yy9arzPPJr8YHx8/Ey8i7yCvIS8qvyn/PD9ED2Cfgn+l78Xf4XAHIBqALvA0oFtAYeCJ0J9AoIDN4MHA3lDIIM9wtuCwcLrQpGCusJhAnECNMH6QYOBlIFtQRLBEEEjwTcBAcFJQUgBRIFGwUiBR0FHgVYBaYFzAXOBXwFyQTmA90CvwGjAGL/3f1j/B/73/mT+DP3xvVj9ELznvIk8pTxC/HB8P3wivEL8ljyqfJS8x709PS+9VD28vbI9774qflW+uD6bvv++4/8N/3K/Vv+NP8RAN0AfAHUAToCsAISA1YDkwPrA1EE5wSDBfIFOwZkBqMG5AYWB0cHcAfUB3cIKgnICRoKFwrrCd0JuQlHCbMICwh6BwcHdwaZBZQEqQOnAq8B4wAUAE7/gP7R/XL9Lf3c/IX8I/zG+7f7tPtL+9L6dPpJ+l36NvrU+Wn5EvkZ+S/58/it+MP4afmJ+tD79/zR/bP++/9xAdMCBAQqBYsGOggiCnsLuAtQC6wK+gkNCaQH0AXWA08CSgETACX+nPsC+Zz2qfT98knx+e9G70bv1u9P8IrwpPDv8N7xSvPf9Iz2eviz+ir9uv/aAXwD9gRzBiAI4AlmC6IMqA2aDoIPARDJDxoPTg6hDS0NvgwgDFILjQrtCT8JYwhYB0cGmgWFBbsFAwZMBnsGugYQB2UHkAdVBwsHFQdzB/EHFAjUB0EHWgZjBSIEVwI9ABH+IfyB+vD4WPen9ebzPvKo8Brvn+1k7LXre+u360bsyOxa7frtnu5o70XwNvEi8iPzb/Tx9Yn34Pju+e/6+fsn/Tn+Cv/Z/7wAsgGeAkgDmwPhAzwEiQTMBP8ELQVgBa8FIwZyBo0GpAbgBloH/AerCD0JvglzCmELTwznDDMNXQ1gDV8NTA37DHIMugvsCvkJ6wjOB10GtgQ7A+wBnwA4/9z90vwQ/GD7n/rH+d/4EfiO9yz31PaV9lb2L/Yn9hz2A/bh9bj1oPXa9V72HvdO+Nv5gfsH/X/+8/9YAdICLwR5BQsH5QjDCjIM4AzPDFQMjwtcCs8I3gbgBEoD4QFFABv+ivvh+B32fvMF8b7u3uyY6x3rEusn6zTrNOus67TsRe5m8L7yQfUX+EL7of7RAZIEDwdgCbQLJw5bEDMSthPQFJsV7xXLFVEVghSWE6gSrxGKECAPqA0WDI4KJwmSBw0GzwTSAzMD2AKnAn4CRQJPAqkCNwP2A5AEHAWrBTEGqAbGBnwGwAW5BKcDagL+AF//kf22+6r5nveV9WXzRPFC75/tcexT62vquulT6WjpnOmu6cjpYuqR6xjtqu4Z8IPxOfMq9Tb3K/nW+nT8Mf4fABQCtgPYBKYFOAa6Bh0HSgdZBzAHEAc4B1EHHwfGBnQGRAZJBowGvgbqBk0H1Ae5CMIJVQpyCmgKzAqyC8UMpg3bDZ0NQg0ZDS4N+Qw2DA4L/wlACYsIlQcxBnMEnALlADX/Uv1Q+3L59vfL9qv1dvQS88Px3fBv8FDwJfAl8ILwb/ES8xT1KvcD+fX6OP2q/1IC0gQPBxkJIwtTDSMPQxC0ELsQeBCRDxkO+Qt1CRAHjgTWAdX+ovue+Kz1wfL/73PtKOsU6XrnW+b/5Uvm2ubD5+PoRuot7Lfud/FO9H/3B/u8/n0C5gUbCTQMGg+uEcwTrBUSF1QYbRkAGvIZOhkgGMUWRRW5E/cRHxA5DkkMgQqfCKwG3ARJAwUCCgFcANn/n//8/4YAYQEqArsCkANoBGoFKAZ6BlUGxAVDBawE+gP3AlMBa/9T/UT7b/mR97r1i/ND8Vzvuu2m7KHrjeqj6fHo7+gy6Ybp3+l46nnroOwB7mPv0vDD8tf08Pbj+G/6Hfy8/VT//QBrAp0DbgQ9BRAGoAY9B3oHTwfeBlgGNQYiBjEGMQbsBcUFpQWpBcMFswX5BV8G6QaGByUI/gjACZ4KewsXDF0MeAzcDDENUA1HDccMQgyjC8kKoAkQCFgGSwRAAj4AM/5h/G36cfiI9s/0a/P68QbxXPCs74Tvm+/r7+PwGvKS8xX1u/bX+Pz6hv33/14CygQ1B9UJ1QtpDaUOqg+eENgQhBCXD/wNZgyOCi0IZwVaAlb/HPyv+EL16/Hj7hTsremG59Ll7uSR5LTkEuX45YDnkekX7O3uMPKq9Xj5ef1yAW4FSwkaDcgQ3RNYFncYSRrjG8ccHB0NHZAc+BvbGlYZSxc4FSQT6BDJDpkMdQoRCAwGUATsArYBkACj/7f+Sf40/mj+k/6O/pv+uf7R/hv/Vf+e/+D/oP9Z/7b+Qv71/U39kfxZ+wL6uPhi9072TPVQ9CLz5fH48Arwle9y7zXv7u6v7vvuv+/S8Pjx7fIC9E31x/Zq+OL5Yfvj/F7+v//vACQCJwMnBAYFnAURBi0GQgZtBpcGiAYxBtkFaQVtBZgFpwXQBXEFyQRyBEkEmwT0BCEFLQXJBPMELQWqBUUGcQa/BqIGhAZPBiUGTAY9BvsFcQXYBPsD6AIZAmIBZABW//n9WfxX+2r6mPm1+Hj3sfYN9oX1dvU79Sf1jvWv9VH2EvdH+N35BPuv/Pf9jf+WAa8D5AVaB6wIzQnyCk8MLw3TDeQNZw34DCAMzgpRCbMHuwWyAyABfv4g/J/5iPeM9YPzufFM8AnvNO6Y7drtRu7f7uLvmvBX8iz0ovYp+ZH7N/6EAEoDqwUbCG8KmwzTDr4QYxKPE1YUORX6FS0WMRZyFf4UDBTGEvsRbhA0DwsN1wrLCJUG9QSNAqYATP4q/JT6dPgx9yL29vQt9CTza/JJ8hryWfJR8knyefLW8pTzU/Rc9Tb2YPeK+B75MvpX+8b8PP6Y/hj/0P+SAKQB7wEUAocCfAIVAsgBigEIATQB7ADV/5j/T/6w/an+rv0R/tn9Z/wz/RL8M/w2/Uv9P/7K/Zr9Dv52/lz/JAD1ACwBVwFEAiQCWgO5A3IDDAUOBMwEBAURBH8FMAUpBXYFYwS0Aw4EggNTA2oDlgKwAk8CwAG4AfcANQHPABgA0v+5/gj/S/4O/sT9xfwv/Wn8vfsM/EH7Rfuh+7/66Pu9+8z72PxB/K/9tP7O/joAKwEFAosDigSvBUoHlQhtCQ0KrwqfC8IMFQ0uDSMNdgweDGELegrGCbAILQdHBXkDbgFA/5v9tvty+V33HvU089TxpvB877PuJu6+7bLtNe7r7vPvv/Ht8nL0svaK+PT6uP1HAM0CPwWfB9YJ7wsPDvIPXBFoEgAT1BM+FEsU6xO8EuUR3xDQD0YO3wvgCa8HjQX/AjwAi/4d/Cz6Cvig9TH0b/Kw8XPw1O9W8CDv0O8f8M7vHvGX8lX14/Uy9934Vvph/QP+KwHiAU4ClwdOBKkGdQmXBYQLpwckCCwL0gRVCWkG2QT9Br4BkQNAAjn/fv/l/Tb9Jfzr+sn4hPnp+TH35vh1+G33fPla91b4ZvkN+Qr9t/sf+97+FP5v/u8B7ABuAZwD9wIwBOACiAOPBgwETASfBHwCXAQQBOEC7gMOAjMBVQLI/yYAZwDl/lMAOP5Q/UL9uvxp/uv82fwr/cv61vzl+/b6Qv0I/Gz+wP2G/E//0f1f/4oB8QDGApUDsQMnBf0FqgZ3CPkIgwmGCrYJQQpGC8gKUQvnCwoK4AnkCcoHsgeCBucEOwQRAqoAYP8U/Yv7Uvqj+FH3svUH9IXzcPLV8Ubxn/B48SzxdPGs8jbzl/SS9qj3LvmB+5P9Hf+wATEEOwXyCOoJYgsuDpsNcBC5EA4RNxPFEQQSDxFZD0kPxQ1xDBUL9AjcBusEGwNvAIv+DP1d+t35D/gA9T/0wvLE8pvxP/Ap8nLwjO+286nwM/K09B7zxPpk9k369/vS+oQC8vo7BQICygJvC0v/iAl1Bl8FIQyTBcAIdQgOBuAEggYTBUAELwQhAikFjf2I/xQALPqVAk/7k/qw/eH3xfvL+Zj6Efow+q7+FvjG+fb+mflS/vL/SPzZABX+rv51Ac3/DgKuAgYDvAL6ASgDkQGMAygF+gHXAjgC1QG8AE4BFgEm/ykC1f79+2T+S/79/OX9PfwM/bz8n/ks/zL8Zvr3/7v8Qf3r/Zz8fQCk/kMAowKy/14CQQMjAzAEawWbBV4HJAj3BjYI0AisCt4JLwoiC0gLVglmCkIMmAZcCSYKOAU3BhoFdAIgAsr/P/62/j77K/rz+WD2o/Z59sD0ovQ89Gv0KPM+8zz13/SM9f72cvcJ+c76G/za+6H+BQJrASMDjARvBYcIUgh+CaYMJwoyDM8NVgqgDRsOjQrYDBgKSwjQCS4FLAaQBLwC0QL4/Ur95v2u+036Ifnr93n5RfXj9e/1HPME9wT2A/b58ln3Fvjk88j76/ct+Nr9EPr4+4cAEvtBAFAF2foEBAIEo/ylB/UF4f6pBcwEjADsCbj/5QLCCWL+kwc5AN//vQbf/2IDff96AUkAqf4bA4D6MQG5/5r8KQFT+o4AVP2F/Xv/4f6I/hP7HwVw+17/AgPi+mMGuftVAVcBD/wpB3/99gCJ/jQDXwBn/bEEvvpuBGcBYvwCAzX9Hf+3Ap78UwCI/1n8TwAz/rL9YP2u/kv94v7U/LL7Z/4Y/mr9G/45/u36hABk/fj+CQBH/d4DQ//VAXICKwLhBWUDvQZxBsMG7AfnCFEINAihChEJqQmtBzkJGAitBcYHywM1A2cCAgCyAT38YPwp/UD31Pmp+Kr1qfQj97L0avOW9pf0h/Qw96b26fQ1/Fv26fqDAbj3ywKKAUD9MQc8AvUGGwiVBxUMGAe6DNEKZAu7C7QMtAzOCBENDgehCYMJRwXZBp4DBgNcAsIA7P6H/XEArvkf+b79a/UJ+2H3+fNo/Bz0oPco+cfwG/su+rzzF/zK+b338f7U+Kz3FwLH/K79QwJL+wMDjwEQ/ksF4f10CDYC8v8tCAH7rglqAdIAzwX6ACoI7ft5BN0ACf60CM3+WP/9APH/ov6v/9f/RfwVA77+D/2//8D6tv/pAQ/9Dv+dAWD8Xf+fAOf90QBQAeL/PAKq+20AvAQk+bwHMwBf+w4G+PqPAQ8Bk/2fBa3+l/8zAlP7aP8HAZb/yf2Z/yP+zvss/Fb7sgAt+o790/+p9379ePvl/dD+8vxsBPP7l/6yAbf+RwZIAaMFfQcIAz0IwQS4BqYLgAiBCUcKFQlhB1AIbwosCMIHuQf1BaICdALiA2IAgP47AKH96/rK+Lj3Kvkz+B33XPbb9kv0rPRe91j21vZN+Lj5xfno+M/6Vvy1/h0BxP7LAu4DJAFUB6MFHwU+CoEJ7gpTB/AJVgwpCegKNApoCsYJcAmxBdcFJwefA0gFxQT6/j8Ahf/B/Lz+ffso+/X6kviF91D3RfhU9ab3yvo28lD4bPWf9Xf5+fLA/+PzHPoJ+/71+AGK9VwBqv5R+iwGmvcLAKUGM/qdC8v/vP+ICBz8igkJ//4FUwfwABYFMQEHB278FAmiA3781Azz+rkDBwAe+wYNAfegBKwBnffABtj2RgNh/Yv6jwa4++j8I/spAO/9JQBlAkf4EwKM/mL+/gDK+3UFzv0pATID6ffwAwIBlQCYAxf6SwUnAfD50QJc/hYAywEE/5n///o9/RQCbftL/WMB5PzK/lP+EP5E/nEAygAPAYgDdf+0AkEDTgQ4BX8EUgjtBWUHUgi3BIAHXAmKByIIkwZNBhQG3gRTAm0EHATe/wwBd/2L/T77k/uZ+3v3UvlE+HL0+/SE9y/0wvfG9Vb2I/mW8lD6TPja+Gj+zPqJ/jz90gCKAYkCoALfA3IKfgPSB+EGqAheDEAGMQ0iCMIInw4jB2IHNwlyCL8HnQbjBIkCRQTgAiYCjf2s/+QB5/dj/pP72/nU/BP3ovxE99P3WfxI9iL8Lvgr+RT8u/qf+cL5KgRn9JMDpv14+YgIqfRPDPX5Cf4wC/v2Ngwd/FMAugv4+TUHnAJ0AFAHBv3QBtz/iAO9AVMAQwb1+d8H3PxVANwBJPyOAxH7JgEG/sv+Nv0a/Gb+pvxr/3r6y/3R/eL8IwD+9zMAJAEd+78DWvyy/X0DB/+7Ap0BYf1PBaICpP4YBa0AXAIZBAn+hQMIADD/BgZf/OX/CACp/R//i/wY//n83f3b/SL9s/xB/1L9dwC//zr+hwKp//gBaAG0BEoDxwQeBgQFKgfyA4EIMwhdBegIQAdvBE0GUgXuBEMCvgAfA1sAgPxC/K/7mvo++Qn3tvUi9iH1uvI19YLyBfQK9oHyovTp9UT2Cfpw9yP7HP2H+pwCdvsnBI8FagHsCXYElggEB/YL6QvxBhYN4QslDOIJVQrRCsEI6QsjB5cIowb1AxQHLAAxBNUAqwHv/qL61wBX+237Xfjx+mr9Dvf595D3uPZO+Rj6NvgD9Ef77Pkb9wD5Tfrt/fz3tf0b+xv/uvlY/Q4EBf7KAcL5NAUX/hsBUAWB/hwGpADsA00CU/40BJQE2wLRBJX7FAWKBQX6LgWAAen8fgP6/+/7Af9w/mL/av4T/9376PxUAlD9afkLAN0ADv5OASP9uwCw/Uz9PwTjAAv+xQKm/qz/LQO2+8EEs/5I/2UDU/4g/yn9uAAMAjMAmPqn/30BAPs2/6EAC/lKAU7/kvoM/3f8ff/R/pkARP6jAeX+iwHHAtcAjgbyA3QHLAPKBukHhggVCWEHRgo2B4kHgggqB/IE+gUGBWgEDwDRACr/pvxm/yf6Ufk7+Jv33vfd9VT0CvRx9Wz22fMN9On4l/LY+Wv7hvP6AGT6dv2sApv8Swa1A4IGcAizBaoMBgkcC9QPXwrcDpkNDgz2DLEMNw0HDEkMWAkYCYoF/QZyBlwEkQTg/uIBZP+Y+Ez/u/wh+XL55vyv97r12Ptg73P8S/ZE8339Ou/S+13yJPfE/mLu/wGm9dr5xP+b8igGhvkg/hsCkf2b/0UCUP+uAckIO/myCdv9DwMwBNv99QYD/skJXPf9BWAB7vbDDTP3vwKDBgD3iweZ+d3+0Ajw+/oCIv1PAb7+0P3UAkr+KQTz/b3/4wCw+b0Dsv7k/kgHy/e0A0UAG/vxBAH6qwVM/d78FQRF+V4D3v2Z+7ACdvrf/IwB0fhR/YD/XfkM/iH7c/qb/ZX6JPz+/Vj4Mf6S+8L6KQMi+cUBUgHo/EEGkv96BLcGuATEB8UGoQlbBokKtgr2B9UKhQiwCrEIegfSB34GcwZIBF0C8gLO/pgA0wBf/OX6Bftw+Qb25flF9+b3NfUA+IH2evOK+f711PqF+kf4lP2G/Ab73QEjAmsAiwM/B8AGOQWsBYAINQuDCGgKCQq0CIQGVgkqCXkHZwcOB1gIpwGDBY8FpAEmBdABdAMmAMAASQBh/lIElPtVATP/Ufzs/NT8HgH1+DkBLvtR+aL+s/c7/739EfpA/4PyLv1i/tvzFwK59q/9C/s79k/9VPj6A2r3X/tX/4j4lAX59ygFXP4b+wsL4fanCE79cgLOCBH8eQq6/XoDiAJIAdQGZv0WAJQINf1tAbgDWvjRCEoA0/1YBB/65gVi/hz7IQt5+u0C9AJQ/DgFk/k3BywBKP/xBRH7XQEn/iwAzAIs/i4Cjv5e/Un/N/yu/mEFFP4B+Z8CQPkj+qcBzPzmADr7VfjJ/i75DvuN/hT9iwEB9+j2IP5t/Of9Jf/4/gn+YQBM+S7/PgVO/6QGXgQQAg8D1ASUB4wFLAsnCXoGsAeMBPEIdwq/Bj4JBgVFA2cCMAFcAaUAhwDe+4X9+/VS9x/5FvZw++/0dfDD9bj15PWK92b03fpC91j2Q/4F+677N//RAq0BJvzrBRUH9QRUCMsEXwwHBywGbw0tCXIJSwvTCGwL1ARbBgoQvwQGBzsGsQOrByIFLwOWA+wD0v5OAykAM/2CA5/78v+e/vP6zPzm9hwDJfrl+JD+CfEo/uX5s/X6AWzx4Ppz/rfxn/wT+Ff54f/I9Vf2FAPF7fz4mwhT7/MB9/q99TIHtvHF/QYGcPtaAJj9MAUX/FQBOwROAY0HT/3KCc8C2P32BHwGMwoJAR8CdQCiAhEDoQP9Bk3/eQDeAQj/JwHpA+f+cwXqAC353wPN/tf+zwes/hv/4gQ/90sEPgXv/ZAExgAz//b/IgMn/eAFrQG0/XwEKvmR+lkCsgA7/d75Ifkl/K/5VPix+z75VPjN/Lj1mPiZ/QX7kP+h/Wf/tf1uAbsECQP0CxYGnwg0CqAHKwx9CsoRLg4/Co4KiAtJDVwIJAeUCO0GbAQ1/u77o/+d+//6a/bm82z0RPG+8XXyA/DA7zbvau7686fyNfCY83X0nvtJ+orzwP6c/uwFiAOS+ykKaAaTDagMfQL3Dr4NJQ86Dg8JRQ/YDUUP/wqgCBsJdQlvDUsIawUfA94BQwd3BjP/pAB9/0YA2P/v9tn8Lv/u/Gr+sfHA9kT89vmC/cryCfih9gH4kfsQ74j8J/ss9Rj3efNk+Ov17v51+ub2yPUf+MgCEvagAQD/WfodAd/5SAJ+AiMCOwHQA2MEpf1iBQf/tQfZCRH8gAty/c8BAAdq/aUKevxcA5YDLf5ABL74xwbUAnD4cAUG/jz95f8n+CgGmwai+T0BlP+o/QsE5wFMAvgIs/38/3kH/vvvB/wG/AS7BKr8qgNLA7wBtQHuBHAB5vpZ/gf/qPrY/Sn/rfvf/Rb32fjW/+D6C/5+AHr8pf4+AXUA0AS3BCMIPw2EB/kHTggPDmsQZQ4HDmQL2A3eCXULJgsXBkcH4gTj/3/64fh/+ib6XvRc7b/rXO0x67XqzOhN5JHqyejE5YrrKerR7v71IPNp9b35mPzOCNsHwAQkDMQQ4BfSF/sWQxe+GaYfnxzbHHIdyxpkG/0XShXCEpgS8BF4CyII4gLrAV4Etf8//Jn44PXz97P2vvTF7ybxtvVC8NLyx+3G7vb4jPMX9C/wu/GQ+9X2g/a89tn20v0r+ir4mfjk+PX+Efr699T7YPxB/5b8kPZl+337u/0SAm347f4c+W737AaX/R//kAB7+x0Bl/5hAngHjP4KAAcGuwFw/1YIlAzB/p/+iwRvBQkNswZ/BCkDxf6EDCUIJgevCSwE3wno/38IewlIAzQP1wE2B7QLCQGVCT4D+wEXChADTgbcBVr8Gf69/kL/eQJX/Gv4cfu+9sX1DPpg+FD20vd89c72rvia9/7+svt9+7MAXv5ZAs8GDA1mDoMIoAUdCbIRhhWhEpkNNAqhCJUM3Q2xBaMDLAIO/Ur5f/OX8nDzxe1H6NbkS+G94lbiheB04MfdoOD25qblseby7s3z8veL+jv/XwYKDiQUrxZJGyUf0SUsKqkr8SqMK2svMS7jLVEqhyYVJRMgsRueF0cSQA1hB7UAv/sG9nv1lPOB6vXng+Wm4m3l9+PA4nvlnOOH5pbqCeox7mTxhPQA96f4APvRAQMGggLTAwwFMQhdDPIKeQjgBuMCywVfBlAB5QIY/Yf6EfeA9E74nfRG8xDwRezh7K/ucfJn8QvuCvAg8eTz+fbF9/f88/xo/sECAACHA/sG3gfICzUKOwp7CVILCA1bCqwM1QqeCMkIuwkjCgMGSgfoBwACSgVyB7EC8ATTAi0CAAW2AJ0EYgMi/wgFLQCoAUgDY/6fALb8fv/xAL790f7E+ab68Pw++s77ufmn+uz9Qfyu+Vz2kvtUAysFOQAp/dj7Jv1qDHgTIgtTAfX8XwkeFdkMmQeBA1IADwdCBfIA//nZ9Fv4jPLw6a3qXO0d64fhhNeC25bkR+Qb4Unbo9ja4Drrv+/F677pwPO2/QECYQecCkISuRYHGGsg+iR+Kh0vGy+7LJ8r5y9nNK4xVSteJmwjQSPoHA4YJRO/DNQHwP9b+tb2ZvXZ8STrhOQE4STjSuX34j7ivOSX5VTmsuUY7O31zffX98b2EPuUA6gIbgo7CUILCwyZDbkODA9CD4kIQAYcBdYDAgMq/Mn1CvFE7/Tu/OsL6YPjPeDd4e7hxuKs4PngCuXL55Dq5esM72b0zPmP+/b91AL/CMMNxQ2MDikQVRTnFxoY8RfuFKsUPxePFWAStA9RDxEQMQx/COIHBwbJBQ4DhADZ/+j9NgGz/pr67fuf/T7/OvwP+1z81P1X/5b9IP0t/vn8NP1t/ab9o/0n+gP6U/0VAPcBYP1w9+P5oQB1Bw8HKgAQ/In8GgT/EAcU/wZt+EP6TQ5cFiUMI/8r96n8eQN3BkYARfDD6q3vavFz7WrnSObp4zjc5tuU4XnmhOUN31jcw9/M6DT1SfhF8ZjuZPcFCEURzQ98DkwSLhhWIeAofym9KF0odiu/K0ksGy8mLrcpNSFRHTseFSBVGvsNewXGAmsE/QEl+qDw/Ous7X3vqOta57LlSubO6FHoRu418ofwFPOs9an8IgHkATkGoQdWCSENRBArEucP+A6KEB4PVA1RC7gHqgQ3AHT9qfw79+PwLO0q6nLofuZV5DnicN4/3Vrf4uKB40vhn+Rr6GXrQ/Dg85X4aPtr/qEE+AZrCaIMrg/WEh8SgxPvFPkVIhbUElIRxxA5EGIPogywCd8JgAjqBEQC0gKXBDkC9v6p/MH+fgGnAbEB0v+P/oIA9wJBBd4DpP58Ac0DcwXABuX9Yv2CAcUDhAXZ+2n3vPpK/KYCYP/19pz1A/Yn//j//fdZ+tj68fxxAMv9DP+I/2gESwp/A2b9OP8NCgMPeAWg/E76XAEQB3QBVvfT7wvz0fo994bsAeZQ6RLuyOpZ5S3kced/6A3ox+fE6fftvfJ89CTzC/cr/zwJwQlIB28LZBIeHIkfZR8oHw4g8SXzKpYpzyZbJFUkfiXOIZEe3hq3FZISjQ90CWsFygI2/tv4MPOG8+zy+e7H7AfrguyL7XDtfe9R70nz+/lR/Jf8OPqCARMLDgvpCeMHxwzOEgkQ/Q4ODV8LRwwXCZgG5gHV/Vv9Vfkj887uYO6y69rmueIB4Jfg+eDX4JTeJdzb38zlp+gL6C7npOu98nf4vvwf/o7/lQLgB8IONRBFD0MQAxLvFO4UFxNsFNQTbw+mDUgN0A3HC4IG4QQEA24C1gMaArX+rvpn+nr9if8U/3H6X/kh/Cb/9wLVAY7/Ef97AIYE9gVaBsYG4gQPA+MB4gMlB2UFpwAU/Bb8m/6j/q/96/o1+P739feA+uD8q/qi+AT5Sv3MAD8CEgOqAJT/NgbjDugMkwTkASULFBJxDIkFVAJ7BIoFBwMBAB34DvMb9qH2G/GF6EDmCOpA6GrkjuIw43Lll+Ur5qno8+q98PP12fXM9sH9uAm2DjcMZg20FikhdCRUI0IiqiZYLFUuWC1HKdcmQic0J4cksB64GA8VghHDDXAI2gIr//b6pfa88sHvaO4c7M7p++h86KzpduuI7Nzs0u1J8jz7sv0p+OP3ogATDWEOawebBRkKsxHGFAwQRQqnB+AKGA6MB/T/jvzf/Tz8VPO47tftlew36RfkreGD4a7hCOJz4WngAuET5GTnselI67btj/M5+Kb69vz2/2AGkQqyCxENtA5ZEuYTLxQ7FbEULRTEEdcPORBGDyANhAkYBs4D2QMTBNABv/3Y+Qb8nv20+1X6/fdo+vH7hvxI/h796f7h/oH/gQH7BJII9gVKAjsClQhsDO4JdwOW/osBTAZ2B68Bxfhp+CT9WP93/Yb2HvWi95z52/3d/K36u/je+fMDCAeTBYYCLgHHBmcLZxOcEvoHAQNqCvAWOhVJCFkBMwR+CCwIfALI++P1WfR59jH0J+646Onn+ugf5v7i0uMK50TopOVu5ebqZPEg9vL2RvcP/GIEzg0tEQcPuhBaGX8kCidzIVQgVCb7Lf8tuyfoIioiOSS5I7MeMhbXD4UOKA61CHn/TPqI+D31gfDd7Gjrquj35a3lauXy5bbnU+m36rfqOO0C9Nj4Uv6F/Wn8cAGKCGURlw3jCJULpRAVFgIShQzxCnwJBQxUCRgCl/1I+Yr6Qvdf8LfslehH6CPmMuPm4T3fq+BO4tjhE+Ii5Nfptex+7HruN/RI+6H+KADMAj8HWAwTECYSOhIqEwsWTBefFvAV7hR5E2EQMA+CDs8KCgh3BOwBYgDs/rP9NvpZ+Dn6Ovr497/2R/g//Gf8E/wf/WD/jgO/BAMFigUiCNkLlgtiC9cLSQ2DDo0MwQsrCmAJhglyBkkDwv9n/pD/Hf0Q+fLzPvEe86v1kvXs7/nqAe4M97n5PfRd8av2T/+qAjYAQP/OAQ8L9RQAERAIzwbXFNUf3hUVCRII9RBhFQkOkQRq/W/6T/49/qb14Old5ZjpuuiM47/fRd+L3o/cWt+a47DlaOYX6Xrt8fGp+IUBHQYeBdMIUxODHdcfxB0GIdMmpSt4Lmgs7yruKSEqmyuXJ24jdh39GDoYkhQcD9MGcAE4/1b7f/by8a7uhevA6K/nz+fp5lDlpuVl59PpRewp7Ozu5vLD+Fb9/fnL/F0BtggvDLwG2QjWCo4P3RFFDB8KUQgFCgQM3ARO/yn9jf2F/f31nfHY73jvve7o6rjnweUu6F/qW+k15o/lxOs48Cjw5O5k8Mn3j/sI/N38i/5VBPoH1QjpBwAI4QyPD74OIAzVChkNjw3GDKEIdAVOByAHWQWQAEj+SAA3AL//+fwa+5n9FQBhAHH+V/0SAccF/wYQBu8ElQhlDacNuwz7C/QN/w/PDy4PeQvjCQwMWQyeCMwB8P/OAdL/Nvz+9xT1K/Xg83/z7fET72bxa/LA893zBvNt+Lf7k/z4/O//PgbdCPgIFgpwC9gOUxbEGFYRIwqcEBAdDhs4DEsEsgmvDxUN3QKj+fP1ufYT+ZT0Oums4TTjiOeO5EXcCNvJ3gDfJt5932vjWOYZ6Y7uHfHv8iH7JgUSCUIIdwszFuse4CDRIAYisydVLfYtFit7KPwpkyv4KEwjzx2uGx4a4xVWDgUINwVPATj8hfZ785HwS+zk6Nzm0Ofn5y3mG+T25GrpUO187aLuZ/C99lD9xf34/wQAKQdkDIkLIQ27Cr4N0BF+EX0PawhiB+0LcAlzBPX80vrS+4/38fMN77Xs++n95rDlAuT844fivuHs4V/i7+Xt55Pob+qc7KPykvb/9zT7mv77A0wH2QgkC6YNKxG+E/8TSxOEFFMW7BULFBASQxHwEL4OMwwkCSMHCAirBZYBY/60/TQAv/4p+9L4efln/bX+Av1D+/b7LADkAzsEeAJ3AjcHHAv2ClYIogf7CtkMxQwuCv4G9gZCCIUINgXAAB8AVgCo/jz8Afu2+vL4+/YJ9uz2HPgp+aj4PPZx9pr6PABkATH8EvqqAP0IdQteBqEDngakC3QSIxKjCuAEJglwE1gSfgedAEwC1gb0Bfv+avfv8v7zZvYq8nvqMeWp5r3pmOZW4gXikeTA5YDkXOZm6iftZvAw8on0FvkiAPoGJwe6BjgMhhXdG10aZxe7GrUh2iWvI/ce2R1MH6wh0yA3GmkTDxIhFHgR5QlBA1gBGQB6/SD6OvX+8e/wvvG38K/tMOyN7RLwz/AB8FHxpPTQ9i/4k/kZ/pn/mf/qAooFmgcxBokGeAmSCN4HgAfxBe8EsAK7AYgAvPxl+kX4j/YX9SnyWe/p7TPtUux3623q+ekW6tjq6+yo7UzuEfHd8uX0nPe8+gj+Xf9MAVwEUQdmCt8LfQtvDEkPzRF8EWIPAw/aDy0QPg/3DJkKAgnoCHIIuQVNAlkAagH0AA7+yvuw+5D9Bv1R++X6//sV/qX+oP4S/zIA0QJmBIEEPASbBeIITQmeB7sHywmvCnoINQedB3UHUAZcBLoCBwEDAZUA6f2x+g35HfoM+nf44vWb84D0Zvf5+HX21fLR8435HP7b+3P3IPim/tgDJQI4/7T/pAMTBxwHHgaQBVYGRwiJCBYI6AfbBhAGtAQzBQUGXANoAB3+cv7H/g/8ffkQ93/21/YT9Qn0k/LL8ATxZPG58mPxOu808XfzvvSy9CH14vd7+TL7wv0O/5IB+AMeBjcIxwnSDDkP5w8RETkS0RPsFPoUFhXWE9gTyRNdEwUSAxDHDscMRwuhCVgIVgYWA8YADgDY/tX8cfoh+Qz4OvaB9kT27fQv8w3zJPUr9Tn1qPUF9S72aPc6+uT6E/i/+Vj8J/++/un7iv2R/jcAFgGD/mj9/fzq/ikAwPxY+uL5APsF+8T4qPcT9yD3ufZz9ub2H/Y09qb2NveO+B/5uvpm+4L79/3P/18BFwKgAjgFggb8BjcI5AjGCesJtgrtCxcLYAqJCp4L8Ar/CJwIhwg0CHUGTAXKBe0EmQOXAicCwwLFAQwBYgAr/44AewEBAZv/t/4wAd0CZQI7AcwAoQJsA3YDRgOYAhADDAO6A8ADKAJxAjwC6wHjAKv/WgDp/nH92vw0/OP7bvqp+Sz53Pdh9+X34Pc89kP1Mvbv9wL4Gvay9aL3sPq5+9n5PPkX/K7/YgEUAJ7/ggEPBJIGfwaNBREGrAcrCZsJBQmUCCUHDwePCOQIewYnAmgBEgNhA87/oPsr+gD7Fvt6+OL1//Oe87bzm/Nh89XxxfDO8TjzUPR19A31RPZD98b5evwy/jD/dAAvAwMG2QdRCQgL7gxGDogPKRGHEtsSPxIPErUS8RItEpoQHA9cDngNGAwICtsHgQYqBUQDKQFN/yv+SPz8+Q35Nvnu+LH2u/Tr9X74fPiQ9Yr0fPdQ+un6MPn1+Lv6o/zu/mj+DP2+/OH+jQE6ABj+5/27/tL+2/2Z/fv8+Prs+Zn6f/vM+b73OPeY9yL4hfeI9wf3rPar9y35D/qW+cX5dvtL/Tz+6/7L/+MAHAK2A/sEXQVNBUMGCwhCCLIHkwcqCDMJwAi1BzAH8wZOB18G6AQHBK0DrQORAgcBcwBuAN3///6o/uD+wP72/cD9sv55/z3/Kf4l/lEAKwKnAf7/AgC4ArAEiAPHAcYB0gM7BWYE4AK7AVUC2wN1A1gB1v7c/ncALABF/nX78vqZ+/v7cvtG+e332PfG+Fj5Q/jn9gf3Lvi7+dj5Rvls+Vz6F/xI/eP9CP7R/vH/LAFDAh4D4AOpA5sEoQarB1AHNQadBoEIAwneB+QGyAa4ByoH9wWwBfsEWASjAocBqQEDAXj/df01/KH8ivxG+2n5wPdT+K74R/ir9un1FPe590T4CPhh+B/5v/ni+s/7tfyT/Sr+t/8mAfkBQQPiA5wE7gTwBdsHMgicB1EHfQiQCVMJwgguCCsI9Qe/B30HSQZfBdEEggQaBOgC7AKyAgEBv/+2/80BVQHT/QD8bP1uAKb/TPzX+hD8EP5t/gL9Jvs4+kT7Of0S/Yj6qfjd+fP75vv9+dr4UvlA+rz6YPrB+Wb59fkO+3j7SPtk+0T8C/09/df91P6t/7b/3f/wABECmwKtAugCagM3BN0EDgV4BCIEpgQmBc0EygNhA7IDeAO1AgsCiAFjAbcA+f+S/2b/ZP/4/mj+a/7E/k7/fv/Q/sP+2v8mAXMBywAOAZcCowO8A2wD2QN2BMsEWwVUBdIE/AMMBOIEUQTHAnYBUwGwAYgA7f46/ZX81/wh/Av7NPki+Jr4uvg5+A73SPZI9yz4lfiN+Bz45fhM+qH7JPzu+9P8pv4hAJIA0ADWAfYCAwTVBEQFjgXkBVcG0AbtBr4GWQY4BjQGGAYHBlMF1gQVBIgDoANdA60CqQEdAVIBZwG7AP7/kv+0/wAAzP9U//7++f5D/1T/E/+f/vr99v0v/iT+e/2o/K78wPy7/HT83/t2+0v7W/ua+5v7+frM+lH7HvxA/Nb7Cvwa/QL+TP6H/vb+vf9RAFQBCAJqAvYC4AMLBSYF+gQqBdMFKAbMBWEFVQWiBXQF1QQPBI4DUQPpAnICkAGpAFYAGwCy/9n+Tf5f/kH+Af53/U79h/2C/Z79jv2V/a397v1K/l7+kf6//v3+K/8h/5L/SACfAC4Ap/9EAPIA7wAtAIL/zf8RABMAnf/J/nH+nP4C/wj/Tv7D/QD+rv7h/j/+t/0e/gL/gP88/+L+X/8vAOsAEAHmAAwBiAFkArIChgJiAn0C+gJJAxEDZwIKAmQCjAIAAiIBawB/AIIA9f9Q/5v+jv7C/l/+rP0g/TD9jv1Z/fD8vvz3/Fz9YP2D/WP9kP1I/q/+x/6S/uv+0P8vANv/sf9hADsBGgGbAIkA+QB0AZgBuAEcAdEAWAH8AfYBuwBkAGkBOwKEAXkAlwB0AQkCkQElAScBbgHPAd4BnwFVAXsBHgKEAjMCrAGeAUgClAIUAmQB6QA0AZ8BfQHnAAUAuP82AEsAAABh/+H+Ef8v/0n/Df+a/m7+mf4A/wz/t/5d/mf+w/7R/pn+f/5v/mj+PP40/i3+5f20/Zn9w/2+/Y39af0V/e38Cv1I/TX9uPyM/PL8cf2I/Un9X/35/Wz+h/66/hn/kP/y/ywAmQAZAW8B0QFJArACHgN8A7gDxwPgA0wEgwRLBOkDzwPNA7IDcwMLA6YCJgLRAYMBNAGpAPj/oP94/zH/zP6q/on+M/7Y/eP9/P3V/cX92P04/m/+fv6p/ub+Lv90/6n/s//X/xsAdQB7ADcAWACjAKYAcwA4AEoAdgBDAOj/kv+V/7L/p/9q/+f+zP71/hj/8f6e/or+q/4D/xH/5P6o/qH+//48/zX//P4U/47/w//Q/83/tP/b/xgAZwCSAG8AZQB4ALwA2wC2AKgAtQC4AL0A5wD0AJQAFgA/ALwA9QCYAAgAJACVAMkAcAAFAPj/SgCfAJAASAD1/wwARQBuADQAzf8BAD8AZgBAAAwABwAaAGQAngCmAHEAhgC7APQA9gDCALAAlwDJACMBVQHvAHsAjwAZAUQBmAD6/+v/kQCmAAUAb/8X/0v/lP9y/+D+gP6e/g3/Df+e/mz+rP4I/wr/EP8A///+JP9C/5H/qP+q/9n/FQA1AD4ASABLAEwASwBlAGUATQAlAP//AgDu/8b/iP9K/zX/X/+S/3P/Lf8o/0j/Of/8/s3+5v4d/1j/Wf96/6r/uf/t/wcAQABvAJIAzAAKAUABSgFoAXQBdAGmAcEBzAHgAdkBywG7AZQBWwEzATUBPgEJAbIAiQCUAKQAcQASAOX/8f8DAPD/qf93/3v/kP9p/xb/2v7O/uv++P7e/q3+sP7d/hb/K/8X/w7/EP81/0z/QP8K/wD/Qf93/4b/cf9X/1//jP/O//3/+f/r/97/CwBCAFMAOAABABYAcwDLALYAdgCCANUAHwH2AJEAfgC0APwA8gCFAE0AXQB9AHsASQAFAOD/AAA0ABIAwP+S/7j/8v/e/47/Tv9v/6D/oP+K/4j/tf/h/+n/4f/n/+v/9f8bAC4AIQAnAEMAdACeAMoAtgCIAKAArgCQAEEALQBZAHMAUQAhAAUA7P/y/+X/0P/F/73/u/+w/6X/qf+c/6H/nv9x/27/gf+T/6T/uf/B/7b/rf+z/8j/wv+///L/EwD0/83/3//5/+r/q/+E/7//8/8HANz/pv/O//P/4/+v/4z/qv/r//b/2P+y/6v/zv/l/9n/w//L/+//KAAiANz/xP/n//3//f/y/+3/AwAiADEAJAANABAAIQAVAAoA9v/z/w8AEwDy/+f//v8OACsAOAA0AB0AIQBNAGEAVQA+AEAAUQBhAF0ATABXAIQAlgB8AEgAHwAmADkASABAAC8AOQA4ADMAJwAIAAAAAwACAPj//f/2/+3/4f/G/8T/uP+u/6r/mf+J/5T/kv+V/6P/pv+5/7j/s/+l/6P/sv+1/8T/2//e/8//yP/Q/+X/7v/s/+n/9//3/9b/3P8AAA8AIgAsAD4ASwBKAGAAcAB1AHgAhAB6AGIAVQBTAGAAaQBaAE4ARAAmACgAGwDy/8//w//e/+z/1v+7/7X/w/+8/4r/af9v/3n/ev90/3L/iP+c/6L/pv+9/9b/4f/6/w8AEwATAB0AKAA8ADMAMQBUAGYAewCHAIwAiAB6AFwATQBFADMAJAAOAAcA+f/v/+r/1f/c//b//P/i/6j/h/+Y/7X/vf+w/6b/tP/P/+X/5P/Q/9b/5//+/wcA/v8IADEAWABgAFQAQgBJAFYAWABCADAALAAlACsAMAAvABgABgAEAPr/9f/u/+T/6v/v//H/8P/1/wsAHAAVAP7/9f/3/+v/3f/T/9//BAAaABkAAgDs//7/CgARABQADgAEAAAAAQAJABAADQAUAAIA2v/O/+X//P8IAPX/3P/p/+b/3P/k/+D/5//y/9z/0P/Y/+X/6v/m/+b/8f8JACAALQA4ADkAMQAsAB8AFgAIABIAHwAWABkAFwALAAoAHgAcABAAEAD9/+D/vv+a/5H/nv+j/5b/hf+D/5L/mv+O/5T/lf+I/5r/tP/J/9b/1v/T/9f/7P8BABEALgA6AEEATgBVAF0AWwBqAIAAggCDAIQAiACQAHAAVQBPACsAFgArADgAJgAUAAkA9f/b/9f/zf++/9H/6//4//v//f/z//f/BgAHAP//+P/6/wEADwAnACsAKQA6ADwALwAeAAsAEgAgAA0A///1//D/AgD5//L/6//Q/9v/4//E/73/w/+9/8n/1//i/+j/3P/Q/8r/1f/q/+v/7v/p/+H/6P/c/9b/3f/d/9b/4f8HABQABwAJAP//8f/3//f/AQAVAB8AHAAJAAAA+v/3/wsACgAIACMALgAhAB4AIgAbACYAJAAVACMAHwAaAC4AIwAQACYAJQAHAPv/+/8FABQADAD8//r/+v/y/+X/y/+1/6n/pP+f/6n/yP/B/8P/zf+t/8b/yf+a/9f/BADj//P//P/5/yAAKQAbAB0AJQA+AEQASABfAGAAXQBgAFIAQQBFAFgAYwBRADYANgA4ACwAIgAKAPr/+/8JABwAGQAWAAYA7f/1//T/4f/n//7/BgAHAAcA///2/+b/4//x//L//P8HAPX/3v/R/8n/3P/0/+j/3f/m/+L/1v/a/+3/9//1/+//6f/n/+D/4P/r//T/AAAHAP3/5v/e/+H/3P/f/+v/7v/o/+n/6f/i//D/9f/g/9z/5P/q//f/7v/u//P/4v/4//f/2v/r/+7/7P/v/9//5//5/wYACgDz/97/7v8VADQAMQAdAB0AIwAvAD8AQwBNAEwARAA5ACMAIwAwADMAKQARAAUACgAKABIAGgARAB4AIQAPABYAIAAeABMACAD+//v/EgAYAAwABAD1/+X/2//Y/+X/5//T//D/CQDv/+7/7P/r/wAABAAHAAQA/P/+/wIAAAAAAAQA9//1/wYADQAbABcABAACAPr/+/8OABcAEgD1/83/xP/Q/9z/2f/f/+r/2f/N/9L/3//1/wYAFAARAPf/4v/j/+z/6f/u/+7/3v/o//3//v8AAAIABAAOABgAJAAxACgA/v/Z/87/0v/t//n/6//g/9r/7P/6//T/6P/r/wIABQAAAAUAAQAMACIALwA+AEQAOQAlAAIA8f/8//D/6/8DAAsABwAEAAIAAAACABMAGAAdACoAJAAGAPf////1//b/BgAPABQACQAAAPj/8f8GABcAJQAlAAkA+f/z/+v/6v/7/wwAEAAKAAIA/f8AABAAGgAXACAAJAAiACcAHQAJAPv/AwAYABcACAD4/+L/3v/q//L/BQAcACkAGwD///z/9v/x//z/+f/2/+j/2v/U/7//wv/W/+v//v/0/+n/5f/g/9r/0f/e//H/BAAVAAgAAwAJAPf/6P/m/9r/2//w//L/5P/e/+X/9P/+//j/6v/d/8//2P/p/97/4//2//n//v8DAAcAAQD7/wAABAABAPX/9P8VADUAOgAwACAAEgANAB0AJQAdABoADwAAAPb//v8TACQAMQA4ADkALwAhACcALgAlACUAHAAFAAUACQAKAAsAAgDv/9n/yf/D/87/2P/k//f/8//r//r/DgANAAoAHgAeAAQACgALAPH/6f/j/9X/y//V/+3/+////wUADAARAB0AGwAeABoAEQAcAAMA7v/o/+D/9/8EAPn/9P/+/xAAGAAaAB8ADgALABkADgAKAAoABQACAPX/4f/l//v/AAADAA4AEQAOABAAEgASAA8A+v/d/9r/5//l/+j/6v/1/wgA9f/f/+f/AQD//9//zf/B/83/5v/1//T/8P8AAAsAFAAiAB4AHwAoACEAGgAVABQAFgALAP3/+v8AAPn/9P/+//b/8f/u/9P/2P/9////+f/7/wQAFgArADYADQDe/9D/yP/L/+H/+/8DAAAABgD+//P/BwAOAP3/9P/1/+f/z//S/+T/5//r/+3/8/8MACMAIAAKAPz/9P/5/wQA/////wAABwAPAAIAAAD8/wAAAwD2//b/+//z//b/EwAhABkAHQAZAA0ACgALAA4AEQAPAAgAAAAAAAwAFwAfACcAHwABAPj/AAACAP7/BgAfADUARQAzACgAHgAMABUAEwAUABMACAAGAAYA+f/o/+r/6f/w/xEAKwAkABoADQDq/9f/1f/O/9b/4v/P/8P/0P/j/wMAHAAdAAkABQAIAAIACgAQAAYA7//j/+P/1P/U/9X/v//A/9X/3f/k/97/4v/w//f/AgD+//v/BAAjADEAFwADAPb/5//e/+b/6v/n/+f/7f/7//7//v8AABEAIQAMAAAACQAIAAQADQAfACMAIwAnAB4AGQASAP3/+P8XADAAJAAgAC4AMAA0ADwALAAgAC0AJwATAAAA6P/M/8v/7//3//r/GgAaAAgAEAAaABUAFgAcAA0ADgAVABMAGgABAOn/7P/9/wYA/P/u/9X/0v/n/+//9/8EABEA///P/8z/4f/N/7P/sP++/83/4f/t/+T/7//r/9j/2//l//L/7v8AAAUA6v/n/+v/4f/W/8z/w//Q/+f/5v/2/xQADgD4/+b/2//q/wEADwAYACkALAAwADAAFwAVABUAEAABAO3//P8TACcAIQAWAB4AJgA8AFEASQA3ADoAKgASABkAIQAbABQADgAAAPz/CwAQAAYACgAXAAgABgATABQAFgABAOD/2P/k/+r/3//m/+z/1//l//v/AgANAAYAFgAfABsAMAAxAC8AMQAUAPv//v/6//L/7v/y/wgAHAAlACAAIQAeAAoACwAUACEAJQAaAAYA5v/T/9X/0v/K/8r/0P/Y/93/5f/n/+7//f/2//r/AgD2/+X/3//u//H/6P/n/9//3v/h/+r/+//y/9//6f8AABgAGwAAAO3/+f8DAPv/+//z/+r/8v/w//b/+f/d/9X/6f/t//j/BwAJAA4AEAAIAPb/+/////P//P/2/+3/9f8AAP//6v/p//r//P/y/+z/9P8FACIALAAbABoADQDo//P/FAAHAPH/7//v//X//v/x//P/FgAnAB4AJwAzACoAFwAIAAoAHQAuACUAEAAYAB8AHgAnACYAKAAqABgA+v/v//z/AAAMABIACwATABQADwAJAAsAEgD8//D/BgAMAAAAAAD8/+7/+v8AAPD/4v/e//H/DAAeACEAGQAgADUAMwAfAA0AAgALABoAHgAIAPz/+//4/wEA+v/q/9b/vP+5/9P/8P/7//T/2//a/+b/5P/l/93/1f/Q/8j/wv/V/+//8/8CAP3/8f8GABAAGQA1ADAAHgAeAAQA5//f/9b/2P/c/9L/yf/N/9///f8IAAEAAwAMADAASwA8ACYAIAAgABgAGgAYAAgA/v/6/wIABgAPACMAHwAVABUABgD3//7/AAD1/+T/1//i/+H/yP/E/8j/zP/3/xUAAAD0//z/DgA0AEIAKQARAP7/AAAWABcADAAFAP3/CgAdABUA9//d/9f/4f/+/yEAIgAVAB4AHwAXAB0AHgAWAA4ABAAAAPr/5P/U/+j/+f/z//X///8HAAAA7P/j/+v/AAAFAAAABwAQABYAKgA7ADEAFwAAAAEAAwD8//n/8v8BABEAGQAnABkAEQARAAcA+//v//H/7v/y//D/3//d//j/EAAMAPn/1v/L//D/DgALAPb/9P8EABYAJwAiAB4AKQAvAEAATgA6AB4A/f/s/wEADAADAOT/wP/A/9f/+f8BAOT/y//D/8X/2v/f/83/yP/P/9j/6//7/wgAFwAEAOr/5f/v//v/7f/q//z////5/9v/tv+7/9j/2v/R/+D/2v/v/xAADwAXACIAJAAdACcANAAwADYAOgA2ADQAMgApABkAIAAqADAAOAAsACAADgD8//v/9//g/9H/3f/p/+f/3P/K/7//zv/5/yEAHQAbAB4ADgAQABUAIAA7ADoAHwAiADcAQAA8ADUAIwAGAAIAAgDz/93/yf/K/+n/AAD4/+P/3f/e/9T/z//D/7T/wv/U/9j/2P/G/8H/xv/R/+D/4f/i/+j/DAAtAD4ATAAxABQAIwA5AEIAQgAyABsA+f/q//v/9P/S/7//t//H/+X/8//6//7/AAAKACUALQAxACoAIAAoADAARABTAEYAJQARABMAFQADAOj/5f/9/wYAAwDw/9D/0P/Y/9//3v/a/9//6P/v//L//f8dACkAGAAcAAUA2v/U/+T/9f8LAAsA8P/3/xMADwAKAA4ACAD8/+v/CAAUAAoACgDv//T/CQAIAPz//P8OAA8ACAARAA8ABAD2//X/+v/2//3/7P/O/83/8f8uAEsAOAAYAPv/+v8BAPf//f8AAO3/0v/a/+n/6v/9//f/+v8XACAAGgAPACAARQA7ACYAGAAOABcAAADm//H/BAAkAEAAJgAAAPD/8//2/+//3/++/7//zv/U//P/CgD4/+7/9f/v/+H/3P/d/9v/5f/q//v/LABEAB8A7P/K/9D/1//W/+7/8//0//T/8v/5/+7/5f/n//r/HAAlACQAGAABAAMABwAMAPv/8P/+//7/DwA0AEIANQAYAPv//f///wEADgARABUAFQAlAEEAQgAzACYAEwACAPX/+f8RACAAEwD+//r/DQAaABcAAwDe/+r/9f/x//3/8//1/xIAIQAFAOv/7P/6/wAA/P/9/+z/3v/n/+f/5P/x/wgAHAAfABwADAAIACAAKwAaAAMA9v/8//3/AAAHAPT/AwAPAAoAGQD8/8n/s/+x/7//3v/b/8X/xv/L/9v/4P/e//P/9P/g/8r/zv/4/wgADwASAAUABAAEABIAEQDj/8//4v8IAC4AHAAHAP7/AAAeAC4AGAD3//n/AgDw/9n/9P8FAAUAIQAhAB4AFwD6/wYACQDt/+L/5v/w//T/5P/S/9v/4P/R/8b/x//e//3/CwAWACUAIAAWABkAFQAEAP7/9v/m//3/EAAVAB8AEwAPABAABgAMABkAHgAaAAcA9v/3//v/DwAnADMAJQAEABAAEwAPABcABAANAB0ANAA7ABsAFgAaACwAQQApABIAHAAiAA0A9f/b/7v/zf8AAAAA6//q/+//+P////r/7P/w//T/5//q/wkAJAAKAOb/3//i/8X/uv/h/+j/7P/h/83/6P/w//f/7P/b/wAAAADz/+f/vf/B/9//9v/x/97/6f/w//j/BgD2/+7/8//t/wAAFAAUACQANAArABMA/f/t/8r/uP/H/7b/s//P/9v/8/8HAAUA8v/v/xoAIgD8/+j/9P8CAAEAFAAyAEUAXgBrAFkASABIADQAJQA2AC0ABAAFACAADgAMACIABADs/woACQDY/7v/qP+3/+n/AQAMAAMA+f8KAB8ANgBCADIAMQAoABIALQAyAA4ABQD9/9j/1//9//j/3P/c/9P/0//5//j/9P8EAAcAFAAlAEIANQAEAAAADQAHAAEADAAMAAAA+v/2//L/+//6//n/BQDv/+P/2v/S//3/CgDn/8z/sf+d/7D/qf+a/73/8P8CAAoAHQAXABwACADo//f/8P/y//j/7f/q/9//4//2/+3/+P8RAAQACAAdAA8A/P8HABsAHgA7AFwAVQA2ABwAHAAzADAAGgAKAP///P8EABsAJQApADAAMwAsAA4A+v/g/9f/8v/9//r/7f/e/+7/AwDq/9j/4f/T/9b/6v/x//L/AwAhABgAGAAvABUA/f8CAPD/zv/K/97/0//Q//X/9v/p/9f/xv/I/73/zv/g//r/KAAyAC4AKQAkABwAKAAtABUAAgD6/wsAHwAsADUAOwBKAFQATAAxACAADAAPABwA/v/n/+L/3//v/wAABQAGAAQAAgDx//H/AQAAABIALQAwABEA///0/9//4v/q//r/+v/6//z//P8SABQAAAAAABEAEQDu/9X/7P/q/9b/1v/c/+n/8/8AAPz/BAD+/+L/8f/8/+z/6P8MAA8A6P/0//T/xP+6/87/qP+O/6L/l/+P/7r/0f/J//P/EwD1/+T/BwAfAA8ABwD8/wgAQgBeAEIAPABVAFYAWwBqAE8ALQAdABMAJAA2ADQAGAABAPz/+v8aAC4AEAAMABsA9v/r/wcA8v/m/w8AGgDg/9X//f/3/xQAOgArAC4AQwApAAYAGAA0ACoAGAD4/7L/r//5/x8AKAAqABQA+P/v/+f/0P/Q/9f/yv/O/9T/1f/f/+H/3P/f/+z/AAAOABcADAAAACkARgAzADQAPQASAPX/IAAVAOj//P8AAOT/9P8XAPb/4/8TABMA2v/N/+P/x/+4/9v/5f/b/+r/5P/C/9//AAD3/xIAKgAGAPn/CgAVABMAEAARAO3/0//f/93/4//v/+f/2P/M/8X/2P/6/wMACwAgABsA+v/o/+r/8/8CAAQA/v/1/wYADwDs//P/BgDw/+n/9v/8/+//DAArAAoADwArABwA//8AABEACAAZAC4AIQBEAHAAYQBMAEgAQAAmABkAJgAfABEAEQAFAA8ALAAcAPb/3P/Y/+H/9/8EAPP/9P8IAAkACgAqADoAOQBCAB4A+v/z/+z/5P/z/wkA8f/x/xwAIwAKAAEA5P+4/8r/0v/P/93/5//0//T/BQAAAOT/7P/u/+j/6f/v//z/JgBKADMAIgA3ADkAGgAQAAgA1v+4/87/2v/q/xMAEgD4//r/3/+5/9j/3/+9/9b/6//d/9T/1//X/9T/8P/3/+3/8v/6/woAJAA6ADcAOQAwABYAIQArABQA+v/y/+b/3P/v/+P/zv/x//n/2//V/9//7f/4/wYA+f/r/woADgAHABcAGgAaAC4AOQAzACkAJQA1AEsAUAA/AD4APwAeAAcAAgDy/+T/6P/r/+v/9v////X/6//y/wAADgAbACsAJwAXACAAFADq/9b/1//Z/93/4//2/xkAKQAZAA0ABgD///7/CwARABAACQD3/+//6v/n//j/CgADABEALgAZAAoABwDx/+z/9P/c/87/8f8DAP3/8f///wQA8//1/9b/0f/x/+j/2f/O/9D/z//P//X/AADt/+r/4P/T/+P/7f/p////IQAbABoANAAVAOD/2f/Q/8n/5v8IABoAMgBLAC4AAgDy/9X/zP/o/+3/+/8ZABUABQAEAA0ABgD5////+P8DAC0AHwAIACQAOgAzACMAIgAcABAABgDi/9r/AAAeADcAVwBhAE4ANQAoABsA9v/x/9f/p//B/9n/2v/b/+b/9P/o/+D/7/8BAAUA///s/+D/6/8NACoALgAXAPT//f8DAPP/+P8OAAoAAQALAAYACQD//+7/8//p/+L/4f/T/87/y//U//3/DgAfACwAGwARABIALwApAP//9P/w//7/JAA5ADYAFADx//j/8/8NADAAGQAcABoAEwAXABIAAQDU/9P/8f/q//j/BwD2/9z/1f/o/+z/5f/d/9T/2v/W/9j/4P/V/83/x//D/9//+v8BAPv/1//B/8n/4P/i/+j//v/0//b/9//s//j/CAAXADQASgBGAEYARAArAPj/5//k/9//+v8FAA4AGwAlADYAOQAyABYA+v8CAAIA+f8EAAYADAANAAMA/P/5/wEACgAyADwAJQAeAAwACAAWABEACwAxADgAJgAhAAAA4//c//n/DwASACAAJAAjAB4AAQDc/9n/1//R/9f/2f/o/+3/8P8BAPv/7////wAA+/////v/+/8AAP7/+P/+/xUAGwAgACcACgDi/8//0f/J/8T/3v/v//b/9//s/97/1v/a/9//8f/7/+7/5v/1/wQAGAAzACgAHQAiACEAHgAOABcAGQAIAAsA/v/w//P/+v/6/+3/9//y/+D/7v/t/+T/5f/f/9n/3v/S/8D/y//i//n/9v/u/+z/4f/o//D/9f8AABAAIwAxADQAMwBBAFYAUQArABUAAQD3/wMABwARACIAJwAwADgAJQAKAAYABQD5//X/+P8AAA0AAAAAAP//9P8HAAcAAAD4/9r/zv/I/9X/+f8DAPf/8f/0/+3/3//d/8X/rf/I/+7/AQAHAAkAEQAVABIADwARAAwA/P/0//j/AAACAPL/5f/1/wEA/v8FAAYABAAEAAAACQAWACwAKwAlADoAQQA3AC0AIgAfAD8AOwAfABQABgAdADIANwArABEA7//C/8L/wP+s/7f/z//h//T//f/4//H/7P/3//r/6v/T/8X/yP/H/87/5P/2/+r/1v/V/93/+/8WAAcACwAqACUAGgAUAAoA9//r/+7/5//z//7/+v8JACcALQAfABMAHQAoACUAKQAXAAwAFAARABYAEQADAPn/3//U/9H/wv/P/9r/3v/m/+b/6//y/woAFQAIAAgABgAPACQAFwDx/+f/9P8BAAEA+f8AABMAJAAwACYAEgARAAoACgAVABMA9//W/9f/4P/6////5P/z/wsABwD9//z//f8OADwAXgBdAE4AKwANABAAGAAUAAoAEQAKAPP/+P///wAABQAXAB8AGwAGAOf/1f/E/9P/7f8AAA8A/v/d/83/1//b/9P/2f/p/wcAIgAfABgAFAADAAYAEgAHAAAA9v/p/+r/5v/k/97/z//Z/+L/2//d/+P/5f/x/wcAFgAMABMAGgAJAP3/4v/S/9r/4v/s//T////3/+v/3v/j/woAFwAiACsAJQAkAB8AJQAmACcAIwAOAA4ADwAOAA4AAgAUACQAEQAIAAAA9//q/+r/9v/4/w0AFQD8//L/+f/r/9n/zP/F/9f/5v/1//b/6//0//T/8//7////6v/b/+//8P/j/+//AwAUADEAOAArACQAJwA1ADMANAA4ACoAHwAMAPn//f8GAAAAAQD8/+r/4//9/yUALwAzAC4AIQAYAAYA+P/q/+z/9P/m/9X/3P/n/+j/3//i/+v/8f///wIACgAEAPn/+f/q/+L/1v/C/7r/w//P/9D/wP++/9j/6/8AAAUAAwAKAAoAEwAaADQAQwAoACAANAA1ABwAEwALAP7/9//p/+n/8v/8/wcABwAeADsAQgBBADQAHQD6//j/BAD+/wAA4P/J/+//BwAAAPT/7//z/wYAJgA2ADEAKQAjABgADgAHAPX/1f/J/83/wv/C/9X/5//s/+T/7v/1//r/AAD4//j/8//x/+//6P/u//H/AwAWABUAEgAHAPT/4//p//L/9f/2//f/+P8BABAADwABAO3/9P8MABYAGQAdABsABgD9//j/+/8MABMAFQAUABMADAAKAAwACAAHAPf/+P8HAAAAAQARABwAFwARABMABQD1/+n/4//p//X/EwAYAAgAEgAjACoALQAjAAMACAAaABIACAD9/wIAAAAJAAgA8/8DAA8AEQAWABIAAAD0//7//f/x/+7/7//v//L/6v/e/+j/AwALAPz/9f/e/9D/0P/P/9T/2P/k/9b/zv/l/+r/2f/E/8v/3f/l/+j/8P/9//7/BwAQAAIA+v8DAP3/6//o/+z/7//q//T/AQD+//3/CAAWABkAHAAYABMAEAAUACYAFgADABAAFQAYADAATgBKADsANwA3ADgANQAeAAQACgAWABwAGQAZACwAMAApACMAFQALAAEA4//S/+f///8GAAsAFgAJAPf/9P/r/+r//P/2/+T/7P/z//X/8P/j/9n/2f/y/xAAKwAsAA0ACAASAAQA7f/f/9r/4//r/+z/6//2/wAA9//7//r/9P/7//v/9v/k/+b/8//r/+L/2//V/+D/7P/f/9D/1P/f/+L/3P/b/9f/2P/m//z/EQAfACYAIQAHAO3/9f8HABQAIQAaAAcA//8BAA8AIgAkAB4AHwAWABAAHwAaABEAFAAOABAAGQAeABgACwAMABYAIgAsAC4AJQAeAA4AAAADAAUAEwAeAB8AGAAPABUADAANACAAHQAdABMA+P/y//r/BwAVABIAFQAPAPz/6//u/wMABwANAAgA9v/3/+//7v/s/+P/4//c/9P/x/+//8v/6P/8//z/BQANAAEAAAALAAYA9P/w//j/8v/u//L/4v/c/+//+v/1//b//f8FABQADgD2/+v/8v/6//T/7P/u//r//P/0/wAACgD6/+z/7//r//H/AAD0/+v/AwAXABUAHgApACQAHgAPAAUABQD7//j/9f/y/wcAFwANAP////8NAAcA9/8BAAoADAAMABQAIgAdABYADgAMABUADwAMABMAFwAWAA4A/v/n/9f/5//9/wIAEAAOAAQABQAJAAgAAgAFAPz/9f8CAAMAAAD6//n/BgAQABMAEgARABIADQABAP3/AQD9/+//5v/b/9f/2v/l//j/AQAGAAAABQAaAB8AIAAgACUAJAAcABgAGgAYABwAKQAaAAAA9P/o/+T/5v/Y/9X/6//4/wcAEgAUABEACAAOAAoACQAKAAMAEAAfACkAJwAVAAAA+P/x/+D/yv+8/8L/yP/Q/9T/0f/V/9f/3P/g/+v/6//y/wYA9//p//H//P8AAPv/7f/U/9n/9f/6//P/7f/r//L/9////w4ADgAJABMAIwAfABIAEAAGAPz/AgANAAoABgAJAAAA9f/4/wAADQATAAwACgAJAAsAHAAcAAwAAADz/+j/8P8EAAsACgAIABMAGAAEAAUAGgAeACcAMwAmABoAHwAiABgADQAOAAoADgAWABgAJQAmAB0AGQARAA8AGQAdABEAAwAOACAAJQAmABAAAgAOABoAFAADAAsA9P/W/+D/0f/G/8r/0//q/+7/6v/r//H/+P/5//H/5/8AAA0A8v/P/73/yf/R/83/y//M/+P/8//1//T/AAAOAAMAAAD7/+v/6v/l/9n/1v/b/+T/+/8IAPj/9v8AAAMAEwAZAAcA/f/8//n/+P/x/+r/6//m/+7/+f/2/wQAEAAWABUABQAMAB0AHwAWAAwA///t/+//8//q/+z//v8GAAoADwAGAP3/AAAMAA4ABQD9//3/EgAfABkADAAAABIAKgAkABsAIQAzAEAAOAAuAC4AMgA3ADkAPAA4ADEALAAnABQABAAHAPX/6v/v/93/1v/q//r//P8AAP7/7P/h/9//5P/0//f/4P/Q/9L/3P/1/wQAEwAgABoAFQAKAAQAAAD3//n/AAD7/+v/7v/t/+n/6//z//X/8//+/wkAGwAPAPT/4f/S/9v/0v/F/8//2f/i/9z/1v/b/97/3v/p//H/6P/l/+z/8P/4//L/4v/o//j/AAAQAB0AFAAQABYAFgAbABkAEAATAAwA8//w//f/BwAbACQAKAAYABIAEgAHAPf/7//s/+L/9/8NAA0AAADw/+D/3f/v//X/+/8JAAkADwAcAB4AFwAFAPn/CQAkACgAHQASAAAA/f/5/+X/4f/s/wIAEwAWAAYACQAjACAADgAHAAoAAAACAAkA///9//X/9P/8//7////2//n/AgDz/+f/7f/r/+n/5P/W/9z/6//q//X/8//j/+b/5//q//j/CQAbACcALgAsACMAEgACAPz/AAAJAB4AGgAMABUADgAQABkAFAALAAYADAAHAA0AHAALAO3/5f/j/9//2v/d/+7/+v8AAPz///8HAA4ADQD//+//5P/m/+X/3v/l/+//7//k/9b/w/+5/83/6P/m/9f/3//3//3/8//7////9f/0//L/+P8IAA8AGAAhACUAKQAkABsAIgA6ADgALQAsACUAJQATAAoAFAAZAB4AHwAmADMAPAAxAB8AHAAXAAwACQAMAA4ACAD1/+7/6P/j//X////+////+//v//r/DgAAAO3/6//1/wgAEQANAAIA9f/p/+D/4f/l//P////3////AgD0//f/+//h/8P/uf/B/9n/5//w/+//5P/j/+j/8P/3/wAA+P/l/+j/7//1//j/6P/b/9j/0//b/+3/9//6//7//P/7/wIAAwD5//j/AwD+//T/8f/y/wAABQD7//r//f8HACMAMAA3ADsARwBWAD8ALwAwACsAMAAzAD8AQAA4ADsALgAfABkAGAAbABIABAAIABIABgDx/+P/4P/r/+v/4v/e/9n/2//k/+r/9/8BAAIADAAcABsAEAAVABUAAwAAAAMA+//k/9n/3f/T/9L/4//0//v/AAAcACkAIAAmACEAFgARAAAA8//s/+3/AgAMAAkABgAHAAkA+//t/+v/8f/6//r/9f/z//z//P/z/+//4v/X/9v/5f/o/+7//P8AAAQACAAJABEACAD8//r/+P8BAA4ACAAAAAUAAADq//H/9P/f/+j//P8HABcADwD//wAACQALAPz/5//X/9v/3v/S/93/8f/5/wIACgAHAAkADgAUAB0ADwATABYA+P8AAAQA9f/+/wUABQD9/wAA/v/h/9j/5//y//n//P///xEAGwAeAB0AFQASAAgACgAOAAcABgAJAAsAEgALAPH/7P/r/+//CQAJAA0AGgARAAUAAwANABEABgD1//P/AwADAAIADgAZACIAKAAuACcAGAAWAA8ACAALAAAA4f/t/wkADwAUAAoA//8DAAkABwAEAAYAAwACAPb/7f///wIA9P/o/+T/5f/z////AAD6/+v/7f/v/+v/8v/8//n/4//q//f/+P8FAAcA+P/z//n/AwAJAAMACwAOAPz/7//k/9j/2P/g//H/9v/2/wIA///5/wMAAgD///r//f8CAO//4f/q//D//f8LAAMAEgAmABcACwAHAAoAEgATABEAEAAWABcAEQATAB4AGgAWABsAGAAaABYAFQASAAAA+f/0//P/AgANABAADgALAAoA/f/z/+//5P/i/9//2f/b/+f/9/8FAAoA9v/i/+D/5//u/+r/4v/c/97/6v/1//b/AAAPAAoACwAPAA8AFgAbAAgA9P/0//X/7P/j/+///P8FAAoAAAANABQAGQAuACcAHgAjACYAIQAPAAgAAgD6/wgAHQAnACQAHQAbAAsABAD7//D/BAAXACAAHgAUABoAGQAPAA4ACAAGAA0ACQAKAAkAAQD9/wUADwAUACcAHQAIAA4ABwD9//L/5f/a/8b/xf/Q/9L/3f/h/9X/0//R/9b/z/+6/7n/vP/I/9L/0v/q//j/9P/u/97/3v/n//b/BgAOABcAGwAVAA4ADQAHAAIAEAASABcAIAAPAAgAAADw/+7/+f8KAAoA//8BAAAA9//6//X/7//0//f/9//r/+7/+/8BAAkACQAKAA0AHAArACoAIQAgACMAIgAnAB0AFAANAPr/8//o/+T/+/8QABsAGQATABoAGQAWAB8AHgAlACQABADx//L/8P/s//7/DgAKAAkACwAKAAwADAD///H/7P/1////BQAAAPD/8v/y//f/BgADAAEACgAVABoAFAAIAAsAIAAiABsAEwAKABgAFwAIAAQA///9//v/9f/v/9r/yf/F/9L/9P/9//z////v/+H/4f/v/wIACQAKAAMA+v/9//n/9P/1/+7/7v/s//j/BQDy/+b/2f/X/+3/6f/p//P/9f/+//7/6//n//P/+/8JABYAEgACAP7/AgAKAAwA9v/x//r/9P/x/+3/9P/6//f/+P8CABYAHgAdAA4ABgATABUAEQATABUABgD3/+v/4P/t/wgAEgAHABAAGAAMABoAHwAeACEADgAGABMAJgA5AD8AJwALAAcADgAhAC0AJwAWAAAA/v8EAPv//v8AAO3/6v/n/+P/9v////b/8f/z/+r/3P/V/9H/0f/N/8r/3P/x/+7/9P/9/+//6f/x/wAADQAVACIALgArACEAGgARAAkAEgAkACQAIwAxACgABADy//b/8P/p/+7//v8AAPb//f/t/+X/9//w//P/9v/v//T/8v/o/+v/9/8AAAIABQATAAgA9f/u/+f/9P/4/+z/4v/r//7//v8QABwACAADAAoAAAD8/wgACgAJAAMA+v/1//T/+/8BAPr/3//T/+X///8NABMAFgALAAcAAQDv/+n/2f/Q/9L/x//X//H/AAD6/93/2v/e/+X/9v/7/wYAEAATABkAFgAHAPn/9P/3/wAAAQAGAAIA9f8FAAkA+f/4/wAADQAIAPz/+/8FABIAIgApABoADgADAAAACgAXABcACAAEAAsAHQAnAB8AIgAnACYAKQAyADMAKAAjABUAAwABAAUACgAMAAcABAAGAA4AFAAUABgAGgAeAB0ACwD+//v/8P/l/+b/7v/1//r/AQAGAA8ACQACAAMA/v8AAPH/7v/o/9P/6v/z//H/9f/W/8T/1P/n/+//7P/Y/8r/0P/a/+P/6/8AABcAFwAKAAEA8//j/+7/7//j/+H/2v/b/9//5f/0//L/7/8FABEABwAGAAQA/f8AAPz/6v/i/9z/2f/k//3/FgAUABoAMgAvACMAHwATAA4AFgAQAP3/8v/6//r/7//v//H/7//u//D/7f/y/wAA///7/wEAAAD3/wEACgD3//n//f/+/wYA+//r//T/EwAkACAAFQAQABoAFwAGAPL/7v8MACQAFQACAAAA+////xMAGQAaACkAJwAQAAQAAgANABMACAACAA0AFAAOAAgA/f/1//j/CAAWABoAKgA2ADEAJgAjABkACQADAAMAAwAFAAsACgAMAB4AIwAOAAoABADw/+v/6P/z//7/+/8BAPr/5//o/+z/5f/n/+H/y//O/9r/4P/m/9P/0//r/+//3//T/9r/5v/4//f/6f/p//H/AAABAPT/7P/4/wsAGAAUAP//+v8DABQAFQAAAPP/8P/r/+n/6P/m//H/9P/2/wMABAD+/xAAHwATAAsACQASAB4AGgAOAAsAFAAaABwAEAAPAB8AGgALABEAGwAWAAwA9f/w/wcAGwAqACoAHAAiACAA+v/j/+f/8//6/+v/4v/r/+P/1f/b/9P/1f/n/+b/4//f/+H/8P/4//v/9P/q//f/+//1//7/+//1//X/6//j/+r/+v8LAB4ALAArAB0AFQAZABYADAAQABYAGwAeABIADAAFAP//CwAXAA0AAwACAPH/6f/z//b/8//y/+7/4P/h/+7/8v/u/+P/5f/q/+P/4//q//r/DgAQAP//4//T/9X/0P/S/+z/DwAqACsAFgANAAYA+v8CABYAKAAqAAwAAQADAPL/+v8LABMAKgA2AC8AKgAfACYAOAA8AEIANwAkAB4AGgAUAAYA+f/q/+P/6f/h/+v/BwAKAAkABwACAPr/9v8BAAoACgAJAAoABAABAPz/8v/2/wcAIgAgABQACgD8//D/2P/S/9n/3f/g/9//5P/Y/9D/3P/m//X/+f/x/+3/9f8HAAkABAD+//H///8YACQAJwAWAAQABAD3/+P/2v/f/+7/9f/8//b/7v/c/8L/yv/Q/8v/2P/h/+D/4P/f/+f/8v8IACYAHwAQAAEA9/8AAP7/8P/p//P/AAAFAAIAAgAAAAAAFAAUAP//7f/b/+H/7//7/wkAFQAnAC4AKAAlACcAJwArAC0AGAATABYAHQAoACgANwA0ACYAHgAlAD4AVQBuAIIAlgB/AFQAPwAqADEAPQA/AEIAPgAzACIAGgAVABIAFgAdABoABQDw/93/1//J/7D/t/+0/7L/sP+i/7L/vv/A/7X/ov+h/6P/rf+0/7X/rv+P/4H/mP+h/5j/ov+s/6v/tP/K/9r/5//s/9T/v//I/8b/vP/L/9X/1//T/8n/zv/f//f/CwAoAEMASwBRAFEAQwAoACwAPgA9AFMAXgBHADYAKwApACgAKwAnABAAAwD9//L/6//z//v/+f8BAAoAAwAJACAAIQAgAC8AMQAkABgAHQAfAC0AQgA9ADoAQAA4ACsAJAAUAP//6v/a/+r/8P/f/9z/0P+9/9L/7v/m/+z/+//7/wIACgAdACkAJQAlACsAMQAxAD4AMAAQAPf/2f/M/8X/1P/k/9r/3v/r//f/9v/8/wgADAAcACwAKQAHAN7/w/+v/7T/zf/h/+L/7/8IABAADgAXACAAAwDW/77/pP+F/3j/e/9//5f/sf/A/9n/3f/W/93/2//V/8j/p/+P/4n/fP9q/2r/j/+4/87/5//+/wkA///t/+b/8P8PABIAEAAhAA8ACAATABkAOgBNAEQAZACmAMgA5wAeATQBKQEoASUBHAEHAekA3wDXAMIAtACYAHEAYABCADcAnAAAAdkATgCR/93+lv7D/gf/Q/+q/08A5QAdARYBCwENAcUAQQDz/6L/Yv8l/8H+iv5t/lv+YP6j/gn/Gv8J/xX/K/8O/8L+rf6i/oL+if6w/u3+NP9l/63/DQA4AF0AZAAdANT/cf8k/yv/c//o/zsAjgDeAOgA5QDxAOQAwwC2ALUArACkAMIA8wACAfoA3QDDAMsA2gD8APoAxQCSAEwANABjAJUA3AAiAUYBSwE3ASEBBQHrAN8A3ADLAJUAVQArABsADgAHACIAOAAnAMn/Jf+1/qL+sv7J/gD/VP+b/9P/+v/2/9D/oP9l/zj/Nf9E/07/bP+g/7j/sP+0/6//dv86/0L/Tv8k/+v+4/43/3r/gP+V/5r/t/8HAC8APABDADwAJwAMAPz/yP+b/7L/zv/a/+b/+f/6/9j/sf+W/5D/hf+I/6f/nf+K/5X/yP8tAHsAogCwAKUAkgByAGYAYgBZAGQAZwBkAFQAGQD0/wMAHgAtADoATQBdAFgAZACPAKgApQCYAJYAlACBAIIAkwCSAH4AYABZAGUAdACEAIkAmwCzAKkAiQBoAEoAHwDu/87/vf/L/+r/9P/1//7//v/u/9T/s/+V/4H/fP+X/6f/nv+m/7D/t/+6/6r/oP+W/5P/qP+9/8//0f/E/8n/0v/S/9f/4v/o/+r/BAASABkAHQD7//H/AQADACcAVgBxAHMATAApABYABAATAC4AIAAGAP//BwAkACAAAADw/+//EQAXAOX/0v/V/9D/zv/W/+n/5P/d/+v/6f/W/87/1v/n/+3/0f+z/7D/rf+i/5j/n/+2/8b/4P/4/wAABAACAAQAAAANACoAMAA5AEEARABDACIAAQAAAB8APgAtABMABQAAAB4ASgBLACoADwAHABMAIAAfABsAIQBBAFYARQA5ACoAGwAkADsAUABJAC0AHQAcAB8AEQAGABEAJQBDADsAHAAzAEQAMQAxACsAGgAJAPb/9P/x//X/FwAuAC8AKgAZAA8ABADu/9v/zv/L/9X/4//5/woADwAKAPj/6v/y//v/AgAHAPz/7//n/9n/1v/V/8j/x//Z/+T/2v/U/9f/yv/H/87/yf/C/7b/s//D/87/2P/f/+T/9P///xAAIwAdAP3/4P/h/93/1P/b/9f/2v/r//v/EQAOAAsAJwAwAC0AMQAaAPv/AAAWABsAFAAaACsANwA3ACUADAAGAAsAAwD4//T/8P/5/xYAIQAPAAYABAADAAkABgASACYAGwASAB0AIQAeABoAJwAvAB4AGwAeABgAIgAgABEACAD5/+7/7f/o/9//1v/L/7T/qf/H//P/AAD7//r/7//n/9b/wf/E/8f/3P/1/+z/8f8AAAcADgD6/+P/3f/j//P/9f///wcA///7//T/8P/s/+v/+v8BAAMAAQD5/wUAFAAbABoAFwAeAB0AFwAMAA0AHwAeABQAFAAXABEACwAMAAgAAAD8/wIAEQAYABUAEAAHAP3/9f/3//n/AgARABAABAD8/wEADgASAA0ADwAMAPj/7//x/+j/6//4//f/8v/w//j//P///wQA9v/r/+b/4v/r/+//+v8BAAEABgD9//L/9P/5/wAAAAD3/+X/2//b/97/8/8AAAoAHgAjAB4ADAADABAAGQAfACMAHQARAA4AEwAQAA4ACwAMABAABwAKAA4AAQD2/+j/6//j/+D//P8NABcAEAAAAPL/4//v//j/7P/v/+r/7f/9//f/9P///wwAFQAOAPf/2//e/+7/6P/i/+X/8f////7/BwAIAPT/7//u/+j/3v/m//X/+v8HAA4ABgD+//3/AgD/////GgAfAA4ADgD1/+X/+v/6//j//v/3//n/AQAJABkAIAAbAB0AIwAdABwAIgAfACEAGQAMABMAJgAuAC8AGQD1/+r/3P/W/+D/7v8BAAgACAAEAPf/5//l//b/AgD7//L/8f/k/9D/1P/m//b/BwARABUAEQAUACAAHgAYAA4ABAAJAA0ABAD8//D/4P/V/9f/8f/1/+3/+f8FAAoACAAHAPn/6P/3/wsADQAEAPT/7/8AAAAA9f8MABwAEAASABAAEAAoACsAIQAdABcAFQARAAYA//8CAA4ACQD1//T/AgAXACcAKgAtAC0AKAATAP7/+f/7//v/8f/j/+P/7P/l/9r/0f/M/9T/7f/4/+v/5//k/+P/5v/i/97/3//i/+X/4v/f/+b/6f/p//n/AAD0/+z/4//k/wAAEQAUAA4ACgANABIAEAALAA4ACADz/+f/9/8FABoALgAsAC4AKAAZAAgA/v8FAAcABwAQAAIA6f/1/wkAGQAuACkAFwALAAsAHQAqACIAFQAFAAAABQABAAMABwAMABIAFQAEAOr/6P/z/+//9P8JAAsACAD1/97/4//u/wcAFgAIAAAACgAWAA8ABgD9//n/9v/o/+3//f8EAAUAAAACAA0ABwD5//f//P/7//r/9v/u//L/8v/0/wIA/f/6/wsAFQAWABEADQAAAPj/+v/0//L/9f/3//7/9f/p/+j/5f/g/9z/2f/g/+H/1v/T/97/6f///wUA+f/y/+j/+P8GAP//AAD4//X/AQAJABEAFgAYABEA/v/+/wgACAAFAAAA+f/8//z/+v8DAP7/9v8DAA8AFQAWAAwAAwD//wEABAD8//b/9//5////AQAGAP7/8v/u/+//+P8GAA8ABQAIABYAGQAoADEAIAAVAB0AJwAtACIACgAHAA0ADwAUABIAEAAIAAYAGgAWABUAHAACAPD/9v8CAAoAAgD5//P/7P/u/+7/6f/r//H/+P8CABEADAD5/+r/5P/q//D/7f/c/9v/2v/R/+L/7P/d/9b/z//J/9T/8P/3/+z/8v/v/+//9v/0//n/AAAJABYAFAALAPz/7f/0/wsAHAAjACMALwAyAB8AJQAvACsAPgBEADMANQAhAAoADQD///P/5f/Y/9z/4v/j/9f/1//n/+3/8f/3/wAADQARAAwAEAAXAAAA4//f/97/1v/E/7f/vv/R/+P/5//Y/9X/8f8CAAIAAAAAAP7/+/8CAAcAEwAiADYALwAkACcAFQAWABUAAQDz/9z/2//3/wMAAAD6//7/EwARABQAGwAPABIAGgAYABYAHQAmAC0AJQAXABsAGgAeACUAHwANAO//3P/f/+L/4//p//X/BAAGAAIA9P/n/+D/4f/8/xAAFAARABMAGQAXABUACAD///v/9f/+/xIAIAAMAAAAAQD3////BgADAAMAAgACAOv/2v/r//f/BQAKAO3/zv/H/+H/8v/x/+7/6P/9/xoAGgAFAPP/+f8FABAAGQAbABMABQACAPr/9//7/+X/4P/4/wIABgADAPf/8f/y//n/+//3//D/8f/8//L/8f8FAAYABwAIAO3/4f/k/93/5P/h/9//7v/7/wcAFQAfABoAEwD9//D//f/9//7//P/y//j/BgAEAOv/4v/q/+f/7P/9/wMAEAAfACIAFQAEAA4AIQA1AEQAOgA2ADQAIAAPAAYA7v/o/wcAFgAdACEAGAAVABIADwALAAMACAAOABAAIAA3AEMAOAAeAAcABAAPABYAFwAWAAgA8P/h/9n/4//6/woAFwAQAAAA8//s//H/+//2/+n/6P/v//n/AQAOABQABAD3/+n/4v/u/+7/7//5//P/1f/P//D/CwASAA8A///x//X/5P/W/9r/4P/4//3/8P/x//b/+P/1/+v/2P/X/+L/7P/6/wwAGQAYAA0AAQALABUAGAAgAB4AHAAhACEAIAAYAAUA///+//j/7//k/+n/7//n/+X/3P/X/+T/7P8AAA8AAgAFAAQABgAPAAgACwAOAPv/8//5//3/DAAZAB8AIQAqACgAFAAKAPz/7f/y////AAD9//z/+f/8//j/9f/0//v/9v/h/+7/+P/0//H/7f/u//j/CgAZABYAEAARAAYA//8DAAoAEAANABQAJQAtADYAJgD8//D//f8IABkALQAyAB0ABgABAPX/7f8DAAsACgAFAPP/6P/j/+v/5//f/+j/5//n/+r/4v/p/wgAFwAUAA4AAwD4//f/AwALAAwACQAAAAgAFQAKAAAA9P/p/+n/4f/d/+D/7v/7//v/9v8AAAgA/f/z/+b/4P/e/97/5P/y/wMABwAKABcAHwAjADcAPgA0ADUAMAAzADcAOQA6ACwAGgALAPv/8//t/+b/7/8EAA4ACwATABEACQAJAPv/8v/i/9X/4P/2/wEA/f/5/+//5//p//L/BAAIAPT/5v/u//j/7//e/9r/1f/U/+j/AAABAO//5f/X/8f/0f/f/9r/4//q/+L/7v8DAAIA+v8AAAAA/f/5//j/+f/v//n/AAAHAB4AJQAbABsAKwAwACUAGgATAAQAAQAHAAMAEgAgACAAJwAkABkAGQAYABQABQAAAAEA9//1//b/+/8PACAAEgAJAA0A+f/0//r//f8FAAEABAASACAAKgAkABIADwANAPr/5v/k/+T/6P/u/+v/6v/p/+r/8P/r/+f/5P/i/93/2v/r//P/6f/i/9H/yP/Q/+P/+P/3//r/+v/0//f/9P/j/97/9v8AAAMAEAAdADIAOQAyADIAKwAcABAAAgD+/wwAIwAjABYAHAAZAAYABAAQAAwA/v/o/9r/3//j//3/FAAJAPT/8f/6/wIAEgAPAAkAEAAYACcALAAwADUAGgAGAAkAAAAEAAoAEgAkABoAEAAfABgACwAaABsACAD9/+j/1v/Y/+v/AAD6//f/AwD2/+v/4P/b/97/0v/Q/87/z//b/+T/5f/o//L/9f/9/wkAEQAYABEABAACAAAA/P/2//L/+P8AAAQA/P/3//n/8/8DAA4AEQAaAAwABwALAAIA/f/w/+j/6v/h/97/4v/i/93/5f/0//X/+v8BAAEA+//9/wMAAwARABgACwD1/9//4//2//r//f8GAAoAEQAbABwAFwAYABcAEAAPABEADQAAAPr//f/7//X/5P/k//3/AAD6/woAHgAiADQAQgAvACQAIgAbACUAJQATABAAIwAvACEAEwAOAAsAFAAjACEAGQAoADYAOgAwACMAIAAcABQADQAZABkAFQAfAAwA9f/u/+z/5f/l/+f/4v/s/+z/3f/N/8r/1f/P/8L/u/+p/6f/x//b//D/9v/j/+D/0v/C/8D/x//Y/+H/1v/P/93/6v/5//T/3//u//L/3f/a/93/6f/8/wwADgD6/+3/8v/1//b/BgAOAPn/9//+/wYAIAA4AEsANgAgADEAKwAfAC0AJgAfABkAAwD//wAAAAD7/+z/+/8YAB0AHgAlAB0AHAAbAA8ABQD2//H/9P/5/wwAHQALAPv/+f/s/+z/3//N/9r/4v/z/wMAAwD7//f/AAAFABEAFgADAPr//f8MABYADQAGAPn/BQAXAA0AEgAXACcAOQA8ADgAHgD7/+b/+v8WABYABQD8////+f/w//b/BwAdACEAEwAMABUAGwATAA0ADgAAAPv/9//n/+X/2f/P/8r/zf/k/+X/1P/M/9T/3v/e/+v/8P/f/+D/7P/i/9X/3f/c/9j/5//u/+v/3P/Y/+D/2v/m/+3/5f/z/wAAAAD4/wcAFwADAPb/8f/3/wcADgAXACIAJAAjACMAGQANABwAKAAiACIAIQAcAA4ACwAXABQADgALAA0AHwA4AE8AVgBFADgAOQAwACUAHAAQAAoADQAOAPj/6f/j/+D/7P/z//X/6f/g/+//AAARAAUA7//j/8T/uv+//8H/y//Y/+z/6//i/+P/4f/i//L/+P/v//n/8v/h/+f/4//x/wIAAwAOABMAFwAZABAACQANABsAGwAYAAsA8//z//H/8P8AAAUADQAVAA0ACQAFAPz/7//w//z/CgAOAAAABQAIAP7/CQAYACwANQAyAC4AHQAYABsAIAAiABsAEgACAAEAEgAqAC8AFwALAAMA/P/x/9f/yf/K/9L/4P/q//H/9P/0//b/AAAHAPz/7v/q//H//P/5//L/6v/h/+z//P8GAAwADQASAA4ACAAKAAQA+//2//j/+//1/9//3//+/xEACADi/8z/0P/i/+3/4f/u/+z/3v/2//v/8v/p/+X/8P/3/wIACAAHAA0ADAD//+//AAAGAPz/CAAZACQAGQABAAUAIAAyADsAPwAuACYAIQAPABMAEQAGABIAEQACAAAAAAAGAA4ACQAEAAcADwAQAAcABwD///H/+v/9//L/7f/f/9H/4P/r//f/FgAgABUAAQD5/wYADQAPAAoAAAD8//X/8P/z/wAACwD//wEAIgAwACYACwDr/9n/1f/d/+b/8P/v/+X/6P/p//D/9v/p/+z/9//y/+T/1f/n//3/9//u//H//P8FABMADwAKAA8ABgD9/+7/8P/4//f/BwAIAAQACAD6/+r/6//4//r/8v/n/+f/9v/2//P/+P/+/wMAAgAQABsAIgAvACcALAAxACsAJQAYAA0ABAD4/+j///8mACsAIAAWABcAHAAdABcADwAJAAMAAAD//wsAFgAbACoANQAzACgAHQAWAAoABwADAPj/9P/k/9j/0P/E/8//5P/+/xMAHQAZAA8ABQD9//L/3//S/8j/1P/s/+//7f/k/+L/9v8GAAYA+v/0//b/8//7//3/+/8IAPz/+f8CAPb/8f/r/+n/9P8EAAwABwABAPz/CAAVABgAFwD1/9H/0v/T/9z/5P/w/wAA9P/w//P/+P8FAAsACwABAAQADwAJAAwAGwAQAPz//f8AAAkA+//x//3/9//3//r/9v/2//P/8f/q/+T//P8VABEAAgD3//f//P/8//D/4f/d/+n/+f/+//f/6P/4/wUABwAUAAIA+v8LABIAEwAZABkAEgAaACIAEAADABMAEgAZAC0ALAA8ADkAKgAsACsALQAwACYAHAAaABAABAD6/wMADwD///L/8//5/wYADwALABIAEgADAPP/2//X/9//7f/7//j/7P/j/9n/1P/l//T/9f/r/9n/5//7//z//v/5////AgD0/+7/3P/Y/+7/9v8AAP7/+P/3/9//3P/t//b/AQANABQAGQAUAAQA9v/4//f/9v/4//n//P/2//j/AgAYAC4ALwAuACEAFgAUAAUAAwAHAAwAEAD9//H/+v8AAAgABAD+//z/9P/+/wkABQD9//H/7P/y//X/7f/c/9f/6P/q/+D/3//Y/93/7v/3//j/9v8BAAoACgAdACIAFQASAA8ADgAOABUAHAAdABYABQD8/wIAFAAaACMAKQAbABoAFwASABIAEwAVABoAJQAeAAwAAAD2//D/8//7//v/+f/1//T/8f/w//X/6v/g/+T/5v/p//3/AgD4/wAAAAD5//j/+v/1//H/9//0//T/BgATAB8AMAAxACAADgD+//X/7//o/+b/7v/4/wIADgAXAB0AEwAMAAoAAAD8/+7/6//0/+//8//3/+f/3f/i/+r/5f/o//H/5//u//v/9f/z//L/6v/n/+3/7v/z//f/6f/i/+j/7P/x//v/BgACAAAA///y//L/9//9/wcACwATABoAHQAeAAwA9P/h/9b/3v/o//D/9v8AABUAMABCAE4APwAlACEAFwAJAAQAAAAEAAYACgAQAA0ADgAWABMAFQAhAB8AGAANAAcACgD6//L//f8FAAAA+//8//v/AQAIAAIAAQAXACEAHgAXAAcAAAAAAAIACQAYABwAEQAKAPr/7f/t//H/8f/q//L/6//l//T/7f/d/9f/4f/w/+v/3f/c/+L/6v/m/+X/8P/z//D/6//m/+L/7f/9//r//P8FAAIABwASAAYA9//3/wUACwD///L/8f/z//r/AAD8/wIADAAMAAwACAAFAAIA8//w//j//f8DAAYABQALAA8AAADw/+T/4f/h/9v/5P/z//n/BAASAAsAAQD4//r/AgD9//P/5//h/+j/9/8GAAkADwAjACkAHQAUABcAGAAVAAgA9v/5/xUAIAAUABwALgA6ADgALQAiABkACwD9////CwAWABgAGQAZABcACAD6//L/7P/z/wcAHwAhABQAGAAOAPn/7f/d/+b/9//x//D/+P/4//f/AAAAAPn/7v/h/93/5//p/+n/9f8EAAgAAwADAO7/2//V/83/0v/a/+X/AQAbACIAIgAlABsAAwD3/+z/6P/v/+7/5f/e/+L/7//3//7/AADz//P/+P/t/+X/9/8CAAAA//8BAAUAAAAAAPb/5//s//L/8P/0//P/7f/s/+f/7f/w//D/+v8EAA0AFAANAAYACAAWACUAGgAOABIAEQAYACIAHwAjACIAHgAaABoAGAAJAPr/6f/j/+3/9//3/wsAIQAdACgANQArACQAKAApACMAGwAXAA0ACwAXACAAIQAXAA8ADQAGAP7/8v/m/+f/7//0//j/AQD4/+//8//f/9b/5P/q/+z/5f/S/8X/zf/d/+P/7/8CAAoABwD1/+r/6P/g/9T/y//a//D/+P/7/wMAEAAYAAcA8//t/+P/2f/h//H//P8AAAIABwAIAAoAEwALAPP/9v8HABAADQD+//3/DAARABAADgACABMALwApABwAFAAOAAwABgALAAsAAQAGABAAEAAOAB4AMQAsACMALQA7ADMAIAARAPv/8f/6/+//8f/9//r/BAAUABgAEQD//+//6P/w//n/9P/7/wAABAAHAPr/8f/0//r/8v/q//P/+P/5//z/9f/w//v/+f/f/9b/2v/d/+v/8f/t//r/DwAOAPn/7v/3//3/AAAIAAoACQAMAAIA4//R/9H/y//H/8r/1//r//P/7//y//z//P8AAPz/8P/w//T////8//X/CgAPAA8AIwAqACoAMAAzACMADwAMAAIA+f8AABAAIAArACkAIwAkABsAEgASAAYABAAPAAgADAAeABoACAD2//D/+/8AAPb/6v/t//L//f8LAP7/5//m/+n/6P/0/wQACgAJAAYA+f/q/+n/6P/k/+v/6v/+/xsAFwAfADIAJwAZAB4AGQALAAwAAwD//woABAD//wEA9P/p//X/+//0/+//7P/e/9P/4v/z//T/+P8EABYAJwAxACgAFgAQABQAEAAFAAMACQAIABEAGwAPAAQAAAD8//v/9P/4/wgAEQAXABEA///y/+H/0//X/97/8v8KABMADQADAPr/8f/z//b/8P/x/wEAAwD0//j/CAADAPL/9f8AAAEADAAUABEADAACAAQAAwD5//P/9f/2//T/BAAaAB0ADgD8/+j/1v/Z/+v/9f///wYAAADv/9//2f/a/9r/4P/y//f/5v/u/////f8AAAUADQATAA8AEwASAAcABwAKAAcA+f/p/+H/1v/e//n/CAAQAA4ACgAEAPv/+/8AAP///P8CAAgADwAYABkAFQAZACAAGQAVABYAFAATAAsA/v8AAAIAAQAPABAAEAAjACEAGgAgABoACgAAAPj/8//7/woAFAAJAPr/9v/7//X/7v///wUACwAaABIABgD//wMACgAJAAsABgAKABAADAAOAAcA9//i/9P/1P/Z/+P/6//u//T//P/7//b/9//2//r/AQAEAAcAAAD4//r/+P/1/+7/6//y//X/AAAQAAoA/v/1//X/BgATACEAJAATAAQA8P/q/+z/7/8BAA8AEwATABAA+P/k/+f/7//5//H/5f/n/+7/8//0//L/4v/d/+L/2//Z/97/5f/x//n/9//s/9z/1//l//X/CwAhAB8AGwAeAA8A+P/w//X/AgAKAAUAAAAEAAUABAAAAPT/9v/5//f//f/7//v/AQAFABQAIwAwADIAHwASABQAJAAuACsAKQAcABMAEQAVABEA/P/+/wkABwAHAA8ADgD8//n/AAABAAMA+//w/+//+P8BAAAA/v8BAAEADgARAAAA+v/9/wMABAABAP3/+P8HABEADgAWABcADgAEAPD/0//M/8v/yv/f/+z/5//o/+z/8/8EAA4AAgD3//f/9f/v//3/CgANABAABwAAAPj/7//0/wYAFwAVABkAKgAmABAAAQD3/+n/8P/3/+z/9v8EAA8AFAANABMAEgADAPf/9v/6//f/9P/x//T/9P/3//f/9P8HAA8ADAAHAO3/5v/w/+3/5P/n/+z/7f/0/+3/6f/s/+L/4P/m/+j/6v/5/wEAAAAPABgACgD6//P/+v8BAAQAAwAJAAoAAQAGAA4ADgAFAP//CgAEAPr////1//T/AgAFAAcACAD9//n//f/6/wIAEQANAAUABwAMAAoACgANAA0AEgAaACAAIgAfACcALAAcABMAGAAYABQAEwAJAAAABgABAPX/7//j/9b/4f/8/wQABAANAAcA+//6////AwAFAA0AEgAXACQAHwAJAP3/+/8AAP7/9f/3//b/9f/6//X/5//g/+X/7f/5/wkABQDz/+//7P/o/+r/6f/s//H/8//w//P/+/8AAAQA+P/n/+//8f/o/+//AAAMAA0A/v/z//T/9//z/+T/2//e/+T/7//w/+3/9v8CAAQA+P/q/+X/8v8BAP3/AAAOAA4AEQAVAAkAAAAGAPz/7P/9/xEAGgAYAA0ABgAFAAcA/f/+/wwAEQAXAB4AHwAZABoAHQAYABoAFQAPABQAGgAeABQADQAIAAQACgACAPz/DwAcAA8ADgAhABgACAAJAAMADwAgABsAEAAKAAUAAQACAPv/9f/9/wAAAAAFAAMA///9//v/+f/y//H/8v/7/w0ACQAAAAIA///4//X/9f/1//j/BAAHAPv/9P/1/+7/7P/y/+3/6P/r//D/+P/1//n/8v/c/9z/3P/f/+3/9f/8//r/9v/z/+//9v/z/+b/7P/x/+X/8P8AAPj/+P8CAAkACQD9/+v/6P/0//H/7/8JAAQA9v8BAPn/6P/r/+3/5f/i/+n/6v/q//n/BgATAB4AEwANABcAFQAVABsAGQATABoAHAAOAAAA/P/8/wkAHQAkACcAHgACAP//EAARAAwAGQAgACQAMgA5ADIALgAtAB4AFQAWABIAEwAUAAoACwAPAA0ADQAKAA0AGgAgABoABwAAAAQA/v/5/wYABQD4//P/7f/i/+H/6P/k/+T/6v/m/+L/5f/o/+D/2//a/9H/zP/M/9j/3//Z/9z/2v/P/83/0//f/+f/6P/j/93/4//h/93/3//d/9//4//l/+f/8/8BAAMAAwADAPn/+f8DAPn/+P8HAA0AFwARAAcADwAaABsAFgAhACQAFwAUABYAFgAcACEAHQAdACkALgAtAC8AKwArACUAIgAgACEAJwAdAA0ABwAEAAEABAAAAPv/DwASAPz/9v/5//f/+f8HABIAFgARAPr/5P/o//H/8P/1//L/7//5//f/8f/2/+3/4//l/+r/5v/o//T/7//x//3//f/4/+r/4f/d/+D/4//f/+X/7v/v//H/+v/4//j/BgAPABMADgALABEAEgARAAsABgARAA4AAgAKAAgABgAOAAQACwARAAYAAwD+/wAADAAHAAIAAgAHAAwADQALAP7/AAALAAMAAAACAAAACAAPAAQABAAOAAUA/P8CAAQABQAWABMADAAaABEA9//y//3/+f/4/wMABQAGAAYABQADAP3/+f/6////+//2//b/8f/0//r//f/9//j/9f/y/+3/8P/4//f/8f/0//T/9P/+//7//f8JAA8AAgDl/9P/4v/1//r//f/8//f/8f/0////AAACAAgAAgAFAAsAAAD+/wMAAwAAAAsAFAAJAP//9//y//H/9P/7////CQATABAABQAFAAwACAACAP3/AAAKAA8AEAATABwAHQAYABYACAAHABAADAAPABIAFAAbACEAIQAbAB0AGgAZAB0AEQABAP3//P/5//7/9f/w/wEAAQAFABMADQADAAEA+v/s/+b/5v/p/+r/5//m/+3//P/8//3/AAD8/wEAAADx/+f/3P/f/+P/5P/u/+3/8v/8//3/9f/i/97/5P/t//b/9P/y//T/9v/7/w4AIAAiACAADwD5//v/BwABAAIADgAGAPn/8//+/wsABQAGAA8AEwAVABAABQACAAsAEwAPAP//9f8AAAkAAAD6//P/7v/7/wAA8//1/wUADQANAAsAAADu/+r/+P/2//n/CgALAAYABQABAAEAEAAUAAoACQAFAAwAGAAOAAcADgAVABMACwAIAA8AEwAXABEA/v/6/wQACgAIAA4ADgAHAAIA7v/d/9T/0v/i/+7/8v/x/+r/5v/y//P/7P/y//P/9P/6////AAAAAP//AAAIAAkAEAAQAAYABAD7//n/+P/4/wEA+P/u//n/+P/0/wMACQAAAPr/9P///wcABgAEAAMABwAKAAMA+P/s/+j/5f/c/9f/2//j/+X/5v/1/wYADgAYACQAJgAvADwANAApABwADAAXADAAPgBGAEMAMQAXAAQA/v/6//f///8EAAEA/v8GAAIA9f8CAPz/4//q/+7/6v/q/+T/2f/c/+z/9P/z//D/6f/p/+v/5//1/wEA9P/1/wMABAAAAAgADgAQACMAJgAiACwAKQAeABYAEgAJAAMAAwD9//f/+//3/+7/8v/w/+z/6P/h/+b/8f/+//n/8v/4//v//P/x/+f/7f/v/+3/8//2//j////3/+v/8P/2//f/AwANAAkAFAAeAB4AGgAXABwAEgAHAAoACgAGAPz/7v/s/+//8f/0/+r/2//W/93/4//f/+z/8f/q/+//8P/2//z//P8AAA0AHAAaABQAGAAVAAwADQACAPz/BAAGAAAAAwAUABkAFAATABMAFwATABQAIQAjACYALgAmABUAFgAcAA8A+//x/+r/3v/b/+T/6f/i/+P/7//x//P/+P/7//z/AgANAAwADAATABQAFQAZABoAFAATABQAEAAPABUADAADAAMA/f//////9v/0//b//v/6//j////4//b/+v/q/+7/+P/1/wcAEAAOAA0AAAD5//L/9v8GAAoAEwAOAAUACwAMABMAGQARAAwACwAFAAoABgD6//b/+/8EAAAA7f/b/9X/z//N/9T/4f/s//D/8f/q/+r/7//l/93/3v/n//D/6v/k/+j/8//8//b/8v/+/wMAAQD+//X/9v/6//v/8//t//D/7f/x//z/+//6//b/9v8IAAkABQAOAAIA8//z//j/9//w/wAAEgAaACcAHgAjAC4AKgAtACUAJAA2ADwAPgBCAD8AOAAlACUALgAyADkAMwAhABoAIAAWAAwABwDy/+H/2v/T/9H/0f/b/+T/6f/7//f/5//o/+P/4P/h/+b/8//q/9z/5v/s/+7/9P/1//T/9v/5//r/BgAXACgAKgAjAB4AEgAVABcAFgAZABEAAgD8/wAABgABAPb//v8DAAgACQDx/9D/uv+o/6D/p/+3/83/1//h/+j/2v/Q/+D/+P////r/9f/6/wUAFgAYABIAEgAVABkAGwAZABQAIwA1ADEAGAAEAAYAEAAUAAEA5f/V/9L/0v/O/8//1P/c/+v/9f8DABoAJQAgAB0AHgAjACUAHAAPAAAA/f/4//3/GAAnACoAJgAgAB8AFAASABMAEQAaABYAFwAeABsAGgAUAAoADgAVAAoABAAFAAQA+v/y/+z/3v/Y/9H/yv/L/9T/3v/g/+f/9v/8/wAACQAFAAcAGAAjACIAHwAXAAsADgASAAoAEgAmADQAOgA3ADIAIwAPAAcACAAKAAAA9P/m/97/6v/5//z/8//0//H/6//k/+D/6//+/wkACAAGAPv/7v/w//X/6f/h/+D/1f/b/+L/2//U/9D/0v/R/83/1v/p//z/AgAFABQAHgAjACEAEgAAAO3/5f/r/+n/5//s/+z/8f/7//j/6//q/+r/7//9//n/9P8FABIADQALAAQA/v8AAAgADgAKAAgAFAAgACgALAAqAB4AEAARABUAFAAWABgAHAAnACQAGAATACAAMwAyADIAMAAhABsAGQAXABMAAAABABgAHQAUAAoAAgDv/+z/8P/k/+7//f/9/wMABAD7/wAABwABAPn/9//6//3/+f/0//L/7v/r/+v/7//y/+//6P/m//D/7f/p//X/9P/7/wcAAwD//wMAAAD6//j/6f/c/+X/5P/X/9r/4v/n/+j/3v/U/9X/0P/L/9T/3f/Z/9z/6f/0/wAACgAAAO7/8/8CAAwAEwATABYAGwAaABQADQAOABwAJwAdABQAFAAVABUAHgAjABkAHwAvAC8AKwAmACQALgAhABsAHQALABIAIAAdABkAFwARAAIABgAIAPX/7//v//P//v/7//f/8P/g/9P/1//m/+v/9//6//H/6f/g/+f/7//q/+z/9/8CAA0AFwAfAB8AEAABAAMAAwD7//T/8//q/9v/5f/p/9X/1P/e/+L/4P/g//T/BQAGAAMA/f/0//L//f8EAP//AQAHAAgAEwAWAA8AEQAWABQADgAOAAgABwAPAAcA///8//P/9/8HAA4ACwASABYADwAGAPv/8//0//3/9//2//v/+P8BAAYAAwADAA8AFAAMABUAHgAWAAkACwAUAAwA+P/2/wQADgAfAB4AAgDz/+r/3//r//j/AwALAP//BAACAOb/3P/e/9v/4//0//7/BwD///X/BQAKAA0AHAAbABEACgADAAYADgAVABoAEAANABkAEgAIAA8ABwD7//L/7v/0//L/8v/z//X/AwAEAAAA/P/6/wAA/P/3//H/8//8//n/5v/e/+f/7v/9//z/9f/0//D/9f/s//L/+f/u//z/CwAPAA0ABgAGAAoAEgAbAA4AAAAIAAYACgAOAAgAEAAOAAEA+v/3//b/9/8HACAAJgAaABoAGgAVABgAFQAMAAQA//8CAP7//P8LABYAHwAeABAABQAAAA0AGAAOAAIAAQADAP7/AAADAPj/8P/3//r/7P/d/9b/1v/f//P//P/s/+b/9P8EAAoABwAJAA0AAQAAAPz/6//z//D/5v/o/9n/yP/Q/+b/7v/2//j/9P/3//X/8f/j/+n/AAAIABQAGgAYAB4AKwAlABAADAALAAIA//8AAAAABAAEAPj/5//s/wMA///x/+//8f/5//H/7v/8/w0AEwANAAgAAADz/+X/5f/x//n/DAARAAEAAwAAAPj//P/+/wsAGgAbACAAIwAqADIAKgAeABIABwAPABQAAgAFAAoAAAD8//X/9P/5/wQACAD///7/+/8AAAgABwATACUAOAA7ACgAGQAZABcAEwAJAPv/+P/5//L/8v/1//P/6P/q//v/+//2//f/8//2//f/6P/Y/9f/4v/v/+//8P8AAAIA8f/h/9X/1//q/wAA/P/u//X/+f/3//z/9//s/+z/8P/v/+r/6f/o/+n/6//q/+b/5f/f/9P/5P/7/wgAEwAPAAsABgAGAAEA/P///wkAFgARAA0ABQD1//X/+/8HABcAJwApACMAHgAMABUAJAAcAB4AHQASABEAHQAmACIAGAATAAAA+v8MAAgADQAXABMACwAQABoAAwAAAAUA/v/3/+7/8P/w/wMABQDv//j/SwCQAGMAKQAHAN//tf+a/3r/gv/b/woALwB1AK4AqQB9AF4AAwCz/5H/Wf82/0X/av+A/8v/IwBGAG0AeQBHAAIAxf+L/1D/N/9Z/4//zP8tAIIAtgDaALIAWAAXAN7/uf+v/8H/4//x/xwAWgB7AIcAeABgADwABADJ/6P/q//N/+j/7f/w//z/FwAaAAIA8//M/6v/lv+T/63/xP/j////IgAyAC8ANAAmABEA6f/K/83/0//h/+7/AAAfADoARwBKAEkANAAiAA4A7//p/+T/3//1/wsAEQAIAPz/8v/t/+3/5f/o/wIAAADz//r/AQAOABQAIQAzADcAMwAjABQAEwAiAA8A9/8CAAsAGwAoACkAHgANAAkADQABAPv/EQAUAAUA+//k/9b/7v8AAAEAHAArACUAFgARABcAAADt/93/wP++/9X/2v/Y/+n/+P8AABsALAAiAB8AAwDe/9H/xP/E/8T/0v/5/xAAEAAPAA8ABwD4/93/w//I/9P/3v/6/xIAHQAkACgAHgAOAAoABwD7//H/5f/e/+//AgAKABIAGQAgADYAPwAMANP/xP/B/8b/0v/N/9f//P8TABIA+//q//3/AgD1//j/BwANAAgABAALACgAMwAXABcAPQBLADMAEQALABkAIgAkACIAJgArAB0ACAAGABMAFAAXACUALAArACYAJAAVAO7/3//s//D/6P/Y/8f/x//P/9X/3//t//v//v8BABYAGwAdAB0ABADm/9f/4P/k/9j/5P/7/w8AGQAHAAcAEAAKAPz/1f/E/8n/tv+q/7H/wP/f//b//f8PABoACQDw/93/0P/I/9P/4f/r//v/DQASABMAFwAbABYADgASABIAGgAuADgAMQAXAAMAAwAIABUAIgAiAB0AIAAaABgAHAAOAA4ACwDw//P/BAD///b/+P8BAAUACgAJAAYAGAAgAAcA8//1/wYACQAEAA0AEAAPABgADAD7//n/9P/3/wAACQAXAAIA5v/l/+D/5f/y//H/7P/u//L/4P/b/+v/5f/p/+v/2f/P/87/2v/d/+j/CQAQAA4AGgAXAAcA+P/x/+b/2//Z/93/9f8NABkAFwAYACkAIwASAAwAAgAAAP7//P8FAA8AGAAfACkALQAnACMADQD6/+//4v/l//D/AwAaACYAKgAWAAMADwAWAA0ABgAAAPn//P8BAAYAAAD4//j/+v////7///8UACkALAAZAPv/8v/u/97/2//g/+H/5v/q/+///v8AAP3/AgABAAIAAADx/+3/6P/k/+f/6v/y//T/+P////////8AABMAGwAHAAQABgD9//r/8f/z//z/9f/4/wwAHgAaAAgAAAD9//r/9P/y//3/CQASABgAHgAcABQAGgAbABYACQDw/+f/6v/z/wEABwAKAA8AGwAaAA4AFAANAP3/AAAAAPz////9//L/9v/9/wIAGAAZABIAEwD6/93/1f/Y/+P/6//6////+f8EAAgA+f/x/+7/5P/m//f//f8DABQACwD6//j/9P/y/+3/6f/2/wAABwATAB4AJQAgABEABAAGAAUA+//9//f/7//1//T/8v/0//3/CAAJAA4ADwAEAAAABQABAP3/BQAGAAQADQAXACEAGQAMAAUA9f/z//7/+//6//v/8P/s/+7/8/8CAAcABAAIAAgA+v/t//D/8f/x//v/8//y/wkACwAJABIADAAIAAIA9f/1/+3/4v/o/+3/9/8GAA0ACQAGABYAFgABAAEAAQD+/wQAAgD7//v/AQADAAYACAAFAAkABwAAAAAAAwD+//H/AgAVAA4ADwAaAB0AHQAZAAwADAARAAEA9v/4//j/+v/y/+///f8AAPz//v////z//v///wAABwAKAAcA+f/p//3/DwAKABAAFwAWABsAGQARAAIA+P8AAP7/9f/8////9f/0//7/9//s/+//8//6/wAA///5//b/8//q/+f/6//s//H/6v/u//z//P8DAAIA/v8BAP7/AgADAA4AIwAmACsAOAA8ACwAFgAEAAEACAAAAPT/8v/v//H//P8BAAQACwADAOz/3v/g/+P/3//W/83/1f/Y/93/9//8//j/AAAAAP3/9f/0//v/9//5/woADQD///v//P8EABYAIAAcAP//7P/r/+v//f/+/+//+f8GAA0AEQAOAAkABgAKAAoAAQAAAP3/7//w//7///8AAAQAAAAAAAkACgAEAAsABwD+/wIABAABAP3/9f/z//T/7f/x//r/9f/2//b//P8GAAEA/P/3//H//v8QAAgAAgAGAAwAGQAVAA8AEQAQABQADgAQACAAIgAmADMAKQAfACQAHgAjAC8AKQAaABEAEAARABMACwACAP7///8GAAEA//8EAAkACQD5/+7/8v/7/wsAFQAWABIADgATAAwA/f/y/+//8f/r/9n/4f/w/+v/8v/r/9v/3P/E/67/uv/F/8X/w//A/8D/wP+//8T/1P/h/+b/7//j/8//1P/l/+z/5//2//v/+f8AAO//7P/y//X/9P/1//v//f8OAAcAAAADAP7/AAD8/wsAHwAcAB4AGgAhAEAAPwAkACAAGwAsAEUAPAA7ADsAMgAlACAAJAAkACEAIAAlACMAJwAoABsAHwArAC0AMAA1ACQAGQAcABwAKQAlABwAIgAYABMAEwAKAAAA+P/3/wAACgALAAYA///5//b/7v/a/8z/2P/r/+j/4//h/+b/8P/k/9r/4//y/+//2v/l//D/8P/9/wEA/P8BAAEA8P/s/+n/7P/x/+f/3f/O/9P/2//V/+D/6v/p/+n/5f/j/+f/5v/o/+r/9//2/+//AgADAAMAAAD8/wAA//8KABIAFwAhACIAHQAiAB8AGwAmACEAJQAkABQADgAUACcAJgAeABsADgAMABMAGAArAEAAQQA+AD4ANQAlABYABQD9/w4AHAAiACgAJAAkAB4AHAAWAAYAAAABAAIA+f/v/+r/+P8HAAEA+//8/wYADAAYAB4ABgD2/wAA/v/5//z/8v/q/97/3v/a/8j/yP/A/8v/zv++/8n/1v/f/+P/3f/Z/9//3//m/+n/8v8DAPz//P8DABEAEQAEAP7/9/8AAAEA+P/2//v/8v/l/+z/7v/5/wMA8f/g/+D/4P/g/+X/7P/o/+H/5f/j/+j/8P/t/+f/6v/y//P/+P8AAAcAAgD//wYADAAIAP3//P8EABAAEwAIAAUA/v/7/wwAEwAaACMAJAAiAB4AJQAiAB4ALQA1ADsASABIAEcARQBCADoAKgAxACkAGwAsADQANQAtACMAHgAQAAkACwAOABcAGgANAAoADQARABkAFAAHAPv/7P/a/9//7//o/9z/3//n/+//+v/v/9z/4//o/97/2P/d/+v/5f/T/9b/2P/S/8L/vP/H/8X/wv+9/8D/0f/g/+L/3f/z/w8ADwAGAAMA+//8/wgADgAHAP//AwAGAAYACgAEAAAACAAMAAUA/P/3//3/BgAPABEADAAHAAMABQALAAQA9//6/wMAEgAUAAoACAABAAoADAD+//3/AgAGAAIA//8KAA4ACgATAAsAAAADAAAABwAUABMABgABAAcACgAFAAAABwAPAAkAAwAPABgAGgAgACUANQBGADoAJgAaACQALAAdABYADAABAAYACQAJAP//6f/a/+H/7v/x//P/8f/4/wUAAwD7/wAACQD9/+j/4v/o//3/AwDz//D/8P/o/+H/7P/9//7/9P/m/+z/BQAWABUADQANABYAEQADAAwAEgAAAPj/BQALAAsAFQAPAAsAEwAHAPf//P8EAAYA+//v/+3/4v/g/+X/5f/o/+7/+P/1/+n/5//i/9n/2f/Z/+D/5v/l/+X/6f/5/wUAAwD0/+//8v/s//L/+v////7/9//u/+X/7v8AAPv//v8BAPf/AAADAAYADwAFAAgAEQAMAAcACgAMAAYAAQD9//j/AAAKAA4AEQAOABoAJQAiABoAFgAXAAQA+P/5//L/+v8MAAkA/v/9/wcACwABAAQAAAD//xIAHwAcABgAGwAXAAsADgAVABMAFgAVABQAIAAlAB8AEQAMABMAHAAZABAACgAAAPr/+v/9//z//f/+///////4//r/BgATABYAFgAaABYACAABAAQAAAD2//X/9f/q//P/+v/r/+T/7P/4//b/9//2//H/7P/d/+D/5v/g/+T/6P/u//X/8f/3/wMABwD5/+f/8/8BAAgA+v/e/9b/3f/l/+v/5v/X/9f/4f/m/+L/6f/+/wUAAAD8/wAAAAD6/wQADQD+//n/AQAMABoAGQASAAcADAAWABIADwAKAA0AEQATABgAGwARAAgABgAIABIAEwAPAAkABAAFAA0AFQAbAB4AHwArACcAHwAUAAoAEAAGAAMADwAaAB4AFQAGAPr/+P/+//3/+v/3//P/+P/v/+X/6P/q//L/+//9////BwAOAAoA+f/t//P/+P/8//z/+P/y/+3/7f/k//P/DgAQAAsABAAAAAUABQACAP3/AAAAAAMABgAAAAQAAQD7/wEAAwDv/+P/7/8BABMACwAAAA8AEgAFAPz//P8HAA4ADQAEAP7///8AAAQA/v/8////9f/2/+3/8f/9////BQAFAAcAAADo/97/3v/d/+j/7P/n/+P/5//6/w0AGAAYAAwACAAIAAkAEQARAAYAAgD8//T/8P/o/+n/9P/1//f/8//u//3/CQAKAAgABgACAPn/9v/2/wAAEAAQABMADgAEAAkADwAOAAoAAQD6//n/AAD5//j/AgAMABIACQAEAAIA/P/8/wIABQAAAAIABQAAAPX/8//8//v/9v/t/+n/7f8AAB4AGgAXABcAAgAFAAcA+P/z/+z/6//r/+n/9v///wYAAQADABYAHwAgABMABgACAA4AHAAbAB4AFQAJAAcACAAPABMAFQAQAAEA/v8KABAACQD8//L/7P/w//n/9P/y//b/6v/d/9z/2//f/+z/9f/+/wMAAQACAAQAAgD8//f/8v/9/w0ADAAMAAsACQAKAAAA6f/e/+L/4v/v////FgApABcACwAGAAAAEQAVAAoAAwDy/+7/+/8BAAoAEwAWABEABwD///T/8P/6//b/8P/5//L/9//+//r//P/3//v///8BAAsACgAEAPv/9P/2/+7/7v///w4AFgAjADMAMgAnABYAAgD7//7/CQAKAAAA9f/n/+3//P8CAAgABgACAP//+v8AAAkACQAGAAYAAQABAP//AAALAAcADwATAAsADAAAAPT/6P/e/+n/9v/1//L/7P/i/+3//P/8/wMACgAIAAEAAAD//wYAFwASAAsABAD//wcABwAIAAwADwAOAAMAAAAHABEAFQADAPL/7f/u//D/8v/2//T/7//s/+z/6v/z/wIABgABAPn/9//5//f//f8CAAsAEgAKAAQAAgD9//3/AwAEAAcA/P/p/+n/5f/h//H/CgAKAP//AAD7//T/8v/0/wEABQAHAAwABgASACMAHwAbABgACAACAAMABwAJAP7//P///wEAAAD7//3/9f/4/wkADQAOAAwAAgD+/wIAAQD///3/9v/1//z/CAARABQAEQAKAAgABAD8//b/9v/v/+b/5v/r//r/AQAAAAAA///+/+z/2v/e/97/2P/e/+r/7v/w//r//v/+/wsAFQAPAAkAAQD1//b/9f/1//f/7v/1/wMAAAAAAP7/AwAJAAgAEwAaABYAFAARABQAIQAlAB8AKQAzAC4AIwAbABYAGAAnACIAEQAOAAAA8f/x//T///8KAA8ACgAPABgAFAAHAP7/+v/y/+//7f/s/+z/3P/a/+H/6//x/+3/+v/8/wAAEAANAAgAAgDv/9j/1v/c/+D/6f/0//n/7P/p/+7/7f/k/+L/6f/m/+X/7P/1//z/BAAFAAIA/f/4/wcADAAVACYAGgATAAwAAgADAAMAAQADAAAA/f/+//X/+/8HAAUACQAGAAAA9//6/woAEQAZABcAFwAbAA4ABgAAAP//CAAJAAwADgALAAkABQADAAQADgARABEADgAMABUAFAAPABQAFgANAA4AAQDz/wAABwAGAP//BAAAAPP/+v////n/6//q/+z/7f/3//r/+//8/wAA+f/z//f/9P8DAAIA9v/0//P//f/1/+X/3f/d/+L/3v/V/9L/2v/e/+P/5P/o//L/+f8CAAYAAQAAAAMA/////wcADQAOAA0AFAAUABgAKQArACsALgApABwAEAAHAAcAEAAOABoAFQAEAAgACwAUABcAFQAMAAgACgANABMAFQAZAB0AEQACAAMA9v/7/w4ADwAKAPr/9//x/+r/7//v/+7/9P/8/+//8P8DAAMAAQD//+7/6f/7//7//f8LAAwAAAD0//H/7v/k/+j/5//n//P///8KAAoABQAQAA4ACgAKAAQABgACAAoACgALABwAHwAlABMA/P/9//v/+P/x/+r/6//r/+n/6P/r/+//7v/v/+3/8P/y/+//7//p/+L/5P/p/+//+P/8//3//f8DAA8ACQAGAAoAAQD7//n/BAAUABEADwAMAAsABwD6//n/+v/9/wIACAALAA8AHQAcABAAEgATAAkABwARAB8AIwAjACkALAAmABAA/P/w//L/+//4//b/9f8FAB0AFgANAAkAAwD4/+b/6v/s/+v/9P/4//f/+P///wQABwAEAPv/+f/2/+3/8P/u/+j/8f8AAAwACgAEAPr/+//y/9j/0f/K/8P/zv/i/+v/+P8IAA4AEQAUABMAFQAYAA0ABQAHAA0AHQAhACMAKQAmACgAJAAZAAwA+v/x//f/+/8DAAwAEAAgACEAHQAaABkAGQAJAAYA+f/e/9//5v/h/97/5v/u/+z/7//0//X/9P/v/+v/3//Y/+f/4//a/+b/6//r/+7/6//m/+r/6v/s//P/9v///wEAAAAAAAIACQAKAAkABQAFAA4ADAAHAAwAEQAIAAAAAQAAAP3/AgAJABAAIAAZAAoABgAHAA0AFgAWAAwACQAEABAAIQAhACEAGwAPAAwADwAMAAUADAAVAAcAAAAJAAgADwARAAgA///x//H/7v/t//3/CQAKAAoADQD4/97/4v/q/+7/9P/l/+H/7v/1////+f8AAA8ACgAIAP3/+P/9//r/+f/3//f/AAAAAPb/+/8AAPv/+f8AAAAAAwARAA0ADQAYAB0AFQAJAAcA9v/j/9z/1f/Q/9T/0//R/93/8P8BAAQAAAD4//H/9v/4//r/9P/y//H/6//0////CwAGAPr/CAAOAAIA//8BAAwAEwAHAP///P/8//f//P8GAP//AAABAAMACAAKABMADwARABcADwAPAAsABwAEAPP/5f/q/+n/6f/z//v/BAANAAYA+f///wgACQAOABUAFQANAA8ADQAEAAEABwAJAAQADgAQABEAHQAfABsAFgAhAB8AEwAUAAIA9P/8////AAAAAP3//P/4//v//v8AAAkACgAPAAsAAgD//+//7f/4/wEADAAbABkABgAAAPj/7f/u//n//v8IABgAFwASAAkAAwAFAAcABwAAAPP/7P/v//X/9P/m/+P/4P/e/+P/5P/x/+X/1//h/+H/7/8BAAAA9v/5//j/7//i/9L/2f/n/+//9f/4//X/9P/z//P/+v/3//n/AgASABoADwARABIACQAFAAoADAAVABwADAAMABkAJAAhABQACwD///j/+f8AAP//AQAHAAsADAADAAcAAwD6/wUAFQATAA4AEAAHAAAA+v/7//v/9v/1//L/7//3/woABAADABoAHAAdACAAIgAfABYADgAPABgAFAALAAMABgABAAEABgD0/+r/6P/g/+f/AAALAAsAEgARABAABQD8//b/7f/z/wEABAD1//H/6//p/+7/8P/n/9P/4P/0//b/+P////3/AgAXAB4ALQAzACIADQD8//j/9v/+/wEAAwALABEAEQANAAsACQAHAP///f/y/+z/9f/r/+7/8P/l/+T/8v8DAA4AHgAmACIAEQAOABoAIgAjABkAEgAEAPv/9f/o/+P/7f8AAA4AKgAwABsAEQALAA4AFQAVABEADAACAAUA9f/b/97/2P/Y/9v/3v/m/+D/2v/W/+P/5f/k/+T/3v/k/+T/4f/o//H/7//u/+3/7v/l/9T/0f/R/97/8P8BAA0AEwAeABQAFQAZABsAHQAMAAAA/P8FABcAHgAWABkAHQAQABIAEgAPABAACQAEAA4AEgAOABkAIQAkACIAIQAYAAoADgATABsAIAAvADQAKwApABwAHgAjACEAIwAgAB0AGAAJAPb//f8GAAAAFAAmABsAGAAXAAUAAgD4/+f/6//3//r/7//j/8v/x//V/9j/0v/N/+P/8P/x//L/6f/m/97/0f/R/+L/7//y/+T/1v/U/8j/yP/W/+P/7f/9/wQAAQAEAPL/4f/i/+L/6P/r/+z/+P/+//j/9//m/+L/8/8AAA0AEQAPAPr/6//y//v/+//9/wcABQADAP//9f/4//j/9//2/wMADAAHAAoACAANABMAFgAhACoAMQA1ACsANgBFAD4AOQA2AEAAPgAvACIAFgAdABwAHwAnACYAJAAWABIAFwAdABIAAAADAAkAGwAeAAQA/v////P/+f/4/+P/6P/w/+3/9f/7//D/5//p//r/BAD0/+7/7f/y/wAAAAACAPv/7f/u//T/7//6/wcA+f/+//j/8f8BAP//AAD///z/EgAYAA8ADQD9/+z/5v/n/+j/6f/y//3/DQAIAAEABADy//H/9v///xcAGgAHAPX/3//R/93/4P/h//f/AQANABMAAQDv/+v/8f8CAA4ADAALAAUAAwAIAAYA+//x//T/+P/9/wEABQAFABAADgADAAAA8v8BABMADQAGAPv//P8DAAMA9f/y//z/AQD9//T/AAD9//b/+//z//P/+//9/wQAFAAbABoAFQAcABUABgAPABgAHgAXAAsACwAZACgAJgAeABAAFQAaABYAHwAhACEAEgAKABIAFwAeABUAAgADAAYAAAAAAPr/+f/9//n/AAAKAAYA///8//v/AwD///L/8v/u//b/AAAJAP3/6P/y//n/AAD+//r//v/6//X/5v/V/9T/4v/k/9//4v/j/+X/3//h/+v/7v///wMA8P/0////+/8FAAAA+v/3//f/CAAFAP//9v/x/wIAEgADAOf/6//w//z/AwDy/+r/7P/2//n/AwAKAAUADgAIAPb/9f8AAAIABwALAAoADwANAPn/7f/8/wYADQADAPH/+/8JAAkAAQABAP//AAAPAA4ADwARAAQA/P8FABcAHQAZAA4AEAAVABYAJAAiABsAFQAPABgAGAAOAAYAAAABAAAA+//+/wcACAD///D/5f/n/+7/+P/5//X///8BAP//CgANAAYACAAKAAAA9////wQA//8AAP///f8FAAAA+f/y/+L/4f/z//b/6f/m/+j/9P8FAA0AAAD1//r//f/8//7/AAADAAIA9//p/+L/1f/i//H/7P/w/+//8P/u/+n/6P/w/wAAAAAHABUAEwAIAP///v/4//3/BgAAAPj/+f8AAAAACQASAAcA/P/3//3/DAAWABUAGgAhAB4AFQAKAPv/9/8FAAgACgARAAwACAAWACMAFwAOAAwABAD6//L/7f/y/wwADQADAAUA9//3/wAA+P/4//7//v////j/7P/s/wAAIAAqABYABQDz/+T/5P/h/+X/+P8DABkAHAAIAAYABwAPAA0A/P/9/woAGAAbABYAEAAPABsAHAAPAA4AFQASAAgA+//m/+L/8//9//r/7f/q//j/9P/l/9z/2v/d/+b/+f8AAPb/6f/j/+L/3//j/+3//f////n/+P/0//f/9//p/+v//f8AAAMADQALAAsAAwAAAAEAAwAOAAgA//////7/+//3//7/AQAIAAoA/f/+/wMAAAAEAA4ACQAIABUAGwAnACoAGQANAAoACAD9//j/9P/v/wUAFQAcACAAEQAKABEAFgAQAA4AFwAYABwAFQAQABMABwD7//L/BgAQAAkADQD5/+3/7f/l/+H/5P/1/+//5//r//L/BgAGAAMA//8BABAACQAIAAMA//////v//v/4//X/+//3/+b/3v/m/+r/8f/4//7/CgASABcADAD7//H/9//5/+r/8f/q/+P/8v/3/woAFgAWABoAEAAMAAsAEQARAA8ABwDq/+P/6v/8/wcA/P/9/+n/3v/o/+D/5v/u/+7/6v/p//D/+P8HAAkADQAaABIABwD+//z/+v8BACUAKAAYABoADgANABYADQAAAPj//P8OABUAFgAgABEA9//v/+7/8P/v/+v/5v/d/9z/6v/5//f/9v/7/wAABQADAAkAAAD0//n/7f/s////DwAcACEAGwAJAPv/9//9/wEABwAYABYAFgAeABYAFAAVABcAHQATAAgADQALAPv/8f/y//H/8f/2//7//v///wQAAQADAAUAAwAHAAwAEAAKAAMABwADAAIADgAVAA0ACQAKAP//AAD+//f/AAADAAgA/v/o/9//3//l/+L/5//x/+7/8f/z//L//v8QABAAAgAEAAAA+P8BAAkABQD+/+3/4P/r//T/+v8AAPD/5f/w//L/+f/9////AQABAAsADgADAPn/9//2//P/BQATABEAEAALAAwAEwAaAAsA+f/9/wAACQARAA8ACQAGAAkACgAWABYACQAEAPz/7v/m/+3/+f8CAAMA/f/1/+r/8v/y/+r/8v/1//z/BAACAPz/+//6//n/AAD+//3//f/7//z/8//z//H/7v/q/9//7v/7//n/+f/2//j/9//3/wIADwANAAAAAgAIAAcADQARABMAEAAPABYAEAAXAB8AFAAcACYAFQABAPn/7f/m/+n/4f/e/+P/4//r//H//v8TABMADQAJAAMACAAGAP7/BAAKAAcAAQD5//3/BgAJABAAHwAlABwAFwAfACkAKQAqACsAHAAMAAIA9v/u//X/AwAQAA4AAAABAAAA+/8AAAIA+//y//D/6f/s/+//9P/3/+b/4v/j/9//6v/v/+z/8P/q/97/8P////3/AwD7//D/+v////n///8CAP//AAADAAQABAALAAgAAAAKABIAEQAGAPX/6v/j/97/4P/o/+T/4//v//T///8AAPv/+v/0//D/6v/8/xEACgAKAP3/6//y/+3/5v/u//T/7//u//b/BwAUAAgADAAYAA4ACwAJAAAACQAWABMAFAAeACMAIAAlACcAFwAZAB8AHQAdAA4AAwD9//H/6//v//z/AQAFAAYABQAQABQABwADAP3/9v/8//v/+v8FAP7/7v/2/+7/5f/1//P/+f8DAPr/+v/+//7/AAD8//L/7f/x//H/6v/r//D/6P/p//L//f8JAAoAEQAcAB4AGgAUABEAEAAMAAAAAgABAPn/8v/o/+r/8f/y//b/9P/t//H/+v/+/wAABwANAAQA/v/9//X/6v/o/+7/7P/3//3/AAAVABEADgAUABUAFgAJAAcADwANAAoADwASAAUACQARAAcABgAAAAcAGAAOAAsA+//p/+7/6P/k/+D/5v/6/wEAAgAAAP//BQALAAkAEwAbAAkAAQD+//T/9f/8/wAA/P/2//D/8v8AABYALQAqABgAGwAYAA4ADwAJAAQAAQAAAAIAAAAFAAoACwARABwAKQAuACgAFQACAPL/3//d/+X/7P/x/+7/7v/0/+X/4f/q/+X/8f/2/+n/7//9//T/5P/p/+v/5//s//D/+P/6/+//5P/a/87/zv/Z/+3/AAD5/+n/8f/6//n///////z/AAD///3///8AAP7/CgATABUAJQAnACQAKAAoACsALAAkABkADwAEAAQAAAD8/wgACQD///j/AAAJAA0AEwAQAAoAAAD9/wgADQAGAPv/8//0//z/BwALAAQAAAAJAAoABwAKAAcAAAD8/wMAFQAMAPj/9f/8/wEABAAFAAMACwAOAAMABwAPABEABgD2//r/BwALAAMABgAPAAcACQAWAB8AKQAjABQACwALABAACAD+//b/7f/e/9L/3//Y/9H/4P/k/+7/7P/j/+v//v8MAAMA+//2/+z/6f/l/+b/8v/1//T/+//7//3/+f/w//z/AwAEAAQAAAD//wAAAgD//wAA9//p/+j/5f/z/wYAAAD9/////////wAAAwAFAP7/+v8DAAkADQANAAUABQAIAA0AIwBCAEoARQBCAC8AIQAbABAACwAKAA0ACQAIAAsACwAIAAAADAAZABsAJwAwADEAMgAyACwAIQARAPz/8P/2//b/5v/Q/8D/vv/I/87/2v/j/+X/6P/d/9f/4f/u/+//5P/l/+f/6v/z/+r/5v/o/+T/4P/a/9f/1//j//D/9/8FAAIA+f/9//f/7P/2/wQABwAMABQAFwAXAA4ACAACAAMACQAAAPb/9f/3//v/BAAEAAAABgAKAAoAFQAVAAoACgAQABcAIQAgABIADwARAAsAEAAPAAEA+//s/+v/AQARABYAGQAYABcAIQAmABoADQAMABgAJwAtACYAHAAZABsAGwAPAAoABgD5//f/+f/5//z//f/9/xAAFwAEAAUA/P/p/+v/3f/P/8r/xP/I/9L/4//o/+L/2f/Z/+H/2//f/+z/7P/0/wAABQALABIADwAHAAsADwAJAAMAAgD///b/7//t//X/AAAAAPn/8f/v//X/+/8DAAYABQAVAB4AHwAfABAACwALAAUABwAHAAQA///5//n/+P/1//P/7v/y//3/BgAQAAkAAwAIAA4AEwANAAkABgD9/wAAAADr/+f/+f8CAAUABgAMABYAFQAOAAkACQANABEAFgAaAB0AHwAaABoAIAAXAAcA9//p/+f/5P/d/+D/5//h/9f/4f/4/wMAAQAAAAMA///0/+r/5v/v//n/+v/x//D/9f/1//L/6//x//H/5P/p//z/BwAFAAkADAABAP3/8//t//L/AAAQABgAJAAqABsACQD///X/8P8CAAgA+P/5/wMACAASABoAGgAZABsAHQAaAB8AHwAOAAAA+//w/+z/9v/5//L/7//y/+3/6f/y//b//f8FAAsAEAAWACAAGwAPAAcA/v8AAAwADQAHAA4AFAASAAsAAAD9/wAABgAHAAcABwAHAAcACAAHAPj/7P/s/+v/7f/t/+7/+P8AAAAA+P/y//j/8f/m/+3//v8JAP7/+v/9//b/AgASABcAGgAUAAgABwANAAcACQD+/+T/2v/Q/9T/6P/x//P/8f/y//v/AAALAA8AEQAVABEAFAARAA8ADAABAAAACAAbACEAGQAVAAsAAAD1//f/8v/t//b/8v/4//z//P8FAAUAAwABAPz/+/8AAAUA///5/wAA/P/n/9r/3v/m/+z/8//p/+H/5//m/+D/4P/m/+v/9v/v/+j/8v/y//r/BwAOABIAHAAlACIAIgAaABgAHwAkACwANABAAEYAPwAwACMAFAABAPb/+//7//r///8CABEAEAAEAAAA+/8AAPv/+v/5//H/7//s/+7/9P8IAA4ADAAaAA8AAQACAAEA//8AAAwADgAGAAUACAD5/+//9//1//n/AwAEAPz/8//4//v/8//h/9f/3v/b/+3/+f/z/wcA/v/s//H/6v/l/9z/1//W/97/6P/o/+n/5P/k/+D/7v8AAPX/7P/k/9//4P/o/+7/5//k/+P/8P/4//v/AAD3//j//P/8/wEACAAVAA8A/v/5//r/BQASABQAEwAiADIALAApAB0ADQAVACEAKwAtADMANgArADMAPgAzACcAGQAHAP//9P/6/wEA/P8HABQAHQAkACIAFAAFAAMAAAAIAAYA/f8FAA0AFAAOABAAHgAOAAAACgAKAAIACAAOAAoAAAD6/+//6f8AAP//6f/w//z/+P/9/woAAAD2//X/4//j/+j/5P/q/+b/7P/1/+//+v/3//H/8v/o/97/2f/h/+X/3v/Z/9f/zf/C/8P/u/+3/8H/zP/V/+H/+P/8//j/8f/b/9v/6P/o/+//AgAKAAYADAAZABcAEgAFAPD/7v/4//r/9f/z/wAABwD//wsAGAALAAoAFwAcABwAIQAfABQAEQAaACYALQAlAB4AFwASABsAIQAeACIALwA1AC4AJwAeAAsABwAIAAoAGwAqAEIAQgAzADYAMQAnABYADQANAAMAAAD8//f/+/8AAAsAEAAOAA0AAADv/+3/7f/f/93/5v/o//H/8f/w//j//f/8//L/6P/t//P/9P8EAAAA6f/j/+b/9P/3//X//P/1//f/8f/n/+3/7//5//P/8f/0/+//+/8JABUACgABAAYABQARABEACQAMAAYAAgAAAAYADQD8/+3/5v/b/+f/AQAHAAMAAwAFAAIA9//5//f/9v8GAAgADAATABMAEAALAAsABwAEAAoABAD5//v/9f/t//H/9v/5/+//2f/T/9f/6//5//L/9v/9////9/8CABEAAgD4/93/xf/E/8r/2f/i//H/+//0/+3/4v/d/+n/5//h/+///f8IABIADAAFAAMADQAMAAMADwAOABYAIwAaABsAHQAlADMAOgA5AC0AJQAzAEAAQgBNAEEANQA9AEEAOwAvACsAKwAnACoAMQA4AEIAQAA7ADoANQAuADEAKAAKAPv/9f/6/wMACQAPAAYA/f8CAAYA+v/1//X/7v/y//T/7v/j/9P/0//a/9n/yf++/8X/vf+4/7D/mv+f/6//s/+v/7j/yv/Y/97/3f/a/93/4//c/9b/5v/5/wEABwABAPD/7v/0//L/5f/o//D/7P/w//T/+P/3/+3/7/8AABYAFQAKAA0AFgAqADsAOgAnAB4AIAAZAB8AJQArAC4AKgAsACoAJAAcABgAGgATAA4AEAASABUAFwAgACsAMQA2ADUAHgD+//L/+f8CABIAHQAcABkAHAAZABEABAD//wAA+P/4/wUACAAFAP//9f/t/+n/5f/e/+z/7f/i/+3/6v/w/wUAAgDy/+z/7P/x//r/AQD6//T/AAD4/+j/5P/y//////8FAAEABgAKAAIA/f/6/wMA/f/t/+P/2f/h/+z/7f8AAAwA/P/1//v/AwATABUACgAGAAIABQAGAP//+P/z//n/BAAEAPr/8//4//n/+f/4//P/+P/7//3/9v/v//H/6v/m/+H/3v/m//L/+P/5/wcAEQAQABAAGAASAAwACAD4//j//f/x/+//+P/8/wkAAwDx/+b/4v/p/+v/8P/x//f/+//3//3/+v/4/wEA///z/+7/5f/s////EAAkADQANQAlABoACwAKABIABwACAAsAEQAYABoAGAAlACQAEwAGAAoAFQAWABgAFQAUABcAGAATABQACgAGAAQA7P/j/+r//v8GAAIA///8/wYADQAPABEADQAAAP7//v/0//3/CgAQABcAGQAUABAAGgAiABAACQARAAsABgD+//n/7//a/9z/3v/m//L/6f/h/+P/4//h/9//3f/b/9T/1v/b/9j/3P/i/+3/9//9//7/8v/2//3/AAAAAP///v/t/+j/5//r/+v/5P/s//P/7f/t/+j/4v/u//X/9P/w/+7//f8OAAkA/////wAAFgAlACYAMQAuACYAIQAlACMAEwADAAkAGQAkACYAFgAQAAsACQARABUAFgALAAMABgAHAAYAAAD4/wUADwAWABUACwARAAcA8//o//D//f8NABMACgAHAAoADQABAPP/7f/z//n//f/4/+//7//0//3//P8GAAEA8v/0//3/BwADAAIA/f/x/+7/8P/w//L/+P8KABUADwAHAPr/+//7//j//f8FAAsA+f/t//D/+v8KAA8AEQANAAMAAgACAP3/8f/n/93/2//e/+b/8P/x//X/9v/4//P/6f/k/+r/8v/q//T/BQAFAAwAFAAMAAwAEQAgACsAJwAbAAwACgASABwAEQADAAEA+P/9/wgABwAHAAsADwAVAA0ABwAEAPn/9P/6//T/8f/4//v//P/6//7//P/6//X/9f/7//v/AQD3/+P/5P/p/+P/4v/q/+n/4v/t//X/8f/v//D/9v/2//L/AAAYABsAEAAQABAAFAAkAC4AJgAkACAAGwAdAB0AJgAfABoAKAAdABAACgAAAAcACgAKAAYAAwAOABAACgADAAIABAD9//j/AQAEAAoAEQAIAPr/7//0/wQABAAEAAIA6P/r//H/5f/c/9L/z//Q/+P/9P/3//L/6P/T/8f/0//b/9r/4//y//L/6//h/+T/6v/w//r/9v/w//P//v8LABcAGAASAAoAEAAUAA0AEwAWABwAHAATAAgAAAD9//n//P8MABwAJwAvAC8ALAAZAAUAAgAFAP7/8P/v//b/DgArACQAFQAZABsADQD6//T//P8AAP7/+v/v/+P/6v/3//j/8v/u//D//v8AAP3///8IAAwADAAQAAUA+v/0//L/7v/z/wMADQAMAAQA9v/k/9b/0//d/+n/+/8FABEAGwAdABsAEgAMAAcABgD8//L/7v/2/wYACgAMAAQACwANAAMAAwD//+7/8/8FAAkACQACAAQABAAFAAMA9P/j/+D/7f/+/wMA/v/0/+P/4v/j/93/5f/2/w8AGgAaABMABgAKAAAA7//u/+7/8v8CABgAJQAdABEABAAAAAAA/P8DAA4AFwAcABAAAwABAP3/+/8BAP//DQAXAA0ACAAHAAkA/v/4/wEA/P/n//H/CAAEAAMABAAAAO7/5P/y//X/7f/2////9P/x/+//4P/W/+X/7//u//z/AwACAP//AAAIAA8ADgARABAABQAJABAAFAAZABoAEwALAA0AEwAPAAgACQAOABgAJQAiAAwADQAYABQAFAAPAAgABAAFAA4AFgARABEAGAAXABcADAD6/+7/9P/8//b/6P/Y/9X/z//T/+j/9v8BAAcACAARABkAEwAWAA8A+//y/+P/1f/Y/+H/5//r/+z/8f/2//H/8f/8/wAAAgAHAAcAAAD9//3/AQALABQAIAAhABUABgD+/wQAEgATAAMA+P/p/+b/+v8NABcAEwAKAAIA+//3//v/9f/o/+X/6v/w//b/+P/s/+X/7f/u/+z/8//5/wAABwATABUAAwAFAA0ACAAMAAwAAQAHABMAEAAAAO//5P/W/+f/+v/w//H/9v8EABAABgAAAAAA/f/8/wMAAAD7//z//f/v//j/CwAOABkAIAAjABwAFgAPAAcABQALAAUA+f8BAAoAEAAJAAIABgAOABQAFgAZABwAEwAAAP3//P/7//f/+v/6//H/7//v//L/+v8FAAIA/f/9//X/6//u//z/AgALAAwAAgD6//T/+f/2/+//8P/7//7/AAAKAAcA+//4/wIAAAAAAP7/+f/9/wAA///3//P/+f8FAAMA//8AAO3/3//h/97/2P/f/+z/8//1//7/CgAAAPP/9f/5//r//f8DAAIAAAADAAAA///6//L///8HAA4AFwAVAAcA///8/wIADgATAB0AFQAPABUAGgASAAYAAwD6//j///8CAAgAEwARABgAHwAcABsAFgATABAAEAATABIAEQASAB0AGwATAB0AHgAeABQACQAKAAAA+//5//j//P/5/wIAEAAOAAoABQAFAAMA//8AAAAAAQAHAPv/5f/i/+D/5P/u/+//7P/0//n/7f/i/9j/yv/D/8//2P/Y/+L/4v/b/9v/3//p/+j/6v/s/+b/6v/z/+//3v/Z/+T/8P8FAAoA/P/4/wEA/v/s//L/9v/7/wAAAwAUABUAFgAhACoANAA4AC0AHQAYABAAAAAAAAMABAAKAA4ABAD9/wQAFAAaABMAEwAPAAgAAgD6/+v/8P/5/wMAGAAXABMAEAAVACQALQArACYAJQAhABkAEwAPABIADwD///7/AAAGABAACAAAAAAABgAGAP7/BgAOAP3/6f/o/+j/3v/Z/8//1//c/9v/4P/f//b/AQD5//b/+P/4//b/+f/v/+3/9v/7/wEA+P/z//j//v8JAB0AIAAWAAsA/v///wIAAAAHAAQABQAVAAwA+//4//n//v/+/wAAAwAEAAYADQANAAEA/f8DAAMAAgALAAoA/v/6//H/6P/j/+D/7v/7/wAAAwD1/+3/8//7//P/4P/z//3//P/9/wIAFAALAA4AFQAIAAgABwD1/+7/7P/v//z/AgAJAAgAAAD3//r/9v/0/wQAAADz//z//P/o//f/CAAAAAAACQANAA8ADwADAP3/+f/z//b/9//5//L/5v/r//3/AQADAAIA+//y/+v/9v8EAAIABAATABUAEwAXACIAIAAQAAcAAwAQABEADAAQAAoABwALABYAEgAOABUAIQAyADMAKgAdAAUA/f8BAAAACwAYABkAHwAcABMAAgD5/+3/3v/e/+L/6//2////DgAUAA0AEAAUAAoA+f/7/wYABgAKAAoABQD1//P/+v/z//v/9f/g/+3/9v/r/+n/4P/R/8v/w/+//8D/xP/N/9b/2//l//n/CwAQAA4ADwABAPj//v8GAAMA/P///wAAAAD6//P/8/8BAA8AFQAbAA4ACwAOAAkA+v/t//T/+v/4//P/9/8HABUAGgAiACQAGQAVAA4ABAAAAPf/7P/m/+z/+f8HABUAFgALAAwABQD3//P/9f/7/wAAAAD7/+3/7P/x//P//P/+/wIADgASABEAAQDz//r/BQAFAAAAAAAMABkAIQAqACYAIgAhABEABgAHAA8ACwABAPr/7f/j/+D/7f/+/wkACwANABYAIAAiABcAEQAQAAsACgAWACUALwAtACIAIgAfABMABwD7//v/AQD8/+3/5f/n//P/+//z//T//P/+//n/8//x/+v/4//j/93/zf/V/+T/4f/k/+v/7P/w////BgD7//P/5v/c/9//4v/v//3/9P/y//7/7f/d/97/4P/s//v/BgACAAAAEQATAAEA8v/p/+j/7P/5/woAFwAaABsAGgAZABoAFgAXAAYA+P/6//f//v/6//j//f8QACwAIgAgACQAHgAZAA0AEQAIAPf/9//5//n///8GAAQABQARAAwACAASAAsACgAEAPX/9P/1//b/9//8////BQAYABkAGwAeABwAHAAPAAIA+P/0//n/+P/2//T/8v/x//T/9f/v//L/7//l/+L/1f/L/8z/y//R/93/6v/1//v/AQAJABIAEgAPABEAEAAYAB8AIAAoACoAKQAmABQABwALAA0ABQABAP//+f/4/+z/7P/4//X/7v/t//n/AQAKAAsAAAD///j/7//2//b/9v///wYAEgAUAAkAAgDx/+r/8v/p/+7/BwAHAAIADgAYABsAHAAPAPr/+//7//T//f/+/wEABQABAAAA8P/l/+T/5v/y//X/7f/t/+n/4f/o/+j/8P/1//T/AAD7//r//P/u/+7/8//v//j/AwAAAPj/+/8HAAwAEwAdABwAGgAWABUAFQAbACAAJwAoACAAHAAZABUACwARABcADgAMAA0AEAAHAPn/7f/p//L/+f8AAAEAAQAOABkAFQAGAPz/8P/p//D/7//r//L/AwAVABkAHQAZAAsABAD4//v/AgAAAP//BAAKAP7/9//0//T//v8FAPj/7v/z/+j/5P/n/+X/5P/u//T/4//c/+L/6v/y//n//f/8/wAA//8AAAIA///2//L/8//9/wYA///8/wMADwATABQAFwAWABYAFwAZAB8AHgATAAwABADu/+H/3//l/97/0f/l//z///8JAAsACgAZABcACgAJAAcA//8BAP//9P/z/+z/7P/6/wcABgABAPv/8//p/93/5P/s//D/9/8AAA4AGQAaABIAGAAcABUAGgAWABcAJgArABoADAAFAAMAEgAaABQAEwAPAAwACgD1/+z/7P/0/wEA9f/2/wgAAAD//wIA9P/v//H/4v/U/+f/8f/o/+z/5//e/+3/+f/y/+v/7f/r/+D/3//f/97/7//5//b/8//x//H/7v/4////CgAZABAADAAQAAMA8/8AAA0AGQAnACIAFwAaABgADwALAAsAEwAOAAsAFgAYACMALgAvAC8AHgANAP////8EABEAIwAmACMAHQABAO//+P/r/+3///8GAAMABAAIAAQABAD5/+//9v/2//T/8//x//n/AAD9//n/7//n/+v/5f/h/+D/4v/n/+n/5//u/wEAAQADAAQAAQAAAAAAAAD/////AAAAAAAAAAD9//7/AAAAAP7///8AAAIAAAD///v/AAABAP7/AAAAAAAAAAAAAAAAAAAAAP////8CAAEAAAD///////8AAAIAAAD//wAAAAAAAAAA/////wAAAAAAAAAAAQABAAIAAAD/////AAAAAAAAAAACAAEAAAAAAP7///8AAAAAAAD/////AAD+//3//v8AAAEAAAABAAMAAAABAAIAAAAAAAAAAAAAAAAAAAABAAEAAAD//wAAAAD+/////v/9//3///8AAAAAAAABAAAAAQAAAAAAAAABAAEAAQAAAAAAAAAAAAAAAAAAAAEAAAAAAAAA//8AAP////8AAAAAAAAAAAAAAAAAAAAAAAD//wAAAAABAAEAAAAAAAAAAAAAAAAAAAAAAAAAAAAAAAAAAAAAAP//AAABAAEAAAD//wAAAAAAAAAAAAAAAAAAAAAAAAAAAAAAAAAAAAAAAAAAAAAAAAAAAAAAAAAAAAAAAAAAAAAAAAAAAAAAAAAAAAAAAAAAAAAAAAAAAAAAAAAAAAAAAAAAAAAAAAAAAAAAAAAAAAAAAAAAAAAAAAAAAAAAAAAAAAAAAAAAAAAAAAAAAAAAAAAAAAAAAAAAAAAAAAAAAAAAAAAAAAAAAAAAAAAAAAAAAAAAAAAAAAAAAAAAAAAAAAAAAAAAAAAAAAAAAAAAAAAAAAAAAAAAAAAAAAAAAAAAAAAAAAAAAAAAAAAAAAAAAAAAAAAAAAAAAAAAAAAAAAAAAAAAAAAAAAAAAAAAAAAAAAAAAAAAAAAAAAAAAAAAAAAAAAAAAAAAAAAAAAAAAAAAAAAAAAAAAAAAAAAAAAAAAAAAAAAAAAAAAAAAAAAAAAAAAAAAAAAAAAAAAAAAAAAAAAAAAAAAAAAAAAAAAAAAAAAAAAAAAAAAAAAAAAAAAAAAAAAAAAAAAAAAAAAAAAAAAAAAAAAAAAAAAAAAAAAAAAAAAAAAAAAAAAAAAAAAAAAAAAAAAAAAAAAAAAAAAAAAAAAAAAAAAAAAAAAAAAAAAAAAAAAAAAAAAAAAAAAAAAAAAAA=\" type=\"audio/wav\" />\n",
              "                    Your browser does not support the audio element.\n",
              "                </audio>\n",
              "              "
            ]
          },
          "metadata": {},
          "execution_count": 74
        }
      ]
    },
    {
      "cell_type": "code",
      "source": [
        "rand_int = random.randint(0, len(common_voice_train)-1)\n",
        "\n",
        "print(\"Target text:\", common_voice_train[rand_int][\"sentence\"])\n",
        "print(\"Input array shape:\", common_voice_train[rand_int][\"audio\"][\"array\"].shape)\n",
        "print(\"Sampling rate:\", common_voice_train[rand_int][\"audio\"][\"sampling_rate\"])"
      ],
      "metadata": {
        "colab": {
          "base_uri": "https://localhost:8080/"
        },
        "id": "Qu1KVlCMYIRO",
        "outputId": "88be8d9c-b608-4db1-ffe9-e688c39565bf"
      },
      "execution_count": 75,
      "outputs": [
        {
          "output_type": "stream",
          "name": "stdout",
          "text": [
            "Target text: chứ không phải là hà ni \n",
            "Input array shape: (44928,)\n",
            "Sampling rate: 16000\n"
          ]
        }
      ]
    },
    {
      "cell_type": "code",
      "source": [
        "from transformers import AutoFeatureExtractor\n",
        "\n",
        "feature_extractor = AutoFeatureExtractor.from_pretrained(model_checkpoint)"
      ],
      "metadata": {
        "id": "GyNimUmsYM4T"
      },
      "execution_count": 76,
      "outputs": []
    },
    {
      "cell_type": "code",
      "source": [
        "from transformers import Wav2Vec2Processor\n",
        "\n",
        "processor = Wav2Vec2Processor(feature_extractor=feature_extractor, tokenizer=tokenizer)"
      ],
      "metadata": {
        "id": "CAd40A75YQse"
      },
      "execution_count": 77,
      "outputs": []
    },
    {
      "cell_type": "code",
      "source": [
        "def prepare_dataset(batch):\n",
        "    audio = batch[\"audio\"]\n",
        "\n",
        "    # batched output is \"un-batched\"\n",
        "    batch[\"input_values\"] = processor(audio[\"array\"], sampling_rate=audio[\"sampling_rate\"]).input_values[0]\n",
        "    batch[\"input_length\"] = len(batch[\"input_values\"])\n",
        "\n",
        "    with processor.as_target_processor():\n",
        "        batch[\"labels\"] = processor(batch[\"sentence\"]).input_ids\n",
        "    return batch"
      ],
      "metadata": {
        "id": "L8jRuILwYTh9"
      },
      "execution_count": 78,
      "outputs": []
    },
    {
      "cell_type": "code",
      "source": [
        "common_voice_train = common_voice_train.map(prepare_dataset, remove_columns=common_voice_train.column_names)\n",
        "common_voice_test = common_voice_test.map(prepare_dataset, remove_columns=common_voice_test.column_names)"
      ],
      "metadata": {
        "id": "oKp3lq39YW-1"
      },
      "execution_count": 79,
      "outputs": []
    },
    {
      "cell_type": "code",
      "source": [
        "max_input_length_in_sec = 10.0\n",
        "common_voice_train = common_voice_train.filter(lambda x: x < max_input_length_in_sec * processor.feature_extractor.sampling_rate, input_columns=[\"input_length\"])"
      ],
      "metadata": {
        "colab": {
          "base_uri": "https://localhost:8080/",
          "height": 49,
          "referenced_widgets": [
            "436152db933049eeb7e30484b70ee1d3",
            "60f4b748f2534310ad48506c5c751bc9",
            "129591cb6852440892cf234c32bdeaf8",
            "bf62b90973724da4b6db51279cf38fee",
            "7c60c2c79c0543fc88f9561d4ff42e29",
            "d3736d7d46e74c7e93d0fccd9c34e97c",
            "d9cc11e27e894d2f83a010e34f9f82da",
            "843650f9245441a093467287ebd05833",
            "8a7c0baff02044b5b79fbf01c3202c1b",
            "8c43d59ff61744b5bcf678852e12d7de",
            "50a839c9644943f58910dd90ba3fc01c"
          ]
        },
        "id": "j-a8FgkIYidl",
        "outputId": "f70ab624-d0ac-4f92-ecdb-ba2e1faa42a0"
      },
      "execution_count": 80,
      "outputs": [
        {
          "output_type": "display_data",
          "data": {
            "text/plain": [
              "Filter:   0%|          | 0/2939 [00:00<?, ? examples/s]"
            ],
            "application/vnd.jupyter.widget-view+json": {
              "version_major": 2,
              "version_minor": 0,
              "model_id": "436152db933049eeb7e30484b70ee1d3"
            }
          },
          "metadata": {}
        }
      ]
    },
    {
      "cell_type": "code",
      "source": [
        "import torch\n",
        "\n",
        "from dataclasses import dataclass, field\n",
        "from typing import Any, Dict, List, Optional, Union\n",
        "\n",
        "@dataclass\n",
        "class DataCollatorCTCWithPadding:\n",
        "    \"\"\"\n",
        "    Data collator that will dynamically pad the inputs received.\n",
        "    Args:\n",
        "        processor (:class:`~transformers.Wav2Vec2Processor`)\n",
        "            The processor used for proccessing the data.\n",
        "        padding (:obj:`bool`, :obj:`str` or :class:`~transformers.tokenization_utils_base.PaddingStrategy`, `optional`, defaults to :obj:`True`):\n",
        "            Select a strategy to pad the returned sequences (according to the model's padding side and padding index)\n",
        "            among:\n",
        "            * :obj:`True` or :obj:`'longest'`: Pad to the longest sequence in the batch (or no padding if only a single\n",
        "              sequence if provided).\n",
        "            * :obj:`'max_length'`: Pad to a maximum length specified with the argument :obj:`max_length` or to the\n",
        "              maximum acceptable input length for the model if that argument is not provided.\n",
        "            * :obj:`False` or :obj:`'do_not_pad'` (default): No padding (i.e., can output a batch with sequences of\n",
        "              different lengths).\n",
        "        max_length (:obj:`int`, `optional`):\n",
        "            Maximum length of the ``input_values`` of the returned list and optionally padding length (see above).\n",
        "        max_length_labels (:obj:`int`, `optional`):\n",
        "            Maximum length of the ``labels`` returned list and optionally padding length (see above).\n",
        "        pad_to_multiple_of (:obj:`int`, `optional`):\n",
        "            If set will pad the sequence to a multiple of the provided value.\n",
        "            This is especially useful to enable the use of Tensor Cores on NVIDIA hardware with compute capability >=\n",
        "            7.5 (Volta).\n",
        "    \"\"\"\n",
        "\n",
        "    processor: Wav2Vec2Processor\n",
        "    padding: Union[bool, str] = True\n",
        "    max_length: Optional[int] = None\n",
        "    max_length_labels: Optional[int] = None\n",
        "    pad_to_multiple_of: Optional[int] = None\n",
        "    pad_to_multiple_of_labels: Optional[int] = None\n",
        "\n",
        "    def __call__(self, features: List[Dict[str, Union[List[int], torch.Tensor]]]) -> Dict[str, torch.Tensor]:\n",
        "        # split inputs and labels since they have to be of different lenghts and need\n",
        "        # different padding methods\n",
        "        input_features = [{\"input_values\": feature[\"input_values\"]} for feature in features]\n",
        "        label_features = [{\"input_ids\": feature[\"labels\"]} for feature in features]\n",
        "\n",
        "        batch = self.processor.pad(\n",
        "            input_features,\n",
        "            padding=self.padding,\n",
        "            max_length=self.max_length,\n",
        "            pad_to_multiple_of=self.pad_to_multiple_of,\n",
        "            return_tensors=\"pt\",\n",
        "        )\n",
        "        with self.processor.as_target_processor():\n",
        "            labels_batch = self.processor.pad(\n",
        "                label_features,\n",
        "                padding=self.padding,\n",
        "                max_length=self.max_length_labels,\n",
        "                pad_to_multiple_of=self.pad_to_multiple_of_labels,\n",
        "                return_tensors=\"pt\",\n",
        "            )\n",
        "\n",
        "        # replace padding with -100 to ignore loss correctly\n",
        "        labels = labels_batch[\"input_ids\"].masked_fill(labels_batch.attention_mask.ne(1), -100)\n",
        "\n",
        "        batch[\"labels\"] = labels\n",
        "\n",
        "        return batch"
      ],
      "metadata": {
        "id": "9xJOBo_uYnJc"
      },
      "execution_count": 81,
      "outputs": []
    },
    {
      "cell_type": "code",
      "source": [
        "data_collator = DataCollatorCTCWithPadding(processor=processor, padding=True)"
      ],
      "metadata": {
        "id": "-hvBEl5MYqj7"
      },
      "execution_count": 82,
      "outputs": []
    },
    {
      "cell_type": "code",
      "source": [
        "!pip install evaluate\n",
        "\n"
      ],
      "metadata": {
        "colab": {
          "base_uri": "https://localhost:8080/"
        },
        "collapsed": true,
        "id": "QS_1t22lYtD_",
        "outputId": "534ee9cf-a390-4b5d-c6d6-b55209922fef"
      },
      "execution_count": 83,
      "outputs": [
        {
          "output_type": "stream",
          "name": "stdout",
          "text": [
            "Requirement already satisfied: evaluate in /usr/local/lib/python3.11/dist-packages (0.4.3)\n",
            "Requirement already satisfied: datasets>=2.0.0 in /usr/local/lib/python3.11/dist-packages (from evaluate) (3.3.2)\n",
            "Requirement already satisfied: numpy>=1.17 in /usr/local/lib/python3.11/dist-packages (from evaluate) (1.26.4)\n",
            "Requirement already satisfied: dill in /usr/local/lib/python3.11/dist-packages (from evaluate) (0.3.8)\n",
            "Requirement already satisfied: pandas in /usr/local/lib/python3.11/dist-packages (from evaluate) (2.2.2)\n",
            "Requirement already satisfied: requests>=2.19.0 in /usr/local/lib/python3.11/dist-packages (from evaluate) (2.32.3)\n",
            "Requirement already satisfied: tqdm>=4.62.1 in /usr/local/lib/python3.11/dist-packages (from evaluate) (4.67.1)\n",
            "Requirement already satisfied: xxhash in /usr/local/lib/python3.11/dist-packages (from evaluate) (3.5.0)\n",
            "Requirement already satisfied: multiprocess in /usr/local/lib/python3.11/dist-packages (from evaluate) (0.70.16)\n",
            "Requirement already satisfied: fsspec>=2021.05.0 in /usr/local/lib/python3.11/dist-packages (from fsspec[http]>=2021.05.0->evaluate) (2024.10.0)\n",
            "Requirement already satisfied: huggingface-hub>=0.7.0 in /usr/local/lib/python3.11/dist-packages (from evaluate) (0.28.1)\n",
            "Requirement already satisfied: packaging in /usr/local/lib/python3.11/dist-packages (from evaluate) (24.2)\n",
            "Requirement already satisfied: filelock in /usr/local/lib/python3.11/dist-packages (from datasets>=2.0.0->evaluate) (3.17.0)\n",
            "Requirement already satisfied: pyarrow>=15.0.0 in /usr/local/lib/python3.11/dist-packages (from datasets>=2.0.0->evaluate) (17.0.0)\n",
            "Requirement already satisfied: aiohttp in /usr/local/lib/python3.11/dist-packages (from datasets>=2.0.0->evaluate) (3.11.12)\n",
            "Requirement already satisfied: pyyaml>=5.1 in /usr/local/lib/python3.11/dist-packages (from datasets>=2.0.0->evaluate) (6.0.2)\n",
            "Requirement already satisfied: typing-extensions>=3.7.4.3 in /usr/local/lib/python3.11/dist-packages (from huggingface-hub>=0.7.0->evaluate) (4.12.2)\n",
            "Requirement already satisfied: charset-normalizer<4,>=2 in /usr/local/lib/python3.11/dist-packages (from requests>=2.19.0->evaluate) (3.4.1)\n",
            "Requirement already satisfied: idna<4,>=2.5 in /usr/local/lib/python3.11/dist-packages (from requests>=2.19.0->evaluate) (3.10)\n",
            "Requirement already satisfied: urllib3<3,>=1.21.1 in /usr/local/lib/python3.11/dist-packages (from requests>=2.19.0->evaluate) (2.3.0)\n",
            "Requirement already satisfied: certifi>=2017.4.17 in /usr/local/lib/python3.11/dist-packages (from requests>=2.19.0->evaluate) (2025.1.31)\n",
            "Requirement already satisfied: python-dateutil>=2.8.2 in /usr/local/lib/python3.11/dist-packages (from pandas->evaluate) (2.8.2)\n",
            "Requirement already satisfied: pytz>=2020.1 in /usr/local/lib/python3.11/dist-packages (from pandas->evaluate) (2025.1)\n",
            "Requirement already satisfied: tzdata>=2022.7 in /usr/local/lib/python3.11/dist-packages (from pandas->evaluate) (2025.1)\n",
            "Requirement already satisfied: aiohappyeyeballs>=2.3.0 in /usr/local/lib/python3.11/dist-packages (from aiohttp->datasets>=2.0.0->evaluate) (2.4.6)\n",
            "Requirement already satisfied: aiosignal>=1.1.2 in /usr/local/lib/python3.11/dist-packages (from aiohttp->datasets>=2.0.0->evaluate) (1.3.2)\n",
            "Requirement already satisfied: attrs>=17.3.0 in /usr/local/lib/python3.11/dist-packages (from aiohttp->datasets>=2.0.0->evaluate) (25.1.0)\n",
            "Requirement already satisfied: frozenlist>=1.1.1 in /usr/local/lib/python3.11/dist-packages (from aiohttp->datasets>=2.0.0->evaluate) (1.5.0)\n",
            "Requirement already satisfied: multidict<7.0,>=4.5 in /usr/local/lib/python3.11/dist-packages (from aiohttp->datasets>=2.0.0->evaluate) (6.1.0)\n",
            "Requirement already satisfied: propcache>=0.2.0 in /usr/local/lib/python3.11/dist-packages (from aiohttp->datasets>=2.0.0->evaluate) (0.2.1)\n",
            "Requirement already satisfied: yarl<2.0,>=1.17.0 in /usr/local/lib/python3.11/dist-packages (from aiohttp->datasets>=2.0.0->evaluate) (1.18.3)\n",
            "Requirement already satisfied: six>=1.5 in /usr/local/lib/python3.11/dist-packages (from python-dateutil>=2.8.2->pandas->evaluate) (1.17.0)\n"
          ]
        }
      ]
    },
    {
      "cell_type": "code",
      "source": [
        "import evaluate"
      ],
      "metadata": {
        "id": "dhk8J1lJZOVh"
      },
      "execution_count": 84,
      "outputs": []
    },
    {
      "cell_type": "code",
      "source": [
        "  wer_metric = evaluate.load(\"wer\")"
      ],
      "metadata": {
        "id": "CvZiTddaZV5f"
      },
      "execution_count": 85,
      "outputs": []
    },
    {
      "cell_type": "code",
      "source": [
        "def compute_metrics(pred):\n",
        "    pred_logits = pred.predictions\n",
        "    pred_ids = np.argmax(pred_logits, axis=-1)\n",
        "\n",
        "    pred.label_ids[pred.label_ids == -100] = processor.tokenizer.pad_token_id\n",
        "\n",
        "    pred_str = processor.batch_decode(pred_ids)\n",
        "    # we do not want to group tokens when computing the metrics\n",
        "    label_str = processor.batch_decode(pred.label_ids, group_tokens=False)\n",
        "\n",
        "    wer = wer_metric.compute(predictions=pred_str, references=label_str)\n",
        "\n",
        "    return {\"wer\": wer}"
      ],
      "metadata": {
        "id": "ayi0TVvhZTzz"
      },
      "execution_count": 86,
      "outputs": []
    },
    {
      "cell_type": "code",
      "source": [
        "from transformers import AutoModelForCTC\n",
        "\n",
        "model = AutoModelForCTC.from_pretrained(\n",
        "    model_checkpoint,\n",
        "    attention_dropout=0.1,\n",
        "    hidden_dropout=0.1,\n",
        "    feat_proj_dropout=0.0,\n",
        "    mask_time_prob=0.05,\n",
        "    layerdrop=0.1,\n",
        "    ctc_loss_reduction=\"mean\",\n",
        "    pad_token_id=processor.tokenizer.pad_token_id,\n",
        "    vocab_size=len(processor.tokenizer)\n",
        ")"
      ],
      "metadata": {
        "colab": {
          "base_uri": "https://localhost:8080/"
        },
        "id": "6sMbewXeZeTa",
        "outputId": "5b1d904d-7484-4faf-cda5-870bb5a7bcbc"
      },
      "execution_count": 87,
      "outputs": [
        {
          "output_type": "stream",
          "name": "stderr",
          "text": [
            "Some weights of Wav2Vec2ForCTC were not initialized from the model checkpoint at facebook/wav2vec2-large-xlsr-53 and are newly initialized: ['lm_head.bias', 'lm_head.weight']\n",
            "You should probably TRAIN this model on a down-stream task to be able to use it for predictions and inference.\n"
          ]
        }
      ]
    },
    {
      "cell_type": "code",
      "source": [
        "if hasattr(model, \"freeze_feature_extractor\"):\n",
        "  model.freeze_feature_extractor()"
      ],
      "metadata": {
        "colab": {
          "base_uri": "https://localhost:8080/"
        },
        "id": "IaIe4TkKZiev",
        "outputId": "81451bb5-0cc4-400a-a64a-5ccd521c6ddf"
      },
      "execution_count": 88,
      "outputs": [
        {
          "output_type": "stream",
          "name": "stderr",
          "text": [
            "/usr/local/lib/python3.11/dist-packages/transformers/models/wav2vec2/modeling_wav2vec2.py:2176: FutureWarning: The method `freeze_feature_extractor` is deprecated and will be removed in Transformers v5. Please use the equivalent `freeze_feature_encoder` method instead.\n",
            "  warnings.warn(\n"
          ]
        }
      ]
    },
    {
      "cell_type": "code",
      "source": [
        "from transformers import TrainingArguments\n",
        "\n",
        "training_args = TrainingArguments(\n",
        "  output_dir=repo_name,\n",
        "  group_by_length=True,\n",
        "  per_device_train_batch_size=batch_size,\n",
        "  gradient_accumulation_steps=2,\n",
        "  evaluation_strategy=\"steps\",\n",
        "  num_train_epochs=30,\n",
        "  gradient_checkpointing=True,\n",
        "  fp16=True,\n",
        "  save_steps=400,\n",
        "  eval_steps=400,\n",
        "  logging_steps=400,\n",
        "  learning_rate=3e-4,\n",
        "  warmup_steps=500,\n",
        "  save_total_limit=2,\n",
        "  push_to_hub=True,\n",
        ")"
      ],
      "metadata": {
        "colab": {
          "base_uri": "https://localhost:8080/"
        },
        "id": "zOlLah25Zl-4",
        "outputId": "ba7b75ae-a952-4be5-e613-833e5d13c2bb"
      },
      "execution_count": 89,
      "outputs": [
        {
          "output_type": "stream",
          "name": "stderr",
          "text": [
            "/usr/local/lib/python3.11/dist-packages/transformers/training_args.py:1575: FutureWarning: `evaluation_strategy` is deprecated and will be removed in version 4.46 of 🤗 Transformers. Use `eval_strategy` instead\n",
            "  warnings.warn(\n"
          ]
        }
      ]
    },
    {
      "cell_type": "code",
      "source": [
        "from transformers import Trainer\n",
        "\n",
        "trainer = Trainer(\n",
        "    model=model,\n",
        "    data_collator=data_collator,\n",
        "    args=training_args,\n",
        "    compute_metrics=compute_metrics,\n",
        "    train_dataset=common_voice_train,\n",
        "    eval_dataset=common_voice_test,\n",
        "    tokenizer=processor.feature_extractor,\n",
        ")"
      ],
      "metadata": {
        "colab": {
          "base_uri": "https://localhost:8080/"
        },
        "id": "s8B8BN2yZzN5",
        "outputId": "4d8e4089-2e4f-41a6-b4c7-56ff349ec567"
      },
      "execution_count": 90,
      "outputs": [
        {
          "output_type": "stream",
          "name": "stderr",
          "text": [
            "<ipython-input-90-ec2c74f250fd>:3: FutureWarning: `tokenizer` is deprecated and will be removed in version 5.0.0 for `Trainer.__init__`. Use `processing_class` instead.\n",
            "  trainer = Trainer(\n"
          ]
        }
      ]
    },
    {
      "cell_type": "code",
      "source": [
        "trainer.train()"
      ],
      "metadata": {
        "colab": {
          "base_uri": "https://localhost:8080/",
          "height": 769
        },
        "id": "U1NfY6eGZ5Iv",
        "outputId": "bd6f6a9e-1af3-48f7-fa13-86550591ab50"
      },
      "execution_count": 91,
      "outputs": [
        {
          "output_type": "stream",
          "name": "stderr",
          "text": [
            "/usr/local/lib/python3.11/dist-packages/transformers/models/wav2vec2/processing_wav2vec2.py:174: UserWarning: `as_target_processor` is deprecated and will be removed in v5 of Transformers. You can process your labels by using the argument `text` of the regular `__call__` method (either in the same call as your audio inputs, or in a separate call.\n",
            "  warnings.warn(\n"
          ]
        },
        {
          "output_type": "display_data",
          "data": {
            "text/plain": [
              "<IPython.core.display.HTML object>"
            ],
            "text/html": [
              "\n",
              "    <div>\n",
              "      \n",
              "      <progress value='2760' max='2760' style='width:300px; height:20px; vertical-align: middle;'></progress>\n",
              "      [2760/2760 2:17:45, Epoch 30/30]\n",
              "    </div>\n",
              "    <table border=\"1\" class=\"dataframe\">\n",
              "  <thead>\n",
              " <tr style=\"text-align: left;\">\n",
              "      <th>Step</th>\n",
              "      <th>Training Loss</th>\n",
              "      <th>Validation Loss</th>\n",
              "      <th>Wer</th>\n",
              "    </tr>\n",
              "  </thead>\n",
              "  <tbody>\n",
              "    <tr>\n",
              "      <td>400</td>\n",
              "      <td>8.910000</td>\n",
              "      <td>3.494872</td>\n",
              "      <td>1.000000</td>\n",
              "    </tr>\n",
              "    <tr>\n",
              "      <td>800</td>\n",
              "      <td>2.915700</td>\n",
              "      <td>1.298718</td>\n",
              "      <td>0.920478</td>\n",
              "    </tr>\n",
              "    <tr>\n",
              "      <td>1200</td>\n",
              "      <td>0.534600</td>\n",
              "      <td>1.029718</td>\n",
              "      <td>0.677196</td>\n",
              "    </tr>\n",
              "    <tr>\n",
              "      <td>1600</td>\n",
              "      <td>0.273500</td>\n",
              "      <td>0.994845</td>\n",
              "      <td>0.620270</td>\n",
              "    </tr>\n",
              "    <tr>\n",
              "      <td>2000</td>\n",
              "      <td>0.187200</td>\n",
              "      <td>1.029306</td>\n",
              "      <td>0.586377</td>\n",
              "    </tr>\n",
              "    <tr>\n",
              "      <td>2400</td>\n",
              "      <td>0.141500</td>\n",
              "      <td>1.058082</td>\n",
              "      <td>0.573983</td>\n",
              "    </tr>\n",
              "  </tbody>\n",
              "</table><p>"
            ]
          },
          "metadata": {}
        },
        {
          "output_type": "stream",
          "name": "stderr",
          "text": [
            "Trainer.tokenizer is now deprecated. You should use Trainer.processing_class instead.\n",
            "Trainer.tokenizer is now deprecated. You should use Trainer.processing_class instead.\n",
            "/usr/local/lib/python3.11/dist-packages/transformers/models/wav2vec2/processing_wav2vec2.py:174: UserWarning: `as_target_processor` is deprecated and will be removed in v5 of Transformers. You can process your labels by using the argument `text` of the regular `__call__` method (either in the same call as your audio inputs, or in a separate call.\n",
            "  warnings.warn(\n",
            "Trainer.tokenizer is now deprecated. You should use Trainer.processing_class instead.\n",
            "Trainer.tokenizer is now deprecated. You should use Trainer.processing_class instead.\n",
            "/usr/local/lib/python3.11/dist-packages/transformers/models/wav2vec2/processing_wav2vec2.py:174: UserWarning: `as_target_processor` is deprecated and will be removed in v5 of Transformers. You can process your labels by using the argument `text` of the regular `__call__` method (either in the same call as your audio inputs, or in a separate call.\n",
            "  warnings.warn(\n",
            "Trainer.tokenizer is now deprecated. You should use Trainer.processing_class instead.\n",
            "Trainer.tokenizer is now deprecated. You should use Trainer.processing_class instead.\n",
            "/usr/local/lib/python3.11/dist-packages/transformers/models/wav2vec2/processing_wav2vec2.py:174: UserWarning: `as_target_processor` is deprecated and will be removed in v5 of Transformers. You can process your labels by using the argument `text` of the regular `__call__` method (either in the same call as your audio inputs, or in a separate call.\n",
            "  warnings.warn(\n",
            "Trainer.tokenizer is now deprecated. You should use Trainer.processing_class instead.\n",
            "Trainer.tokenizer is now deprecated. You should use Trainer.processing_class instead.\n",
            "/usr/local/lib/python3.11/dist-packages/transformers/models/wav2vec2/processing_wav2vec2.py:174: UserWarning: `as_target_processor` is deprecated and will be removed in v5 of Transformers. You can process your labels by using the argument `text` of the regular `__call__` method (either in the same call as your audio inputs, or in a separate call.\n",
            "  warnings.warn(\n",
            "Trainer.tokenizer is now deprecated. You should use Trainer.processing_class instead.\n",
            "Trainer.tokenizer is now deprecated. You should use Trainer.processing_class instead.\n",
            "/usr/local/lib/python3.11/dist-packages/transformers/models/wav2vec2/processing_wav2vec2.py:174: UserWarning: `as_target_processor` is deprecated and will be removed in v5 of Transformers. You can process your labels by using the argument `text` of the regular `__call__` method (either in the same call as your audio inputs, or in a separate call.\n",
            "  warnings.warn(\n",
            "Trainer.tokenizer is now deprecated. You should use Trainer.processing_class instead.\n",
            "Trainer.tokenizer is now deprecated. You should use Trainer.processing_class instead.\n",
            "/usr/local/lib/python3.11/dist-packages/transformers/models/wav2vec2/processing_wav2vec2.py:174: UserWarning: `as_target_processor` is deprecated and will be removed in v5 of Transformers. You can process your labels by using the argument `text` of the regular `__call__` method (either in the same call as your audio inputs, or in a separate call.\n",
            "  warnings.warn(\n"
          ]
        },
        {
          "output_type": "execute_result",
          "data": {
            "text/plain": [
              "TrainOutput(global_step=2760, training_loss=1.8948950698410256, metrics={'train_runtime': 8270.0974, 'train_samples_per_second': 10.661, 'train_steps_per_second': 0.334, 'total_flos': 1.177342743567614e+19, 'train_loss': 1.8948950698410256, 'epoch': 30.0})"
            ]
          },
          "metadata": {},
          "execution_count": 91
        }
      ]
    },
    {
      "cell_type": "code",
      "source": [
        "trainer.push_to_hub()"
      ],
      "metadata": {
        "colab": {
          "base_uri": "https://localhost:8080/",
          "height": 86
        },
        "id": "bWfL7pqLtjKl",
        "outputId": "2283e790-e3d4-4f9f-b1f3-88d587ef209e"
      },
      "execution_count": 92,
      "outputs": [
        {
          "output_type": "execute_result",
          "data": {
            "text/plain": [
              "CommitInfo(commit_url='https://huggingface.co/ginpham614/wav2vec2-large-xlsr-53-vietnamese-finetuned-demo-colab/commit/ca383b44226774850ceab0607a78ae2f1412571b', commit_message='End of training', commit_description='', oid='ca383b44226774850ceab0607a78ae2f1412571b', pr_url=None, repo_url=RepoUrl('https://huggingface.co/ginpham614/wav2vec2-large-xlsr-53-vietnamese-finetuned-demo-colab', endpoint='https://huggingface.co', repo_type='model', repo_id='ginpham614/wav2vec2-large-xlsr-53-vietnamese-finetuned-demo-colab'), pr_revision=None, pr_num=None)"
            ],
            "application/vnd.google.colaboratory.intrinsic+json": {
              "type": "string"
            }
          },
          "metadata": {},
          "execution_count": 92
        }
      ]
    }
  ],
  "metadata": {
    "colab": {
      "gpuType": "T4",
      "provenance": [],
      "authorship_tag": "ABX9TyOdY/yLy7jRMksn4XRfu/hD",
      "include_colab_link": true
    },
    "kernelspec": {
      "display_name": "Python 3",
      "name": "python3"
    },
    "language_info": {
      "name": "python"
    },
    "widgets": {
      "application/vnd.jupyter.widget-state+json": {
        "03ae3ff7d4dc4b0ab1af5e704b89fd51": {
          "model_module": "@jupyter-widgets/controls",
          "model_name": "VBoxModel",
          "model_module_version": "1.5.0",
          "state": {
            "_dom_classes": [],
            "_model_module": "@jupyter-widgets/controls",
            "_model_module_version": "1.5.0",
            "_model_name": "VBoxModel",
            "_view_count": null,
            "_view_module": "@jupyter-widgets/controls",
            "_view_module_version": "1.5.0",
            "_view_name": "VBoxView",
            "box_style": "",
            "children": [],
            "layout": "IPY_MODEL_12a1ccce015146b193b9dabfe4e35868"
          }
        },
        "517be453979449eab24a29b089eacbe1": {
          "model_module": "@jupyter-widgets/controls",
          "model_name": "HTMLModel",
          "model_module_version": "1.5.0",
          "state": {
            "_dom_classes": [],
            "_model_module": "@jupyter-widgets/controls",
            "_model_module_version": "1.5.0",
            "_model_name": "HTMLModel",
            "_view_count": null,
            "_view_module": "@jupyter-widgets/controls",
            "_view_module_version": "1.5.0",
            "_view_name": "HTMLView",
            "description": "",
            "description_tooltip": null,
            "layout": "IPY_MODEL_561b13c6ef714a6994cccdad60c8301e",
            "placeholder": "​",
            "style": "IPY_MODEL_a82fd562a8b04323bd17104eb9f3fd46",
            "value": "<center> <img\nsrc=https://huggingface.co/front/assets/huggingface_logo-noborder.svg\nalt='Hugging Face'> <br> Copy a token from <a\nhref=\"https://huggingface.co/settings/tokens\" target=\"_blank\">your Hugging Face\ntokens page</a> and paste it below. <br> Immediately click login after copying\nyour token or it might be stored in plain text in this notebook file. </center>"
          }
        },
        "876886373c5a498caf2195e97888378b": {
          "model_module": "@jupyter-widgets/controls",
          "model_name": "PasswordModel",
          "model_module_version": "1.5.0",
          "state": {
            "_dom_classes": [],
            "_model_module": "@jupyter-widgets/controls",
            "_model_module_version": "1.5.0",
            "_model_name": "PasswordModel",
            "_view_count": null,
            "_view_module": "@jupyter-widgets/controls",
            "_view_module_version": "1.5.0",
            "_view_name": "PasswordView",
            "continuous_update": true,
            "description": "Token:",
            "description_tooltip": null,
            "disabled": false,
            "layout": "IPY_MODEL_3430650c175a402d949bf03c05c7175f",
            "placeholder": "​",
            "style": "IPY_MODEL_97b07afc7c9944eea0ec6f8baae14022",
            "value": ""
          }
        },
        "2cdd71102f174ab4948a8c2be42677d3": {
          "model_module": "@jupyter-widgets/controls",
          "model_name": "CheckboxModel",
          "model_module_version": "1.5.0",
          "state": {
            "_dom_classes": [],
            "_model_module": "@jupyter-widgets/controls",
            "_model_module_version": "1.5.0",
            "_model_name": "CheckboxModel",
            "_view_count": null,
            "_view_module": "@jupyter-widgets/controls",
            "_view_module_version": "1.5.0",
            "_view_name": "CheckboxView",
            "description": "Add token as git credential?",
            "description_tooltip": null,
            "disabled": false,
            "indent": true,
            "layout": "IPY_MODEL_3bc99916b3db41a995c543f730d6b1a0",
            "style": "IPY_MODEL_673e5da2729a4e29b83a02ba67f186ff",
            "value": true
          }
        },
        "fadbf611d27249d3a04418c8cb0208b1": {
          "model_module": "@jupyter-widgets/controls",
          "model_name": "ButtonModel",
          "model_module_version": "1.5.0",
          "state": {
            "_dom_classes": [],
            "_model_module": "@jupyter-widgets/controls",
            "_model_module_version": "1.5.0",
            "_model_name": "ButtonModel",
            "_view_count": null,
            "_view_module": "@jupyter-widgets/controls",
            "_view_module_version": "1.5.0",
            "_view_name": "ButtonView",
            "button_style": "",
            "description": "Login",
            "disabled": false,
            "icon": "",
            "layout": "IPY_MODEL_4634b02316a04029aad22784ddf9c9a5",
            "style": "IPY_MODEL_43b31b899e2249eaa1518309ae125dfe",
            "tooltip": ""
          }
        },
        "a0d572a613e84e2fa7557c355aeec9e8": {
          "model_module": "@jupyter-widgets/controls",
          "model_name": "HTMLModel",
          "model_module_version": "1.5.0",
          "state": {
            "_dom_classes": [],
            "_model_module": "@jupyter-widgets/controls",
            "_model_module_version": "1.5.0",
            "_model_name": "HTMLModel",
            "_view_count": null,
            "_view_module": "@jupyter-widgets/controls",
            "_view_module_version": "1.5.0",
            "_view_name": "HTMLView",
            "description": "",
            "description_tooltip": null,
            "layout": "IPY_MODEL_6c05b3b0a61b4483a1d6385e22df8c55",
            "placeholder": "​",
            "style": "IPY_MODEL_15c9a7620c53481bb317efe9c1a7c55c",
            "value": "\n<b>Pro Tip:</b> If you don't already have one, you can create a dedicated\n'notebooks' token with 'write' access, that you can then easily reuse for all\nnotebooks. </center>"
          }
        },
        "12a1ccce015146b193b9dabfe4e35868": {
          "model_module": "@jupyter-widgets/base",
          "model_name": "LayoutModel",
          "model_module_version": "1.2.0",
          "state": {
            "_model_module": "@jupyter-widgets/base",
            "_model_module_version": "1.2.0",
            "_model_name": "LayoutModel",
            "_view_count": null,
            "_view_module": "@jupyter-widgets/base",
            "_view_module_version": "1.2.0",
            "_view_name": "LayoutView",
            "align_content": null,
            "align_items": "center",
            "align_self": null,
            "border": null,
            "bottom": null,
            "display": "flex",
            "flex": null,
            "flex_flow": "column",
            "grid_area": null,
            "grid_auto_columns": null,
            "grid_auto_flow": null,
            "grid_auto_rows": null,
            "grid_column": null,
            "grid_gap": null,
            "grid_row": null,
            "grid_template_areas": null,
            "grid_template_columns": null,
            "grid_template_rows": null,
            "height": null,
            "justify_content": null,
            "justify_items": null,
            "left": null,
            "margin": null,
            "max_height": null,
            "max_width": null,
            "min_height": null,
            "min_width": null,
            "object_fit": null,
            "object_position": null,
            "order": null,
            "overflow": null,
            "overflow_x": null,
            "overflow_y": null,
            "padding": null,
            "right": null,
            "top": null,
            "visibility": null,
            "width": "50%"
          }
        },
        "561b13c6ef714a6994cccdad60c8301e": {
          "model_module": "@jupyter-widgets/base",
          "model_name": "LayoutModel",
          "model_module_version": "1.2.0",
          "state": {
            "_model_module": "@jupyter-widgets/base",
            "_model_module_version": "1.2.0",
            "_model_name": "LayoutModel",
            "_view_count": null,
            "_view_module": "@jupyter-widgets/base",
            "_view_module_version": "1.2.0",
            "_view_name": "LayoutView",
            "align_content": null,
            "align_items": null,
            "align_self": null,
            "border": null,
            "bottom": null,
            "display": null,
            "flex": null,
            "flex_flow": null,
            "grid_area": null,
            "grid_auto_columns": null,
            "grid_auto_flow": null,
            "grid_auto_rows": null,
            "grid_column": null,
            "grid_gap": null,
            "grid_row": null,
            "grid_template_areas": null,
            "grid_template_columns": null,
            "grid_template_rows": null,
            "height": null,
            "justify_content": null,
            "justify_items": null,
            "left": null,
            "margin": null,
            "max_height": null,
            "max_width": null,
            "min_height": null,
            "min_width": null,
            "object_fit": null,
            "object_position": null,
            "order": null,
            "overflow": null,
            "overflow_x": null,
            "overflow_y": null,
            "padding": null,
            "right": null,
            "top": null,
            "visibility": null,
            "width": null
          }
        },
        "a82fd562a8b04323bd17104eb9f3fd46": {
          "model_module": "@jupyter-widgets/controls",
          "model_name": "DescriptionStyleModel",
          "model_module_version": "1.5.0",
          "state": {
            "_model_module": "@jupyter-widgets/controls",
            "_model_module_version": "1.5.0",
            "_model_name": "DescriptionStyleModel",
            "_view_count": null,
            "_view_module": "@jupyter-widgets/base",
            "_view_module_version": "1.2.0",
            "_view_name": "StyleView",
            "description_width": ""
          }
        },
        "3430650c175a402d949bf03c05c7175f": {
          "model_module": "@jupyter-widgets/base",
          "model_name": "LayoutModel",
          "model_module_version": "1.2.0",
          "state": {
            "_model_module": "@jupyter-widgets/base",
            "_model_module_version": "1.2.0",
            "_model_name": "LayoutModel",
            "_view_count": null,
            "_view_module": "@jupyter-widgets/base",
            "_view_module_version": "1.2.0",
            "_view_name": "LayoutView",
            "align_content": null,
            "align_items": null,
            "align_self": null,
            "border": null,
            "bottom": null,
            "display": null,
            "flex": null,
            "flex_flow": null,
            "grid_area": null,
            "grid_auto_columns": null,
            "grid_auto_flow": null,
            "grid_auto_rows": null,
            "grid_column": null,
            "grid_gap": null,
            "grid_row": null,
            "grid_template_areas": null,
            "grid_template_columns": null,
            "grid_template_rows": null,
            "height": null,
            "justify_content": null,
            "justify_items": null,
            "left": null,
            "margin": null,
            "max_height": null,
            "max_width": null,
            "min_height": null,
            "min_width": null,
            "object_fit": null,
            "object_position": null,
            "order": null,
            "overflow": null,
            "overflow_x": null,
            "overflow_y": null,
            "padding": null,
            "right": null,
            "top": null,
            "visibility": null,
            "width": null
          }
        },
        "97b07afc7c9944eea0ec6f8baae14022": {
          "model_module": "@jupyter-widgets/controls",
          "model_name": "DescriptionStyleModel",
          "model_module_version": "1.5.0",
          "state": {
            "_model_module": "@jupyter-widgets/controls",
            "_model_module_version": "1.5.0",
            "_model_name": "DescriptionStyleModel",
            "_view_count": null,
            "_view_module": "@jupyter-widgets/base",
            "_view_module_version": "1.2.0",
            "_view_name": "StyleView",
            "description_width": ""
          }
        },
        "3bc99916b3db41a995c543f730d6b1a0": {
          "model_module": "@jupyter-widgets/base",
          "model_name": "LayoutModel",
          "model_module_version": "1.2.0",
          "state": {
            "_model_module": "@jupyter-widgets/base",
            "_model_module_version": "1.2.0",
            "_model_name": "LayoutModel",
            "_view_count": null,
            "_view_module": "@jupyter-widgets/base",
            "_view_module_version": "1.2.0",
            "_view_name": "LayoutView",
            "align_content": null,
            "align_items": null,
            "align_self": null,
            "border": null,
            "bottom": null,
            "display": null,
            "flex": null,
            "flex_flow": null,
            "grid_area": null,
            "grid_auto_columns": null,
            "grid_auto_flow": null,
            "grid_auto_rows": null,
            "grid_column": null,
            "grid_gap": null,
            "grid_row": null,
            "grid_template_areas": null,
            "grid_template_columns": null,
            "grid_template_rows": null,
            "height": null,
            "justify_content": null,
            "justify_items": null,
            "left": null,
            "margin": null,
            "max_height": null,
            "max_width": null,
            "min_height": null,
            "min_width": null,
            "object_fit": null,
            "object_position": null,
            "order": null,
            "overflow": null,
            "overflow_x": null,
            "overflow_y": null,
            "padding": null,
            "right": null,
            "top": null,
            "visibility": null,
            "width": null
          }
        },
        "673e5da2729a4e29b83a02ba67f186ff": {
          "model_module": "@jupyter-widgets/controls",
          "model_name": "DescriptionStyleModel",
          "model_module_version": "1.5.0",
          "state": {
            "_model_module": "@jupyter-widgets/controls",
            "_model_module_version": "1.5.0",
            "_model_name": "DescriptionStyleModel",
            "_view_count": null,
            "_view_module": "@jupyter-widgets/base",
            "_view_module_version": "1.2.0",
            "_view_name": "StyleView",
            "description_width": ""
          }
        },
        "4634b02316a04029aad22784ddf9c9a5": {
          "model_module": "@jupyter-widgets/base",
          "model_name": "LayoutModel",
          "model_module_version": "1.2.0",
          "state": {
            "_model_module": "@jupyter-widgets/base",
            "_model_module_version": "1.2.0",
            "_model_name": "LayoutModel",
            "_view_count": null,
            "_view_module": "@jupyter-widgets/base",
            "_view_module_version": "1.2.0",
            "_view_name": "LayoutView",
            "align_content": null,
            "align_items": null,
            "align_self": null,
            "border": null,
            "bottom": null,
            "display": null,
            "flex": null,
            "flex_flow": null,
            "grid_area": null,
            "grid_auto_columns": null,
            "grid_auto_flow": null,
            "grid_auto_rows": null,
            "grid_column": null,
            "grid_gap": null,
            "grid_row": null,
            "grid_template_areas": null,
            "grid_template_columns": null,
            "grid_template_rows": null,
            "height": null,
            "justify_content": null,
            "justify_items": null,
            "left": null,
            "margin": null,
            "max_height": null,
            "max_width": null,
            "min_height": null,
            "min_width": null,
            "object_fit": null,
            "object_position": null,
            "order": null,
            "overflow": null,
            "overflow_x": null,
            "overflow_y": null,
            "padding": null,
            "right": null,
            "top": null,
            "visibility": null,
            "width": null
          }
        },
        "43b31b899e2249eaa1518309ae125dfe": {
          "model_module": "@jupyter-widgets/controls",
          "model_name": "ButtonStyleModel",
          "model_module_version": "1.5.0",
          "state": {
            "_model_module": "@jupyter-widgets/controls",
            "_model_module_version": "1.5.0",
            "_model_name": "ButtonStyleModel",
            "_view_count": null,
            "_view_module": "@jupyter-widgets/base",
            "_view_module_version": "1.2.0",
            "_view_name": "StyleView",
            "button_color": null,
            "font_weight": ""
          }
        },
        "6c05b3b0a61b4483a1d6385e22df8c55": {
          "model_module": "@jupyter-widgets/base",
          "model_name": "LayoutModel",
          "model_module_version": "1.2.0",
          "state": {
            "_model_module": "@jupyter-widgets/base",
            "_model_module_version": "1.2.0",
            "_model_name": "LayoutModel",
            "_view_count": null,
            "_view_module": "@jupyter-widgets/base",
            "_view_module_version": "1.2.0",
            "_view_name": "LayoutView",
            "align_content": null,
            "align_items": null,
            "align_self": null,
            "border": null,
            "bottom": null,
            "display": null,
            "flex": null,
            "flex_flow": null,
            "grid_area": null,
            "grid_auto_columns": null,
            "grid_auto_flow": null,
            "grid_auto_rows": null,
            "grid_column": null,
            "grid_gap": null,
            "grid_row": null,
            "grid_template_areas": null,
            "grid_template_columns": null,
            "grid_template_rows": null,
            "height": null,
            "justify_content": null,
            "justify_items": null,
            "left": null,
            "margin": null,
            "max_height": null,
            "max_width": null,
            "min_height": null,
            "min_width": null,
            "object_fit": null,
            "object_position": null,
            "order": null,
            "overflow": null,
            "overflow_x": null,
            "overflow_y": null,
            "padding": null,
            "right": null,
            "top": null,
            "visibility": null,
            "width": null
          }
        },
        "15c9a7620c53481bb317efe9c1a7c55c": {
          "model_module": "@jupyter-widgets/controls",
          "model_name": "DescriptionStyleModel",
          "model_module_version": "1.5.0",
          "state": {
            "_model_module": "@jupyter-widgets/controls",
            "_model_module_version": "1.5.0",
            "_model_name": "DescriptionStyleModel",
            "_view_count": null,
            "_view_module": "@jupyter-widgets/base",
            "_view_module_version": "1.2.0",
            "_view_name": "StyleView",
            "description_width": ""
          }
        },
        "5b10f05a9b3e4e4f9db62f215e63a6f6": {
          "model_module": "@jupyter-widgets/controls",
          "model_name": "LabelModel",
          "model_module_version": "1.5.0",
          "state": {
            "_dom_classes": [],
            "_model_module": "@jupyter-widgets/controls",
            "_model_module_version": "1.5.0",
            "_model_name": "LabelModel",
            "_view_count": null,
            "_view_module": "@jupyter-widgets/controls",
            "_view_module_version": "1.5.0",
            "_view_name": "LabelView",
            "description": "",
            "description_tooltip": null,
            "layout": "IPY_MODEL_f0a38fb535f440faa16294ea9b98966a",
            "placeholder": "​",
            "style": "IPY_MODEL_9577ede9577c4c29a6f7e09a80e47ee2",
            "value": "Connecting..."
          }
        },
        "f0a38fb535f440faa16294ea9b98966a": {
          "model_module": "@jupyter-widgets/base",
          "model_name": "LayoutModel",
          "model_module_version": "1.2.0",
          "state": {
            "_model_module": "@jupyter-widgets/base",
            "_model_module_version": "1.2.0",
            "_model_name": "LayoutModel",
            "_view_count": null,
            "_view_module": "@jupyter-widgets/base",
            "_view_module_version": "1.2.0",
            "_view_name": "LayoutView",
            "align_content": null,
            "align_items": null,
            "align_self": null,
            "border": null,
            "bottom": null,
            "display": null,
            "flex": null,
            "flex_flow": null,
            "grid_area": null,
            "grid_auto_columns": null,
            "grid_auto_flow": null,
            "grid_auto_rows": null,
            "grid_column": null,
            "grid_gap": null,
            "grid_row": null,
            "grid_template_areas": null,
            "grid_template_columns": null,
            "grid_template_rows": null,
            "height": null,
            "justify_content": null,
            "justify_items": null,
            "left": null,
            "margin": null,
            "max_height": null,
            "max_width": null,
            "min_height": null,
            "min_width": null,
            "object_fit": null,
            "object_position": null,
            "order": null,
            "overflow": null,
            "overflow_x": null,
            "overflow_y": null,
            "padding": null,
            "right": null,
            "top": null,
            "visibility": null,
            "width": null
          }
        },
        "9577ede9577c4c29a6f7e09a80e47ee2": {
          "model_module": "@jupyter-widgets/controls",
          "model_name": "DescriptionStyleModel",
          "model_module_version": "1.5.0",
          "state": {
            "_model_module": "@jupyter-widgets/controls",
            "_model_module_version": "1.5.0",
            "_model_name": "DescriptionStyleModel",
            "_view_count": null,
            "_view_module": "@jupyter-widgets/base",
            "_view_module_version": "1.2.0",
            "_view_name": "StyleView",
            "description_width": ""
          }
        },
        "0a0e7d32c0a54e39b9e4752bccaf1784": {
          "model_module": "@jupyter-widgets/controls",
          "model_name": "HBoxModel",
          "model_module_version": "1.5.0",
          "state": {
            "_dom_classes": [],
            "_model_module": "@jupyter-widgets/controls",
            "_model_module_version": "1.5.0",
            "_model_name": "HBoxModel",
            "_view_count": null,
            "_view_module": "@jupyter-widgets/controls",
            "_view_module_version": "1.5.0",
            "_view_name": "HBoxView",
            "box_style": "",
            "children": [
              "IPY_MODEL_9e334bef8641474ea74e62338b1d0a64",
              "IPY_MODEL_35c0ef37752f4265a56efb7a3c0a84a6",
              "IPY_MODEL_cf24bfc1a37848d2869eb16bf0bc2722"
            ],
            "layout": "IPY_MODEL_5deebec0ae034806955e1e15a91ebbb6"
          }
        },
        "9e334bef8641474ea74e62338b1d0a64": {
          "model_module": "@jupyter-widgets/controls",
          "model_name": "HTMLModel",
          "model_module_version": "1.5.0",
          "state": {
            "_dom_classes": [],
            "_model_module": "@jupyter-widgets/controls",
            "_model_module_version": "1.5.0",
            "_model_name": "HTMLModel",
            "_view_count": null,
            "_view_module": "@jupyter-widgets/controls",
            "_view_module_version": "1.5.0",
            "_view_name": "HTMLView",
            "description": "",
            "description_tooltip": null,
            "layout": "IPY_MODEL_70ffbea3b03b4e9686cb01b73b851b5e",
            "placeholder": "​",
            "style": "IPY_MODEL_2e225f655bb84b6eaac09eb48a86c8a7",
            "value": "Map: 100%"
          }
        },
        "35c0ef37752f4265a56efb7a3c0a84a6": {
          "model_module": "@jupyter-widgets/controls",
          "model_name": "FloatProgressModel",
          "model_module_version": "1.5.0",
          "state": {
            "_dom_classes": [],
            "_model_module": "@jupyter-widgets/controls",
            "_model_module_version": "1.5.0",
            "_model_name": "FloatProgressModel",
            "_view_count": null,
            "_view_module": "@jupyter-widgets/controls",
            "_view_module_version": "1.5.0",
            "_view_name": "ProgressView",
            "bar_style": "success",
            "description": "",
            "description_tooltip": null,
            "layout": "IPY_MODEL_f8af173198d1471db6fc5c3457ad4a8a",
            "max": 2939,
            "min": 0,
            "orientation": "horizontal",
            "style": "IPY_MODEL_d1bc0f14d1504be2bfdd9b15d89dd051",
            "value": 2939
          }
        },
        "cf24bfc1a37848d2869eb16bf0bc2722": {
          "model_module": "@jupyter-widgets/controls",
          "model_name": "HTMLModel",
          "model_module_version": "1.5.0",
          "state": {
            "_dom_classes": [],
            "_model_module": "@jupyter-widgets/controls",
            "_model_module_version": "1.5.0",
            "_model_name": "HTMLModel",
            "_view_count": null,
            "_view_module": "@jupyter-widgets/controls",
            "_view_module_version": "1.5.0",
            "_view_name": "HTMLView",
            "description": "",
            "description_tooltip": null,
            "layout": "IPY_MODEL_0e9ef3e302284a959b051c7b11ecf782",
            "placeholder": "​",
            "style": "IPY_MODEL_8cb62ba08a5d49c1a36859066ac515fd",
            "value": " 2939/2939 [00:00&lt;00:00, 97172.88 examples/s]"
          }
        },
        "5deebec0ae034806955e1e15a91ebbb6": {
          "model_module": "@jupyter-widgets/base",
          "model_name": "LayoutModel",
          "model_module_version": "1.2.0",
          "state": {
            "_model_module": "@jupyter-widgets/base",
            "_model_module_version": "1.2.0",
            "_model_name": "LayoutModel",
            "_view_count": null,
            "_view_module": "@jupyter-widgets/base",
            "_view_module_version": "1.2.0",
            "_view_name": "LayoutView",
            "align_content": null,
            "align_items": null,
            "align_self": null,
            "border": null,
            "bottom": null,
            "display": null,
            "flex": null,
            "flex_flow": null,
            "grid_area": null,
            "grid_auto_columns": null,
            "grid_auto_flow": null,
            "grid_auto_rows": null,
            "grid_column": null,
            "grid_gap": null,
            "grid_row": null,
            "grid_template_areas": null,
            "grid_template_columns": null,
            "grid_template_rows": null,
            "height": null,
            "justify_content": null,
            "justify_items": null,
            "left": null,
            "margin": null,
            "max_height": null,
            "max_width": null,
            "min_height": null,
            "min_width": null,
            "object_fit": null,
            "object_position": null,
            "order": null,
            "overflow": null,
            "overflow_x": null,
            "overflow_y": null,
            "padding": null,
            "right": null,
            "top": null,
            "visibility": null,
            "width": null
          }
        },
        "70ffbea3b03b4e9686cb01b73b851b5e": {
          "model_module": "@jupyter-widgets/base",
          "model_name": "LayoutModel",
          "model_module_version": "1.2.0",
          "state": {
            "_model_module": "@jupyter-widgets/base",
            "_model_module_version": "1.2.0",
            "_model_name": "LayoutModel",
            "_view_count": null,
            "_view_module": "@jupyter-widgets/base",
            "_view_module_version": "1.2.0",
            "_view_name": "LayoutView",
            "align_content": null,
            "align_items": null,
            "align_self": null,
            "border": null,
            "bottom": null,
            "display": null,
            "flex": null,
            "flex_flow": null,
            "grid_area": null,
            "grid_auto_columns": null,
            "grid_auto_flow": null,
            "grid_auto_rows": null,
            "grid_column": null,
            "grid_gap": null,
            "grid_row": null,
            "grid_template_areas": null,
            "grid_template_columns": null,
            "grid_template_rows": null,
            "height": null,
            "justify_content": null,
            "justify_items": null,
            "left": null,
            "margin": null,
            "max_height": null,
            "max_width": null,
            "min_height": null,
            "min_width": null,
            "object_fit": null,
            "object_position": null,
            "order": null,
            "overflow": null,
            "overflow_x": null,
            "overflow_y": null,
            "padding": null,
            "right": null,
            "top": null,
            "visibility": null,
            "width": null
          }
        },
        "2e225f655bb84b6eaac09eb48a86c8a7": {
          "model_module": "@jupyter-widgets/controls",
          "model_name": "DescriptionStyleModel",
          "model_module_version": "1.5.0",
          "state": {
            "_model_module": "@jupyter-widgets/controls",
            "_model_module_version": "1.5.0",
            "_model_name": "DescriptionStyleModel",
            "_view_count": null,
            "_view_module": "@jupyter-widgets/base",
            "_view_module_version": "1.2.0",
            "_view_name": "StyleView",
            "description_width": ""
          }
        },
        "f8af173198d1471db6fc5c3457ad4a8a": {
          "model_module": "@jupyter-widgets/base",
          "model_name": "LayoutModel",
          "model_module_version": "1.2.0",
          "state": {
            "_model_module": "@jupyter-widgets/base",
            "_model_module_version": "1.2.0",
            "_model_name": "LayoutModel",
            "_view_count": null,
            "_view_module": "@jupyter-widgets/base",
            "_view_module_version": "1.2.0",
            "_view_name": "LayoutView",
            "align_content": null,
            "align_items": null,
            "align_self": null,
            "border": null,
            "bottom": null,
            "display": null,
            "flex": null,
            "flex_flow": null,
            "grid_area": null,
            "grid_auto_columns": null,
            "grid_auto_flow": null,
            "grid_auto_rows": null,
            "grid_column": null,
            "grid_gap": null,
            "grid_row": null,
            "grid_template_areas": null,
            "grid_template_columns": null,
            "grid_template_rows": null,
            "height": null,
            "justify_content": null,
            "justify_items": null,
            "left": null,
            "margin": null,
            "max_height": null,
            "max_width": null,
            "min_height": null,
            "min_width": null,
            "object_fit": null,
            "object_position": null,
            "order": null,
            "overflow": null,
            "overflow_x": null,
            "overflow_y": null,
            "padding": null,
            "right": null,
            "top": null,
            "visibility": null,
            "width": null
          }
        },
        "d1bc0f14d1504be2bfdd9b15d89dd051": {
          "model_module": "@jupyter-widgets/controls",
          "model_name": "ProgressStyleModel",
          "model_module_version": "1.5.0",
          "state": {
            "_model_module": "@jupyter-widgets/controls",
            "_model_module_version": "1.5.0",
            "_model_name": "ProgressStyleModel",
            "_view_count": null,
            "_view_module": "@jupyter-widgets/base",
            "_view_module_version": "1.2.0",
            "_view_name": "StyleView",
            "bar_color": null,
            "description_width": ""
          }
        },
        "0e9ef3e302284a959b051c7b11ecf782": {
          "model_module": "@jupyter-widgets/base",
          "model_name": "LayoutModel",
          "model_module_version": "1.2.0",
          "state": {
            "_model_module": "@jupyter-widgets/base",
            "_model_module_version": "1.2.0",
            "_model_name": "LayoutModel",
            "_view_count": null,
            "_view_module": "@jupyter-widgets/base",
            "_view_module_version": "1.2.0",
            "_view_name": "LayoutView",
            "align_content": null,
            "align_items": null,
            "align_self": null,
            "border": null,
            "bottom": null,
            "display": null,
            "flex": null,
            "flex_flow": null,
            "grid_area": null,
            "grid_auto_columns": null,
            "grid_auto_flow": null,
            "grid_auto_rows": null,
            "grid_column": null,
            "grid_gap": null,
            "grid_row": null,
            "grid_template_areas": null,
            "grid_template_columns": null,
            "grid_template_rows": null,
            "height": null,
            "justify_content": null,
            "justify_items": null,
            "left": null,
            "margin": null,
            "max_height": null,
            "max_width": null,
            "min_height": null,
            "min_width": null,
            "object_fit": null,
            "object_position": null,
            "order": null,
            "overflow": null,
            "overflow_x": null,
            "overflow_y": null,
            "padding": null,
            "right": null,
            "top": null,
            "visibility": null,
            "width": null
          }
        },
        "8cb62ba08a5d49c1a36859066ac515fd": {
          "model_module": "@jupyter-widgets/controls",
          "model_name": "DescriptionStyleModel",
          "model_module_version": "1.5.0",
          "state": {
            "_model_module": "@jupyter-widgets/controls",
            "_model_module_version": "1.5.0",
            "_model_name": "DescriptionStyleModel",
            "_view_count": null,
            "_view_module": "@jupyter-widgets/base",
            "_view_module_version": "1.2.0",
            "_view_name": "StyleView",
            "description_width": ""
          }
        },
        "b3d38a13b24e4f1da3885c02be1b62b2": {
          "model_module": "@jupyter-widgets/controls",
          "model_name": "HBoxModel",
          "model_module_version": "1.5.0",
          "state": {
            "_dom_classes": [],
            "_model_module": "@jupyter-widgets/controls",
            "_model_module_version": "1.5.0",
            "_model_name": "HBoxModel",
            "_view_count": null,
            "_view_module": "@jupyter-widgets/controls",
            "_view_module_version": "1.5.0",
            "_view_name": "HBoxView",
            "box_style": "",
            "children": [
              "IPY_MODEL_63d15b40b7b14c9090ea0838947abe6e",
              "IPY_MODEL_c2f43174db2b453bac2831ba358bae2c",
              "IPY_MODEL_b12f039ae61946798a5f99c24d810126"
            ],
            "layout": "IPY_MODEL_8ab042263a4c4eb2901b5870b3d7905a"
          }
        },
        "63d15b40b7b14c9090ea0838947abe6e": {
          "model_module": "@jupyter-widgets/controls",
          "model_name": "HTMLModel",
          "model_module_version": "1.5.0",
          "state": {
            "_dom_classes": [],
            "_model_module": "@jupyter-widgets/controls",
            "_model_module_version": "1.5.0",
            "_model_name": "HTMLModel",
            "_view_count": null,
            "_view_module": "@jupyter-widgets/controls",
            "_view_module_version": "1.5.0",
            "_view_name": "HTMLView",
            "description": "",
            "description_tooltip": null,
            "layout": "IPY_MODEL_61fcbca2726a405ba632a64dbb959ee3",
            "placeholder": "​",
            "style": "IPY_MODEL_69a824c6066e4fee8cb55bd18e92d830",
            "value": "Map: 100%"
          }
        },
        "c2f43174db2b453bac2831ba358bae2c": {
          "model_module": "@jupyter-widgets/controls",
          "model_name": "FloatProgressModel",
          "model_module_version": "1.5.0",
          "state": {
            "_dom_classes": [],
            "_model_module": "@jupyter-widgets/controls",
            "_model_module_version": "1.5.0",
            "_model_name": "FloatProgressModel",
            "_view_count": null,
            "_view_module": "@jupyter-widgets/controls",
            "_view_module_version": "1.5.0",
            "_view_name": "ProgressView",
            "bar_style": "success",
            "description": "",
            "description_tooltip": null,
            "layout": "IPY_MODEL_084c34e310ed425095cdaa61ae2988cc",
            "max": 1237,
            "min": 0,
            "orientation": "horizontal",
            "style": "IPY_MODEL_2cb534ba90c5449aa192425d84a3abf9",
            "value": 1237
          }
        },
        "b12f039ae61946798a5f99c24d810126": {
          "model_module": "@jupyter-widgets/controls",
          "model_name": "HTMLModel",
          "model_module_version": "1.5.0",
          "state": {
            "_dom_classes": [],
            "_model_module": "@jupyter-widgets/controls",
            "_model_module_version": "1.5.0",
            "_model_name": "HTMLModel",
            "_view_count": null,
            "_view_module": "@jupyter-widgets/controls",
            "_view_module_version": "1.5.0",
            "_view_name": "HTMLView",
            "description": "",
            "description_tooltip": null,
            "layout": "IPY_MODEL_571d7764e8a14cce92446d5757f99469",
            "placeholder": "​",
            "style": "IPY_MODEL_e513a37ab5fe4e549b2ac0562d3a02b1",
            "value": " 1237/1237 [00:00&lt;00:00, 53690.22 examples/s]"
          }
        },
        "8ab042263a4c4eb2901b5870b3d7905a": {
          "model_module": "@jupyter-widgets/base",
          "model_name": "LayoutModel",
          "model_module_version": "1.2.0",
          "state": {
            "_model_module": "@jupyter-widgets/base",
            "_model_module_version": "1.2.0",
            "_model_name": "LayoutModel",
            "_view_count": null,
            "_view_module": "@jupyter-widgets/base",
            "_view_module_version": "1.2.0",
            "_view_name": "LayoutView",
            "align_content": null,
            "align_items": null,
            "align_self": null,
            "border": null,
            "bottom": null,
            "display": null,
            "flex": null,
            "flex_flow": null,
            "grid_area": null,
            "grid_auto_columns": null,
            "grid_auto_flow": null,
            "grid_auto_rows": null,
            "grid_column": null,
            "grid_gap": null,
            "grid_row": null,
            "grid_template_areas": null,
            "grid_template_columns": null,
            "grid_template_rows": null,
            "height": null,
            "justify_content": null,
            "justify_items": null,
            "left": null,
            "margin": null,
            "max_height": null,
            "max_width": null,
            "min_height": null,
            "min_width": null,
            "object_fit": null,
            "object_position": null,
            "order": null,
            "overflow": null,
            "overflow_x": null,
            "overflow_y": null,
            "padding": null,
            "right": null,
            "top": null,
            "visibility": null,
            "width": null
          }
        },
        "61fcbca2726a405ba632a64dbb959ee3": {
          "model_module": "@jupyter-widgets/base",
          "model_name": "LayoutModel",
          "model_module_version": "1.2.0",
          "state": {
            "_model_module": "@jupyter-widgets/base",
            "_model_module_version": "1.2.0",
            "_model_name": "LayoutModel",
            "_view_count": null,
            "_view_module": "@jupyter-widgets/base",
            "_view_module_version": "1.2.0",
            "_view_name": "LayoutView",
            "align_content": null,
            "align_items": null,
            "align_self": null,
            "border": null,
            "bottom": null,
            "display": null,
            "flex": null,
            "flex_flow": null,
            "grid_area": null,
            "grid_auto_columns": null,
            "grid_auto_flow": null,
            "grid_auto_rows": null,
            "grid_column": null,
            "grid_gap": null,
            "grid_row": null,
            "grid_template_areas": null,
            "grid_template_columns": null,
            "grid_template_rows": null,
            "height": null,
            "justify_content": null,
            "justify_items": null,
            "left": null,
            "margin": null,
            "max_height": null,
            "max_width": null,
            "min_height": null,
            "min_width": null,
            "object_fit": null,
            "object_position": null,
            "order": null,
            "overflow": null,
            "overflow_x": null,
            "overflow_y": null,
            "padding": null,
            "right": null,
            "top": null,
            "visibility": null,
            "width": null
          }
        },
        "69a824c6066e4fee8cb55bd18e92d830": {
          "model_module": "@jupyter-widgets/controls",
          "model_name": "DescriptionStyleModel",
          "model_module_version": "1.5.0",
          "state": {
            "_model_module": "@jupyter-widgets/controls",
            "_model_module_version": "1.5.0",
            "_model_name": "DescriptionStyleModel",
            "_view_count": null,
            "_view_module": "@jupyter-widgets/base",
            "_view_module_version": "1.2.0",
            "_view_name": "StyleView",
            "description_width": ""
          }
        },
        "084c34e310ed425095cdaa61ae2988cc": {
          "model_module": "@jupyter-widgets/base",
          "model_name": "LayoutModel",
          "model_module_version": "1.2.0",
          "state": {
            "_model_module": "@jupyter-widgets/base",
            "_model_module_version": "1.2.0",
            "_model_name": "LayoutModel",
            "_view_count": null,
            "_view_module": "@jupyter-widgets/base",
            "_view_module_version": "1.2.0",
            "_view_name": "LayoutView",
            "align_content": null,
            "align_items": null,
            "align_self": null,
            "border": null,
            "bottom": null,
            "display": null,
            "flex": null,
            "flex_flow": null,
            "grid_area": null,
            "grid_auto_columns": null,
            "grid_auto_flow": null,
            "grid_auto_rows": null,
            "grid_column": null,
            "grid_gap": null,
            "grid_row": null,
            "grid_template_areas": null,
            "grid_template_columns": null,
            "grid_template_rows": null,
            "height": null,
            "justify_content": null,
            "justify_items": null,
            "left": null,
            "margin": null,
            "max_height": null,
            "max_width": null,
            "min_height": null,
            "min_width": null,
            "object_fit": null,
            "object_position": null,
            "order": null,
            "overflow": null,
            "overflow_x": null,
            "overflow_y": null,
            "padding": null,
            "right": null,
            "top": null,
            "visibility": null,
            "width": null
          }
        },
        "2cb534ba90c5449aa192425d84a3abf9": {
          "model_module": "@jupyter-widgets/controls",
          "model_name": "ProgressStyleModel",
          "model_module_version": "1.5.0",
          "state": {
            "_model_module": "@jupyter-widgets/controls",
            "_model_module_version": "1.5.0",
            "_model_name": "ProgressStyleModel",
            "_view_count": null,
            "_view_module": "@jupyter-widgets/base",
            "_view_module_version": "1.2.0",
            "_view_name": "StyleView",
            "bar_color": null,
            "description_width": ""
          }
        },
        "571d7764e8a14cce92446d5757f99469": {
          "model_module": "@jupyter-widgets/base",
          "model_name": "LayoutModel",
          "model_module_version": "1.2.0",
          "state": {
            "_model_module": "@jupyter-widgets/base",
            "_model_module_version": "1.2.0",
            "_model_name": "LayoutModel",
            "_view_count": null,
            "_view_module": "@jupyter-widgets/base",
            "_view_module_version": "1.2.0",
            "_view_name": "LayoutView",
            "align_content": null,
            "align_items": null,
            "align_self": null,
            "border": null,
            "bottom": null,
            "display": null,
            "flex": null,
            "flex_flow": null,
            "grid_area": null,
            "grid_auto_columns": null,
            "grid_auto_flow": null,
            "grid_auto_rows": null,
            "grid_column": null,
            "grid_gap": null,
            "grid_row": null,
            "grid_template_areas": null,
            "grid_template_columns": null,
            "grid_template_rows": null,
            "height": null,
            "justify_content": null,
            "justify_items": null,
            "left": null,
            "margin": null,
            "max_height": null,
            "max_width": null,
            "min_height": null,
            "min_width": null,
            "object_fit": null,
            "object_position": null,
            "order": null,
            "overflow": null,
            "overflow_x": null,
            "overflow_y": null,
            "padding": null,
            "right": null,
            "top": null,
            "visibility": null,
            "width": null
          }
        },
        "e513a37ab5fe4e549b2ac0562d3a02b1": {
          "model_module": "@jupyter-widgets/controls",
          "model_name": "DescriptionStyleModel",
          "model_module_version": "1.5.0",
          "state": {
            "_model_module": "@jupyter-widgets/controls",
            "_model_module_version": "1.5.0",
            "_model_name": "DescriptionStyleModel",
            "_view_count": null,
            "_view_module": "@jupyter-widgets/base",
            "_view_module_version": "1.2.0",
            "_view_name": "StyleView",
            "description_width": ""
          }
        },
        "93d966e0574e4a92a891875adb4eaaab": {
          "model_module": "@jupyter-widgets/controls",
          "model_name": "HBoxModel",
          "model_module_version": "1.5.0",
          "state": {
            "_dom_classes": [],
            "_model_module": "@jupyter-widgets/controls",
            "_model_module_version": "1.5.0",
            "_model_name": "HBoxModel",
            "_view_count": null,
            "_view_module": "@jupyter-widgets/controls",
            "_view_module_version": "1.5.0",
            "_view_name": "HBoxView",
            "box_style": "",
            "children": [
              "IPY_MODEL_4e7d5ca1221e48309c2580c76ac02045",
              "IPY_MODEL_274b06b624444fbbaff2b51351f6cd70",
              "IPY_MODEL_99fffb6ff853489f9e2afd8d95b790e4"
            ],
            "layout": "IPY_MODEL_7088aca7253e484ca72d5d679fa34c31"
          }
        },
        "4e7d5ca1221e48309c2580c76ac02045": {
          "model_module": "@jupyter-widgets/controls",
          "model_name": "HTMLModel",
          "model_module_version": "1.5.0",
          "state": {
            "_dom_classes": [],
            "_model_module": "@jupyter-widgets/controls",
            "_model_module_version": "1.5.0",
            "_model_name": "HTMLModel",
            "_view_count": null,
            "_view_module": "@jupyter-widgets/controls",
            "_view_module_version": "1.5.0",
            "_view_name": "HTMLView",
            "description": "",
            "description_tooltip": null,
            "layout": "IPY_MODEL_bd48b4f550e5409e8efbebe2e7664550",
            "placeholder": "​",
            "style": "IPY_MODEL_c409e7ef9c3849639bd1f250966689ef",
            "value": "README.md: 100%"
          }
        },
        "274b06b624444fbbaff2b51351f6cd70": {
          "model_module": "@jupyter-widgets/controls",
          "model_name": "FloatProgressModel",
          "model_module_version": "1.5.0",
          "state": {
            "_dom_classes": [],
            "_model_module": "@jupyter-widgets/controls",
            "_model_module_version": "1.5.0",
            "_model_name": "FloatProgressModel",
            "_view_count": null,
            "_view_module": "@jupyter-widgets/controls",
            "_view_module_version": "1.5.0",
            "_view_name": "ProgressView",
            "bar_style": "success",
            "description": "",
            "description_tooltip": null,
            "layout": "IPY_MODEL_e92a566da99b43839cc7a6509b86316f",
            "max": 5174,
            "min": 0,
            "orientation": "horizontal",
            "style": "IPY_MODEL_fff1d75f21a04d8594fe2ac6d3325720",
            "value": 5174
          }
        },
        "99fffb6ff853489f9e2afd8d95b790e4": {
          "model_module": "@jupyter-widgets/controls",
          "model_name": "HTMLModel",
          "model_module_version": "1.5.0",
          "state": {
            "_dom_classes": [],
            "_model_module": "@jupyter-widgets/controls",
            "_model_module_version": "1.5.0",
            "_model_name": "HTMLModel",
            "_view_count": null,
            "_view_module": "@jupyter-widgets/controls",
            "_view_module_version": "1.5.0",
            "_view_name": "HTMLView",
            "description": "",
            "description_tooltip": null,
            "layout": "IPY_MODEL_8bd869a597934a9a88eedccd04aa2bb0",
            "placeholder": "​",
            "style": "IPY_MODEL_9999cf17c0564b62904d0c91c27ee3d5",
            "value": " 5.17k/5.17k [00:00&lt;00:00, 407kB/s]"
          }
        },
        "7088aca7253e484ca72d5d679fa34c31": {
          "model_module": "@jupyter-widgets/base",
          "model_name": "LayoutModel",
          "model_module_version": "1.2.0",
          "state": {
            "_model_module": "@jupyter-widgets/base",
            "_model_module_version": "1.2.0",
            "_model_name": "LayoutModel",
            "_view_count": null,
            "_view_module": "@jupyter-widgets/base",
            "_view_module_version": "1.2.0",
            "_view_name": "LayoutView",
            "align_content": null,
            "align_items": null,
            "align_self": null,
            "border": null,
            "bottom": null,
            "display": null,
            "flex": null,
            "flex_flow": null,
            "grid_area": null,
            "grid_auto_columns": null,
            "grid_auto_flow": null,
            "grid_auto_rows": null,
            "grid_column": null,
            "grid_gap": null,
            "grid_row": null,
            "grid_template_areas": null,
            "grid_template_columns": null,
            "grid_template_rows": null,
            "height": null,
            "justify_content": null,
            "justify_items": null,
            "left": null,
            "margin": null,
            "max_height": null,
            "max_width": null,
            "min_height": null,
            "min_width": null,
            "object_fit": null,
            "object_position": null,
            "order": null,
            "overflow": null,
            "overflow_x": null,
            "overflow_y": null,
            "padding": null,
            "right": null,
            "top": null,
            "visibility": null,
            "width": null
          }
        },
        "bd48b4f550e5409e8efbebe2e7664550": {
          "model_module": "@jupyter-widgets/base",
          "model_name": "LayoutModel",
          "model_module_version": "1.2.0",
          "state": {
            "_model_module": "@jupyter-widgets/base",
            "_model_module_version": "1.2.0",
            "_model_name": "LayoutModel",
            "_view_count": null,
            "_view_module": "@jupyter-widgets/base",
            "_view_module_version": "1.2.0",
            "_view_name": "LayoutView",
            "align_content": null,
            "align_items": null,
            "align_self": null,
            "border": null,
            "bottom": null,
            "display": null,
            "flex": null,
            "flex_flow": null,
            "grid_area": null,
            "grid_auto_columns": null,
            "grid_auto_flow": null,
            "grid_auto_rows": null,
            "grid_column": null,
            "grid_gap": null,
            "grid_row": null,
            "grid_template_areas": null,
            "grid_template_columns": null,
            "grid_template_rows": null,
            "height": null,
            "justify_content": null,
            "justify_items": null,
            "left": null,
            "margin": null,
            "max_height": null,
            "max_width": null,
            "min_height": null,
            "min_width": null,
            "object_fit": null,
            "object_position": null,
            "order": null,
            "overflow": null,
            "overflow_x": null,
            "overflow_y": null,
            "padding": null,
            "right": null,
            "top": null,
            "visibility": null,
            "width": null
          }
        },
        "c409e7ef9c3849639bd1f250966689ef": {
          "model_module": "@jupyter-widgets/controls",
          "model_name": "DescriptionStyleModel",
          "model_module_version": "1.5.0",
          "state": {
            "_model_module": "@jupyter-widgets/controls",
            "_model_module_version": "1.5.0",
            "_model_name": "DescriptionStyleModel",
            "_view_count": null,
            "_view_module": "@jupyter-widgets/base",
            "_view_module_version": "1.2.0",
            "_view_name": "StyleView",
            "description_width": ""
          }
        },
        "e92a566da99b43839cc7a6509b86316f": {
          "model_module": "@jupyter-widgets/base",
          "model_name": "LayoutModel",
          "model_module_version": "1.2.0",
          "state": {
            "_model_module": "@jupyter-widgets/base",
            "_model_module_version": "1.2.0",
            "_model_name": "LayoutModel",
            "_view_count": null,
            "_view_module": "@jupyter-widgets/base",
            "_view_module_version": "1.2.0",
            "_view_name": "LayoutView",
            "align_content": null,
            "align_items": null,
            "align_self": null,
            "border": null,
            "bottom": null,
            "display": null,
            "flex": null,
            "flex_flow": null,
            "grid_area": null,
            "grid_auto_columns": null,
            "grid_auto_flow": null,
            "grid_auto_rows": null,
            "grid_column": null,
            "grid_gap": null,
            "grid_row": null,
            "grid_template_areas": null,
            "grid_template_columns": null,
            "grid_template_rows": null,
            "height": null,
            "justify_content": null,
            "justify_items": null,
            "left": null,
            "margin": null,
            "max_height": null,
            "max_width": null,
            "min_height": null,
            "min_width": null,
            "object_fit": null,
            "object_position": null,
            "order": null,
            "overflow": null,
            "overflow_x": null,
            "overflow_y": null,
            "padding": null,
            "right": null,
            "top": null,
            "visibility": null,
            "width": null
          }
        },
        "fff1d75f21a04d8594fe2ac6d3325720": {
          "model_module": "@jupyter-widgets/controls",
          "model_name": "ProgressStyleModel",
          "model_module_version": "1.5.0",
          "state": {
            "_model_module": "@jupyter-widgets/controls",
            "_model_module_version": "1.5.0",
            "_model_name": "ProgressStyleModel",
            "_view_count": null,
            "_view_module": "@jupyter-widgets/base",
            "_view_module_version": "1.2.0",
            "_view_name": "StyleView",
            "bar_color": null,
            "description_width": ""
          }
        },
        "8bd869a597934a9a88eedccd04aa2bb0": {
          "model_module": "@jupyter-widgets/base",
          "model_name": "LayoutModel",
          "model_module_version": "1.2.0",
          "state": {
            "_model_module": "@jupyter-widgets/base",
            "_model_module_version": "1.2.0",
            "_model_name": "LayoutModel",
            "_view_count": null,
            "_view_module": "@jupyter-widgets/base",
            "_view_module_version": "1.2.0",
            "_view_name": "LayoutView",
            "align_content": null,
            "align_items": null,
            "align_self": null,
            "border": null,
            "bottom": null,
            "display": null,
            "flex": null,
            "flex_flow": null,
            "grid_area": null,
            "grid_auto_columns": null,
            "grid_auto_flow": null,
            "grid_auto_rows": null,
            "grid_column": null,
            "grid_gap": null,
            "grid_row": null,
            "grid_template_areas": null,
            "grid_template_columns": null,
            "grid_template_rows": null,
            "height": null,
            "justify_content": null,
            "justify_items": null,
            "left": null,
            "margin": null,
            "max_height": null,
            "max_width": null,
            "min_height": null,
            "min_width": null,
            "object_fit": null,
            "object_position": null,
            "order": null,
            "overflow": null,
            "overflow_x": null,
            "overflow_y": null,
            "padding": null,
            "right": null,
            "top": null,
            "visibility": null,
            "width": null
          }
        },
        "9999cf17c0564b62904d0c91c27ee3d5": {
          "model_module": "@jupyter-widgets/controls",
          "model_name": "DescriptionStyleModel",
          "model_module_version": "1.5.0",
          "state": {
            "_model_module": "@jupyter-widgets/controls",
            "_model_module_version": "1.5.0",
            "_model_name": "DescriptionStyleModel",
            "_view_count": null,
            "_view_module": "@jupyter-widgets/base",
            "_view_module_version": "1.2.0",
            "_view_name": "StyleView",
            "description_width": ""
          }
        },
        "436152db933049eeb7e30484b70ee1d3": {
          "model_module": "@jupyter-widgets/controls",
          "model_name": "HBoxModel",
          "model_module_version": "1.5.0",
          "state": {
            "_dom_classes": [],
            "_model_module": "@jupyter-widgets/controls",
            "_model_module_version": "1.5.0",
            "_model_name": "HBoxModel",
            "_view_count": null,
            "_view_module": "@jupyter-widgets/controls",
            "_view_module_version": "1.5.0",
            "_view_name": "HBoxView",
            "box_style": "",
            "children": [
              "IPY_MODEL_60f4b748f2534310ad48506c5c751bc9",
              "IPY_MODEL_129591cb6852440892cf234c32bdeaf8",
              "IPY_MODEL_bf62b90973724da4b6db51279cf38fee"
            ],
            "layout": "IPY_MODEL_7c60c2c79c0543fc88f9561d4ff42e29"
          }
        },
        "60f4b748f2534310ad48506c5c751bc9": {
          "model_module": "@jupyter-widgets/controls",
          "model_name": "HTMLModel",
          "model_module_version": "1.5.0",
          "state": {
            "_dom_classes": [],
            "_model_module": "@jupyter-widgets/controls",
            "_model_module_version": "1.5.0",
            "_model_name": "HTMLModel",
            "_view_count": null,
            "_view_module": "@jupyter-widgets/controls",
            "_view_module_version": "1.5.0",
            "_view_name": "HTMLView",
            "description": "",
            "description_tooltip": null,
            "layout": "IPY_MODEL_d3736d7d46e74c7e93d0fccd9c34e97c",
            "placeholder": "​",
            "style": "IPY_MODEL_d9cc11e27e894d2f83a010e34f9f82da",
            "value": "Filter: 100%"
          }
        },
        "129591cb6852440892cf234c32bdeaf8": {
          "model_module": "@jupyter-widgets/controls",
          "model_name": "FloatProgressModel",
          "model_module_version": "1.5.0",
          "state": {
            "_dom_classes": [],
            "_model_module": "@jupyter-widgets/controls",
            "_model_module_version": "1.5.0",
            "_model_name": "FloatProgressModel",
            "_view_count": null,
            "_view_module": "@jupyter-widgets/controls",
            "_view_module_version": "1.5.0",
            "_view_name": "ProgressView",
            "bar_style": "success",
            "description": "",
            "description_tooltip": null,
            "layout": "IPY_MODEL_843650f9245441a093467287ebd05833",
            "max": 2939,
            "min": 0,
            "orientation": "horizontal",
            "style": "IPY_MODEL_8a7c0baff02044b5b79fbf01c3202c1b",
            "value": 2939
          }
        },
        "bf62b90973724da4b6db51279cf38fee": {
          "model_module": "@jupyter-widgets/controls",
          "model_name": "HTMLModel",
          "model_module_version": "1.5.0",
          "state": {
            "_dom_classes": [],
            "_model_module": "@jupyter-widgets/controls",
            "_model_module_version": "1.5.0",
            "_model_name": "HTMLModel",
            "_view_count": null,
            "_view_module": "@jupyter-widgets/controls",
            "_view_module_version": "1.5.0",
            "_view_name": "HTMLView",
            "description": "",
            "description_tooltip": null,
            "layout": "IPY_MODEL_8c43d59ff61744b5bcf678852e12d7de",
            "placeholder": "​",
            "style": "IPY_MODEL_50a839c9644943f58910dd90ba3fc01c",
            "value": " 2939/2939 [00:00&lt;00:00, 98497.49 examples/s]"
          }
        },
        "7c60c2c79c0543fc88f9561d4ff42e29": {
          "model_module": "@jupyter-widgets/base",
          "model_name": "LayoutModel",
          "model_module_version": "1.2.0",
          "state": {
            "_model_module": "@jupyter-widgets/base",
            "_model_module_version": "1.2.0",
            "_model_name": "LayoutModel",
            "_view_count": null,
            "_view_module": "@jupyter-widgets/base",
            "_view_module_version": "1.2.0",
            "_view_name": "LayoutView",
            "align_content": null,
            "align_items": null,
            "align_self": null,
            "border": null,
            "bottom": null,
            "display": null,
            "flex": null,
            "flex_flow": null,
            "grid_area": null,
            "grid_auto_columns": null,
            "grid_auto_flow": null,
            "grid_auto_rows": null,
            "grid_column": null,
            "grid_gap": null,
            "grid_row": null,
            "grid_template_areas": null,
            "grid_template_columns": null,
            "grid_template_rows": null,
            "height": null,
            "justify_content": null,
            "justify_items": null,
            "left": null,
            "margin": null,
            "max_height": null,
            "max_width": null,
            "min_height": null,
            "min_width": null,
            "object_fit": null,
            "object_position": null,
            "order": null,
            "overflow": null,
            "overflow_x": null,
            "overflow_y": null,
            "padding": null,
            "right": null,
            "top": null,
            "visibility": null,
            "width": null
          }
        },
        "d3736d7d46e74c7e93d0fccd9c34e97c": {
          "model_module": "@jupyter-widgets/base",
          "model_name": "LayoutModel",
          "model_module_version": "1.2.0",
          "state": {
            "_model_module": "@jupyter-widgets/base",
            "_model_module_version": "1.2.0",
            "_model_name": "LayoutModel",
            "_view_count": null,
            "_view_module": "@jupyter-widgets/base",
            "_view_module_version": "1.2.0",
            "_view_name": "LayoutView",
            "align_content": null,
            "align_items": null,
            "align_self": null,
            "border": null,
            "bottom": null,
            "display": null,
            "flex": null,
            "flex_flow": null,
            "grid_area": null,
            "grid_auto_columns": null,
            "grid_auto_flow": null,
            "grid_auto_rows": null,
            "grid_column": null,
            "grid_gap": null,
            "grid_row": null,
            "grid_template_areas": null,
            "grid_template_columns": null,
            "grid_template_rows": null,
            "height": null,
            "justify_content": null,
            "justify_items": null,
            "left": null,
            "margin": null,
            "max_height": null,
            "max_width": null,
            "min_height": null,
            "min_width": null,
            "object_fit": null,
            "object_position": null,
            "order": null,
            "overflow": null,
            "overflow_x": null,
            "overflow_y": null,
            "padding": null,
            "right": null,
            "top": null,
            "visibility": null,
            "width": null
          }
        },
        "d9cc11e27e894d2f83a010e34f9f82da": {
          "model_module": "@jupyter-widgets/controls",
          "model_name": "DescriptionStyleModel",
          "model_module_version": "1.5.0",
          "state": {
            "_model_module": "@jupyter-widgets/controls",
            "_model_module_version": "1.5.0",
            "_model_name": "DescriptionStyleModel",
            "_view_count": null,
            "_view_module": "@jupyter-widgets/base",
            "_view_module_version": "1.2.0",
            "_view_name": "StyleView",
            "description_width": ""
          }
        },
        "843650f9245441a093467287ebd05833": {
          "model_module": "@jupyter-widgets/base",
          "model_name": "LayoutModel",
          "model_module_version": "1.2.0",
          "state": {
            "_model_module": "@jupyter-widgets/base",
            "_model_module_version": "1.2.0",
            "_model_name": "LayoutModel",
            "_view_count": null,
            "_view_module": "@jupyter-widgets/base",
            "_view_module_version": "1.2.0",
            "_view_name": "LayoutView",
            "align_content": null,
            "align_items": null,
            "align_self": null,
            "border": null,
            "bottom": null,
            "display": null,
            "flex": null,
            "flex_flow": null,
            "grid_area": null,
            "grid_auto_columns": null,
            "grid_auto_flow": null,
            "grid_auto_rows": null,
            "grid_column": null,
            "grid_gap": null,
            "grid_row": null,
            "grid_template_areas": null,
            "grid_template_columns": null,
            "grid_template_rows": null,
            "height": null,
            "justify_content": null,
            "justify_items": null,
            "left": null,
            "margin": null,
            "max_height": null,
            "max_width": null,
            "min_height": null,
            "min_width": null,
            "object_fit": null,
            "object_position": null,
            "order": null,
            "overflow": null,
            "overflow_x": null,
            "overflow_y": null,
            "padding": null,
            "right": null,
            "top": null,
            "visibility": null,
            "width": null
          }
        },
        "8a7c0baff02044b5b79fbf01c3202c1b": {
          "model_module": "@jupyter-widgets/controls",
          "model_name": "ProgressStyleModel",
          "model_module_version": "1.5.0",
          "state": {
            "_model_module": "@jupyter-widgets/controls",
            "_model_module_version": "1.5.0",
            "_model_name": "ProgressStyleModel",
            "_view_count": null,
            "_view_module": "@jupyter-widgets/base",
            "_view_module_version": "1.2.0",
            "_view_name": "StyleView",
            "bar_color": null,
            "description_width": ""
          }
        },
        "8c43d59ff61744b5bcf678852e12d7de": {
          "model_module": "@jupyter-widgets/base",
          "model_name": "LayoutModel",
          "model_module_version": "1.2.0",
          "state": {
            "_model_module": "@jupyter-widgets/base",
            "_model_module_version": "1.2.0",
            "_model_name": "LayoutModel",
            "_view_count": null,
            "_view_module": "@jupyter-widgets/base",
            "_view_module_version": "1.2.0",
            "_view_name": "LayoutView",
            "align_content": null,
            "align_items": null,
            "align_self": null,
            "border": null,
            "bottom": null,
            "display": null,
            "flex": null,
            "flex_flow": null,
            "grid_area": null,
            "grid_auto_columns": null,
            "grid_auto_flow": null,
            "grid_auto_rows": null,
            "grid_column": null,
            "grid_gap": null,
            "grid_row": null,
            "grid_template_areas": null,
            "grid_template_columns": null,
            "grid_template_rows": null,
            "height": null,
            "justify_content": null,
            "justify_items": null,
            "left": null,
            "margin": null,
            "max_height": null,
            "max_width": null,
            "min_height": null,
            "min_width": null,
            "object_fit": null,
            "object_position": null,
            "order": null,
            "overflow": null,
            "overflow_x": null,
            "overflow_y": null,
            "padding": null,
            "right": null,
            "top": null,
            "visibility": null,
            "width": null
          }
        },
        "50a839c9644943f58910dd90ba3fc01c": {
          "model_module": "@jupyter-widgets/controls",
          "model_name": "DescriptionStyleModel",
          "model_module_version": "1.5.0",
          "state": {
            "_model_module": "@jupyter-widgets/controls",
            "_model_module_version": "1.5.0",
            "_model_name": "DescriptionStyleModel",
            "_view_count": null,
            "_view_module": "@jupyter-widgets/base",
            "_view_module_version": "1.2.0",
            "_view_name": "StyleView",
            "description_width": ""
          }
        }
      }
    },
    "accelerator": "GPU"
  },
  "nbformat": 4,
  "nbformat_minor": 0
}